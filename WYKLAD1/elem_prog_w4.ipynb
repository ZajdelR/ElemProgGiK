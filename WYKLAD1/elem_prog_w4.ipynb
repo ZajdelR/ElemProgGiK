{
 "cells": [
  {
   "cell_type": "markdown",
   "metadata": {
    "slideshow": {
     "slide_type": "slide"
    }
   },
   "source": [
    "# Jęzki skryptowe - Python\n",
    "## Wykład 4\n",
    "\n",
    "---\n",
    "\n",
    "* typy mapujące: *dict*\n",
    "* funkcje\n",
    "* dokumentacja\n",
    "* wyrażenie lambda"
   ]
  },
  {
   "cell_type": "markdown",
   "metadata": {
    "slideshow": {
     "slide_type": "slide"
    }
   },
   "source": [
    "## Złożone typy danych\n",
    "\n",
    "---\n",
    "\n",
    "* typy sekwencyjne (\"mutowalne\"): *list*\n",
    "* typy sekwencyjne (\"niemutowalne\"): *tuple*, *range*, *str*\n",
    "\n",
    "---\n",
    "\n",
    "* typy mapujące (\"mutowalne\"): *dict*"
   ]
  },
  {
   "cell_type": "markdown",
   "metadata": {
    "slideshow": {
     "slide_type": "subslide"
    }
   },
   "source": [
    "## Słownik (*dict*)\n",
    "\n",
    "---\n",
    "\n",
    "* mapuje obiekty hashowalne (*hashable*) w dowolne obiekty, czyli: *klucz: wartość*\n",
    "    * *klucz* - stały hash\n",
    "    * *wartość* - dowolny obiekt\n",
    "* słowniki tworzymy umieszczając oddzielone przecinkiem pary *key: value* w nawiasach klamrowych, np."
   ]
  },
  {
   "cell_type": "code",
   "execution_count": 1,
   "metadata": {
    "slideshow": {
     "slide_type": "-"
    }
   },
   "outputs": [
    {
     "name": "stdout",
     "output_type": "stream",
     "text": [
      "{'Kasia': 7236, 'Basia': 5286, 'Darek': 7738, 'Marek': 9807}\n"
     ]
    }
   ],
   "source": [
    "# student: numer indeksu\n",
    "slownik = {\"Kasia\": 7236, \"Basia\": 5286, \"Marek\": 9807, \"Darek\": 7738}\n",
    "\n",
    "print(slownik)"
   ]
  },
  {
   "cell_type": "markdown",
   "metadata": {
    "slideshow": {
     "slide_type": "subslide"
    }
   },
   "source": [
    "## Słownik przez konstruktor\n",
    "\n",
    "---"
   ]
  },
  {
   "cell_type": "code",
   "execution_count": 2,
   "metadata": {
    "slideshow": {
     "slide_type": "-"
    }
   },
   "outputs": [
    {
     "data": {
      "text/plain": [
       "True"
      ]
     },
     "execution_count": 2,
     "metadata": {},
     "output_type": "execute_result"
    }
   ],
   "source": [
    "# {key1: value1, key2: value2...}\n",
    "a = {\"jeden\": 1, \"dwa\": 2, \"trzy\": 3}\n",
    "# dict(key1=value1, key2=value2...)\n",
    "b = dict(jeden=1, dwa=2, trzy=3) \n",
    "# dict([(key1, value1), (key2, value2)...])\n",
    "c = dict(zip([\"jeden\", \"dwa\", \"trzy\"], [1, 2, 3]))\n",
    "# dict(słownik)\n",
    "d = dict(a)\n",
    "\n",
    "a == b == c == d"
   ]
  },
  {
   "cell_type": "markdown",
   "metadata": {
    "slideshow": {
     "slide_type": "subslide"
    }
   },
   "source": [
    "## Słownik - dostęp do wartości\n",
    "\n",
    "---"
   ]
  },
  {
   "cell_type": "code",
   "execution_count": 1,
   "metadata": {
    "slideshow": {
     "slide_type": "-"
    }
   },
   "outputs": [
    {
     "data": {
      "text/plain": [
       "7236"
      ]
     },
     "execution_count": 1,
     "metadata": {},
     "output_type": "execute_result"
    }
   ],
   "source": [
    "# student: numer indeksu\n",
    "slownik = {\"Kasia\": 7236, \"Basia\": 5286, \"Marek\": 9807, \"Darek\": 7738}\n",
    "\n",
    "slownik[\"Kasia\"] # dostęp -> dict[key]"
   ]
  },
  {
   "cell_type": "code",
   "execution_count": 2,
   "metadata": {
    "slideshow": {
     "slide_type": "-"
    }
   },
   "outputs": [
    {
     "ename": "KeyError",
     "evalue": "0",
     "output_type": "error",
     "traceback": [
      "\u001b[1;31m---------------------------------------------------------------------------\u001b[0m",
      "\u001b[1;31mKeyError\u001b[0m                                  Traceback (most recent call last)",
      "\u001b[1;32m<ipython-input-2-a0014a666550>\u001b[0m in \u001b[0;36m<module>\u001b[1;34m\u001b[0m\n\u001b[1;32m----> 1\u001b[1;33m \u001b[0mslownik\u001b[0m\u001b[1;33m[\u001b[0m\u001b[1;36m0\u001b[0m\u001b[1;33m]\u001b[0m \u001b[1;31m# słownik nie jest uporządkowany\u001b[0m\u001b[1;33m\u001b[0m\u001b[1;33m\u001b[0m\u001b[0m\n\u001b[0m",
      "\u001b[1;31mKeyError\u001b[0m: 0"
     ]
    }
   ],
   "source": [
    "slownik[0] # słownik nie jest uporządkowany"
   ]
  },
  {
   "cell_type": "markdown",
   "metadata": {
    "slideshow": {
     "slide_type": "subslide"
    }
   },
   "source": [
    "## Słowniki - dostęp do wartości\n",
    "\n",
    "---"
   ]
  },
  {
   "cell_type": "code",
   "execution_count": 5,
   "metadata": {
    "slideshow": {
     "slide_type": "-"
    }
   },
   "outputs": [
    {
     "name": "stdout",
     "output_type": "stream",
     "text": [
      "7236\n"
     ]
    },
    {
     "ename": "KeyError",
     "evalue": "'Ania'",
     "output_type": "error",
     "traceback": [
      "\u001b[0;31m---------------------------------------------------------------------------\u001b[0m",
      "\u001b[0;31mKeyError\u001b[0m                                  Traceback (most recent call last)",
      "\u001b[0;32m<ipython-input-5-7f55cd27f397>\u001b[0m in \u001b[0;36m<module>\u001b[0;34m()\u001b[0m\n\u001b[1;32m      3\u001b[0m \u001b[0;34m\u001b[0m\u001b[0m\n\u001b[1;32m      4\u001b[0m \u001b[0mprint\u001b[0m\u001b[0;34m(\u001b[0m\u001b[0mslownik\u001b[0m\u001b[0;34m[\u001b[0m\u001b[0;34m\"Kasia\"\u001b[0m\u001b[0;34m]\u001b[0m\u001b[0;34m)\u001b[0m \u001b[0;31m# Kasia jest w słowniku -> OK\u001b[0m\u001b[0;34m\u001b[0m\u001b[0m\n\u001b[0;32m----> 5\u001b[0;31m \u001b[0mprint\u001b[0m\u001b[0;34m(\u001b[0m\u001b[0mslownik\u001b[0m\u001b[0;34m[\u001b[0m\u001b[0;34m\"Ania\"\u001b[0m\u001b[0;34m]\u001b[0m\u001b[0;34m)\u001b[0m  \u001b[0;31m# Ani nie ma -> KeyError\u001b[0m\u001b[0;34m\u001b[0m\u001b[0m\n\u001b[0m",
      "\u001b[0;31mKeyError\u001b[0m: 'Ania'"
     ]
    }
   ],
   "source": [
    "# student: numer indeksu\n",
    "slownik = {\"Kasia\": 7236, \"Basia\": 5286, \"Marek\": 9807, \"Darek\": 7738}\n",
    "\n",
    "print(slownik[\"Kasia\"]) # Kasia jest w słowniku -> OK\n",
    "print(slownik[\"Ania\"])  # Ani nie ma -> KeyError"
   ]
  },
  {
   "cell_type": "markdown",
   "metadata": {
    "slideshow": {
     "slide_type": "subslide"
    }
   },
   "source": [
    "## Słowniki - dostęp do wartości\n",
    "\n",
    "---"
   ]
  },
  {
   "cell_type": "code",
   "execution_count": 6,
   "metadata": {
    "slideshow": {
     "slide_type": "-"
    }
   },
   "outputs": [
    {
     "name": "stdout",
     "output_type": "stream",
     "text": [
      "7236\n",
      "None\n",
      "1234\n"
     ]
    }
   ],
   "source": [
    "# student: numer indeksu\n",
    "slownik = {\"Kasia\": 7236, \"Basia\": 5286, \"Marek\": 9807, \"Darek\": 7738}\n",
    "\n",
    "print(slownik.get(\"Kasia\")) # Kasia jest w słowniku -> OK\n",
    "print(slownik.get(\"Ania\"))  # Ani nie ma -> default = None\n",
    "print(slownik.get(\"Ania\", 1234)) # Ani nie ma -> default = 1234"
   ]
  },
  {
   "cell_type": "code",
   "execution_count": 7,
   "metadata": {
    "slideshow": {
     "slide_type": "-"
    }
   },
   "outputs": [
    {
     "name": "stdout",
     "output_type": "stream",
     "text": [
      "Brak studenta.\n"
     ]
    }
   ],
   "source": [
    "# czemu domyślnie None?\n",
    "if slownik.get(\"Ania\"):\n",
    "    print(slownik[\"Ania\"])\n",
    "else:\n",
    "    print(\"Brak studenta.\")"
   ]
  },
  {
   "cell_type": "code",
   "execution_count": 8,
   "metadata": {},
   "outputs": [
    {
     "name": "stdout",
     "output_type": "stream",
     "text": [
      "Brak studenta.\n"
     ]
    }
   ],
   "source": [
    "# lub prościej\n",
    "print(slownik.get(\"Ania\") or \"Brak studenta.\")"
   ]
  },
  {
   "cell_type": "markdown",
   "metadata": {
    "slideshow": {
     "slide_type": "subslide"
    }
   },
   "source": [
    "## Słownik - klucze i wartości\n",
    "\n",
    "---"
   ]
  },
  {
   "cell_type": "code",
   "execution_count": 9,
   "metadata": {
    "collapsed": true,
    "slideshow": {
     "slide_type": "-"
    }
   },
   "outputs": [],
   "source": [
    "# student: numer indeksu\n",
    "slownik = {\"Kasia\": 7236, \"Basia\": 5286, \"Marek\": 9807, \"Darek\": 7738}"
   ]
  },
  {
   "cell_type": "code",
   "execution_count": 10,
   "metadata": {
    "slideshow": {
     "slide_type": "-"
    }
   },
   "outputs": [
    {
     "data": {
      "text/plain": [
       "dict_keys(['Kasia', 'Basia', 'Darek', 'Marek'])"
      ]
     },
     "execution_count": 10,
     "metadata": {},
     "output_type": "execute_result"
    }
   ],
   "source": [
    "slownik.keys() # lista kluczy"
   ]
  },
  {
   "cell_type": "code",
   "execution_count": 11,
   "metadata": {
    "slideshow": {
     "slide_type": "-"
    }
   },
   "outputs": [
    {
     "data": {
      "text/plain": [
       "dict_values([7236, 5286, 7738, 9807])"
      ]
     },
     "execution_count": 11,
     "metadata": {},
     "output_type": "execute_result"
    }
   ],
   "source": [
    "slownik.values() # lista wartości"
   ]
  },
  {
   "cell_type": "code",
   "execution_count": 12,
   "metadata": {
    "slideshow": {
     "slide_type": "-"
    }
   },
   "outputs": [
    {
     "data": {
      "text/plain": [
       "dict_items([('Kasia', 7236), ('Basia', 5286), ('Darek', 7738), ('Marek', 9807)])"
      ]
     },
     "execution_count": 12,
     "metadata": {},
     "output_type": "execute_result"
    }
   ],
   "source": [
    "slownik.items() # lista par"
   ]
  },
  {
   "cell_type": "markdown",
   "metadata": {
    "slideshow": {
     "slide_type": "subslide"
    }
   },
   "source": [
    "## Słownik - Python 2 vs 3\n",
    "\n",
    "---\n",
    "\n",
    "- w Pythonie 2 *dict.keys()*, *dict.values()* i *dict.items()* zwracają listy (czyli dopuszczalne jest np. *dict.keys()[0]*)\n",
    "- w Pythonie 3 -> Nie"
   ]
  },
  {
   "cell_type": "markdown",
   "metadata": {
    "slideshow": {
     "slide_type": "subslide"
    }
   },
   "source": [
    "## Słownik - modyfikacja kluczy\n",
    "\n",
    "---"
   ]
  },
  {
   "cell_type": "code",
   "execution_count": 15,
   "metadata": {
    "slideshow": {
     "slide_type": "-"
    }
   },
   "outputs": [
    {
     "name": "stdout",
     "output_type": "stream",
     "text": [
      "{'Kasia': 1234, 'Basia': 5286, 'Darek': 7738, 'Marek': 9807}\n"
     ]
    }
   ],
   "source": [
    "# student: numer indeksu\n",
    "slownik = {\"Kasia\": 7236, \"Basia\": 5286, \"Marek\": 9807, \"Darek\": 7738}\n",
    "\n",
    "slownik[\"Kasia\"] = 1234 # dict[key] = value\n",
    "\n",
    "print(slownik)"
   ]
  },
  {
   "cell_type": "code",
   "execution_count": 16,
   "metadata": {
    "slideshow": {
     "slide_type": "-"
    }
   },
   "outputs": [
    {
     "name": "stdout",
     "output_type": "stream",
     "text": [
      "{'Kasia': 1235, 'Basia': 5286, 'Darek': 7738, 'Marek': 9807}\n"
     ]
    }
   ],
   "source": [
    "slownik[\"Kasia\"] += 1 # analogicznie do listy: list[index]\n",
    "\n",
    "print(slownik)"
   ]
  },
  {
   "cell_type": "markdown",
   "metadata": {
    "slideshow": {
     "slide_type": "subslide"
    }
   },
   "source": [
    "## Słownik - usuwanie kluczy\n",
    "\n",
    "---"
   ]
  },
  {
   "cell_type": "code",
   "execution_count": 1,
   "metadata": {
    "slideshow": {
     "slide_type": "-"
    }
   },
   "outputs": [
    {
     "name": "stdout",
     "output_type": "stream",
     "text": [
      "{'Kasia': 7236, 'Basia': 5286, 'Darek': 7738}\n"
     ]
    }
   ],
   "source": [
    "# student: numer indeksu\n",
    "slownik = {\"Kasia\": 7236, \"Basia\": 5286, \"Marek\": 9807, \"Darek\": 7738}\n",
    "\n",
    "del(slownik[\"Marek\"]) # del dict[key] -> usuń klucz\n",
    "\n",
    "print(slownik)"
   ]
  },
  {
   "cell_type": "code",
   "execution_count": 2,
   "metadata": {
    "slideshow": {
     "slide_type": "-"
    }
   },
   "outputs": [
    {
     "name": "stdout",
     "output_type": "stream",
     "text": [
      "{}\n"
     ]
    }
   ],
   "source": [
    "slownik.clear() # wyczyść słownik\n",
    " \n",
    "print(slownik)"
   ]
  },
  {
   "cell_type": "markdown",
   "metadata": {
    "slideshow": {
     "slide_type": "subslide"
    }
   },
   "source": [
    "## Słownik  - dodawanie kluczy\n",
    "\n",
    "---"
   ]
  },
  {
   "cell_type": "code",
   "execution_count": 19,
   "metadata": {
    "slideshow": {
     "slide_type": "-"
    }
   },
   "outputs": [
    {
     "name": "stdout",
     "output_type": "stream",
     "text": [
      "{'Kasia': 7236, 'Ania': 3384, 'Basia': 5286, 'Darek': 7738, 'Marek': 9807}\n"
     ]
    }
   ],
   "source": [
    "# student: numer indeksu\n",
    "slownik = {\"Kasia\": 7236, \"Basia\": 5286, \"Marek\": 9807, \"Darek\": 7738}\n",
    "\n",
    "slownik[\"Ania\"] = 3384 # jeśli jest to zmień, jeśli nie ma to dodaj\n",
    "\n",
    "print(slownik)"
   ]
  },
  {
   "cell_type": "code",
   "execution_count": 20,
   "metadata": {
    "slideshow": {
     "slide_type": "-"
    }
   },
   "outputs": [
    {
     "name": "stdout",
     "output_type": "stream",
     "text": [
      "{'Basia': 8573, 'Romek': 3343, 'Darek': 7738, 'Kasia': 7236, 'Ania': 3384, 'Marek': 9807}\n"
     ]
    }
   ],
   "source": [
    "nowi_studenci = {\"Romek\": 3343, \"Basia\": 8573}\n",
    "\n",
    "slownik.update(nowi_studenci) # \"dodaj/scal\" słowniki\n",
    " \n",
    "print(slownik) # zwróć uwagę na Basię"
   ]
  },
  {
   "cell_type": "code",
   "execution_count": 21,
   "metadata": {
    "slideshow": {
     "slide_type": "-"
    }
   },
   "outputs": [
    {
     "name": "stdout",
     "output_type": "stream",
     "text": [
      "{'Basia': 8573, 'Romek': 3343, 'Darek': 7738, 'Józek': 2276, 'Kasia': 7236, 'Ania': 3384, 'Marek': 9807}\n"
     ]
    }
   ],
   "source": [
    "slownik.update(Józek=2276)\n",
    "\n",
    "print(slownik)"
   ]
  },
  {
   "cell_type": "markdown",
   "metadata": {
    "slideshow": {
     "slide_type": "subslide"
    }
   },
   "source": [
    "## Pętla po słowniku\n",
    "\n",
    "---"
   ]
  },
  {
   "cell_type": "code",
   "execution_count": 22,
   "metadata": {
    "slideshow": {
     "slide_type": "-"
    }
   },
   "outputs": [
    {
     "name": "stdout",
     "output_type": "stream",
     "text": [
      "Kasia Basia Darek Marek "
     ]
    }
   ],
   "source": [
    "# student: numer indeksu\n",
    "slownik = {\"Kasia\": 7236, \"Basia\": 5286, \"Marek\": 9807, \"Darek\": 7738}\n",
    "\n",
    "for student in slownik.keys(): # pętla po kluczach\n",
    "    print(student, end=' ')"
   ]
  },
  {
   "cell_type": "code",
   "execution_count": 23,
   "metadata": {
    "slideshow": {
     "slide_type": "-"
    }
   },
   "outputs": [
    {
     "name": "stdout",
     "output_type": "stream",
     "text": [
      "7236 5286 7738 9807 "
     ]
    }
   ],
   "source": [
    "for index in slownik.values(): # pętla po wartościach\n",
    "    print(index, end=' ')"
   ]
  },
  {
   "cell_type": "code",
   "execution_count": 24,
   "metadata": {
    "slideshow": {
     "slide_type": "-"
    }
   },
   "outputs": [
    {
     "name": "stdout",
     "output_type": "stream",
     "text": [
      "Kasia 7236\n",
      "Basia 5286\n",
      "Darek 7738\n",
      "Marek 9807\n"
     ]
    }
   ],
   "source": [
    "for student, index in slownik.items(): # pętla po (klucz, wartość) <- Najczęściej\n",
    "    print(student, index)"
   ]
  },
  {
   "cell_type": "markdown",
   "metadata": {
    "slideshow": {
     "slide_type": "subslide"
    }
   },
   "source": [
    "## Przykład - tworzenie słownika\n",
    "\n",
    "---"
   ]
  },
  {
   "cell_type": "code",
   "execution_count": 4,
   "metadata": {
    "slideshow": {
     "slide_type": "-"
    }
   },
   "outputs": [
    {
     "name": "stdout",
     "output_type": "stream",
     "text": [
      "Imię: 5\n",
      "Nr indeksu: 4321\n",
      "Imię: fdasfds\n",
      "Nr indeksu: 421\n",
      "Imię: \n",
      "{'5': '4321', 'fdasfds': '421'}\n"
     ]
    }
   ],
   "source": [
    "studenci = {} # stwórz pusty słownik\n",
    "\n",
    "while True:\n",
    "    # pobierz imię studenta\n",
    "    student = input(\"Imię: \")\n",
    "    # przerwij jeśli puste\n",
    "    if not student: break # niezalecane, ale możliwe\n",
    "    # pobierz numer indeksu\n",
    "    index = input(\"Nr indeksu: \")\n",
    "    # aktualizuj słownik\n",
    "    #studenci.update({student: index})\n",
    "    studenci[student] = index\n",
    "    \n",
    "print(studenci)"
   ]
  },
  {
   "cell_type": "markdown",
   "metadata": {
    "slideshow": {
     "slide_type": "subslide"
    }
   },
   "source": [
    "## Słownik w słowniku\n",
    "\n",
    "---"
   ]
  },
  {
   "cell_type": "code",
   "execution_count": 26,
   "metadata": {
    "slideshow": {
     "slide_type": "-"
    }
   },
   "outputs": [
    {
     "name": "stdout",
     "output_type": "stream",
     "text": [
      "Kasia ma 20 lat, 190 cm wzrostu i waży 70 kg.\n",
      "Marek ma 22 lat, 180 cm wzrostu i waży 80 kg.\n"
     ]
    }
   ],
   "source": [
    "Kasia = {\"Wiek\": 20, \"Wzrost\": 190, \"Waga\": 70}\n",
    "Marek = {\"Wiek\": 22, \"Wzrost\": 180, \"Waga\": 80}\n",
    "\n",
    "# wartością może być dowolny obieky, np. słownik\n",
    "studenci = {\"Kasia\": Kasia, \"Marek\": Marek}\n",
    "\n",
    "# wydrukuj w pętli wszystkich studentów i ich atrybuty\n",
    "for imie, wlasnosci in studenci.items():\n",
    "    print(\"{student} ma {wiek} lat, \"\n",
    "          \"{wzrost} cm wzrostu \"\n",
    "          \"i waży {waga} kg.\".format(\n",
    "            student=imie,\n",
    "            wiek=studenci[imie][\"Wiek\"],\n",
    "            wzrost=studenci[imie][\"Wzrost\"],\n",
    "            waga=studenci[imie][\"Waga\"])\n",
    "          )"
   ]
  },
  {
   "cell_type": "markdown",
   "metadata": {
    "slideshow": {
     "slide_type": "slide"
    }
   },
   "source": [
    "## Funkcje\n",
    "\n",
    "---\n",
    "\n",
    "* funkcje (w programowaniu) to \"wywoływalne bloki instrukcji\"\n",
    "* mogą (ale nie muszą) przyjmować argumenty\n",
    "* mogą (ale nie muszą) zwracać obiekt\n",
    "* raz napisana funkcja może być wykorzystywana wiele razy\n",
    "* zwiększają czytelność kodu\n",
    "* łatwiejsze debugowanie"
   ]
  },
  {
   "cell_type": "markdown",
   "metadata": {
    "slideshow": {
     "slide_type": "subslide"
    }
   },
   "source": [
    "## Definiowanie funkcji\n",
    "\n",
    "---\n",
    "\n",
    "```py\n",
    "def nazwa_funkcji(argumenty):\n",
    "    instrukcje\n",
    "    ...\n",
    "    return obiekt\n",
    "```\n",
    "\n",
    "1. słowo kluczowe *def*\n",
    "2. nazwa funkcji\n",
    "3. lista argumentów (opcjonalnie)\n",
    "4. dwukropek\n",
    "5. (wcięte) instrukcje\n",
    "6. słowo kluczowe *return* (opcjonalnie)"
   ]
  },
  {
   "cell_type": "markdown",
   "metadata": {
    "slideshow": {
     "slide_type": "subslide"
    }
   },
   "source": [
    "## Funkcja \"Hello World\"\n",
    "\n",
    "---"
   ]
  },
  {
   "cell_type": "code",
   "execution_count": 27,
   "metadata": {
    "slideshow": {
     "slide_type": "-"
    }
   },
   "outputs": [
    {
     "name": "stdout",
     "output_type": "stream",
     "text": [
      "Hello World!\n"
     ]
    }
   ],
   "source": [
    "def hello(): # brak argumentów\n",
    "    print(\"Hello World!\")\n",
    "    # nic nie zwraca\n",
    "    \n",
    "hello() # wywołanie funkcji"
   ]
  },
  {
   "cell_type": "markdown",
   "metadata": {
    "slideshow": {
     "slide_type": "subslide"
    }
   },
   "source": [
    "## Argumenty funkcji\n",
    "\n",
    "---"
   ]
  },
  {
   "cell_type": "code",
   "execution_count": 28,
   "metadata": {
    "collapsed": true,
    "slideshow": {
     "slide_type": "-"
    }
   },
   "outputs": [],
   "source": [
    "# funkcja dzialanie przyjmuje trzy argumenty a, b i c\n",
    "# następnie zwraca wyrażenie a + b - c\n",
    "def dzialanie(a, b, c):\n",
    "    return a + b - c"
   ]
  },
  {
   "cell_type": "code",
   "execution_count": 29,
   "metadata": {
    "slideshow": {
     "slide_type": "-"
    }
   },
   "outputs": [
    {
     "data": {
      "text/plain": [
       "0"
      ]
     },
     "execution_count": 29,
     "metadata": {},
     "output_type": "execute_result"
    }
   ],
   "source": [
    "dzialanie(1, 2, 3) # zwróci 1 + 2 - 3"
   ]
  },
  {
   "cell_type": "code",
   "execution_count": 30,
   "metadata": {
    "slideshow": {
     "slide_type": "-"
    }
   },
   "outputs": [
    {
     "data": {
      "text/plain": [
       "-5"
      ]
     },
     "execution_count": 30,
     "metadata": {},
     "output_type": "execute_result"
    }
   ],
   "source": [
    "x = 1\n",
    "y = 2\n",
    "\n",
    "dzialanie(x, y, 2*x + 3*y) # zwróci 1 + 2 - 2*1 - 3*2 "
   ]
  },
  {
   "cell_type": "markdown",
   "metadata": {
    "slideshow": {
     "slide_type": "subslide"
    }
   },
   "source": [
    "## Argumenty funkcji\n",
    "\n",
    "---"
   ]
  },
  {
   "cell_type": "code",
   "execution_count": 1,
   "metadata": {
    "slideshow": {
     "slide_type": "-"
    }
   },
   "outputs": [
    {
     "name": "stdout",
     "output_type": "stream",
     "text": [
      "Jak masz na imię?   Radek\n",
      "Ile masz lat?       26\n",
      "Radek 26\n"
     ]
    }
   ],
   "source": [
    "def pobierz(komunikat): # funkcja przyjmuje jeden argument\n",
    "    user_input = input(komunikat.ljust(20))\n",
    "    return user_input   # zwraca dane użytkownika\n",
    "\n",
    "imie = pobierz(\"Jak masz na imię?\") # komunikat = \"Jak masz na imię?\"\n",
    "wiek = pobierz(\"Ile masz lat?\")     # komunikat = \"Ile masz lat?\"\n",
    "\n",
    "print(imie, wiek)"
   ]
  },
  {
   "cell_type": "markdown",
   "metadata": {
    "slideshow": {
     "slide_type": "subslide"
    }
   },
   "source": [
    "## Argumenty ze słowem kluczowym\n",
    "\n",
    "---"
   ]
  },
  {
   "cell_type": "code",
   "execution_count": 32,
   "metadata": {
    "collapsed": true,
    "slideshow": {
     "slide_type": "-"
    }
   },
   "outputs": [],
   "source": [
    "# funkcja dzialanie przyjmuje trzy argumenty a, b i c\n",
    "# następnie zwraca wyrażenie a + b - c\n",
    "def dzialanie(a, b, c):\n",
    "    return a + b - c"
   ]
  },
  {
   "cell_type": "code",
   "execution_count": 33,
   "metadata": {
    "slideshow": {
     "slide_type": "-"
    }
   },
   "outputs": [
    {
     "data": {
      "text/plain": [
       "0"
      ]
     },
     "execution_count": 33,
     "metadata": {},
     "output_type": "execute_result"
    }
   ],
   "source": [
    "dzialanie(1, 2, 3) # 3 argumenty pozycyjne"
   ]
  },
  {
   "cell_type": "code",
   "execution_count": 35,
   "metadata": {
    "slideshow": {
     "slide_type": "-"
    }
   },
   "outputs": [
    {
     "data": {
      "text/plain": [
       "0"
      ]
     },
     "execution_count": 35,
     "metadata": {},
     "output_type": "execute_result"
    }
   ],
   "source": [
    "dzialanie(b=2, c=3, a=1) # kolejność nieważna dla argumentów kluczowych"
   ]
  },
  {
   "cell_type": "markdown",
   "metadata": {
    "slideshow": {
     "slide_type": "subslide"
    }
   },
   "source": [
    "## Mieszanie argumentów\n",
    "\n",
    "---"
   ]
  },
  {
   "cell_type": "code",
   "execution_count": 36,
   "metadata": {
    "collapsed": true,
    "slideshow": {
     "slide_type": "-"
    }
   },
   "outputs": [],
   "source": [
    "# funkcja dzialanie przyjmuje trzy argumenty a, b i c\n",
    "# następnie zwraca wyrażenie a + b - c\n",
    "def dzialanie(a, b, c):\n",
    "    return a + b - c"
   ]
  },
  {
   "cell_type": "code",
   "execution_count": 37,
   "metadata": {
    "slideshow": {
     "slide_type": "-"
    }
   },
   "outputs": [
    {
     "data": {
      "text/plain": [
       "0"
      ]
     },
     "execution_count": 37,
     "metadata": {},
     "output_type": "execute_result"
    }
   ],
   "source": [
    "dzialanie(1, c = 3, b = 2) # jeden pozycyjny, dwa kluczowe"
   ]
  },
  {
   "cell_type": "code",
   "execution_count": 38,
   "metadata": {
    "slideshow": {
     "slide_type": "-"
    }
   },
   "outputs": [
    {
     "ename": "SyntaxError",
     "evalue": "positional argument follows keyword argument (<ipython-input-38-60286ad5b769>, line 1)",
     "output_type": "error",
     "traceback": [
      "\u001b[0;36m  File \u001b[0;32m\"<ipython-input-38-60286ad5b769>\"\u001b[0;36m, line \u001b[0;32m1\u001b[0m\n\u001b[0;31m    dzialanie(a = 1, b = 2, 3) # najpierw pozycyjne, potem kluczowe!\u001b[0m\n\u001b[0m                           ^\u001b[0m\n\u001b[0;31mSyntaxError\u001b[0m\u001b[0;31m:\u001b[0m positional argument follows keyword argument\n"
     ]
    }
   ],
   "source": [
    "dzialanie(a = 1, b = 2, 3) # najpierw pozycyjne, potem kluczowe!"
   ]
  },
  {
   "cell_type": "markdown",
   "metadata": {
    "slideshow": {
     "slide_type": "subslide"
    }
   },
   "source": [
    "## Domyślne wartości argumentów\n",
    "\n",
    "---"
   ]
  },
  {
   "cell_type": "code",
   "execution_count": 39,
   "metadata": {
    "collapsed": true,
    "slideshow": {
     "slide_type": "-"
    }
   },
   "outputs": [],
   "source": [
    "def pobierz(komunikat):           # funkcja przyjmuje jeden argument\n",
    "    user_input = input(komunikat) # pobiera dane od użytkownika\n",
    "    return user_input             # i je zwraca"
   ]
  },
  {
   "cell_type": "code",
   "execution_count": 40,
   "metadata": {
    "slideshow": {
     "slide_type": "-"
    }
   },
   "outputs": [
    {
     "ename": "TypeError",
     "evalue": "pobierz() missing 1 required positional argument: 'komunikat'",
     "output_type": "error",
     "traceback": [
      "\u001b[0;31m---------------------------------------------------------------------------\u001b[0m",
      "\u001b[0;31mTypeError\u001b[0m                                 Traceback (most recent call last)",
      "\u001b[0;32m<ipython-input-40-6184fdb92a47>\u001b[0m in \u001b[0;36m<module>\u001b[0;34m()\u001b[0m\n\u001b[0;32m----> 1\u001b[0;31m \u001b[0mx\u001b[0m \u001b[0;34m=\u001b[0m \u001b[0mpobierz\u001b[0m\u001b[0;34m(\u001b[0m\u001b[0;34m)\u001b[0m \u001b[0;31m# funkcja oczekuje argumentu \"komunikat\"\u001b[0m\u001b[0;34m\u001b[0m\u001b[0m\n\u001b[0m",
      "\u001b[0;31mTypeError\u001b[0m: pobierz() missing 1 required positional argument: 'komunikat'"
     ]
    }
   ],
   "source": [
    "x = pobierz() # funkcja oczekuje argumentu \"komunikat\""
   ]
  },
  {
   "cell_type": "markdown",
   "metadata": {
    "slideshow": {
     "slide_type": "subslide"
    }
   },
   "source": [
    "## Domyślne wartości argumentów\n",
    "\n",
    "---"
   ]
  },
  {
   "cell_type": "code",
   "execution_count": 41,
   "metadata": {
    "collapsed": true,
    "slideshow": {
     "slide_type": "-"
    }
   },
   "outputs": [],
   "source": [
    "def pobierz(komunikat='> '):      # domyślna wartość = \"> \"\n",
    "    user_input = input(komunikat) # pobiera dane od użytkownika\n",
    "    return user_input             # i je zwraca"
   ]
  },
  {
   "cell_type": "code",
   "execution_count": 42,
   "metadata": {
    "slideshow": {
     "slide_type": "-"
    }
   },
   "outputs": [
    {
     "name": "stdout",
     "output_type": "stream",
     "text": [
      "> 1\n"
     ]
    }
   ],
   "source": [
    "x = pobierz() # brak argumentu -> domyślna wartość"
   ]
  },
  {
   "cell_type": "code",
   "execution_count": 43,
   "metadata": {
    "slideshow": {
     "slide_type": "-"
    }
   },
   "outputs": [
    {
     "name": "stdout",
     "output_type": "stream",
     "text": [
      "Napisz coś: 1\n"
     ]
    }
   ],
   "source": [
    "x = pobierz(\"Napisz coś: \") # nadpisanie wartości domyślne"
   ]
  },
  {
   "cell_type": "markdown",
   "metadata": {
    "slideshow": {
     "slide_type": "subslide"
    }
   },
   "source": [
    "## Domyślne wartości argumentów\n",
    "\n",
    "---"
   ]
  },
  {
   "cell_type": "code",
   "execution_count": 44,
   "metadata": {
    "slideshow": {
     "slide_type": "-"
    }
   },
   "outputs": [],
   "source": [
    "# dwa ostatnie argumenty mają wartości domyślne\n",
    "def dzialanie(a, b=2, c=3):\n",
    "    return a + b - c"
   ]
  },
  {
   "cell_type": "code",
   "execution_count": 46,
   "metadata": {
    "slideshow": {
     "slide_type": "-"
    }
   },
   "outputs": [
    {
     "ename": "SyntaxError",
     "evalue": "non-default argument follows default argument (<ipython-input-46-21b67a48022e>, line 4)",
     "output_type": "error",
     "traceback": [
      "\u001b[0;36m  File \u001b[0;32m\"<ipython-input-46-21b67a48022e>\"\u001b[0;36m, line \u001b[0;32m4\u001b[0m\n\u001b[0;31m    def dzialanie(a=1, b, c):\u001b[0m\n\u001b[0m                 ^\u001b[0m\n\u001b[0;31mSyntaxError\u001b[0m\u001b[0;31m:\u001b[0m non-default argument follows default argument\n"
     ]
    }
   ],
   "source": [
    "# argumenty bez wartości domyślnych\n",
    "# nie mogą występować po tych\n",
    "# które wartości domyśne posiadają\n",
    "def dzialanie(a=1, b, c):\n",
    "    return a + b - c"
   ]
  },
  {
   "cell_type": "markdown",
   "metadata": {
    "slideshow": {
     "slide_type": "subslide"
    }
   },
   "source": [
    "## Dowolna liczba argumentów (pozycyjnych)\n",
    "\n",
    "---"
   ]
  },
  {
   "cell_type": "code",
   "execution_count": 51,
   "metadata": {
    "slideshow": {
     "slide_type": "-"
    }
   },
   "outputs": [
    {
     "name": "stdout",
     "output_type": "stream",
     "text": [
      "a b ('c', 'd', 'e', 'f')\n"
     ]
    }
   ],
   "source": [
    "# funkcja przyjmuje dwa \"normalne\" argumenty\n",
    "# z pozostałych powstanie krotka\n",
    "def funkcja(arg1, arg2, *args):\n",
    "    print(arg1, arg2, args)\n",
    "\n",
    "funkcja('a', 'b', 'c', 'd', 'e', 'f')"
   ]
  },
  {
   "cell_type": "markdown",
   "metadata": {
    "slideshow": {
     "slide_type": "subslide"
    }
   },
   "source": [
    "## *args i **kwargs\n",
    "\n",
    "---"
   ]
  },
  {
   "cell_type": "code",
   "execution_count": 3,
   "metadata": {
    "slideshow": {
     "slide_type": "-"
    }
   },
   "outputs": [
    {
     "name": "stdout",
     "output_type": "stream",
     "text": [
      "arg1 = a\n",
      "*args = ('b', 'c', 'd')\n",
      "kwarg1 = argument kluczowy\n",
      "kwarg2 = key\n"
     ]
    }
   ],
   "source": [
    "# po *args mogą występować tylko argumenty kluczowe\n",
    "# mogą (ale nie muszą) mieć wartości domyślne\n",
    "def funkcja(arg1, *args, kwarg1, kwarg2=\"key\"):\n",
    "    print(\"arg1 =\", arg1)\n",
    "    print(\"*args =\", args)\n",
    "    print(\"kwarg1 =\", kwarg1)\n",
    "    print(\"kwarg2 =\", kwarg2)\n",
    "    \n",
    "funkcja('a', 'b', 'c', 'd', kwarg1=\"argument kluczowy\")"
   ]
  },
  {
   "cell_type": "code",
   "execution_count": 4,
   "metadata": {
    "slideshow": {
     "slide_type": "-"
    }
   },
   "outputs": [
    {
     "name": "stdout",
     "output_type": "stream",
     "text": [
      "arg1 = a\n",
      "*args = ('b', 'c', 'd', 'e', 'f')\n",
      "kwarg1 = 34\n",
      "kwarg2 = key\n"
     ]
    }
   ],
   "source": [
    "funkcja('a', 'b', 'c', 'd','e','f',kwarg1='34')"
   ]
  },
  {
   "cell_type": "markdown",
   "metadata": {
    "slideshow": {
     "slide_type": "subslide"
    }
   },
   "source": [
    "## Przykład\n",
    "\n",
    "---"
   ]
  },
  {
   "cell_type": "code",
   "execution_count": 5,
   "metadata": {
    "slideshow": {
     "slide_type": "-"
    }
   },
   "outputs": [],
   "source": [
    "# średnia z dowolnej liczby argumentów\n",
    "def srednia(*args):\n",
    "    if not args: # brak argumentów -> 0\n",
    "        return 0\n",
    "    return sum(args) / len(args)"
   ]
  },
  {
   "cell_type": "code",
   "execution_count": 6,
   "metadata": {},
   "outputs": [
    {
     "data": {
      "text/plain": [
       "0"
      ]
     },
     "execution_count": 6,
     "metadata": {},
     "output_type": "execute_result"
    }
   ],
   "source": [
    "srednia()"
   ]
  },
  {
   "cell_type": "code",
   "execution_count": 7,
   "metadata": {},
   "outputs": [
    {
     "data": {
      "text/plain": [
       "2.5"
      ]
     },
     "execution_count": 7,
     "metadata": {},
     "output_type": "execute_result"
    }
   ],
   "source": [
    "srednia(1, 2, 3, 4)"
   ]
  },
  {
   "cell_type": "code",
   "execution_count": 8,
   "metadata": {},
   "outputs": [
    {
     "data": {
      "text/plain": [
       "49.5"
      ]
     },
     "execution_count": 8,
     "metadata": {},
     "output_type": "execute_result"
    }
   ],
   "source": [
    "srednia(*range(100))"
   ]
  },
  {
   "cell_type": "markdown",
   "metadata": {
    "slideshow": {
     "slide_type": "subslide"
    }
   },
   "source": [
    "## Dowolna liczba argumentów (kluczowych)\n",
    "\n",
    "---"
   ]
  },
  {
   "cell_type": "code",
   "execution_count": 58,
   "metadata": {
    "collapsed": true,
    "slideshow": {
     "slide_type": "-"
    }
   },
   "outputs": [],
   "source": [
    "# *args -> krotka argumentów pozycyjnych\n",
    "# **kwargs -> słownik argumentów kluczowych\n",
    "def funkcja(**kwargs):\n",
    "    for key, value in kwargs.items():\n",
    "        print(key, value, type(value))"
   ]
  },
  {
   "cell_type": "code",
   "execution_count": 59,
   "metadata": {
    "slideshow": {
     "slide_type": "-"
    }
   },
   "outputs": [
    {
     "name": "stdout",
     "output_type": "stream",
     "text": [
      "imie Jan <class 'str'>\n",
      "wiek 25 <class 'int'>\n",
      "nazwisko Kowalski <class 'str'>\n"
     ]
    }
   ],
   "source": [
    "funkcja(imie=\"Jan\", nazwisko=\"Kowalski\", wiek=25)"
   ]
  },
  {
   "cell_type": "code",
   "execution_count": 60,
   "metadata": {
    "slideshow": {
     "slide_type": "-"
    }
   },
   "outputs": [
    {
     "ename": "TypeError",
     "evalue": "funkcja() takes 0 positional arguments but 3 were given",
     "output_type": "error",
     "traceback": [
      "\u001b[0;31m---------------------------------------------------------------------------\u001b[0m",
      "\u001b[0;31mTypeError\u001b[0m                                 Traceback (most recent call last)",
      "\u001b[0;32m<ipython-input-60-1c93f25ce1db>\u001b[0m in \u001b[0;36m<module>\u001b[0;34m()\u001b[0m\n\u001b[0;32m----> 1\u001b[0;31m \u001b[0mfunkcja\u001b[0m\u001b[0;34m(\u001b[0m\u001b[0;34m\"Jan\"\u001b[0m\u001b[0;34m,\u001b[0m \u001b[0;34m\"Kowalski\"\u001b[0m\u001b[0;34m,\u001b[0m \u001b[0;36m25\u001b[0m\u001b[0;34m)\u001b[0m\u001b[0;34m\u001b[0m\u001b[0m\n\u001b[0m",
      "\u001b[0;31mTypeError\u001b[0m: funkcja() takes 0 positional arguments but 3 were given"
     ]
    }
   ],
   "source": [
    "funkcja(\"Jan\", \"Kowalski\", 25)"
   ]
  },
  {
   "cell_type": "markdown",
   "metadata": {
    "slideshow": {
     "slide_type": "subslide"
    }
   },
   "source": [
    "## Przykład\n",
    "\n",
    "---"
   ]
  },
  {
   "cell_type": "code",
   "execution_count": 71,
   "metadata": {
    "collapsed": true,
    "slideshow": {
     "slide_type": "-"
    }
   },
   "outputs": [],
   "source": [
    "def create_car(marka, model, **options):\n",
    "    print(marka, model)\n",
    "    for opcja, wartosc in options.items():\n",
    "        print(\"  {}: {}\".format(opcja, wartosc))"
   ]
  },
  {
   "cell_type": "code",
   "execution_count": 72,
   "metadata": {
    "scrolled": true,
    "slideshow": {
     "slide_type": "-"
    }
   },
   "outputs": [
    {
     "name": "stdout",
     "output_type": "stream",
     "text": [
      "Fiat 126p\n",
      "  kolor: czarny\n",
      "  rocznik: 1980\n",
      "Ford Mustang\n",
      "  moc: 200KM\n",
      "  kolor: różowy\n",
      "  skrzynia: manualna\n"
     ]
    }
   ],
   "source": [
    "create_car(\"Fiat\", \"126p\", kolor=\"czarny\", rocznik=1980)\n",
    "create_car(\"Ford\", \"Mustang\", kolor=\"różowy\", moc=\"200KM\", skrzynia=\"manualna\")"
   ]
  },
  {
   "cell_type": "markdown",
   "metadata": {
    "slideshow": {
     "slide_type": "subslide"
    }
   },
   "source": [
    "## Argumenty ze słownika\n",
    "\n",
    "---"
   ]
  },
  {
   "cell_type": "code",
   "execution_count": 9,
   "metadata": {
    "slideshow": {
     "slide_type": "-"
    }
   },
   "outputs": [
    {
     "name": "stdout",
     "output_type": "stream",
     "text": [
      "Ford Mustang\n",
      "  kolor: różowy\n",
      "  moc: 200KM\n",
      "  skrzynia: manualna\n"
     ]
    }
   ],
   "source": [
    "def create_car(marka, model, **options):\n",
    "    print(marka, model)\n",
    "    for opcja, wartosc in options.items():\n",
    "        print(\"  {}: {}\".format(opcja, wartosc))\n",
    "        \n",
    "ford_mustang = {\"kolor\": \"różowy\", \"moc\": \"200KM\", \"skrzynia\": \"manualna\"}\n",
    "\n",
    "# **dict jako argument -> rozpakuj slownik\n",
    "create_car(\"Ford\", \"Mustang\", **ford_mustang)"
   ]
  },
  {
   "cell_type": "markdown",
   "metadata": {
    "slideshow": {
     "slide_type": "slide"
    }
   },
   "source": [
    "## Funkcja jako rezultat funkcji\n",
    "\n",
    "---"
   ]
  },
  {
   "cell_type": "code",
   "execution_count": 10,
   "metadata": {
    "slideshow": {
     "slide_type": "-"
    }
   },
   "outputs": [
    {
     "name": "stdout",
     "output_type": "stream",
     "text": [
      "kwadrat_sumy(2, 3)\n",
      "kwadrat(5)\n",
      "wynik = 25\n"
     ]
    }
   ],
   "source": [
    "def kwadrat(x):\n",
    "    print(\"kwadrat({})\".format(x))\n",
    "    return x*x\n",
    "\n",
    "def kwadrat_sumy(a, b):\n",
    "    print(\"kwadrat_sumy({}, {})\".format(a, b))\n",
    "    return kwadrat(a + b) # return może zwrócić inną funkcję\n",
    "\n",
    "wynik = kwadrat_sumy(2, 3)\n",
    "\n",
    "print(\"wynik =\", wynik)"
   ]
  },
  {
   "cell_type": "markdown",
   "metadata": {
    "slideshow": {
     "slide_type": "subslide"
    }
   },
   "source": [
    "## Wynik funkcji jako argument funkcji\n",
    "\n",
    "---"
   ]
  },
  {
   "cell_type": "code",
   "execution_count": 75,
   "metadata": {
    "slideshow": {
     "slide_type": "-"
    }
   },
   "outputs": [
    {
     "name": "stdout",
     "output_type": "stream",
     "text": [
      "kwadrat_sumy(2, 3)\n",
      "suma(2, 3)\n",
      "kwadrat(5)\n",
      "wynik = 25\n"
     ]
    }
   ],
   "source": [
    "def kwadrat(x):\n",
    "    print(\"kwadrat({})\".format(x))\n",
    "    return x*x\n",
    "\n",
    "def suma(a, b):\n",
    "    print(\"suma({}, {})\".format(a, b))\n",
    "    return a + b\n",
    "\n",
    "def kwadrat_sumy(a, b):\n",
    "    print(\"kwadrat_sumy({}, {})\".format(a, b))\n",
    "    return kwadrat(suma(a, b)) # wynik funkcji jest argumentem\n",
    "\n",
    "wynik = kwadrat_sumy(2, 3)\n",
    "\n",
    "print(\"wynik =\", wynik)"
   ]
  },
  {
   "cell_type": "markdown",
   "metadata": {
    "slideshow": {
     "slide_type": "subslide"
    }
   },
   "source": [
    "## Funkcja jako argument funkcji\n",
    "\n",
    "---"
   ]
  },
  {
   "cell_type": "code",
   "execution_count": 76,
   "metadata": {
    "slideshow": {
     "slide_type": "-"
    }
   },
   "outputs": [
    {
     "name": "stdout",
     "output_type": "stream",
     "text": [
      "kwadrat_sumy(2, 3, <function suma at 0x7f9254388d08>, <function kwadrat at 0x7f925438ed90>)\n",
      "suma(2, 3)\n",
      "kwadrat(5)\n",
      "wynik = 25\n"
     ]
    }
   ],
   "source": [
    "def kwadrat(x):\n",
    "    print(\"kwadrat({})\".format(x))\n",
    "    return x*x\n",
    "\n",
    "def suma(a, b):\n",
    "    print(\"suma({}, {})\".format(a, b))\n",
    "    return a + b\n",
    "\n",
    "def kwadrat_sumy(a, b, f1, f2):\n",
    "    print(\"kwadrat_sumy({}, {}, {}, {})\".format(a, b, f1, f2))\n",
    "    return f2(f1(a, b))\n",
    "\n",
    "wynik = kwadrat_sumy(2, 3, suma, kwadrat) # funkcja jest argumentem\n",
    "\n",
    "print(\"wynik =\", wynik)"
   ]
  },
  {
   "cell_type": "markdown",
   "metadata": {
    "slideshow": {
     "slide_type": "subslide"
    }
   },
   "source": [
    "## Zmienne globalne\n",
    "\n",
    "---"
   ]
  },
  {
   "cell_type": "code",
   "execution_count": 77,
   "metadata": {
    "slideshow": {
     "slide_type": "-"
    }
   },
   "outputs": [
    {
     "name": "stdout",
     "output_type": "stream",
     "text": [
      "Zmienna globalna przed = Hello World!\n",
      "Wewnątrz funkcji po = Bye World!\n",
      "Zmienna globalna po = Hello World!\n"
     ]
    }
   ],
   "source": [
    "zmienna_globalna = \"Hello World!\"\n",
    "\n",
    "print(\"Zmienna globalna przed =\", zmienna_globalna)\n",
    "\n",
    "def zmien():\n",
    "    # print(\"Wewnątrz funkcji przed =\", zmienna_globalna) # not assigned yet\n",
    "    zmienna_globalna = \"Bye World!\" # zmienna_globalna jest zmienną lokalną\n",
    "    print(\"Wewnątrz funkcji po =\", zmienna_globalna)\n",
    "    \n",
    "zmien()    \n",
    "\n",
    "print(\"Zmienna globalna po =\", zmienna_globalna)"
   ]
  },
  {
   "cell_type": "markdown",
   "metadata": {
    "slideshow": {
     "slide_type": "subslide"
    }
   },
   "source": [
    "## Zmienne globalne\n",
    "\n",
    "---"
   ]
  },
  {
   "cell_type": "code",
   "execution_count": 78,
   "metadata": {
    "slideshow": {
     "slide_type": "-"
    }
   },
   "outputs": [
    {
     "name": "stdout",
     "output_type": "stream",
     "text": [
      "Zmienna globalna przed = Hello World!\n",
      "Wewnątrz funkcji przed = Hello World!\n",
      "Wewnątrz funkcji po = Bye World!\n",
      "Zmienna globalna po = Bye World!\n"
     ]
    }
   ],
   "source": [
    "zmienna_globalna = \"Hello World!\"\n",
    "\n",
    "print(\"Zmienna globalna przed =\", zmienna_globalna)\n",
    "\n",
    "def zmien():\n",
    "    global zmienna_globalna # sygnalizuje, że operujemy na zmiennej globalnej\n",
    "    print(\"Wewnątrz funkcji przed =\", zmienna_globalna)\n",
    "    zmienna_globalna = \"Bye World!\"\n",
    "    print(\"Wewnątrz funkcji po =\", zmienna_globalna)\n",
    "    \n",
    "zmien()    \n",
    "\n",
    "print(\"Zmienna globalna po =\", zmienna_globalna)"
   ]
  },
  {
   "cell_type": "markdown",
   "metadata": {
    "slideshow": {
     "slide_type": "slide"
    }
   },
   "source": [
    "## Dokumentacja\n",
    "\n",
    "---"
   ]
  },
  {
   "cell_type": "code",
   "execution_count": 85,
   "metadata": {
    "slideshow": {
     "slide_type": "-"
    }
   },
   "outputs": [
    {
     "name": "stdout",
     "output_type": "stream",
     "text": [
      "Help on _Helper in module _sitebuiltins object:\n",
      "\n",
      "class _Helper(builtins.object)\n",
      " |  Define the builtin 'help'.\n",
      " |  \n",
      " |  This is a wrapper around pydoc.help that provides a helpful message\n",
      " |  when 'help' is typed at the Python interactive prompt.\n",
      " |  \n",
      " |  Calling help() at the Python prompt starts an interactive help session.\n",
      " |  Calling help(thing) prints help for the python object 'thing'.\n",
      " |  \n",
      " |  Methods defined here:\n",
      " |  \n",
      " |  __call__(self, *args, **kwds)\n",
      " |      Call self as a function.\n",
      " |  \n",
      " |  __repr__(self)\n",
      " |      Return repr(self).\n",
      " |  \n",
      " |  ----------------------------------------------------------------------\n",
      " |  Data descriptors defined here:\n",
      " |  \n",
      " |  __dict__\n",
      " |      dictionary for instance variables (if defined)\n",
      " |  \n",
      " |  __weakref__\n",
      " |      list of weak references to the object (if defined)\n",
      "\n"
     ]
    }
   ],
   "source": [
    "help(help)"
   ]
  },
  {
   "cell_type": "markdown",
   "metadata": {
    "slideshow": {
     "slide_type": "subslide"
    }
   },
   "source": [
    "## Dokumentowanie własnych funkcji\n",
    "\n",
    "---"
   ]
  },
  {
   "cell_type": "code",
   "execution_count": 86,
   "metadata": {
    "collapsed": true,
    "slideshow": {
     "slide_type": "-"
    }
   },
   "outputs": [],
   "source": [
    "def funkcja():\n",
    "    pass"
   ]
  },
  {
   "cell_type": "code",
   "execution_count": 87,
   "metadata": {
    "slideshow": {
     "slide_type": "-"
    }
   },
   "outputs": [
    {
     "name": "stdout",
     "output_type": "stream",
     "text": [
      "Help on function funkcja in module __main__:\n",
      "\n",
      "funkcja()\n",
      "\n"
     ]
    }
   ],
   "source": [
    "help(funkcja)"
   ]
  },
  {
   "cell_type": "code",
   "execution_count": 9,
   "metadata": {
    "slideshow": {
     "slide_type": "-"
    }
   },
   "outputs": [],
   "source": [
    "def funkcja():\n",
    "    \"\"\"To jest moja funkcja, która nic nie robi  \n",
    "    \n",
    "    Zupełnie nic\n",
    "    \"\"\"\n",
    "    pass"
   ]
  },
  {
   "cell_type": "code",
   "execution_count": 10,
   "metadata": {
    "slideshow": {
     "slide_type": "-"
    }
   },
   "outputs": [
    {
     "name": "stdout",
     "output_type": "stream",
     "text": [
      "Help on function funkcja in module __main__:\n",
      "\n",
      "funkcja()\n",
      "    To jest moja funkcja, która nic nie robi  \n",
      "    \n",
      "    Zupełnie nic\n",
      "\n"
     ]
    }
   ],
   "source": [
    "help(funkcja)"
   ]
  },
  {
   "cell_type": "markdown",
   "metadata": {
    "slideshow": {
     "slide_type": "subslide"
    }
   },
   "source": [
    "## Dokumentacja (PEP 257)\n",
    "\n",
    "---\n",
    "\n",
    "* dokumentacja (czyli tzw. *docstring*) wg standardów PEP 257:\n",
    "    * jednolinjkowy opis\n",
    "    ```py\n",
    "    \"\"\"Mój opis\"\"\"\n",
    "    ```\n",
    "    * wielolinijkowy opis\n",
    "    ```py\n",
    "    \"\"\"Mój opis\n",
    "    \n",
    "    więcej opisu\n",
    "    \"\"\"\n",
    "    ```"
   ]
  },
  {
   "cell_type": "markdown",
   "metadata": {
    "slideshow": {
     "slide_type": "subslide"
    }
   },
   "source": [
    "## Opis\n",
    "\n",
    "---\n",
    "\n",
    "* opis powinien krótki i jasny (i mieć sens), np:\n",
    "\n",
    "```py\n",
    "\n",
    "# taki opis nie ma sensu\n",
    "def moja_funkcja(a, b):\n",
    "    \"\"\"moja_funkcja(a, b) -> a + b\"\"\"\n",
    "    return a + b\n",
    "\n",
    "# taki jest lepszy\n",
    "def moja_funkcja(a, b):\n",
    "    \"\"\"Zwraca sumę podanych liczb\"\"\"\n",
    "    return a + b\n",
    "```"
   ]
  },
  {
   "cell_type": "markdown",
   "metadata": {
    "slideshow": {
     "slide_type": "subslide"
    }
   },
   "source": [
    "## Dokumentowanie zmiennych\n",
    "\n",
    "---"
   ]
  },
  {
   "cell_type": "code",
   "execution_count": 90,
   "metadata": {
    "collapsed": true,
    "slideshow": {
     "slide_type": "-"
    }
   },
   "outputs": [],
   "source": [
    "def reszta(a = 0, b = 0):\n",
    "    \"\"\"Zwraca resztę z dzielenia\n",
    "    \n",
    "    Keyword arguments:\n",
    "    a -- licznik\n",
    "    b -- mianownik\n",
    "    \"\"\"\n",
    "    if not b:\n",
    "        return 0\n",
    "    return a%b"
   ]
  },
  {
   "cell_type": "code",
   "execution_count": 91,
   "metadata": {
    "slideshow": {
     "slide_type": "-"
    }
   },
   "outputs": [
    {
     "name": "stdout",
     "output_type": "stream",
     "text": [
      "Help on function reszta in module __main__:\n",
      "\n",
      "reszta(a=0, b=0)\n",
      "    Zwraca resztę z dzielenia\n",
      "    \n",
      "    Keyword arguments:\n",
      "    a -- licznik\n",
      "    b -- mianownik\n",
      "\n"
     ]
    }
   ],
   "source": [
    "help(reszta)"
   ]
  },
  {
   "cell_type": "markdown",
   "metadata": {
    "slideshow": {
     "slide_type": "slide"
    }
   },
   "source": [
    "## Wyrażenie *lambda*\n",
    "\n",
    "---"
   ]
  },
  {
   "cell_type": "code",
   "execution_count": 92,
   "metadata": {
    "collapsed": true,
    "slideshow": {
     "slide_type": "-"
    }
   },
   "outputs": [],
   "source": [
    "def suma(a, b): # \"klasyczna\" funkcja\n",
    "    return a + b"
   ]
  },
  {
   "cell_type": "code",
   "execution_count": 93,
   "metadata": {
    "collapsed": true,
    "slideshow": {
     "slide_type": "-"
    }
   },
   "outputs": [],
   "source": [
    "lsuma = lambda a, b: a + b # \"anonimowa\" funkcja"
   ]
  },
  {
   "cell_type": "code",
   "execution_count": 94,
   "metadata": {
    "slideshow": {
     "slide_type": "-"
    }
   },
   "outputs": [
    {
     "data": {
      "text/plain": [
       "3"
      ]
     },
     "execution_count": 94,
     "metadata": {},
     "output_type": "execute_result"
    }
   ],
   "source": [
    "suma(1, 2) # wywołujemy funkcję suma"
   ]
  },
  {
   "cell_type": "code",
   "execution_count": 95,
   "metadata": {
    "slideshow": {
     "slide_type": "-"
    }
   },
   "outputs": [
    {
     "data": {
      "text/plain": [
       "3"
      ]
     },
     "execution_count": 95,
     "metadata": {},
     "output_type": "execute_result"
    }
   ],
   "source": [
    "lsuma(1, 2) # wywołujemy wyrażenia lambda"
   ]
  },
  {
   "cell_type": "markdown",
   "metadata": {
    "slideshow": {
     "slide_type": "slide"
    }
   },
   "source": [
    "## Funkcja *main*\n",
    "\n",
    "---\n",
    "\n",
    "* najczęście program podzielony jest na pojedyczne funkcje\n",
    "* zwiększa to czytelność kodu i ułatwia jego debugowanie\n",
    "* funkcja main \"steruje\" programem - uruchamiana jest przy wywołaniu skryptu"
   ]
  },
  {
   "cell_type": "markdown",
   "metadata": {
    "slideshow": {
     "slide_type": "subslide"
    }
   },
   "source": [
    "## Funkcja *main*\n",
    "\n",
    "---"
   ]
  },
  {
   "cell_type": "code",
   "execution_count": 101,
   "metadata": {
    "collapsed": true,
    "slideshow": {
     "slide_type": "-"
    }
   },
   "outputs": [],
   "source": [
    "# skrypt.py\n",
    "\n",
    "def start():\n",
    "    print(\"Zaczynam program\")\n",
    "    \n",
    "def operations():\n",
    "    print(\"Wykonuje obliczenia\")\n",
    "    \n",
    "def end():\n",
    "    print(\"Kończę program\")\n",
    "    \n",
    "# taki skrypt nic nie zrobi\n",
    "# bo żadna funkcja nie jest wywołana"
   ]
  },
  {
   "cell_type": "markdown",
   "metadata": {
    "slideshow": {
     "slide_type": "subslide"
    }
   },
   "source": [
    "## Funkcja *main*\n",
    "\n",
    "---"
   ]
  },
  {
   "cell_type": "code",
   "execution_count": 13,
   "metadata": {},
   "outputs": [
    {
     "name": "stdout",
     "output_type": "stream",
     "text": [
      "Zaczynam program\n",
      "Wykonuje obliczenia\n",
      "Kończę program\n"
     ]
    }
   ],
   "source": [
    "# skrypt.py\n",
    "\n",
    "def start():\n",
    "    print(\"Zaczynam program\")\n",
    "    \n",
    "def operations():\n",
    "    print(\"Wykonuje obliczenia\")\n",
    "    \n",
    "def end():\n",
    "    print(\"Kończę program\")\n",
    "   \n",
    "\n",
    "if __name__ == \"__main__\":\n",
    "    start()\n",
    "    operations()\n",
    "    end()"
   ]
  }
 ],
 "metadata": {
  "anaconda-cloud": {},
  "celltoolbar": "Slideshow",
  "kernelspec": {
   "display_name": "Python 3",
   "language": "python",
   "name": "python3"
  },
  "language_info": {
   "codemirror_mode": {
    "name": "ipython",
    "version": 3
   },
   "file_extension": ".py",
   "mimetype": "text/x-python",
   "name": "python",
   "nbconvert_exporter": "python",
   "pygments_lexer": "ipython3",
   "version": "3.7.6"
  }
 },
 "nbformat": 4,
 "nbformat_minor": 1
}
