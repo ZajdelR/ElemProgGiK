{
 "cells": [
  {
   "cell_type": "markdown",
   "metadata": {
    "slideshow": {
     "slide_type": "slide"
    }
   },
   "source": [
    "# Języki skryptowe - Pyton\n",
    "## Wykład 3\n",
    "\n",
    "---\n",
    "\n",
    "* pakowanie / odpakowywanie sekwencji\n",
    "* kontrola przepływu:\n",
    "    * instrukcje warunkowe *if*\n",
    "    * pętle *for* i *while*\n",
    "* formatowanie tekstu"
   ]
  },
  {
   "cell_type": "markdown",
   "metadata": {
    "slideshow": {
     "slide_type": "slide"
    }
   },
   "source": [
    "## Powtórka\n",
    "\n",
    "---\n",
    "\n",
    "* typy liczbowe (\"niemutowalne\"): *int*, *float*, *complex*\n",
    "* typy sekwencyjne (\"mutowalne\"): *list*\n",
    "* typy sekwencyjne (\"niemutowalne\"): *tuple*, *range*, *str*\n",
    "* operacje logiczne"
   ]
  },
  {
   "cell_type": "markdown",
   "metadata": {
    "slideshow": {
     "slide_type": "slide"
    }
   },
   "source": [
    "## \"Odpakowywanie\" (*unzip*)\n",
    "\n",
    "---"
   ]
  },
  {
   "cell_type": "code",
   "execution_count": 37,
   "metadata": {
    "slideshow": {
     "slide_type": "-"
    }
   },
   "outputs": [
    {
     "name": "stdout",
     "output_type": "stream",
     "text": [
      "1 2\n"
     ]
    }
   ],
   "source": [
    "lista = [1, 2]\n",
    "\n",
    "a, b = lista # a = lista[0], b = lista[1]\n",
    "\n",
    "print(a, b)"
   ]
  },
  {
   "cell_type": "markdown",
   "metadata": {
    "slideshow": {
     "slide_type": "-"
    }
   },
   "source": [
    "* przykład: zamiana zmiennych"
   ]
  },
  {
   "cell_type": "code",
   "execution_count": 38,
   "metadata": {
    "slideshow": {
     "slide_type": "-"
    }
   },
   "outputs": [
    {
     "name": "stdout",
     "output_type": "stream",
     "text": [
      "2 1\n"
     ]
    }
   ],
   "source": [
    "a, b = b, a # a, b = tuple(b, a)\n",
    "\n",
    "print(a, b)"
   ]
  },
  {
   "cell_type": "markdown",
   "metadata": {
    "slideshow": {
     "slide_type": "subslide"
    }
   },
   "source": [
    "## *splat*, czyli tzw. *asterisk*\n",
    "\n",
    "---"
   ]
  },
  {
   "cell_type": "code",
   "execution_count": 39,
   "metadata": {
    "slideshow": {
     "slide_type": "-"
    }
   },
   "outputs": [
    {
     "name": "stdout",
     "output_type": "stream",
     "text": [
      "[1, 2, 3]\n",
      "1 2 3\n",
      "1 2 3\n"
     ]
    }
   ],
   "source": [
    "x = [1, 2, 3]\n",
    "\n",
    "# print(arg1, arg2, arg3, ..., +opcje)\n",
    "\n",
    "print(x)  # drukuje listę (1 argument)\n",
    "print(*x) # drukuje \"rozpakowaną\" listę (3 argumenty)\n",
    "print(x[0], x[1], x[2]) # równoważny zapis"
   ]
  },
  {
   "cell_type": "code",
   "execution_count": 40,
   "metadata": {
    "slideshow": {
     "slide_type": "-"
    }
   },
   "outputs": [
    {
     "name": "stdout",
     "output_type": "stream",
     "text": [
      "Python\n",
      "P y t h o n\n"
     ]
    }
   ],
   "source": [
    "x = \"Python\"\n",
    "\n",
    "print(x)\n",
    "print(*x) # zip/unzip działa na wszystkich sekwencjach"
   ]
  },
  {
   "cell_type": "code",
   "execution_count": 41,
   "metadata": {},
   "outputs": [
    {
     "name": "stdout",
     "output_type": "stream",
     "text": [
      "0 1 2 3 4 5 6 7 8 9\n"
     ]
    }
   ],
   "source": [
    "x = range(10)\n",
    "print(*x)"
   ]
  },
  {
   "cell_type": "markdown",
   "metadata": {
    "slideshow": {
     "slide_type": "subslide"
    }
   },
   "source": [
    "## *unzip* i *splat*\n",
    "\n",
    "---"
   ]
  },
  {
   "cell_type": "code",
   "execution_count": 42,
   "metadata": {
    "slideshow": {
     "slide_type": "-"
    }
   },
   "outputs": [
    {
     "name": "stdout",
     "output_type": "stream",
     "text": [
      "1 [2, 3, 4, 5]\n"
     ]
    }
   ],
   "source": [
    "lista = [1, 2, 3, 4, 5]\n",
    "\n",
    "# a, b = lista # ValueError: too many values to unpack (expected 2)\n",
    "\n",
    "a, *b = lista # a = lista[0], b = reszta\n",
    "\n",
    "print(a, b)"
   ]
  },
  {
   "cell_type": "code",
   "execution_count": 43,
   "metadata": {
    "slideshow": {
     "slide_type": "-"
    }
   },
   "outputs": [
    {
     "name": "stdout",
     "output_type": "stream",
     "text": [
      "1 [2, 3, 4] 5\n"
     ]
    }
   ],
   "source": [
    "lista = [1, 2, 3, 4, 5]\n",
    "\n",
    "a, *b, c = lista # a, b[0], b[1], b[2], c\n",
    "\n",
    "print(a, b, c)"
   ]
  },
  {
   "cell_type": "code",
   "execution_count": 1,
   "metadata": {
    "scrolled": true
   },
   "outputs": [
    {
     "name": "stdout",
     "output_type": "stream",
     "text": [
      "1 3\n"
     ]
    }
   ],
   "source": [
    "lista = [1, 2, 3, 4, 5]\n",
    "\n",
    "a,b,c,d,e = lista\n",
    "\n",
    "print(a,c)"
   ]
  },
  {
   "cell_type": "code",
   "execution_count": 11,
   "metadata": {},
   "outputs": [
    {
     "name": "stdout",
     "output_type": "stream",
     "text": [
      "1 4\n"
     ]
    }
   ],
   "source": [
    "lista = [1, 2, 3, 4, 5]\n",
    "\n",
    "a,b,_,d,e = lista\n",
    "\n",
    "print(a,d)"
   ]
  },
  {
   "cell_type": "code",
   "execution_count": 2,
   "metadata": {},
   "outputs": [
    {
     "name": "stdout",
     "output_type": "stream",
     "text": [
      "1 5 [2, 3, 4]\n",
      "1 4 5\n"
     ]
    }
   ],
   "source": [
    "lista = [1, 2, 3, 4, 5]\n",
    "\n",
    "a,*_,b = lista\n",
    "\n",
    "print(a,b,_)\n",
    "\n",
    "a,*_,b,_ = lista\n",
    "\n",
    "print(a,b,_)"
   ]
  },
  {
   "cell_type": "code",
   "execution_count": 12,
   "metadata": {},
   "outputs": [
    {
     "name": "stdout",
     "output_type": "stream",
     "text": [
      "1 [2, 3, 4] 5\n"
     ]
    }
   ],
   "source": [
    "lista = [1, 2, 3, 4, 5]\n",
    "\n",
    "a, *b, c = lista # a, b[0], b[1], b[2], c\n",
    "\n",
    "print(a, b, c)"
   ]
  },
  {
   "cell_type": "markdown",
   "metadata": {
    "slideshow": {
     "slide_type": "subslide"
    }
   },
   "source": [
    "## \"Pakowanie\" (*zip*)\n",
    "\n",
    "---"
   ]
  },
  {
   "cell_type": "code",
   "execution_count": 3,
   "metadata": {
    "slideshow": {
     "slide_type": "-"
    }
   },
   "outputs": [
    {
     "name": "stdout",
     "output_type": "stream",
     "text": [
      "(1, 'a') (2, 'b') (3, 'c')\n"
     ]
    }
   ],
   "source": [
    "x = [1, 2, 3]\n",
    "y = ['a', 'b', 'c']\n",
    "\n",
    "zipped = zip(x, y) # pary ((x[i], y[i]),(x[i+1],y[i+1]...)\n",
    "\n",
    "print(*zipped)"
   ]
  },
  {
   "cell_type": "markdown",
   "metadata": {
    "slideshow": {
     "slide_type": "slide"
    }
   },
   "source": [
    "## Programowanie strukturalne\n",
    "\n",
    "---\n",
    "\n",
    "* trzy struktury sterujące:\n",
    "    * *sekwencja* - wykonanie instrukcji w zadanej kolejności\n",
    "    * *wybór* - wykonanie instrukcji w zależności od stanu\n",
    "    * *iteracja* - wykonywanie instrukcji dopóki (nie)spełniony jest warunek"
   ]
  },
  {
   "cell_type": "markdown",
   "metadata": {
    "slideshow": {
     "slide_type": "subslide"
    }
   },
   "source": [
    "## Instrukcja warunkowa *if*\n",
    "\n",
    "---\n",
    "\n",
    "* wykonaj instrukcje, jeśli spełniony jest warunek\n",
    "\n",
    "```py\n",
    "if warunek: # zwróć uwagę na :\n",
    "    instrukcja1\n",
    "    instrukcja2\n",
    "    ...\n",
    "```"
   ]
  },
  {
   "cell_type": "code",
   "execution_count": 45,
   "metadata": {
    "slideshow": {
     "slide_type": "-"
    }
   },
   "outputs": [
    {
     "name": "stdout",
     "output_type": "stream",
     "text": [
      "2 jest większe od 1\n"
     ]
    }
   ],
   "source": [
    "if 2 > 1:\n",
    "    print(\"2 jest większe od 1\")"
   ]
  },
  {
   "cell_type": "markdown",
   "metadata": {
    "slideshow": {
     "slide_type": "subslide"
    }
   },
   "source": [
    "## Instrukcja warunkowa *if else*\n",
    "\n",
    "---\n",
    "\n",
    "* wykonaj instrukcje, jeśli spełniony jest warunek, lub wykonaj inne instrukcje\n",
    "\n",
    "```py\n",
    "if warunek:\n",
    "    instrukcja1\n",
    "    instrukcja2\n",
    "    ...\n",
    "else:\n",
    "    instrukcja3\n",
    "    instrukcja4\n",
    "    ...\n",
    "```    "
   ]
  },
  {
   "cell_type": "code",
   "execution_count": 46,
   "metadata": {
    "slideshow": {
     "slide_type": "-"
    }
   },
   "outputs": [
    {
     "name": "stdout",
     "output_type": "stream",
     "text": [
      "2 nie jest większe od 3\n"
     ]
    }
   ],
   "source": [
    "if 2 > 3:\n",
    "    print(\"2 jest większe od 3\")\n",
    "else:\n",
    "    print(\"2 nie jest większe od 3\")"
   ]
  },
  {
   "cell_type": "markdown",
   "metadata": {
    "slideshow": {
     "slide_type": "subslide"
    }
   },
   "source": [
    "## Instrukcja warunkowa *if elif else*\n",
    "\n",
    "--- \n",
    "\n",
    "* wykonaj jeśli, lub wykonaj jeśli, ..., lub wykonaj\n",
    "\n",
    "```py\n",
    "if warunek1:\n",
    "    instrukcja1\n",
    "    instrukcja2\n",
    "    ...\n",
    "elif warunek2:\n",
    "    instrukcja3\n",
    "    instrukcja4\n",
    "    ...\n",
    ".\n",
    ".\n",
    ".\n",
    "else:\n",
    "    instrukcja5\n",
    "    instrukcja6\n",
    "```"
   ]
  },
  {
   "cell_type": "markdown",
   "metadata": {
    "slideshow": {
     "slide_type": "subslide"
    }
   },
   "source": [
    "## Instrukcja warunkowa *if elif else*\n",
    "\n",
    "--- "
   ]
  },
  {
   "cell_type": "code",
   "execution_count": 47,
   "metadata": {
    "slideshow": {
     "slide_type": "-"
    }
   },
   "outputs": [
    {
     "name": "stdout",
     "output_type": "stream",
     "text": [
      "2 jest mniejsze od 3\n"
     ]
    }
   ],
   "source": [
    "if 2 > 3:\n",
    "    print(\"2 jest większe od 3\")\n",
    "elif 2 == 3:\n",
    "    print(\"2 jest równe 3\")\n",
    "else:\n",
    "    print(\"2 jest mniejsze od 3\")"
   ]
  },
  {
   "cell_type": "markdown",
   "metadata": {
    "slideshow": {
     "slide_type": "subslide"
    }
   },
   "source": [
    "## *if* - przykład\n",
    "\n",
    "---"
   ]
  },
  {
   "cell_type": "code",
   "execution_count": 4,
   "metadata": {
    "slideshow": {
     "slide_type": "-"
    }
   },
   "outputs": [
    {
     "name": "stdout",
     "output_type": "stream",
     "text": [
      "Podaj liczbę: 9\n",
      "Podana liczba jest nieparzysta.\n"
     ]
    }
   ],
   "source": [
    "print(\"Podaj liczbę:\", end=' ')\n",
    "\n",
    "raw_x = input() # pobierz stringa z wejścia standardowego\n",
    "x = eval(raw_x) # zinterpretuj jako wyrażenie Pythona\n",
    "\n",
    "# x % 2 zwraca resztę z dzielenia\n",
    "# każda wartość != 0 jest traktowana jako prawda\n",
    "if x % 2:\n",
    "    print(\"Podana liczba jest nieparzysta.\")\n",
    "else:\n",
    "    print(\"Podana liczba jest parzysta.\")"
   ]
  },
  {
   "cell_type": "markdown",
   "metadata": {
    "slideshow": {
     "slide_type": "subslide"
    }
   },
   "source": [
    "## Dygresja: *input* vs *raw_input*\n",
    "\n",
    "---\n",
    "\n",
    "* w Pythonie 2\n",
    "    * *raw_input* pobiera \"surowego\" stringa\n",
    "    * *input* dodatkowo go parsuje\n",
    "* w Pythonie 3\n",
    "    * *input* pobiera \"surowego\" stringa\n",
    "    * *eval(input)* odtworzy zachowanie *input* z Pythona 2"
   ]
  },
  {
   "cell_type": "markdown",
   "metadata": {
    "slideshow": {
     "slide_type": "subslide"
    }
   },
   "source": [
    "## Dygresja: *input* i *eval*\n",
    "\n",
    "---"
   ]
  },
  {
   "cell_type": "code",
   "execution_count": 49,
   "metadata": {
    "slideshow": {
     "slide_type": "-"
    }
   },
   "outputs": [
    {
     "name": "stdout",
     "output_type": "stream",
     "text": [
      "3\n"
     ]
    },
    {
     "data": {
      "text/plain": [
       "str"
      ]
     },
     "execution_count": 49,
     "metadata": {},
     "output_type": "execute_result"
    }
   ],
   "source": [
    "type(input()) # pobiera wejście jako string"
   ]
  },
  {
   "cell_type": "markdown",
   "metadata": {
    "slideshow": {
     "slide_type": "subslide"
    }
   },
   "source": [
    "## Dygresja: *input* i *eval*\n",
    "\n",
    "---"
   ]
  },
  {
   "cell_type": "code",
   "execution_count": 50,
   "metadata": {
    "slideshow": {
     "slide_type": "-"
    }
   },
   "outputs": [
    {
     "name": "stdout",
     "output_type": "stream",
     "text": [
      "3.2\n"
     ]
    },
    {
     "data": {
      "text/plain": [
       "float"
      ]
     },
     "execution_count": 50,
     "metadata": {},
     "output_type": "execute_result"
    }
   ],
   "source": [
    "type(eval(input())) # parsuje wejście jako komendę"
   ]
  },
  {
   "cell_type": "markdown",
   "metadata": {
    "slideshow": {
     "slide_type": "slide"
    }
   },
   "source": [
    "## Iteratory\n",
    "\n",
    "---\n",
    "\n",
    "* iterator wskazuje element sekwencji oraz umożliwia dostęp do następnego"
   ]
  },
  {
   "cell_type": "code",
   "execution_count": 51,
   "metadata": {
    "slideshow": {
     "slide_type": "-"
    }
   },
   "outputs": [
    {
     "name": "stdout",
     "output_type": "stream",
     "text": [
      "Help on built-in function iter in module builtins:\n",
      "\n",
      "iter(...)\n",
      "    iter(iterable) -> iterator\n",
      "    iter(callable, sentinel) -> iterator\n",
      "    \n",
      "    Get an iterator from an object.  In the first form, the argument must\n",
      "    supply its own iterator, or be a sequence.\n",
      "    In the second form, the callable is called until it returns the sentinel.\n",
      "\n"
     ]
    }
   ],
   "source": [
    "help(iter)"
   ]
  },
  {
   "cell_type": "markdown",
   "metadata": {
    "slideshow": {
     "slide_type": "subslide"
    }
   },
   "source": [
    "## *iter(iterable)*\n",
    "\n",
    "---"
   ]
  },
  {
   "cell_type": "code",
   "execution_count": 6,
   "metadata": {
    "slideshow": {
     "slide_type": "-"
    }
   },
   "outputs": [
    {
     "name": "stdout",
     "output_type": "stream",
     "text": [
      "a\n",
      "b\n",
      "c\n",
      "d\n"
     ]
    }
   ],
   "source": [
    "lista = ['a', 'b', 'c', 'd'] # zwykła lista\n",
    "\n",
    "it = iter(lista) # iterator listy (wskazuje na początek)\n",
    "\n",
    "print(next(it)) # zwraca 1 element i przesuwa \"wskaźnik\"\n",
    "print(next(it)) # zwraca 2 element i przesuwa \"wskaźnik\"\n",
    "print(next(it)) # zwraca 3 element i przesuwa \"wskaźnik\"\n",
    "print(next(it)) # zwraca 4 element i przesuwa \"wskaźnik\""
   ]
  },
  {
   "cell_type": "markdown",
   "metadata": {
    "slideshow": {
     "slide_type": "subslide"
    }
   },
   "source": [
    "## *iter(callable, sentinel)*\n",
    "\n",
    "---"
   ]
  },
  {
   "cell_type": "code",
   "execution_count": 14,
   "metadata": {
    "slideshow": {
     "slide_type": "-"
    }
   },
   "outputs": [
    {
     "name": "stdout",
     "output_type": "stream",
     "text": [
      "1\n",
      "2\n",
      "3\n"
     ]
    }
   ],
   "source": [
    "i = 0\n",
    "\n",
    "# funkcje omówimy w przyszłości\n",
    "def funkcja():\n",
    "    \"\"\"Z każdym wywołaniem zwraca kolejną liczbę całkowitą.\"\"\"\n",
    "    global i  # użyj globalnej zmiennej i\n",
    "    i += 1   # zwiększ\n",
    "    return i  # i zwróć\n",
    "\n",
    "# kolejne wartości zwracane przez funkcję\n",
    "# iterowane aż zwróci 4\n",
    "it = iter(funkcja, 4)\n",
    "\n",
    "print(next(it))\n",
    "print(next(it))\n",
    "print(next(it))\n",
    "# print(next(it)) # StopIteration"
   ]
  },
  {
   "cell_type": "markdown",
   "metadata": {
    "slideshow": {
     "slide_type": "slide"
    }
   },
   "source": [
    "## Pętla *for*\n",
    "\n",
    "---\n",
    "\n",
    "* pętla po sekwencji\n",
    "* np. w Pascalu pętla po (ayrtmetycznym) ciągu liczb\n",
    "* np. w C++ obie możliwości\n",
    "\n",
    "```cpp\n",
    "// przykład w C++\n",
    "for (unsigned int i = 0; i < N; i++)\n",
    "{\n",
    "    // wykonaj coś na i-tym elemencie\n",
    "}\n",
    "for (auto it = v.begin(); it != v.end(); ++it)\n",
    "{\n",
    "    // wykonaj coś na iteratorze it\n",
    "}\n",
    "```"
   ]
  },
  {
   "cell_type": "markdown",
   "metadata": {
    "slideshow": {
     "slide_type": "subslide"
    }
   },
   "source": [
    "## *for* po liście\n",
    "\n",
    "---"
   ]
  },
  {
   "cell_type": "code",
   "execution_count": 54,
   "metadata": {
    "slideshow": {
     "slide_type": "-"
    }
   },
   "outputs": [
    {
     "name": "stdout",
     "output_type": "stream",
     "text": [
      "a\n",
      "b\n",
      "c\n",
      "d\n"
     ]
    }
   ],
   "source": [
    "lista = ['a', 'b', 'c', 'd']\n",
    "\n",
    "for element in lista: # pętla po liście, w każdym kroku\n",
    "    print(element)    # element zmienia swoją wartość"
   ]
  },
  {
   "cell_type": "markdown",
   "metadata": {
    "slideshow": {
     "slide_type": "subslide"
    }
   },
   "source": [
    "## *for* \"krok po kroku\""
   ]
  },
  {
   "cell_type": "code",
   "execution_count": 55,
   "metadata": {
    "slideshow": {
     "slide_type": "-"
    }
   },
   "outputs": [
    {
     "name": "stdout",
     "output_type": "stream",
     "text": [
      "a\n",
      "b\n",
      "c\n",
      "d\n"
     ]
    }
   ],
   "source": [
    "lista = ['a', 'b', 'c', 'd']\n",
    "\n",
    "it = iter(lista)\n",
    "\n",
    "element = next(it)\n",
    "print(element)\n",
    "element = next(it)\n",
    "print(element)\n",
    "element = next(it)\n",
    "print(element)\n",
    "element = next(it)\n",
    "print(element)"
   ]
  },
  {
   "cell_type": "markdown",
   "metadata": {
    "slideshow": {
     "slide_type": "subslide"
    }
   },
   "source": [
    "## *for* i *next*\n",
    "\n",
    "---"
   ]
  },
  {
   "cell_type": "code",
   "execution_count": 56,
   "metadata": {
    "slideshow": {
     "slide_type": "-"
    }
   },
   "outputs": [
    {
     "name": "stdout",
     "output_type": "stream",
     "text": [
      "i = a\n",
      "next(it) = b\n",
      "i = c\n",
      "next(it) = d\n"
     ]
    }
   ],
   "source": [
    "lista = ['a', 'b', 'c', 'd']\n",
    "\n",
    "it = iter(lista)\n",
    "\n",
    "# pętla po iteratorze it\n",
    "# wewnątrz \"ręcznie\" wywołujemy next()\n",
    "for i in it:\n",
    "    print(\"i = \" + i)\n",
    "    print(\"next(it) = \" + next(it))"
   ]
  },
  {
   "cell_type": "markdown",
   "metadata": {
    "slideshow": {
     "slide_type": "subslide"
    }
   },
   "source": [
    "## *for* po wycinkach\n",
    "\n",
    "---"
   ]
  },
  {
   "cell_type": "code",
   "execution_count": 57,
   "metadata": {},
   "outputs": [
    {
     "name": "stdout",
     "output_type": "stream",
     "text": [
      "c d "
     ]
    }
   ],
   "source": [
    "lista = ['a', 'b', 'c', 'd']\n",
    "\n",
    "for element in lista[-2:]:\n",
    "    print(element, end=' ')"
   ]
  },
  {
   "cell_type": "code",
   "execution_count": 58,
   "metadata": {
    "slideshow": {
     "slide_type": "-"
    }
   },
   "outputs": [
    {
     "name": "stdout",
     "output_type": "stream",
     "text": [
      "0 2 4 6 8 "
     ]
    }
   ],
   "source": [
    "for i in range(10)[::2]:\n",
    "    print(i, end=' ')"
   ]
  },
  {
   "cell_type": "markdown",
   "metadata": {
    "slideshow": {
     "slide_type": "subslide"
    }
   },
   "source": [
    "## *for* po krotce\n",
    "\n",
    "---"
   ]
  },
  {
   "cell_type": "code",
   "execution_count": 59,
   "metadata": {
    "slideshow": {
     "slide_type": "-"
    }
   },
   "outputs": [
    {
     "name": "stdout",
     "output_type": "stream",
     "text": [
      "a\n",
      "b\n",
      "c\n",
      "d\n"
     ]
    }
   ],
   "source": [
    "krotka = ('a', 'b', 'c', 'd')\n",
    "\n",
    "for element in krotka: # pętla po krotce\n",
    "    print(element)     # działa jak po liście"
   ]
  },
  {
   "cell_type": "markdown",
   "metadata": {
    "slideshow": {
     "slide_type": "subslide"
    }
   },
   "source": [
    "## *for* po stringu\n",
    "\n",
    "---"
   ]
  },
  {
   "cell_type": "code",
   "execution_count": 3,
   "metadata": {
    "slideshow": {
     "slide_type": "-"
    }
   },
   "outputs": [
    {
     "name": "stdout",
     "output_type": "stream",
     "text": [
      "P\ty\tt\th\to\tn\t"
     ]
    }
   ],
   "source": [
    "slowo = \"Python\"\n",
    "\n",
    "for litera in slowo: # pętla po stringu\n",
    "    print(litera,end='\\t')    # iteruje po literach"
   ]
  },
  {
   "cell_type": "markdown",
   "metadata": {
    "slideshow": {
     "slide_type": "subslide"
    }
   },
   "source": [
    "## *for* po range\n",
    "\n",
    "---"
   ]
  },
  {
   "cell_type": "code",
   "execution_count": 61,
   "metadata": {
    "slideshow": {
     "slide_type": "-"
    }
   },
   "outputs": [
    {
     "name": "stdout",
     "output_type": "stream",
     "text": [
      "0\n",
      "1\n",
      "2\n",
      "3\n",
      "4\n"
     ]
    }
   ],
   "source": [
    "for liczba in range(5): # pętla po range\n",
    "    print(liczba)       # \"odpowiednik\" for (i = 0; ...)"
   ]
  },
  {
   "cell_type": "markdown",
   "metadata": {
    "slideshow": {
     "slide_type": "slide"
    }
   },
   "source": [
    "## Kontrola przepływu - przykład 1\n",
    "\n",
    "---"
   ]
  },
  {
   "cell_type": "code",
   "execution_count": 62,
   "metadata": {
    "slideshow": {
     "slide_type": "-"
    }
   },
   "outputs": [
    {
     "name": "stdout",
     "output_type": "stream",
     "text": [
      "1\n",
      "2.0\n",
      "4\n",
      "1j\n"
     ]
    }
   ],
   "source": [
    "lista = [1, 2.0, 'Python', 4, 1j]\n",
    "\n",
    "for element in lista:\n",
    "    if type(element) is not str: # nie drukuj stringów\n",
    "        print(element) # zwróć uwage na wcięcia"
   ]
  },
  {
   "cell_type": "markdown",
   "metadata": {
    "slideshow": {
     "slide_type": "subslide"
    }
   },
   "source": [
    "## Kontrola przepływu - przykład 2\n",
    "\n",
    "---"
   ]
  },
  {
   "cell_type": "code",
   "execution_count": 63,
   "metadata": {
    "slideshow": {
     "slide_type": "-"
    }
   },
   "outputs": [
    {
     "name": "stdout",
     "output_type": "stream",
     "text": [
      "P\n",
      "y\n",
      "t\n",
      "h\n",
      "o\n",
      "n\n"
     ]
    }
   ],
   "source": [
    "lista = [1, 2.0, 'Python', 4, 1j]\n",
    "\n",
    "for element in lista:\n",
    "    if type(element) is str:   # tylko dla stringów\n",
    "        for litera in element: # pętla po stringu\n",
    "            print(litera) # zwróć uwagę na wcięcia"
   ]
  },
  {
   "cell_type": "markdown",
   "metadata": {
    "slideshow": {
     "slide_type": "subslide"
    }
   },
   "source": [
    "## Kontrola przepływu - przykład 3\n",
    "\n",
    "---"
   ]
  },
  {
   "cell_type": "code",
   "execution_count": 64,
   "metadata": {
    "slideshow": {
     "slide_type": "-"
    }
   },
   "outputs": [
    {
     "name": "stdout",
     "output_type": "stream",
     "text": [
      "1. 1\n",
      "2. 2.0\n",
      "3. Python\n",
      "4. 4\n",
      "5. 1j\n"
     ]
    }
   ],
   "source": [
    "lista = [1, 2.0, 'Python', 4, 1j]\n",
    "\n",
    "for i in range(len(lista)): # pętla indeksach od 0 do len(lista)\n",
    "    print(str(i + 1) + \". \" + str(lista[i])) # mało czytelne..."
   ]
  },
  {
   "cell_type": "markdown",
   "metadata": {
    "slideshow": {
     "slide_type": "subslide"
    }
   },
   "source": [
    "## *unzip* i *for*\n",
    "\n",
    "---"
   ]
  },
  {
   "cell_type": "code",
   "execution_count": 65,
   "metadata": {
    "slideshow": {
     "slide_type": "-"
    }
   },
   "outputs": [
    {
     "name": "stdout",
     "output_type": "stream",
     "text": [
      "1. a\n",
      "2. b\n",
      "3. c\n"
     ]
    }
   ],
   "source": [
    "lista = [[1, 'a'], [2, 'b'], [3, 'c']]\n",
    "\n",
    "for cyfra, litera in lista: # cyfra, litera = \"lista[i]\"\n",
    "    print(str(cyfra) + \". \" + litera)"
   ]
  },
  {
   "cell_type": "code",
   "execution_count": 19,
   "metadata": {
    "slideshow": {
     "slide_type": "-"
    }
   },
   "outputs": [
    {
     "name": "stdout",
     "output_type": "stream",
     "text": [
      "1. a\n",
      "2. b\n",
      "3. c\n"
     ]
    }
   ],
   "source": [
    "cyfry = [1, 2, 3]\n",
    "litery = ['a', 'b', 'c']\n",
    "\n",
    "for cyfra, litera in zip(cyfry, litery):\n",
    "    print(str(cyfra) + \". \" + litera) "
   ]
  },
  {
   "cell_type": "markdown",
   "metadata": {
    "slideshow": {
     "slide_type": "subslide"
    }
   },
   "source": [
    "## *enumerate*\n",
    "\n",
    "---"
   ]
  },
  {
   "cell_type": "code",
   "execution_count": 67,
   "metadata": {
    "slideshow": {
     "slide_type": "-"
    }
   },
   "outputs": [
    {
     "data": {
      "text/plain": [
       "[(0, 'a'), (1, 'b'), (2, 'c')]"
      ]
     },
     "execution_count": 67,
     "metadata": {},
     "output_type": "execute_result"
    }
   ],
   "source": [
    "lista = ['a', 'b', 'c']\n",
    "\n",
    "list(enumerate(lista)) # tworzy pary (indeks, element)"
   ]
  },
  {
   "cell_type": "code",
   "execution_count": 68,
   "metadata": {
    "slideshow": {
     "slide_type": "-"
    }
   },
   "outputs": [
    {
     "name": "stdout",
     "output_type": "stream",
     "text": [
      "1. a\n",
      "2. b\n",
      "3. c\n"
     ]
    }
   ],
   "source": [
    "for index, element in enumerate(lista):\n",
    "    print(str(index + 1) + \". \" + element)"
   ]
  },
  {
   "cell_type": "markdown",
   "metadata": {
    "slideshow": {
     "slide_type": "slide"
    }
   },
   "source": [
    "## Pętla *while*\n",
    "\n",
    "---\n",
    "\n",
    "* wykonuj blok instrukcji dopóki warunek jest spełniony\n",
    "\n",
    "```py\n",
    "while warunek:\n",
    "    instrukcje\n",
    "```\n",
    "\n",
    "* przykład:"
   ]
  },
  {
   "cell_type": "code",
   "execution_count": 69,
   "metadata": {
    "slideshow": {
     "slide_type": "-"
    }
   },
   "outputs": [
    {
     "name": "stdout",
     "output_type": "stream",
     "text": [
      "1 2 3 4 5 "
     ]
    }
   ],
   "source": [
    "i = 0\n",
    "\n",
    "while i < 5: # wykonuj dopóki i < 5\n",
    "    i += 1   # bez tego mamy nieskończoną pętlę\n",
    "    print(i, end=' ')"
   ]
  },
  {
   "cell_type": "markdown",
   "metadata": {
    "slideshow": {
     "slide_type": "subslide"
    }
   },
   "source": [
    "## *while* - przykład\n",
    "\n",
    "---"
   ]
  },
  {
   "cell_type": "code",
   "execution_count": 23,
   "metadata": {
    "slideshow": {
     "slide_type": "-"
    }
   },
   "outputs": [
    {
     "name": "stdout",
     "output_type": "stream",
     "text": [
      "Podaj liczbę całkowitą: 8\n",
      "Twoja liczba to: 8\n"
     ]
    }
   ],
   "source": [
    "n = input(\"Podaj liczbę całkowitą: \")\n",
    "\n",
    "if n.isnumeric():\n",
    "    print(\"Twoja liczba to:\", n)\n",
    "else:\n",
    "    print(n, \"nie jest liczbą całkowitą...\")"
   ]
  },
  {
   "cell_type": "markdown",
   "metadata": {
    "slideshow": {
     "slide_type": "subslide"
    }
   },
   "source": [
    "## *while* - przykład\n",
    "\n",
    "---"
   ]
  },
  {
   "cell_type": "code",
   "execution_count": 71,
   "metadata": {
    "slideshow": {
     "slide_type": "-"
    }
   },
   "outputs": [
    {
     "name": "stdout",
     "output_type": "stream",
     "text": [
      "Podaj liczbę całkowitą: 3\n",
      "Twoja liczba to: 3\n"
     ]
    }
   ],
   "source": [
    "n = input(\"Podaj liczbę całkowitą: \")\n",
    "\n",
    "while not n.isdigit():\n",
    "    n = input(\"Spróbuj jeszcze raz: \")\n",
    "    \n",
    "print(\"Twoja liczba to:\", n)"
   ]
  },
  {
   "cell_type": "markdown",
   "metadata": {
    "slideshow": {
     "slide_type": "subslide"
    }
   },
   "source": [
    "## *while* - nieskończona pętla\n",
    "\n",
    "---\n",
    "\n",
    "```py\n",
    "i = 1\n",
    "\n",
    "while i != 10:\n",
    "    i += 2\n",
    "```"
   ]
  },
  {
   "cell_type": "markdown",
   "metadata": {
    "slideshow": {
     "slide_type": "slide"
    }
   },
   "source": [
    "## Dodatkowe instrukcje sterujące\n",
    "\n",
    "---\n",
    "\n",
    "* *break* - przerwij pętlę\n",
    "* *continue* - przerwij obecną iterację\n",
    "* *pass* - nie rób nic\n",
    "* *else* - wykonuj jeśli pętla zakończyła się inaczej niż *break*"
   ]
  },
  {
   "cell_type": "markdown",
   "metadata": {
    "slideshow": {
     "slide_type": "subslide"
    }
   },
   "source": [
    "## *break*\n",
    "\n",
    "---"
   ]
  },
  {
   "cell_type": "code",
   "execution_count": 72,
   "metadata": {
    "slideshow": {
     "slide_type": "-"
    }
   },
   "outputs": [
    {
     "name": "stdout",
     "output_type": "stream",
     "text": [
      "0 1 2 3 4 5 6 "
     ]
    }
   ],
   "source": [
    "for i in range(10): # drukuj liczby z range(10)\n",
    "    print(i, end=' ')\n",
    "    if i > 5:       # przerwij pętlę jeśli i > 5\n",
    "        break"
   ]
  },
  {
   "cell_type": "code",
   "execution_count": 73,
   "metadata": {
    "slideshow": {
     "slide_type": "-"
    }
   },
   "outputs": [
    {
     "name": "stdout",
     "output_type": "stream",
     "text": [
      "0 1 2 3 4 5 6 "
     ]
    }
   ],
   "source": [
    "i = 0\n",
    "\n",
    "while True:   # wykonuj w niekończoność\n",
    "    print(i, end=' ')\n",
    "    if i > 5: # przerwij pętlę jeśli i > 5\n",
    "        break\n",
    "    i += 1    # bez tego byłaby nieskończona pętla zer "
   ]
  },
  {
   "cell_type": "markdown",
   "metadata": {
    "slideshow": {
     "slide_type": "subslide"
    }
   },
   "source": [
    "## *continue*\n",
    "\n",
    "---"
   ]
  },
  {
   "cell_type": "code",
   "execution_count": 74,
   "metadata": {
    "slideshow": {
     "slide_type": "-"
    }
   },
   "outputs": [
    {
     "name": "stdout",
     "output_type": "stream",
     "text": [
      "0 2 4 6 8 "
     ]
    }
   ],
   "source": [
    "for i in range(10):\n",
    "    if i % 2:    # jeśli i jest nieparzyste\n",
    "        continue # pomiń\n",
    "    print(i, end=' ')"
   ]
  },
  {
   "cell_type": "markdown",
   "metadata": {
    "slideshow": {
     "slide_type": "subslide"
    }
   },
   "source": [
    "## *pass*\n",
    "\n",
    "---"
   ]
  },
  {
   "cell_type": "code",
   "execution_count": 75,
   "metadata": {
    "slideshow": {
     "slide_type": "-"
    }
   },
   "outputs": [
    {
     "name": "stdout",
     "output_type": "stream",
     "text": [
      "0 2 4 6 8 "
     ]
    }
   ],
   "source": [
    "for i in range(10):\n",
    "    if i % 2:    # jeśli i jest nieparzyste\n",
    "        pass     # nie rób nic\n",
    "    else:        # w innej sytuacji drukuj\n",
    "        print(i, end=' ')"
   ]
  },
  {
   "cell_type": "markdown",
   "metadata": {
    "slideshow": {
     "slide_type": "subslide"
    }
   },
   "source": [
    "## *else*\n",
    "\n",
    "---"
   ]
  },
  {
   "cell_type": "code",
   "execution_count": 76,
   "metadata": {
    "slideshow": {
     "slide_type": "-"
    }
   },
   "outputs": [
    {
     "name": "stdout",
     "output_type": "stream",
     "text": [
      "0 1 2 3 4 Koniec pętli.\n"
     ]
    }
   ],
   "source": [
    "for i in range(10):\n",
    "    if i < 5: # drukuj mniejsze od 5\n",
    "        print(i, end=' ')\n",
    "    else:     # dla pozosyałych nie rób nic\n",
    "        pass\n",
    "else: # wykonaj po zakończeniu pętli\n",
    "    print(\"Koniec pętli.\")"
   ]
  },
  {
   "cell_type": "code",
   "execution_count": 77,
   "metadata": {
    "slideshow": {
     "slide_type": "-"
    }
   },
   "outputs": [
    {
     "name": "stdout",
     "output_type": "stream",
     "text": [
      "0 1 2 3 4 "
     ]
    }
   ],
   "source": [
    "for i in range(10):\n",
    "    if i < 5: # drukuj mniejsze od 5\n",
    "        print(i, end=' ')\n",
    "    else:     # przerwij pętlę\n",
    "        break\n",
    "else: # pętla nie doszła do końca przez break\n",
    "    print(\"Koniec pętli.\")"
   ]
  },
  {
   "cell_type": "markdown",
   "metadata": {
    "slideshow": {
     "slide_type": "subslide"
    }
   },
   "source": [
    "## Pamietacie o Underscore(_) ?\n",
    "\n",
    "### Pętla po _\n",
    "for _ in range(5):\n",
    "    print(_)\n",
    "\n",
    "### Pętla po _\n",
    "languages = [\"Python\", \"JS\", \"PHP\", \"Java\"]\n",
    "for _ in languages:\n",
    "    print(_)\n",
    "\n",
    "_ = 5\n",
    "while _ < 10:\n",
    "    print(_, end = ' ')\n",
    "    _ += 1"
   ]
  },
  {
   "cell_type": "code",
   "execution_count": 24,
   "metadata": {},
   "outputs": [
    {
     "name": "stdout",
     "output_type": "stream",
     "text": [
      "5 6 7 8 9 "
     ]
    }
   ],
   "source": [
    "_ = 5 \n",
    "while _ < 10: \n",
    "    print(_, end = ' ') \n",
    "    _ += 1"
   ]
  },
  {
   "cell_type": "markdown",
   "metadata": {
    "slideshow": {
     "slide_type": "slide"
    }
   },
   "source": [
    "## Formatowanie tekstu\n",
    "\n",
    "---"
   ]
  },
  {
   "cell_type": "code",
   "execution_count": 78,
   "metadata": {
    "slideshow": {
     "slide_type": "-"
    }
   },
   "outputs": [
    {
     "name": "stdout",
     "output_type": "stream",
     "text": [
      "Help on built-in function print in module builtins:\n",
      "\n",
      "print(...)\n",
      "    print(value, ..., sep=' ', end='\\n', file=sys.stdout, flush=False)\n",
      "    \n",
      "    Prints the values to a stream, or to sys.stdout by default.\n",
      "    Optional keyword arguments:\n",
      "    file:  a file-like object (stream); defaults to the current sys.stdout.\n",
      "    sep:   string inserted between values, default a space.\n",
      "    end:   string appended after the last value, default a newline.\n",
      "    flush: whether to forcibly flush the stream.\n",
      "\n"
     ]
    }
   ],
   "source": [
    "help(print)"
   ]
  },
  {
   "cell_type": "markdown",
   "metadata": {
    "slideshow": {
     "slide_type": "subslide"
    }
   },
   "source": [
    "## *print*\n",
    "\n",
    "---"
   ]
  },
  {
   "cell_type": "code",
   "execution_count": 79,
   "metadata": {
    "slideshow": {
     "slide_type": "-"
    }
   },
   "outputs": [
    {
     "name": "stdout",
     "output_type": "stream",
     "text": [
      "1 2 3\n"
     ]
    }
   ],
   "source": [
    "a, b, c = 1, 2, 3\n",
    "\n",
    "print(a, b, c) # domyślnym separatorem jest spacja"
   ]
  },
  {
   "cell_type": "code",
   "execution_count": 80,
   "metadata": {
    "slideshow": {
     "slide_type": "-"
    }
   },
   "outputs": [
    {
     "name": "stdout",
     "output_type": "stream",
     "text": [
      "1_2_3\n"
     ]
    }
   ],
   "source": [
    "print(a, b, c, sep='_') # ale można go zmiennić"
   ]
  },
  {
   "cell_type": "code",
   "execution_count": 81,
   "metadata": {
    "slideshow": {
     "slide_type": "-"
    }
   },
   "outputs": [
    {
     "name": "stdout",
     "output_type": "stream",
     "text": [
      "1...2...3 koniec"
     ]
    }
   ],
   "source": [
    "# domślnie print kończy sekwencję nową linią\n",
    "# ale można to zmienić\n",
    "print(a, b, c, sep=\"...\", end=\" koniec\")"
   ]
  },
  {
   "cell_type": "markdown",
   "metadata": {
    "slideshow": {
     "slide_type": "subslide"
    }
   },
   "source": [
    "## *format* - podstawy\n",
    "\n",
    "---"
   ]
  },
  {
   "cell_type": "code",
   "execution_count": 82,
   "metadata": {
    "slideshow": {
     "slide_type": "-"
    }
   },
   "outputs": [
    {
     "data": {
      "text/plain": [
       "'x jest równe 2'"
      ]
     },
     "execution_count": 82,
     "metadata": {},
     "output_type": "execute_result"
    }
   ],
   "source": [
    "x = 2\n",
    "\n",
    "\"x jest równe \" + str(x) # skuteczne, ale mało wygodne"
   ]
  },
  {
   "cell_type": "code",
   "execution_count": 83,
   "metadata": {
    "slideshow": {
     "slide_type": "-"
    }
   },
   "outputs": [
    {
     "data": {
      "text/plain": [
       "'x jest równe 2'"
      ]
     },
     "execution_count": 83,
     "metadata": {},
     "output_type": "execute_result"
    }
   ],
   "source": [
    "x = 2\n",
    "\n",
    "# klasa string ma metodę format\n",
    "\"x jest równe {}\".format(x)"
   ]
  },
  {
   "cell_type": "code",
   "execution_count": 84,
   "metadata": {
    "slideshow": {
     "slide_type": "-"
    }
   },
   "outputs": [
    {
     "data": {
      "text/plain": [
       "'x jest równe 2, a x**2 = 4'"
      ]
     },
     "execution_count": 84,
     "metadata": {},
     "output_type": "execute_result"
    }
   ],
   "source": [
    "# która w miejsce {} wstawia kolejne argumenty\n",
    "\"x jest równe {}, a x**2 = {}\".format(x, x**2)"
   ]
  },
  {
   "cell_type": "markdown",
   "metadata": {
    "slideshow": {
     "slide_type": "subslide"
    }
   },
   "source": [
    "## *format* - kolejność\n",
    "\n",
    "---"
   ]
  },
  {
   "cell_type": "code",
   "execution_count": 85,
   "metadata": {
    "slideshow": {
     "slide_type": "-"
    }
   },
   "outputs": [
    {
     "data": {
      "text/plain": [
       "'x, y, z = 2, 2.5, trzy'"
      ]
     },
     "execution_count": 85,
     "metadata": {},
     "output_type": "execute_result"
    }
   ],
   "source": [
    "x = 2\n",
    "y = 2.5\n",
    "z = \"trzy\"\n",
    "\n",
    "# domślnie pod {} wstawiane są kolejne argument format\n",
    "\"x, y, z = {}, {}, {}\".format(x, y, z)"
   ]
  },
  {
   "cell_type": "code",
   "execution_count": 86,
   "metadata": {
    "slideshow": {
     "slide_type": "-"
    }
   },
   "outputs": [
    {
     "data": {
      "text/plain": [
       "'x, y, z = trzy, 2, 2.5'"
      ]
     },
     "execution_count": 86,
     "metadata": {},
     "output_type": "execute_result"
    }
   ],
   "source": [
    "# ale kolejność można zmienić\n",
    "\"x, y, z = {2}, {0}, {1}\".format(x, y, z)"
   ]
  },
  {
   "cell_type": "markdown",
   "metadata": {
    "slideshow": {
     "slide_type": "subslide"
    }
   },
   "source": [
    "## *format* - deklaracja typu\n",
    "\n",
    "---"
   ]
  },
  {
   "cell_type": "code",
   "execution_count": 87,
   "metadata": {
    "slideshow": {
     "slide_type": "-"
    }
   },
   "outputs": [
    {
     "name": "stdout",
     "output_type": "stream",
     "text": [
      "x, y, z = 1234567890, 1234567890.1234567, Python\n"
     ]
    }
   ],
   "source": [
    "x = 1234567890\n",
    "y = 1234567890.1234567890\n",
    "z = \"Python\"\n",
    "\n",
    "# z reguły nie ma potrzeby jawnej deklaracji typu\n",
    "print(\"x, y, z = {}, {}, {}\".format(x, y, z))"
   ]
  },
  {
   "cell_type": "code",
   "execution_count": 88,
   "metadata": {
    "slideshow": {
     "slide_type": "-"
    }
   },
   "outputs": [
    {
     "name": "stdout",
     "output_type": "stream",
     "text": [
      "x, y, z = 1234567890, 1234567890.123457, Python\n"
     ]
    }
   ],
   "source": [
    "# ale można to zrobić\n",
    "# d - int; f - float; s - str\n",
    "print(\"x, y, z = {:d}, {:f}, {:s}\".format(x, y, z))"
   ]
  },
  {
   "cell_type": "code",
   "execution_count": 89,
   "metadata": {
    "slideshow": {
     "slide_type": "-"
    }
   },
   "outputs": [
    {
     "name": "stdout",
     "output_type": "stream",
     "text": [
      "x, y, z = 1234567890.000000, 1.234568e+09, Python\n"
     ]
    }
   ],
   "source": [
    "# e - wygodny format dla dużych liczb\n",
    "# XeY = X * 10^Y\n",
    "print(\"x, y, z = {:f}, {:e}, {}\".format(x, y, z))"
   ]
  },
  {
   "cell_type": "markdown",
   "metadata": {
    "slideshow": {
     "slide_type": "subslide"
    }
   },
   "source": [
    "## *format* - dokładność\n",
    "\n",
    "---"
   ]
  },
  {
   "cell_type": "code",
   "execution_count": 90,
   "metadata": {
    "slideshow": {
     "slide_type": "-"
    }
   },
   "outputs": [
    {
     "data": {
      "text/plain": [
       "'pi = 3.141592653589793'"
      ]
     },
     "execution_count": 90,
     "metadata": {},
     "output_type": "execute_result"
    }
   ],
   "source": [
    "from math import pi\n",
    "\n",
    "\"pi = {}\".format(pi)"
   ]
  },
  {
   "cell_type": "code",
   "execution_count": 91,
   "metadata": {
    "slideshow": {
     "slide_type": "-"
    }
   },
   "outputs": [
    {
     "data": {
      "text/plain": [
       "'pi =            3.14'"
      ]
     },
     "execution_count": 91,
     "metadata": {},
     "output_type": "execute_result"
    }
   ],
   "source": [
    "# ograniczamy się do dwóch liczb po przecinku\n",
    "\"pi = {:>15.2f}\".format(pi)"
   ]
  },
  {
   "cell_type": "code",
   "execution_count": 92,
   "metadata": {},
   "outputs": [
    {
     "data": {
      "text/plain": [
       "'pi =            3.14'"
      ]
     },
     "execution_count": 92,
     "metadata": {},
     "output_type": "execute_result"
    }
   ],
   "source": [
    "# {pi_v:<15} działa jak ljust; {pi_v:>15} działa jak rjust\n",
    "\"pi = {pi_v:>15.2f}\".format(pi_v = pi)"
   ]
  },
  {
   "cell_type": "code",
   "execution_count": 93,
   "metadata": {},
   "outputs": [
    {
     "name": "stdout",
     "output_type": "stream",
     "text": [
      "---3.14----\n",
      "\n"
     ]
    }
   ],
   "source": [
    "# [znak]^N -> centruj w szerokości N wypełniając [znakiem]\n",
    "print(\"{:-^11.2f}\".format(pi), end=\"\\n\\n\")"
   ]
  },
  {
   "cell_type": "code",
   "execution_count": 94,
   "metadata": {
    "slideshow": {
     "slide_type": "-"
    }
   },
   "outputs": [
    {
     "data": {
      "text/plain": [
       "'pi = 3.14159265358979311599796346854418516159057617187500'"
      ]
     },
     "execution_count": 94,
     "metadata": {},
     "output_type": "execute_result"
    }
   ],
   "source": [
    "# ograniczamy się do 50 liczb po przecinku\n",
    "# zwróć uwagę na zera na końcu\n",
    "\"pi = {:.50f}\".format(pi)"
   ]
  },
  {
   "cell_type": "markdown",
   "metadata": {
    "slideshow": {
     "slide_type": "subslide"
    }
   },
   "source": [
    "## *format*  - keyword arguments - tagowanie elementów\n",
    "\n",
    "---"
   ]
  },
  {
   "cell_type": "code",
   "execution_count": 95,
   "metadata": {
    "slideshow": {
     "slide_type": "-"
    }
   },
   "outputs": [
    {
     "data": {
      "text/plain": [
       "'Jan Nowak otrzymał 5'"
      ]
     },
     "execution_count": 95,
     "metadata": {},
     "output_type": "execute_result"
    }
   ],
   "source": [
    "# żeby się nie pogubić\n",
    "# warto \"tagować\" kolejne argumenty\n",
    "\"{student} otrzymał {ocena}\".format(student=\"Jan Nowak\", ocena=5)"
   ]
  },
  {
   "cell_type": "code",
   "execution_count": 96,
   "metadata": {
    "slideshow": {
     "slide_type": "-"
    }
   },
   "outputs": [
    {
     "data": {
      "text/plain": [
       "'Jan Nowak otrzymał 5'"
      ]
     },
     "execution_count": 96,
     "metadata": {},
     "output_type": "execute_result"
    }
   ],
   "source": [
    "# wtedy kolejność nie ma znaczenia\n",
    "\"{student} otrzymał {ocena}\".format(ocena=5, student=\"Jan Nowak\")"
   ]
  },
  {
   "cell_type": "code",
   "execution_count": 97,
   "metadata": {
    "slideshow": {
     "slide_type": "slide"
    }
   },
   "outputs": [
    {
     "name": "stdout",
     "output_type": "stream",
     "text": [
      "------------------OCENY-------------------\n",
      "\n",
      "1. Kasia: [3, 4, 5]       => srednia = 4.0\n",
      "2. Basia: []              => srednia = 0.0\n",
      "3. Marek: [5, 3]          => srednia = 4.0\n",
      "4. Józek: [3, 2, 2, 2, 2] => srednia = 2.2\n"
     ]
    }
   ],
   "source": [
    "# lista studentów\n",
    "studenci = [\"Kasia\", \"Basia\", \"Marek\", \"Józek\"]\n",
    "# każdy element odpowiada liście ocen danego studenta\n",
    "dziennik = [[3, 4, 5], [], [5, 3], [3, 2, 2, 2, 2]]\n",
    "\n",
    "# [znak]^N -> centruj w szerokości N wypełniając [znakiem]\n",
    "print(\"{:-^42}\".format(\"OCENY\"), end=\"\\n\\n\")\n",
    "\n",
    "# enumerate zwraca dwa obiekty: index i parę: (student, oceny)\n",
    "for i, (student, oceny) in enumerate(zip(studenci, dziennik)):\n",
    "    # policz średnią; chyba że brak ocen\n",
    "    if len(oceny):\n",
    "        srednia = sum(oceny) / len(oceny)\n",
    "    else:\n",
    "        srednia = 0\n",
    "\n",
    "    # {oceny:<15} działa jak ljust; {oceny:>15} działa jak rjust\n",
    "    print(\"{index}. {imie}: {oceny:<15} => srednia = {srednia:.1f}\"\n",
    "          .format(index=i+1,\n",
    "                  imie=student,\n",
    "                  oceny=str(oceny),\n",
    "                  srednia=srednia))"
   ]
  }
 ],
 "metadata": {
  "anaconda-cloud": {},
  "celltoolbar": "Slideshow",
  "kernelspec": {
   "display_name": "Python 3",
   "language": "python",
   "name": "python3"
  },
  "language_info": {
   "codemirror_mode": {
    "name": "ipython",
    "version": 3
   },
   "file_extension": ".py",
   "mimetype": "text/x-python",
   "name": "python",
   "nbconvert_exporter": "python",
   "pygments_lexer": "ipython3",
   "version": "3.7.6"
  }
 },
 "nbformat": 4,
 "nbformat_minor": 1
}
