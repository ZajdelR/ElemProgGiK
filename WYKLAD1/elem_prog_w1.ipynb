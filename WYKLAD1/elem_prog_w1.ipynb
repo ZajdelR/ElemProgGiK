{
 "cells": [
  {
   "cell_type": "markdown",
   "metadata": {
    "nbpresent": {
     "id": "40f70c9c-09df-4e99-b5fd-a7613178fdb7"
    },
    "slideshow": {
     "slide_type": "slide"
    }
   },
   "source": [
    "# Elementy Programowania - Python\n",
    "## Wykład 0"
   ]
  },
  {
   "cell_type": "markdown",
   "metadata": {
    "nbpresent": {
     "id": "9e80be75-c858-4702-90f5-ace3c0b5f277"
    },
    "slideshow": {
     "slide_type": "slide"
    }
   },
   "source": [
    "## Dane kontaktowe\n",
    "\n",
    "---\n",
    "\n",
    "* Radosław Zajdel\n",
    "* pokój: 328\n",
    "* email: <radoslaw.zajdel@uwr.edu.pl>\n",
    "* konsultacje: środa 10:30-12:00"
   ]
  },
  {
   "cell_type": "markdown",
   "metadata": {
    "slideshow": {
     "slide_type": "subslide"
    }
   },
   "source": [
    "## Konsultacje\n",
    "\n",
    "<a href=\"http://www.aqua.up.wroc.pl/planner/grafiki.php?name=radoslaw.zajdel\" target=\"_blank\">-----> Konsultacje <-------</a>"
   ]
  },
  {
   "cell_type": "markdown",
   "metadata": {
    "slideshow": {
     "slide_type": "subslide"
    }
   },
   "source": [
    "## Jaki jest cel tego kursu?\n",
    "\n",
    "Moim zadaniem jest przekazać podstawową wiedze z zakresu podstaw programowania w języku Python\n",
    "\n",
    "Po ukończeniu kursu, każdy powinien poczuć się pewnie w:\n",
    "* pisaniu skryptów, \n",
    "* prostych programów \n",
    "* automatyzacji zadań w codziennej obróbce danych z wykorzystaniem języka Python"
   ]
  },
  {
   "cell_type": "markdown",
   "metadata": {},
   "source": [
    "## Dlaczego Python\n",
    "\n",
    "* Jest bardzo prosty w nauce, a pierwszy program można napisać w pierszych minutach nauki\n",
    "* Prostota Python'a przełożyła się również na jego olbrzymia popularność\n",
    "* Zapotrzebowanie na \"programistów\" nie ogranicza się wyłącznie do \"branży IT\", ale aktualnie jest porządany w każdej dziedzinie zawodowej"
   ]
  },
  {
   "cell_type": "markdown",
   "metadata": {
    "nbpresent": {
     "id": "dfd71d91-0b43-4e32-a309-ed73907456ac"
    },
    "slideshow": {
     "slide_type": "subslide"
    }
   },
   "source": [
    "## Program\n",
    "\n",
    "---\n",
    "\n",
    "* wprowadzenie\n",
    "* podstawowe typy danych i operatory\n",
    "* wyrażenia warunkowe i pętle\n",
    "* funkcje i moduły\n",
    "* struktury danych\n",
    "* klasy i obiekty\n",
    "* operacje wejścia/wyjścia\n",
    "* obsługa wyjątków\n",
    "\n",
    "---\n",
    "\n",
    "* obliczenia numeryczne\n",
    "* debugowanie\n",
    "* dekoratory, funkcje lambda, generatory\n",
    "* tworzenie prostych wykresów"
   ]
  },
  {
   "cell_type": "markdown",
   "metadata": {
    "nbpresent": {
     "id": "c757e67b-d7f6-4ec1-ae2b-ee5078705a9b"
    },
    "slideshow": {
     "slide_type": "subslide"
    }
   },
   "source": [
    "## Materiały do wykładów\n",
    "\n",
    "---\n",
    "\n",
    "* dokumentacja: https://www.python.org/\n",
    "\n",
    "---\n",
    "\n",
    "* A. B. Downey, J. Elkner, C. Meyers, “Think Python. How to Think Like a Computer Scientist”: http://www.greenteapress.com/thinkpython/\n",
    "* M. Pilgrim, “Dive into Python”: http://www.diveintopython.net/\n",
    "* Swaroop CH \"A Byte of Python\": https://python.swaroopch.com/ (tłumaczenie: http://python.edu.pl/byteofpython/)\n",
    "* Google\n",
    "* Stackoverflow\n",
    "* Udemy"
   ]
  },
  {
   "cell_type": "markdown",
   "metadata": {
    "nbpresent": {
     "id": "15d307a9-41dd-4042-93f5-869daf20f14b"
    },
    "slideshow": {
     "slide_type": "subslide"
    }
   },
   "source": [
    "## Zaliczenie\n",
    "\n",
    "---\n",
    "\n",
    "* ćwiczenia: listy zadań\n",
    "* wykład: praktyczne kolokwium zaliczeniowe"
   ]
  },
  {
   "cell_type": "markdown",
   "metadata": {
    "nbpresent": {
     "id": "fd287f8f-7775-433b-997a-d178455a3add"
    },
    "slideshow": {
     "slide_type": "subslide"
    }
   },
   "source": [
    "## Python\n",
    "\n",
    "---\n",
    "\n",
    "> Python is powerful... and fast;\n",
    "> plays well with others;\n",
    "> runs everywhere;\n",
    "> is friendly & easy to learn;\n",
    "> is Open.\n",
    "\n",
    "---\n",
    "\n",
    "Python jest klasyfikowany jako skryptowy język wysokiego poziomu i jest umiejscawiany przy językach t.jk. Perl, Tcl, Ruby. \n",
    "\n",
    "* otwarte oprogramowanie (*open source*)\n",
    "* przenośny\n",
    "    * Linux, Mac OS\n",
    "    * Windows - instalator ze strony https://www.python.org\n",
    "    * Anaconda - https://www.continuum.io/\n",
    "* zwięzły i elegancki (prawie jak pseudokod)\n",
    "* automatyczne zarządzanie pamięcią (*garbage collection*)\n",
    "* bogata bilbioteka standardowa i niezliczona ilość bibliotek zewnętrznych\n",
    "* struktury wysokiego poziomu"
   ]
  },
  {
   "cell_type": "code",
   "execution_count": 2,
   "metadata": {
    "nbpresent": {
     "id": "30ef332f-7a3b-43ed-8b15-194c49ac5d54"
    },
    "slideshow": {
     "slide_type": "subslide"
    }
   },
   "outputs": [
    {
     "name": "stdout",
     "output_type": "stream",
     "text": [
      "The Zen of Python, by Tim Peters\n",
      "\n",
      "Beautiful is better than ugly.\n",
      "Explicit is better than implicit.\n",
      "Simple is better than complex.\n",
      "Complex is better than complicated.\n",
      "Flat is better than nested.\n",
      "Sparse is better than dense.\n",
      "Readability counts.\n",
      "Special cases aren't special enough to break the rules.\n",
      "Although practicality beats purity.\n",
      "Errors should never pass silently.\n",
      "Unless explicitly silenced.\n",
      "In the face of ambiguity, refuse the temptation to guess.\n",
      "There should be one-- and preferably only one --obvious way to do it.\n",
      "Although that way may not be obvious at first unless you're Dutch.\n",
      "Now is better than never.\n",
      "Although never is often better than *right* now.\n",
      "If the implementation is hard to explain, it's a bad idea.\n",
      "If the implementation is easy to explain, it may be a good idea.\n",
      "Namespaces are one honking great idea -- let's do more of those!\n"
     ]
    }
   ],
   "source": [
    "import this"
   ]
  },
  {
   "cell_type": "markdown",
   "metadata": {
    "nbpresent": {
     "id": "70f4259d-d5ff-4e7b-9856-97ea384c0487"
    },
    "slideshow": {
     "slide_type": "subslide"
    }
   },
   "source": [
    "## Hello World!\n",
    "\n",
    "---\n",
    "\n",
    "```py\n",
    "# Python\n",
    "print(\"Hello World!\")\n",
    "```\n",
    "\n",
    "---\n",
    "\n",
    "```cpp\n",
    "// C++\n",
    "#include <iostream>\n",
    "\n",
    "int main()\n",
    "{\n",
    "    std::cout << \"Hello World!\";\n",
    "}\n",
    "```\n",
    "\n",
    "---\n",
    "\n",
    "\n",
    "```java\n",
    "// Java\n",
    "public class Hello {\n",
    "    public static void main(String []args) {\n",
    "        System.out.println(\"Hello World!\");\n",
    "    }\n",
    "}\n",
    "```"
   ]
  },
  {
   "cell_type": "markdown",
   "metadata": {
    "nbpresent": {
     "id": "c5c1be82-7980-43b9-816c-5fbe8dd0b4fe"
    },
    "slideshow": {
     "slide_type": "subslide"
    }
   },
   "source": [
    "## Zastosowanie\n",
    "\n",
    "---\n",
    "\n",
    "* internet: Yahoo, Google, ...\n",
    "* gry: Battlefield, Civilization, ...\n",
    "* grafika: Walt Disney, Blender 3D, ...\n",
    "* finanse: Altis Investment Management, Bellco Credit Union, ...\n",
    "* nauka: NASA, Los Alamos National Laboratory, ...\n",
    "* interfejs programistyczny aplikacji (*Application Programming Interface = API*): tensorflow (Google's machine learning), Amazon, Facebook, Youtube, ..."
   ]
  },
  {
   "cell_type": "markdown",
   "metadata": {
    "slideshow": {
     "slide_type": "subslide"
    }
   },
   "source": [
    "## Python 2 vs Python 3\n",
    "\n",
    "---\n",
    "\n",
    "* *Short version: Python 2.x is legacy, Python 3.x is the present and future of the language* (https://wiki.python.org/moin/Python2orPython3)\n",
    "* Python 3 jest gotowy, jednak nie wszystkie zewnętrzne biblioteki są już z nim kompatybilne"
   ]
  },
  {
   "cell_type": "markdown",
   "metadata": {
    "slideshow": {
     "slide_type": "subslide"
    }
   },
   "source": [
    "## Python 2 vs Python 3\n",
    "\n",
    "---\n",
    "\n",
    "* Niektóre zmiany są kosmetyczne\n",
    "\n",
    "```py\n",
    "# Python 2\n",
    "\n",
    "print \"Hello World!\"\n",
    "\n",
    "# Python 3\n",
    "\n",
    "print(\"Hello World!\")\n",
    "```"
   ]
  },
  {
   "cell_type": "markdown",
   "metadata": {
    "slideshow": {
     "slide_type": "subslide"
    }
   },
   "source": [
    "## Python 2 vs Python 3\n",
    "\n",
    "---\n",
    "\n",
    "* Niektóre niebezpieczne\n",
    "\n",
    "```py\n",
    "# Python 2\n",
    "\n",
    "3 / 2.0 # = 1.5\n",
    "3 / 2   # = 1\n",
    "\n",
    "# Python 3\n",
    "\n",
    "3 / 2.0 # = 1.5\n",
    "3 / 2   # = 1.5\n",
    "3 // 2  # = 1\n",
    "```"
   ]
  },
  {
   "cell_type": "markdown",
   "metadata": {
    "slideshow": {
     "slide_type": "subslide"
    }
   },
   "source": [
    "## Python 2 vs Python 3\n",
    "\n",
    "---\n",
    "\n",
    "* A niektóre gruntowne: iteratory\n",
    "* Niektóre elementy Pythona 3 można zaimportować w Pythonie 2\n",
    "\n",
    "```\n",
    "Python 2.7.12 (default, Jul  1 2016, 15:12:24) \n",
    "[GCC 5.4.0 20160609] on linux2\n",
    "Type \"help\", \"copyright\", \"credits\" or \"license\" for more information.\n",
    ">>> 3 / 2\n",
    "1\n",
    ">>> from __future__ import division\n",
    ">>> 3 / 2\n",
    "1.5\n",
    ">>> \n",
    "```\n",
    "\n",
    "* Więcej informacji: https://wiki.python.org/moin/Python2orPython3\n",
    "\n",
    "* Na wykładzie omawiany będzie Python 3"
   ]
  },
  {
   "cell_type": "markdown",
   "metadata": {
    "nbpresent": {
     "id": "de8bed10-4f1b-43ac-9e03-16c52b400b22"
    },
    "slideshow": {
     "slide_type": "subslide"
    }
   },
   "source": [
    "## Tryb interaktywny\n",
    "\n",
    "---\n",
    "\n",
    "```\n",
    "$ python\n",
    "Python 3.5.2 |Anaconda custom (64-bit)| (default, Jul  2 2016, 17:53:06) \n",
    "[GCC 4.4.7 20120313 (Red Hat 4.4.7-1)] on linux\n",
    "Type \"help\", \"copyright\", \"credits\" or \"license\" for more information.\n",
    ">>> oceny_upwr = {2.0: \"niedostateczny\", 3.0: \"dostateczny\",\n",
    "...              3.5: \"dostateczny plus\", 4.0: \"dobry\",\n",
    "...              4.5: \"dobry plus\", 5.0: \"bardzo dobry\"}\n",
    ">>> for ocena in sorted(oceny_uwr, reverse=True):\n",
    "...     print(ocena, oceny_uwr[ocena])\n",
    "... \n",
    "5.0 bardzo dobry\n",
    "4.5 dobry plus\n",
    "4.0 dobry\n",
    "3.5 dostateczny plus\n",
    "3.0 dostateczny\n",
    "2.0 niedostateczny\n",
    ">>> \n",
    "```"
   ]
  },
  {
   "cell_type": "markdown",
   "metadata": {
    "slideshow": {
     "slide_type": "subslide"
    }
   },
   "source": [
    "## Tryb skryptowy\n",
    "\n",
    "---\n",
    "\n",
    "```\n",
    "$ echo skala_ocen.py \n",
    "#!/usr/bin/env python\n",
    "\n",
    "oceny_upwr = {2.0: \"niedostateczny\", 3.0: \"dostateczny\",\n",
    "             3.5: \"dostateczny plus\", 4.0: \"dobry\",\n",
    "             4.5: \"dobry plus\", 5.0: \"bardzo dobry\"}\n",
    "\n",
    "for ocena in sorted(oceny_uwr, reverse=True):\n",
    "    print(ocena, oceny_upwr[ocena])\n",
    "    \n",
    "$ python skala_ocen.py \n",
    "5.0 bardzo dobry\n",
    "4.5 dobry plus\n",
    "4.0 dobry\n",
    "3.5 dostateczny plus\n",
    "3.0 dostateczny\n",
    "2.0 niedostateczny\n",
    "```"
   ]
  },
  {
   "cell_type": "markdown",
   "metadata": {
    "slideshow": {
     "slide_type": "slide"
    }
   },
   "source": [
    "## Jak pisać swój kod\n",
    "\n",
    "Pracując nad analizą danych, tworzeniem skryptów czy programów, potrzebujemy narzędzi, które pozwolą nam swobodnie posługiwać się danym językiem, sprawnie operować zmiennymi i procesem, zwizualizować dane itd. \n",
    "\n",
    "Skrypt możemy napisać w najprostszym edytorze tekstu t.jk. notatnik czy Notepad++\n",
    "\n",
    "Istnieją notomiast aplikacje dedykowane do pracy z kodem - tzw. IDE "
   ]
  },
  {
   "cell_type": "markdown",
   "metadata": {
    "slideshow": {
     "slide_type": "subslide"
    }
   },
   "source": [
    "## Jupyter\n",
    "\n",
    "---\n",
    "\n",
    "Jupyter notebook to bardzo lekki i webowy edytor kodu. Pozwala na tworzenie interaktywnych arkuszy mogących zawierać kod wykonywalny, opisy, tabele, wykresy i wiele innych danych, które służyć mogą nam między innymi do prezentacji wyników naszych prac. <-- Te wykłady tworzone sa w oprogramowaniu Jupyter Notebook\n",
    "\n",
    "Jupyter Notebook pozwala na wykonywanie fragmentów kodu w komórkach notatnika oraz zapisanie wyników obliczeń czy wizualizacji danych. Dzięki temu całość znajduje się w jednym pliku i możemy łatwo prześledzić cały proces. <-- Zachęcam do używania Jupytera do wykonywania ćwiczeń i list zadań."
   ]
  },
  {
   "cell_type": "code",
   "execution_count": 4,
   "metadata": {
    "slideshow": {
     "slide_type": "subslide"
    }
   },
   "outputs": [
    {
     "data": {
      "text/html": [
       "<img src=\"https://linuxhint.com/wp-content/uploads/2020/04/1-10.jpg\"/>"
      ],
      "text/plain": [
       "<IPython.core.display.Image object>"
      ]
     },
     "execution_count": 4,
     "metadata": {},
     "output_type": "execute_result"
    }
   ],
   "source": [
    "Image(url='https://linuxhint.com/wp-content/uploads/2020/04/1-10.jpg')"
   ]
  },
  {
   "cell_type": "markdown",
   "metadata": {
    "slideshow": {
     "slide_type": "subslide"
    }
   },
   "source": [
    "## PyCharm\n",
    "\n",
    "---\n",
    "\n",
    "Pycharm jest zupełnie inną kategorią wagową niż Jupyter. Jest to bardzo rozbudowane środowisko pracy, które posiada olbrzymią ilość funkcji oraz ułatwień programistycznych.\n",
    "\n",
    "Dostępny jest w wersji darmowej PyCharm community oraz płatnej. Tak długo jak nie zarabiamy na programowaniu, nie ma oczywiście potrzeby wydawania złotówki na IDE. Darmowa wersja jest wystarczająco potężna.\n",
    "\n",
    "PyCharm świetnie nadaje się do większych projektów programistycznych, takich jak np. tworzenie portali internetowych. Z drugiej strony nie jest to IDE które używamy przy analizie danych.\n",
    "\n",
    "Instalacja PyCharm:\n",
    "\n",
    "https://www.jetbrains.com/pycharm/download/#section=windows"
   ]
  },
  {
   "cell_type": "code",
   "execution_count": 5,
   "metadata": {
    "slideshow": {
     "slide_type": "subslide"
    }
   },
   "outputs": [
    {
     "data": {
      "text/html": [
       "<img src=\"https://origin2.cdn.componentsource.com/sites/default/files/styles/image_large/public/images/product_description/jetbrains/pycharm/img_484761.png?itok=fzUvDh7R\"/>"
      ],
      "text/plain": [
       "<IPython.core.display.Image object>"
      ]
     },
     "execution_count": 5,
     "metadata": {},
     "output_type": "execute_result"
    }
   ],
   "source": [
    "Image(url=\"https://origin2.cdn.componentsource.com/sites/default/files/styles/image_large/public/images/product_description/jetbrains/pycharm/img_484761.png?itok=fzUvDh7R\")"
   ]
  },
  {
   "cell_type": "markdown",
   "metadata": {
    "slideshow": {
     "slide_type": "subslide"
    }
   },
   "source": [
    "## Spyder\n",
    "\n",
    "---\n",
    "\n",
    "Spyder to klasyczne środowisko programistyczne, swoją budową i działaniem mocno wzorowane na RStudio, flagowym narzędziu programistów R. \n",
    "\n",
    "Posiada sporo opcji konfiguracyjnych (np. predefiniowany wygląd przypominający Matlaba itp.), dzięki czemu odnajdą się w nim osoby posiadające doświadczenie z innymi językami programowania. "
   ]
  },
  {
   "cell_type": "code",
   "execution_count": 6,
   "metadata": {
    "scrolled": true,
    "slideshow": {
     "slide_type": "subslide"
    }
   },
   "outputs": [
    {
     "data": {
      "text/html": [
       "<img src=\"https://opensource.com/sites/default/files/pictures/python-ide-spyder.jpg\"/>"
      ],
      "text/plain": [
       "<IPython.core.display.Image object>"
      ]
     },
     "execution_count": 6,
     "metadata": {},
     "output_type": "execute_result"
    }
   ],
   "source": [
    "Image(url=\"https://opensource.com/sites/default/files/pictures/python-ide-spyder.jpg\")"
   ]
  },
  {
   "cell_type": "markdown",
   "metadata": {
    "slideshow": {
     "slide_type": "subslide"
    }
   },
   "source": [
    "## Co wybrać\n",
    "\n",
    "* Sumarycznie wybór IDE jest kwestią gustu\n",
    "* W ramach ćwiczeń rekomenduje Jupyter Notebook\n",
    "* Osobiście, na codzień używam Spyder'a\n",
    "* PyCharma nie otwierałem od kilku lat, ale gdy pisałem strony internetowe w Pythonie, potrzebowałem kontroli wersji itp. to było to idealne narzędzie"
   ]
  },
  {
   "cell_type": "markdown",
   "metadata": {
    "slideshow": {
     "slide_type": "slide"
    }
   },
   "source": [
    "## Mój komputer nie rozumie Pythona\n",
    "\n",
    "---\n",
    "\n",
    "Python jest językiem programowania. Aby język ten stał się zrozumiały dla naszego komputera, musimy zainstalować \"translator\" (rdzeń języka). \n",
    "\n",
    "Instalator Pythona można ściągnąć z oficjalnej strony: https://www.python.org/downloads/\n",
    "\n",
    "... ale propouje wykorzystać oprogramowanie Anaconda"
   ]
  },
  {
   "cell_type": "markdown",
   "metadata": {
    "slideshow": {
     "slide_type": "subslide"
    }
   },
   "source": [
    "### Anaconda\n",
    "\n",
    "Rdzeń języka plus standardowe biblioteki stanowi zaledwie małą część tego co do tej pory zdołała utworzyć społeczność Pythona. Anaconda to dystrybucja Pythona zawierająca ważne biblioteki nienależące do standardu wraz z mechanizmem conda umożliwiającym instalację kolejnych.\n",
    "\n",
    "Instalacja Anacondy: https://www.anaconda.com/products/individual\n",
    "Rekomenduje zaisntalowanie najnowszej wersji: 3.x\n",
    "\n",
    "Składnikami Anacondy so m.in.:\n",
    "* doskonały edytor/notatnik Jupyter pozwalający na znacznie bardziej \"eksperymentalny\" tryb pracy niż typowe środowiska programistyczne\n",
    "* IDE Spyder, które rekomenduje do przyszłych projektów i pracy\n",
    "* Wszystkie biblioteki jakich będziemy wymagali na zajęciach"
   ]
  },
  {
   "cell_type": "markdown",
   "metadata": {
    "slideshow": {
     "slide_type": "subslide"
    }
   },
   "source": [
    "(Ja korzystam z Anacondy, więc jeżeli u mnie działa to znaczy, że u Was też bedzie)\n",
    "... Jeżeli, ktoś chciałby podąrzyć inną drogą, nie bronię ale też nie rozumiem czemu."
   ]
  },
  {
   "cell_type": "markdown",
   "metadata": {
    "slideshow": {
     "slide_type": "subslide"
    }
   },
   "source": [
    "Instalacja pakietów w Anacondzie (przykład):\n",
    "\n",
    "Komenda\n",
    "* conda install biopython\n",
    "zainstaluje pakiet biopython. Komendę tę należy wykonać w oknie Anaconda Prompt (w MS Windows) lub w terminalu (Linux)."
   ]
  },
  {
   "cell_type": "markdown",
   "metadata": {
    "slideshow": {
     "slide_type": "slide"
    }
   },
   "source": [
    "## Zapoznanie z Jupyterem"
   ]
  },
  {
   "cell_type": "code",
   "execution_count": 3,
   "metadata": {},
   "outputs": [
    {
     "data": {
      "text/html": [
       "<img src=\"https://wchmurze.cloud/wp-content/uploads/2018/08/jupiter_new_notepad4.png\"/>"
      ],
      "text/plain": [
       "<IPython.core.display.Image object>"
      ]
     },
     "execution_count": 3,
     "metadata": {},
     "output_type": "execute_result"
    }
   ],
   "source": [
    "Image(url= \"https://wchmurze.cloud/wp-content/uploads/2018/08/jupiter_new_notepad4.png\")"
   ]
  },
  {
   "cell_type": "markdown",
   "metadata": {
    "slideshow": {
     "slide_type": "subslide"
    }
   },
   "source": [
    "## Interpretery online\n",
    "\n",
    "Możesz uruchomić kod Pythona w jednym z interpreterów online. Ogranicz jednak użyteczność tego rozwiazania do prostych przykładów. \n",
    "\n",
    "* http://www.pythontutor.com/\n",
    "* https://wandbox.org/\n",
    "* https://ideone.com\n",
    "* http://codepad.org"
   ]
  },
  {
   "cell_type": "markdown",
   "metadata": {
    "nbpresent": {
     "id": "6704c308-4b74-4c21-861c-d60cf3e276d4"
    },
    "slideshow": {
     "slide_type": "slide"
    }
   },
   "source": [
    "## Czytelność kodu\n",
    "\n",
    "---\n",
    "\n",
    "* przejrzysty kod\n",
    "* zrozumiałe nazwy zmiennych\n",
    "* komentarzy nigdy za wiele\n",
    "* dzielenie linii nie boli\n",
    "* konsekwencja w konwencji\n",
    "* najlepiej trzymać się standardu PEP 8: https://www.python.org/dev/peps/pep-0008/\n",
    "* ale bez przesady - przede wszystkim kod ma być czytelny"
   ]
  },
  {
   "cell_type": "markdown",
   "metadata": {
    "slideshow": {
     "slide_type": "subslide"
    }
   },
   "source": [
    "## Wcięcia\n",
    "\n",
    "---\n",
    "* Każdy nowy poziom kodu powinien być od siebie oddzielony przez 4 spacje \n",
    "* Tabulatory nie są zakazane ale należy używać ich konsystentnie w strukturze kodu\n",
    "* Python 3 - Zabrania naprzemiennego wykorzystania spacji i tabulatorów i wyrzuca błędy podczas uruchomienia kodu"
   ]
  },
  {
   "cell_type": "code",
   "execution_count": 9,
   "metadata": {
    "scrolled": true
   },
   "outputs": [
    {
     "ename": "TabError",
     "evalue": "inconsistent use of tabs and spaces in indentation (<ipython-input-9-95738e43de5b>, line 3)",
     "output_type": "error",
     "traceback": [
      "\u001b[1;36m  File \u001b[1;32m\"<ipython-input-9-95738e43de5b>\"\u001b[1;36m, line \u001b[1;32m3\u001b[0m\n\u001b[1;33m    print(i**2)\u001b[0m\n\u001b[1;37m               ^\u001b[0m\n\u001b[1;31mTabError\u001b[0m\u001b[1;31m:\u001b[0m inconsistent use of tabs and spaces in indentation\n"
     ]
    }
   ],
   "source": [
    "for i in range(3):\n",
    "    print(i)\n",
    "\tprint(i**2)"
   ]
  },
  {
   "cell_type": "markdown",
   "metadata": {},
   "source": [
    "```\n",
    "# Wyrównanie do otwierającego nawiasu\n",
    "foo = long_function_name(var_one, var_two,\n",
    "                         var_three, var_four)\n",
    "\n",
    "# Dodaj dodatkowe wciecie \n",
    "def long_function_name(\n",
    "        var_one, var_two, var_three,\n",
    "        var_four):\n",
    "    print(var_one)\n",
    "```"
   ]
  },
  {
   "cell_type": "markdown",
   "metadata": {
    "nbpresent": {
     "id": "6704c308-4b74-4c21-861c-d60cf3e276d4"
    },
    "slideshow": {
     "slide_type": "subslide"
    }
   },
   "source": [
    "## Czytelność kodu\n",
    "\n",
    "---\n",
    "\n",
    "* przejrzysty kod\n",
    "* zrozumiałe nazwy zmiennych\n",
    "* komentarzy nigdy za wiele\n",
    "* dzielenie linii nie boli\n",
    "* konsekwencja w konwencji\n",
    "* najlepiej trzymać się standardu PEP 8: https://www.python.org/dev/peps/pep-0008/\n",
    "* ale bez przesady - przede wszystkim kod ma być czytelny"
   ]
  },
  {
   "cell_type": "markdown",
   "metadata": {
    "slideshow": {
     "slide_type": "subslide"
    }
   },
   "source": [
    "## Wcięcia\n",
    "\n",
    "---\n",
    "* Każdy nowy poziom kodu powinien być od siebie oddzielony przez 4 spacje \n",
    "* Tabulatory nie są zakazane ale należy używać ich konsystentnie w strukturze kodu\n",
    "* Python 3 - Zabrania naprzemiennego wykorzystania spacji i tabulatorów i wyrzuca błędy podczas uruchomienia kodu"
   ]
  },
  {
   "cell_type": "markdown",
   "metadata": {},
   "source": [
    "```\n",
    "# Nie używaj zerowej lini argumentów\n",
    "foo = long_function_name(var_one, var_two,\n",
    "    var_three, var_four)\n",
    "\n",
    "# Nie wstawiaj argumentów i kody zawartego w funkcji z takim samym wcieciem\n",
    "def long_function_name(\n",
    "    var_one, var_two, var_three,\n",
    "    var_four):\n",
    "    print(var_one)\n",
    "```"
   ]
  },
  {
   "cell_type": "markdown",
   "metadata": {
    "slideshow": {
     "slide_type": "subslide"
    }
   },
   "source": [
    "## Długość kodu\n",
    "\n",
    "\n",
    "* Ogranicz każdą linijkę do 79 znaków\n",
    "* Jeśli wykraczasz po za tę liczbę znaków użyj \"\\\\\" i przejdz do kolejnej lini"
   ]
  },
  {
   "cell_type": "markdown",
   "metadata": {},
   "source": [
    "```\n",
    "with open('/path/to/some/file/you/want/to/read') as file_1, \\\n",
    "     open('/path/to/some/file/being/written', 'w') as file_2:\n",
    "    file_2.write(file_1.read())\n",
    "```"
   ]
  },
  {
   "cell_type": "markdown",
   "metadata": {
    "slideshow": {
     "slide_type": "subslide"
    }
   },
   "source": [
    "## Puste linie\n",
    "\n",
    "* Otaczaj najważniejsze funkcje oraz definicje klas dwoma pustymi liniami\n",
    "* Wewnątrz klasy używaj pojedynczych pustych lini w celu rozdzielenia segmentów kodu\n",
    "* Dodatkowe puste linie mogą służyć do oddzielenia grupy powiązanych tematycznie funkcji.\n",
    "* Można pominąć puste linie przy grupie jednolinijkowych prostych fragmentów kodu \n",
    "* wewnątrz funkcji używaj pustych lini, aby oddzielić ligiczne części od siebie"
   ]
  },
  {
   "cell_type": "markdown",
   "metadata": {},
   "source": [
    "## Importy\n",
    "\n",
    "```\n",
    "# Correct:\n",
    "import os\n",
    "import sys\n",
    "\n",
    "from subprocesses import blabla, blabla2\n",
    "```\n",
    "\n",
    "```\n",
    "# Incorrect\n",
    "import os, sys\n",
    "```"
   ]
  },
  {
   "cell_type": "markdown",
   "metadata": {},
   "source": [
    "## Białe znaki"
   ]
  },
  {
   "cell_type": "markdown",
   "metadata": {},
   "source": [
    "``` \n",
    "---- Unikaj spacji wewnątrz nawiasu\n",
    "\n",
    "# Correct:\n",
    "spam(ham[1], {eggs: 2})\n",
    "\n",
    "# Wrong:\n",
    "spam( ham[ 1 ], { eggs: 2 } )\n",
    "\n",
    "---- Spacje po , ; :\n",
    "\n",
    "# Correct:\n",
    "if x == 4: print x, y; x, y = y, x\n",
    "\n",
    "# Wrong:\n",
    "if x == 4 : print x , y ; x , y = y , x\n",
    "\n",
    "---- Argumenty funkcji\n",
    "\n",
    "# Correct:\n",
    "spam(1)\n",
    "dict[1]\n",
    "\n",
    "# Incorrect:\n",
    "spam (1)\n",
    "dict [1]\n",
    "\n",
    "---- Pojedyncze spacje\n",
    "\n",
    "# Correct:\n",
    "x = 1\n",
    "y = 2\n",
    "long_variable = 3\n",
    "\n",
    "# Incorrect\n",
    "x             = 1\n",
    "y             = 2\n",
    "long_variable = 3\n",
    "\n",
    "---- Pierwszeństwo działać\n",
    "\n",
    "# Correct:\n",
    "i = i + 1\n",
    "submitted += 1\n",
    "x = x*2 - 1\n",
    "hypot2 = x*x + y*y\n",
    "c = (a+b) * (a-b)\n",
    "\n",
    "# Wrong:\n",
    "i=i+1\n",
    "submitted +=1\n",
    "x = x * 2 - 1\n",
    "hypot2 = x * x + y * y\n",
    "c = (a + b) * (a - b)\n",
    "\n",
    "\n",
    "```\n",
    "\n"
   ]
  },
  {
   "cell_type": "markdown",
   "metadata": {},
   "source": [
    "# Inne"
   ]
  },
  {
   "cell_type": "markdown",
   "metadata": {},
   "source": [
    "```\n",
    "\n",
    "# Correct:\n",
    "if foo == 'blah':\n",
    "    do_blah_thing()\n",
    "do_one()\n",
    "do_two()\n",
    "do_three()\n",
    "\n",
    "# Wrong:\n",
    "if foo == 'blah': do_blah_thing()\n",
    "do_one(); do_two(); do_three()\n",
    "\n",
    "```"
   ]
  },
  {
   "cell_type": "markdown",
   "metadata": {},
   "source": [
    "# Komentarze\n",
    "\n",
    "* Komentarze które zaburzają klarowność kodu są gorsze niż brak komentarzy\n",
    "* Uzywaj pełnych zdań gdy komentujesz kod\n",
    "* Upewnij się, że twój komentarz jest zrozumiały dla każdego, któ kiedykolwiek miałby przeczytać kod\n",
    "* Uzywaj języka angielskiego\n",
    "\n",
    "## Komentarze blokowe\n",
    "\n",
    "Wplatane za pomocą znaku \"#\" na tym samym poziomie, do którego się odnoszą np:\n",
    "```\n",
    "# przez lenistwo prowadzącego oceny wystawiane losowo\n",
    "for student in lista_studentow:\n",
    "    # losowa ocena\n",
    "    ocena = random.choice(list(oceny_uwr))\n",
    "    # przypisanie oceny\n",
    "    print(student, \" -> \", oceny_uwr[ocena])\n",
    "```\n",
    "\n",
    "## Komentarze w tej samej linii co kod\n",
    "\n",
    "Raczej unikamy\n",
    "```\n",
    "x = x + 1                 # Increment x\n",
    "```\n",
    "... chyba, że mają coś wnieść, wtedy nikt Ci tego nie zabroni\n",
    "\n",
    "## Dokumentowanie funkcji/modułów\n",
    "\n",
    "```\n",
    "\"\"\"Return a foobang\n",
    "\n",
    "Optional plotz says to frobnicate the bizbaz first.\n",
    "\"\"\"\n",
    "```"
   ]
  },
  {
   "cell_type": "markdown",
   "metadata": {},
   "source": [
    "# Nazewnictwo\n",
    "\n",
    "Istnieje kilka najbardziej powszechnych styli nazewnictwa zmiennych i funkcji\n",
    "\n",
    "* b (single lowercase letter)\n",
    "* B (single uppercase letter)\n",
    "* lowercase\n",
    "* lower_case_with_underscores\n",
    "* UPPERCASE\n",
    "* UPPER_CASE_WITH_UNDERSCORES\n",
    "* CapitalizedWords (or CapWords, or CamelCase -- so named because of the bumpy look of its letters [4]). This is also sometimes known as StudlyCaps.\n",
    "Note: When using acronyms in CapWords, capitalize all the letters of the acronym. Thus HTTPServerError is better than HttpServerError.\n",
    "* mixedCase (differs from CapitalizedWords by initial lowercase character!)\n",
    "* Capitalized_Words_With_Underscores (ugly!)"
   ]
  },
  {
   "cell_type": "markdown",
   "metadata": {},
   "source": [
    "### Unikamy\n",
    "Nie używaj liter 'l' (lowercase letter el), 'O' (uppercase letter oh), oraz 'I' (uppercase letter eye) jako nazwy zmiennych\n",
    "\n",
    "Te znaki są praktycznie nierozróżnialne w wielu fontach\n",
    "\n",
    "### Kompatybilność ASCI\n",
    "Nie używaj polskich znaków !\n",
    "\n",
    "### Nazwy Klas\n",
    "Używaj konwencji CapWords WspolrzedneStacji()\n",
    "\n",
    "Global Variable Names\n",
    "(Let's hope that these variables are meant for use inside one module only.) The conventions are about the same as those for functions.\n",
    "\n",
    "### Funkcje i nazwy zmiennych\n",
    "lowercase, ze słowami oddzielonymi przez \"_\" to_jest_moja_funkcja()\n",
    "\n",
    "mixedCase raczej nie jest rekomendowany, ale ważne żeby być spójnym wewnątrz\n",
    "\n",
    "### Argumnety funkcji\n",
    "* Uzywaj self jako pierwszego argumentu metody\n",
    "* Uzywaj cls jako piewrszy argument klasy\n",
    "\n",
    "### STAŁE\n",
    "\n",
    "Używaj konwencji UPPER_CASE_WITH_UNDERSCORES: PI, TOTAL itd."
   ]
  },
  {
   "cell_type": "markdown",
   "metadata": {},
   "source": [
    "# PEP8 podsumowanie\n",
    "\n",
    "\n",
    "Istnieje jeszcze wiele innych zasad i rekomendacji -> zapraszam do zapoznania się z nimi na stronie https://www.python.org/dev/peps/pep-0008/\n",
    "\n",
    "Należy jednak pamiętać, że to rekomendacje a nie prawo! Pisz kod z głową i zawsze myśl o nim jako o czymś co ma zrozumieć druga osoba"
   ]
  },
  {
   "cell_type": "code",
   "execution_count": 4,
   "metadata": {
    "nbpresent": {
     "id": "039b7d59-5ae9-4350-a2c3-36ce2f7175b6"
    },
    "slideshow": {
     "slide_type": "-"
    }
   },
   "outputs": [
    {
     "name": "stdout",
     "output_type": "stream",
     "text": [
      "Kasia  ->  dobry plus\n",
      "Basia  ->  dobry\n",
      "Józek  ->  dobry\n",
      "Marek  ->  bardzo dobry\n"
     ]
    }
   ],
   "source": [
    "import random\n",
    "\n",
    "# skala ocen obowiązująca na Uniwersytecie Wrocławskim\n",
    "oceny_upwr = {2.0: \"niedostateczny\", 3.0: \"dostateczny\",\n",
    "             3.5: \"dostateczny plus\", 4.0: \"dobry\",\n",
    "             4.5: \"dobry plus\", 5.0: \"bardzo dobry\"}\n",
    "\n",
    "# lista studentów uczęszczających na zajęcia z Pythona\n",
    "lista_studentow = [\"Kasia\", \"Basia\", \"Józek\", \"Marek\"]\n",
    "\n",
    "# przez lenistwo prowadzącego oceny wystawiane losowo\n",
    "for student in lista_studentow:\n",
    "    # losowa ocena\n",
    "    ocena = random.choice(list(oceny_upwr))\n",
    "    # przypisanie oceny\n",
    "    print(student, \" -> \", oceny_upwr[ocena])"
   ]
  },
  {
   "cell_type": "markdown",
   "metadata": {
    "slideshow": {
     "slide_type": "subslide"
    }
   },
   "source": [
    "## Czytelność kodu\n",
    "\n",
    "---"
   ]
  },
  {
   "cell_type": "code",
   "execution_count": 11,
   "metadata": {
    "nbpresent": {
     "id": "e009a058-b362-4d1f-8744-ecacfdeece38"
    },
    "slideshow": {
     "slide_type": "-"
    }
   },
   "outputs": [
    {
     "name": "stdout",
     "output_type": "stream",
     "text": [
      "Kasia  ->  bardzo dobry\n",
      "Basia  ->  dobry\n",
      "Józek  ->  dobry\n",
      "Marek  ->  dobry\n"
     ]
    }
   ],
   "source": [
    "import random\n",
    "\n",
    "o = {2.0: \"niedostateczny\", 3.0: \"dostateczny\", 3.5: \"dostateczny plus\", \n",
    "     4.0: \"dobry\", 4.5: \"dobry plus\", 5.0: \"bardzo dobry\"}\n",
    "\n",
    "s = [\"Kasia\", \n",
    "     \"Basia\", \n",
    "     \"Józek\",\n",
    "     \"Marek\"]\n",
    "\n",
    "for i in range(len(s)): x = random.randint(2, len(o) - 1); print(s[i], \" -> \", o[x])"
   ]
  },
  {
   "cell_type": "code",
   "execution_count": 7,
   "metadata": {
    "nbpresent": {
     "id": "56a633a5-1be6-429e-bb7e-5b28d2aa99c9"
    },
    "slideshow": {
     "slide_type": "-"
    }
   },
   "outputs": [
    {
     "name": "stdout",
     "output_type": "stream",
     "text": [
      "<class 'int'>, <class 'float'>, <class 'complex'>\n"
     ]
    }
   ],
   "source": [
    "x = 1   # [zmienna] [operator przypisania] [wartość]\n",
    "y = 1.0\n",
    "z = 1j\n",
    "\n",
    "# drukuj typy zmiennych x, y i z (oddzielone przecinkiem)\n",
    "print(type(x), type(y), type(z), sep=\", \")"
   ]
  }
 ],
 "metadata": {
  "anaconda-cloud": {},
  "celltoolbar": "Slideshow",
  "kernelspec": {
   "display_name": "Python 3",
   "language": "python",
   "name": "python3"
  },
  "language_info": {
   "codemirror_mode": {
    "name": "ipython",
    "version": 3
   },
   "file_extension": ".py",
   "mimetype": "text/x-python",
   "name": "python",
   "nbconvert_exporter": "python",
   "pygments_lexer": "ipython3",
   "version": "3.7.4"
  },
  "nbpresent": {
   "slides": {},
   "themes": {
    "default": "17151fe0-c7c4-47fa-b621-0e0506358ba7",
    "theme": {}
   }
  },
  "rise": {
   "height": "90%",
   "theme": "sky",
   "width": "90%"
  }
 },
 "nbformat": 4,
 "nbformat_minor": 1
}
