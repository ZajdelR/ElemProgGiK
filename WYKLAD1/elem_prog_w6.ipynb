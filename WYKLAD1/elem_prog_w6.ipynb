{
 "cells": [
  {
   "cell_type": "markdown",
   "metadata": {
    "slideshow": {
     "slide_type": "slide"
    }
   },
   "source": [
    "# Języki skryptowe - Python\n",
    "## Wykład 6\n",
    "\n",
    "---\n",
    "\n",
    "* klasy i obiekty, czyli pierwsze kroki w programowaniu obiektowym"
   ]
  },
  {
   "cell_type": "markdown",
   "metadata": {
    "slideshow": {
     "slide_type": "subslide"
    }
   },
   "source": [
    "## Klasy\n",
    "\n",
    "---\n",
    "\n",
    "<div class=\"tree\">\n",
    "    <ul>\n",
    "        <li><p>Klasa</p>\n",
    "        <ul>\n",
    "            <li><p>Atrybuty</p>\n",
    "            <ul>\n",
    "                <li><p>Dane</p>\n",
    "            </ul> \n",
    "            <li><p>Metody</p>\n",
    "        </ul>\n",
    "    </ul>\n",
    "</div>"
   ]
  },
  {
   "cell_type": "markdown",
   "metadata": {
    "slideshow": {
     "slide_type": "subslide"
    }
   },
   "source": [
    "## Przykład - klasa *complex*\n",
    "\n",
    "---\n",
    "\n",
    "<div class=\"tree\">\n",
    "    <ul>\n",
    "        <li><p>complex</p>\n",
    "        <ul>\n",
    "            <li><p>Dane:</p>\n",
    "            <ul>\n",
    "                <li><p>real</p>\n",
    "                <li><p>imag</p>\n",
    "            </ul>\n",
    "            <li><p>Metody:</p>\n",
    "            <ul>\n",
    "                <li><p>conjugate</p>\n",
    "            </ul>\n",
    "        </ul> \n",
    "    </ul>\n",
    "</div>"
   ]
  },
  {
   "cell_type": "markdown",
   "metadata": {
    "slideshow": {
     "slide_type": "subslide"
    }
   },
   "source": [
    "## Klasa *complex*\n",
    "\n",
    "---"
   ]
  },
  {
   "cell_type": "code",
   "execution_count": 1,
   "metadata": {
    "slideshow": {
     "slide_type": "-"
    }
   },
   "outputs": [],
   "source": [
    "c = 10 + 5j # utwórz obiekt klasy complex"
   ]
  },
  {
   "cell_type": "code",
   "execution_count": 2,
   "metadata": {
    "slideshow": {
     "slide_type": "-"
    }
   },
   "outputs": [],
   "source": [
    "c.real # dane: real"
   ]
  },
  {
   "cell_type": "code",
   "execution_count": 3,
   "metadata": {
    "slideshow": {
     "slide_type": "-"
    }
   },
   "outputs": [],
   "source": [
    "c.imag # dane: imag"
   ]
  },
  {
   "cell_type": "code",
   "execution_count": 4,
   "metadata": {
    "slideshow": {
     "slide_type": "-"
    }
   },
   "outputs": [],
   "source": [
    "c.conjugate() # metody: conjugate"
   ]
  },
  {
   "cell_type": "markdown",
   "metadata": {
    "slideshow": {
     "slide_type": "subslide"
    }
   },
   "source": [
    "## Programowanie obiektowe\n",
    "\n",
    "---\n",
    "\n",
    "* tworzenie obiektów\n",
    "    * mogą przechowywać dane\n",
    "    * mogą wykonywać opearacje\n",
    "    * przykład: klasa samochód\n",
    "        * dane: moc, masa, moment obrotowy ...\n",
    "        * metody: jedź, skręć, ...\n",
    "* komunikacja między obiektami\n",
    "    * przykład: klasa łyżka i klasa zupa\n",
    "        * łyżka.pobierz(zupa)"
   ]
  },
  {
   "cell_type": "markdown",
   "metadata": {
    "slideshow": {
     "slide_type": "slide"
    }
   },
   "source": [
    "## Przechowywanie informacje w Pythonie"
   ]
  },
  {
   "cell_type": "code",
   "execution_count": 5,
   "metadata": {
    "slideshow": {
     "slide_type": "subslide"
    }
   },
   "outputs": [],
   "source": [
    "### Listy\n",
    "\n",
    "kirk = [\"James Kirk\", 34, \"Captain\", 2265]\n",
    "spock = [\"Spock\", 35, \"Science Officer\", 2254]\n",
    "mccoy = [\"Leonard McCoy\", \"Chief Medical Officer\", 2266]"
   ]
  },
  {
   "cell_type": "code",
   "execution_count": 6,
   "metadata": {
    "slideshow": {
     "slide_type": "subslide"
    }
   },
   "outputs": [],
   "source": [
    "### Słownik\n",
    "\n",
    "kirk = {'name':\"James Kirk\",'age':34,'role':\"Captain\",'id':2265}\n",
    "spock = {'name':\"Spock\",'age':35,'role':\"Science Officer\",'id':2254}\n",
    "mccoy = {'name':\"Leonard McCoy\",'age':50,'role':\"Chief Medical Officer\",'id':2266}"
   ]
  },
  {
   "cell_type": "markdown",
   "metadata": {
    "slideshow": {
     "slide_type": "subslide"
    }
   },
   "source": [
    "## Klasa w Pythonie\n",
    "\n",
    "---\n",
    "\n",
    "```py\n",
    "class Nazwa:\n",
    "    instrukcje\n",
    "    ...\n",
    "```\n",
    "\n",
    "* zbudujemy krok po kroku klasę trójkąt:\n",
    "    * dane: boki a, b, c\n",
    "    * metody: pole, obwód, typ..."
   ]
  },
  {
   "cell_type": "markdown",
   "metadata": {
    "slideshow": {
     "slide_type": "slide"
    }
   },
   "source": [
    "## \"Pusta\" klasa\n",
    "\n",
    "---"
   ]
  },
  {
   "cell_type": "code",
   "execution_count": 7,
   "metadata": {
    "slideshow": {
     "slide_type": "-"
    }
   },
   "outputs": [],
   "source": [
    "class Triangle:\n",
    "    pass"
   ]
  },
  {
   "cell_type": "code",
   "execution_count": 8,
   "metadata": {
    "slideshow": {
     "slide_type": "-"
    }
   },
   "outputs": [],
   "source": [
    "# na razie klasa Triangle\n",
    "# nie zawiera ani danych ani metod\n",
    "# ale już możemy stworzyć obiekt typu Triangle\n",
    "\n",
    "t = Triangle()"
   ]
  },
  {
   "cell_type": "code",
   "execution_count": 9,
   "metadata": {
    "slideshow": {
     "slide_type": "-"
    }
   },
   "outputs": [],
   "source": [
    "type(t)"
   ]
  },
  {
   "cell_type": "markdown",
   "metadata": {
    "slideshow": {
     "slide_type": "subslide"
    }
   },
   "source": [
    "## Inicjalizacja\n",
    "\n",
    "---\n",
    "\n",
    "* `__init__` - prawie jak konstruktor, ale wywoływana **po** utworzeniu instancji\n",
    "* *self* - odwołanie do samego siebie"
   ]
  },
  {
   "cell_type": "code",
   "execution_count": 10,
   "metadata": {
    "slideshow": {
     "slide_type": "-"
    }
   },
   "outputs": [],
   "source": [
    "class Triangle:\n",
    "    \"\"\"Dokumentacja jak w przypadku funkcji\"\"\"\n",
    "    \n",
    "    def __init__(self, a, b, c):\n",
    "        \"\"\"Konstruktor\"\"\"\n",
    "        self.a = a # zmiennej obiekt.a\n",
    "        self.b = b # przypisz wartość a\n",
    "        self.c = c # itd"
   ]
  },
  {
   "cell_type": "code",
   "execution_count": 11,
   "metadata": {
    "slideshow": {
     "slide_type": "-"
    }
   },
   "outputs": [],
   "source": [
    "# wywołuje funkcję __init__(3, 4, 5)\n",
    "t = Triangle(3, 4, 5)"
   ]
  },
  {
   "cell_type": "markdown",
   "metadata": {
    "slideshow": {
     "slide_type": "subslide"
    }
   },
   "source": [
    "## *self*\n",
    "\n",
    "---\n",
    "\n",
    "* pierwszy argument każdej metody = *self*\n",
    "* przyjęto konwencję *self*, ale może to być dowolna nazwa"
   ]
  },
  {
   "cell_type": "code",
   "execution_count": 12,
   "metadata": {
    "slideshow": {
     "slide_type": "-"
    }
   },
   "outputs": [],
   "source": [
    "class Triangle:\n",
    "    \"\"\"Dokumentacja jak w przypadku funkcji\"\"\"\n",
    "    \n",
    "    def __init__(this, a, b, c):\n",
    "        \"\"\"Prawie jak konstruktor\"\"\"\n",
    "        this.a = a\n",
    "        this.b = b\n",
    "        this.c = c"
   ]
  },
  {
   "cell_type": "code",
   "execution_count": 13,
   "metadata": {
    "slideshow": {
     "slide_type": "-"
    }
   },
   "outputs": [],
   "source": [
    "# wywołuje funkcję __init__(3, 4, 5)\n",
    "t = Triangle(3, 4, 5)"
   ]
  },
  {
   "cell_type": "code",
   "execution_count": 14,
   "metadata": {
    "slideshow": {
     "slide_type": "-"
    }
   },
   "outputs": [
    {
     "name": "stdout",
     "output_type": "stream",
     "text": [
      "3 4 5\n"
     ]
    }
   ],
   "source": [
    "print(t.a, t.b, t.c)"
   ]
  },
  {
   "cell_type": "markdown",
   "metadata": {
    "slideshow": {
     "slide_type": "subslide"
    }
   },
   "source": [
    "## Dokumentacja\n",
    "\n",
    "---"
   ]
  },
  {
   "cell_type": "code",
   "execution_count": 15,
   "metadata": {
    "scrolled": false,
    "slideshow": {
     "slide_type": "-"
    }
   },
   "outputs": [
    {
     "name": "stdout",
     "output_type": "stream",
     "text": [
      "Help on Triangle in module __main__ object:\n",
      "\n",
      "class Triangle(builtins.object)\n",
      " |  Triangle(a, b, c)\n",
      " |  \n",
      " |  Dokumentacja jak w przypadku funkcji\n",
      " |  \n",
      " |  Methods defined here:\n",
      " |  \n",
      " |  __init__(this, a, b, c)\n",
      " |      Prawie jak konstruktor\n",
      " |  \n",
      " |  ----------------------------------------------------------------------\n",
      " |  Data descriptors defined here:\n",
      " |  \n",
      " |  __dict__\n",
      " |      dictionary for instance variables (if defined)\n",
      " |  \n",
      " |  __weakref__\n",
      " |      list of weak references to the object (if defined)\n",
      "\n"
     ]
    }
   ],
   "source": [
    "help(t)"
   ]
  },
  {
   "cell_type": "markdown",
   "metadata": {
    "slideshow": {
     "slide_type": "subslide"
    }
   },
   "source": [
    "## Metody specjalne\n",
    "\n",
    "---\n",
    "\n",
    "* `__init__` jest jedną z metod specjalnych klasy\n",
    "* [tutaj](https://docs.python.org/3/reference/datamodel.html#special-method-names) znajduje się pełna lista dostępnych metod specjalnych\n",
    "* w trakcie wykładu pojawią się kolejne (wszystkie `__nazwa__`)"
   ]
  },
  {
   "cell_type": "markdown",
   "metadata": {
    "slideshow": {
     "slide_type": "subslide"
    }
   },
   "source": [
    "## *str* i *repr*\n",
    "\n",
    "---\n",
    "\n",
    "* `__repr__` - \"oficjalna\" reprezentacja obiektu, powinna być jednoznaczna; wywołana przez `repr(obiekt)` lub w interpreterze po wpisaniu nazwy zmiennej\n",
    "* `__str__` - \"nieformalna\" reprezentacja obiektu, powinna być czytelna; wywołana przez `str(obiekt)` lub `print`"
   ]
  },
  {
   "cell_type": "markdown",
   "metadata": {
    "slideshow": {
     "slide_type": "subslide"
    }
   },
   "source": [
    "## *Triangle* : *str* i *repr*\n",
    "\n",
    "---"
   ]
  },
  {
   "cell_type": "code",
   "execution_count": 16,
   "metadata": {
    "slideshow": {
     "slide_type": "-"
    }
   },
   "outputs": [],
   "source": [
    "class Triangle:\n",
    "    # pomijamy dokumentację: oszczędność slajdu\n",
    "    def __init__(self, a, b, c):\n",
    "        self.a = a\n",
    "        self.b = b\n",
    "        self.c = c\n",
    "        \n",
    "    def __str__(self): # zwraca string\n",
    "        return \"Trójkąt o bokach: {}, {}, {}\"\\\n",
    "                .format(self.a, self.b, self.c)\n",
    "    \n",
    "    def __repr__(self): # zwraca string\n",
    "        return \"Triangle({}, {}, {})\"\\\n",
    "                .format(self.a, self.b, self.c)"
   ]
  },
  {
   "cell_type": "markdown",
   "metadata": {
    "slideshow": {
     "slide_type": "subslide"
    }
   },
   "source": [
    "## *Triangle* : *str* i *repr*\n",
    "\n",
    "---"
   ]
  },
  {
   "cell_type": "code",
   "execution_count": 17,
   "metadata": {
    "slideshow": {
     "slide_type": "-"
    }
   },
   "outputs": [
    {
     "name": "stdout",
     "output_type": "stream",
     "text": [
      "Trójkąt o bokach: 3, 4, 5\n"
     ]
    }
   ],
   "source": [
    "t = Triangle(3, 4, 5)\n",
    "\n",
    "print(t) # wywołuje __str__"
   ]
  },
  {
   "cell_type": "code",
   "execution_count": 18,
   "metadata": {
    "slideshow": {
     "slide_type": "-"
    }
   },
   "outputs": [
    {
     "data": {
      "text/plain": [
       "Triangle(3, 4, 5)"
      ]
     },
     "execution_count": 18,
     "metadata": {},
     "output_type": "execute_result"
    }
   ],
   "source": [
    "t # wywołuje __repr__"
   ]
  },
  {
   "cell_type": "markdown",
   "metadata": {
    "slideshow": {
     "slide_type": "subslide"
    }
   },
   "source": [
    "## Własne metody - obwód\n",
    "\n",
    "---"
   ]
  },
  {
   "cell_type": "code",
   "execution_count": 19,
   "metadata": {
    "slideshow": {
     "slide_type": "-"
    }
   },
   "outputs": [],
   "source": [
    "class Triangle:\n",
    "\n",
    "    def __init__(self, a, b, c):\n",
    "        self.a = a\n",
    "        self.b = b\n",
    "        self.c = c\n",
    "        \n",
    "    def obwod(self):\n",
    "        # do zmiennych obiektu odwołujemy się\n",
    "        # przez self.zmienna\n",
    "        return self.a + self.b + self.c"
   ]
  },
  {
   "cell_type": "code",
   "execution_count": 20,
   "metadata": {
    "slideshow": {
     "slide_type": "-"
    }
   },
   "outputs": [],
   "source": [
    "t = Triangle(3, 4, 5)"
   ]
  },
  {
   "cell_type": "code",
   "execution_count": 21,
   "metadata": {
    "slideshow": {
     "slide_type": "-"
    }
   },
   "outputs": [
    {
     "data": {
      "text/plain": [
       "12"
      ]
     },
     "execution_count": 21,
     "metadata": {},
     "output_type": "execute_result"
    }
   ],
   "source": [
    "t.obwod()"
   ]
  },
  {
   "cell_type": "markdown",
   "metadata": {
    "slideshow": {
     "slide_type": "subslide"
    }
   },
   "source": [
    "## Własne metody - pole\n",
    "\n",
    "---"
   ]
  },
  {
   "cell_type": "code",
   "execution_count": 22,
   "metadata": {
    "slideshow": {
     "slide_type": "-"
    }
   },
   "outputs": [],
   "source": [
    "from math import sqrt\n",
    "\n",
    "class Triangle:\n",
    "\n",
    "    def __init__(self, a, b, c):\n",
    "        self.a = a\n",
    "        self.b = b\n",
    "        self.c = c\n",
    "        \n",
    "    def obwod(self):\n",
    "        return self.a + self.b + self.c\n",
    "    \n",
    "    def pole(self):\n",
    "        # do metod odwołujemy się\n",
    "        # przez self.metoda\n",
    "        p = self.obwod()/2\n",
    "        return sqrt(p*(p - self.a)*(p - self.b)*(p - self.c))"
   ]
  },
  {
   "cell_type": "markdown",
   "metadata": {
    "slideshow": {
     "slide_type": "subslide"
    }
   },
   "source": [
    "## Test\n",
    "\n",
    "---"
   ]
  },
  {
   "cell_type": "code",
   "execution_count": 23,
   "metadata": {
    "slideshow": {
     "slide_type": "-"
    }
   },
   "outputs": [
    {
     "name": "stdout",
     "output_type": "stream",
     "text": [
      "Obwód = 12\n",
      "Pole = 6.0\n"
     ]
    }
   ],
   "source": [
    "t = Triangle(3, 4, 5)\n",
    "\n",
    "print(\"Obwód =\", t.obwod())\n",
    "print(\"Pole =\", t.pole())"
   ]
  },
  {
   "cell_type": "markdown",
   "metadata": {
    "slideshow": {
     "slide_type": "slide"
    }
   },
   "source": [
    "## Klasa wektor\n",
    "\n",
    "---\n",
    "\n",
    "* współrzędne *x*, *y*, *z*\n",
    "* długość wektora\n",
    "* dodawanie wektorów\n",
    "* mnożenie wektora przez liczbę\n",
    "* iloczyn skalarny\n",
    "* ..."
   ]
  },
  {
   "cell_type": "markdown",
   "metadata": {
    "slideshow": {
     "slide_type": "subslide"
    }
   },
   "source": [
    "## Wektor: długość\n",
    "\n",
    "---"
   ]
  },
  {
   "cell_type": "code",
   "execution_count": 24,
   "metadata": {},
   "outputs": [],
   "source": [
    "from math import sqrt\n",
    "\n",
    "class Wektor:\n",
    "    \"\"\"Trójwymiarowy wektor\"\"\"\n",
    "    \n",
    "    def __init__(self, x=0.0, y=0.0, z=0.0):\n",
    "        self.x = x\n",
    "        self.y = y\n",
    "        self.z = z\n",
    "        \n",
    "    def norm(self):\n",
    "        \"\"\"Długość wektora\"\"\"\n",
    "        return sqrt(self.x**2 + self.y**2 + self.z**2)"
   ]
  },
  {
   "cell_type": "markdown",
   "metadata": {
    "slideshow": {
     "slide_type": "subslide"
    }
   },
   "source": [
    "## Długość: test\n",
    "\n",
    "---"
   ]
  },
  {
   "cell_type": "code",
   "execution_count": 25,
   "metadata": {
    "slideshow": {
     "slide_type": "-"
    }
   },
   "outputs": [
    {
     "data": {
      "text/plain": [
       "1.0"
      ]
     },
     "execution_count": 25,
     "metadata": {},
     "output_type": "execute_result"
    }
   ],
   "source": [
    "w = Wektor(1) # utwórz wektor (1, 0, 0)\n",
    "\n",
    "w.norm()"
   ]
  },
  {
   "cell_type": "code",
   "execution_count": 26,
   "metadata": {
    "slideshow": {
     "slide_type": "-"
    }
   },
   "outputs": [
    {
     "data": {
      "text/plain": [
       "2.0"
      ]
     },
     "execution_count": 26,
     "metadata": {},
     "output_type": "execute_result"
    }
   ],
   "source": [
    "w.x = 2 # zmień składową x\n",
    "\n",
    "w.norm()"
   ]
  },
  {
   "cell_type": "markdown",
   "metadata": {
    "slideshow": {
     "slide_type": "subslide"
    }
   },
   "source": [
    "## Zmienne bardziej prywatne\n",
    "\n",
    "---"
   ]
  },
  {
   "cell_type": "code",
   "execution_count": 27,
   "metadata": {
    "slideshow": {
     "slide_type": "-"
    }
   },
   "outputs": [],
   "source": [
    "class Wektor:\n",
    "    \"\"\"Trójwymiarowy wektor\"\"\"\n",
    "    \n",
    "    def __init__(self, x=0.0, y=0.0, z=0.0):\n",
    "        self.__x = x # zmienne zaczynające się __\n",
    "        self.__y = y # zamieniane są na\n",
    "        self.z = z # _nazwa_klasy__zmienna\n",
    "        \n",
    "    def __str__(self):\n",
    "        return \"[{}, {}, {}]\".format(self.__x, self.__y, self.z)"
   ]
  },
  {
   "cell_type": "markdown",
   "metadata": {
    "slideshow": {
     "slide_type": "subslide"
    }
   },
   "source": [
    "## Wektor bardziej prywatny\n",
    "\n",
    "---"
   ]
  },
  {
   "cell_type": "code",
   "execution_count": 28,
   "metadata": {
    "slideshow": {
     "slide_type": "-"
    }
   },
   "outputs": [
    {
     "name": "stdout",
     "output_type": "stream",
     "text": [
      "[1, 0.0, 0.0]\n"
     ]
    }
   ],
   "source": [
    "w = Wektor(1) # [1, 0, 0]\n",
    "\n",
    "print(w)"
   ]
  },
  {
   "cell_type": "code",
   "execution_count": 29,
   "metadata": {
    "slideshow": {
     "slide_type": "-"
    }
   },
   "outputs": [
    {
     "name": "stdout",
     "output_type": "stream",
     "text": [
      "[1, 0.0, 0.0]\n"
     ]
    }
   ],
   "source": [
    "w.__x = 2 # nie zmienia skladowej __x\n",
    "\n",
    "print(w)"
   ]
  },
  {
   "cell_type": "markdown",
   "metadata": {
    "slideshow": {
     "slide_type": "subslide"
    }
   },
   "source": [
    "## Dodawanie wektorów\n",
    "\n",
    "---"
   ]
  },
  {
   "cell_type": "code",
   "execution_count": 30,
   "metadata": {
    "slideshow": {
     "slide_type": "-"
    }
   },
   "outputs": [],
   "source": [
    "class Wektor:\n",
    "    \"\"\"Trójwymiarowy wektor\"\"\"\n",
    "    \n",
    "    def __init__(self, x=0.0, y=0.0, z=0.0):\n",
    "        self.x = x\n",
    "        self.y = y\n",
    "        self.z = z\n",
    "        \n",
    "    def __str__(self):\n",
    "        return \"[{}, {}, {}]\".format(self.x, self.y, self.z)\n",
    "        \n",
    "    def __add__(self, w): # operator dodawania\n",
    "        return Wektor(self.x + w.x, self.y + w.y, self.z + w.z)"
   ]
  },
  {
   "cell_type": "markdown",
   "metadata": {
    "slideshow": {
     "slide_type": "subslide"
    }
   },
   "source": [
    "## Dodawanie: test\n",
    "\n",
    "---"
   ]
  },
  {
   "cell_type": "code",
   "execution_count": 31,
   "metadata": {},
   "outputs": [
    {
     "name": "stdout",
     "output_type": "stream",
     "text": [
      "[3, 6, 9]\n"
     ]
    }
   ],
   "source": [
    "x = Wektor(1, 2, 3)\n",
    "y = Wektor(2, 4, 6)\n",
    "\n",
    "print(x + y) # wywołuje x.__add__(y)"
   ]
  },
  {
   "cell_type": "markdown",
   "metadata": {
    "slideshow": {
     "slide_type": "subslide"
    }
   },
   "source": [
    "## Wektor: iloczyn skalarny\n",
    "\n",
    "---"
   ]
  },
  {
   "cell_type": "code",
   "execution_count": 32,
   "metadata": {
    "slideshow": {
     "slide_type": "-"
    }
   },
   "outputs": [],
   "source": [
    "class Wektor:\n",
    "    \"\"\"Trójwymiarowy wektor\"\"\"\n",
    "    \n",
    "    def __init__(self, x=0.0, y=0.0, z=0.0):\n",
    "        self.x = x\n",
    "        self.y = y\n",
    "        self.z = z\n",
    "        \n",
    "    def __str__(self):\n",
    "        return \"[{}, {}, {}]\".format(self.x, self.y, self.z)\n",
    "        \n",
    "    def __mul__(self, w): # operator mnożenia\n",
    "        return self.x*w.x + self.y*w.y + self.z*w.z"
   ]
  },
  {
   "cell_type": "markdown",
   "metadata": {
    "slideshow": {
     "slide_type": "subslide"
    }
   },
   "source": [
    "## Iloczyn skalarny: test\n",
    "\n",
    "---"
   ]
  },
  {
   "cell_type": "code",
   "execution_count": 33,
   "metadata": {
    "slideshow": {
     "slide_type": "-"
    }
   },
   "outputs": [
    {
     "name": "stdout",
     "output_type": "stream",
     "text": [
      "28\n"
     ]
    }
   ],
   "source": [
    "x = Wektor(1, 2, 3)\n",
    "y = Wektor(2, 4, 6)\n",
    "\n",
    "print(x*y) # wywołuje x.__mul__(y)"
   ]
  },
  {
   "cell_type": "markdown",
   "metadata": {
    "slideshow": {
     "slide_type": "subslide"
    }
   },
   "source": [
    "## Mnożenie przez liczbę\n",
    "\n",
    "---"
   ]
  },
  {
   "cell_type": "code",
   "execution_count": 34,
   "metadata": {
    "slideshow": {
     "slide_type": "-"
    }
   },
   "outputs": [],
   "source": [
    "class Wektor:\n",
    "    \"\"\"Trójwymiarowy wektor\"\"\"\n",
    "    \n",
    "    def __init__(self, x=0.0, y=0.0, z=0.0):\n",
    "        self.x = x\n",
    "        self.y = y\n",
    "        self.z = z\n",
    "        \n",
    "    def __str__(self):\n",
    "        return \"[{}, {}, {}]\".format(self.x, self.y, self.z)\n",
    "        \n",
    "    def __mul__(self, w): # operator mnożenia\n",
    "        if type(w) == type(self): # dla wektora - iloczyn skalarny\n",
    "            return self.x*w.x + self.y*w.y + self.z*w.z\n",
    "        else: # dla liczby - mnożenie składowych\n",
    "            return Wektor(w*self.x, w*self.y, w*self.z)"
   ]
  },
  {
   "cell_type": "markdown",
   "metadata": {
    "slideshow": {
     "slide_type": "subslide"
    }
   },
   "source": [
    "## Mnożenie: test\n",
    "\n",
    "---"
   ]
  },
  {
   "cell_type": "code",
   "execution_count": 35,
   "metadata": {
    "slideshow": {
     "slide_type": "-"
    }
   },
   "outputs": [
    {
     "name": "stdout",
     "output_type": "stream",
     "text": [
      "28\n"
     ]
    }
   ],
   "source": [
    "x = Wektor(1, 2, 3)\n",
    "y = Wektor(2, 4, 6)\n",
    "\n",
    "print(x*y) # wywołuje x.__mul__(y)"
   ]
  },
  {
   "cell_type": "code",
   "execution_count": 36,
   "metadata": {
    "slideshow": {
     "slide_type": "-"
    }
   },
   "outputs": [
    {
     "name": "stdout",
     "output_type": "stream",
     "text": [
      "[10, 20, 30]\n"
     ]
    }
   ],
   "source": [
    "print(x*10) # mnoży wektor z przez 10"
   ]
  },
  {
   "cell_type": "markdown",
   "metadata": {
    "slideshow": {
     "slide_type": "-"
    }
   },
   "source": [
    "print(10*x) # nie działa..."
   ]
  },
  {
   "cell_type": "markdown",
   "metadata": {
    "slideshow": {
     "slide_type": "subslide"
    }
   },
   "source": [
    "## Mnożenie z prawej\n",
    "\n",
    "---"
   ]
  },
  {
   "cell_type": "code",
   "execution_count": 37,
   "metadata": {
    "slideshow": {
     "slide_type": "-"
    }
   },
   "outputs": [],
   "source": [
    "class Wektor:\n",
    "    \"\"\"Trójwymiarowy wektor\"\"\"\n",
    "    \n",
    "    def __init__(self, x=0.0, y=0.0, z=0.0):\n",
    "        self.x = x\n",
    "        self.y = y\n",
    "        self.z = z\n",
    "        \n",
    "    def __str__(self):\n",
    "        return \"[{}, {}, {}]\".format(self.x, self.y, self.z)\n",
    "        \n",
    "    def __mul__(self, w): # operator mnożenia\n",
    "        if type(w) == type(self): # dla wektora - iloczyn skalarny\n",
    "            return self.x*w.x + self.y*w.y + self.z*w.z\n",
    "        else: # dla liczby - mnożenie składowych\n",
    "            return Wektor(w*self.x, w*self.y, w*self.z)\n",
    "        \n",
    "    def __rmul__(self, w): # mnożenie z prawej\n",
    "        return self.__mul__(w)"
   ]
  },
  {
   "cell_type": "markdown",
   "metadata": {
    "slideshow": {
     "slide_type": "subslide"
    }
   },
   "source": [
    "## Mnożenie z prawej: test\n",
    "\n",
    "---"
   ]
  },
  {
   "cell_type": "code",
   "execution_count": 38,
   "metadata": {
    "slideshow": {
     "slide_type": "-"
    }
   },
   "outputs": [
    {
     "name": "stdout",
     "output_type": "stream",
     "text": [
      "[10, 20, 30]\n"
     ]
    }
   ],
   "source": [
    "x = Wektor(1, 2, 3)\n",
    "\n",
    "print(x*10)"
   ]
  },
  {
   "cell_type": "code",
   "execution_count": 39,
   "metadata": {
    "slideshow": {
     "slide_type": "-"
    }
   },
   "outputs": [
    {
     "name": "stdout",
     "output_type": "stream",
     "text": [
      "[10, 20, 30]\n"
     ]
    }
   ],
   "source": [
    "print(10*x)"
   ]
  },
  {
   "cell_type": "markdown",
   "metadata": {
    "slideshow": {
     "slide_type": "slide"
    }
   },
   "source": [
    "## Klasa student\n",
    "\n",
    "---\n",
    "\n",
    "* imię, nazwisko, nr indeksu\n",
    "* zliczanie studentów"
   ]
  },
  {
   "cell_type": "markdown",
   "metadata": {
    "slideshow": {
     "slide_type": "subslide"
    }
   },
   "source": [
    "## Atrybuty klasy\n",
    "\n",
    "---\n",
    "\n",
    "* zmienne wprowadzane poza `__init__` są traktowane jako atrybuty klasy, a nie obiektu"
   ]
  },
  {
   "cell_type": "code",
   "execution_count": 40,
   "metadata": {
    "slideshow": {
     "slide_type": "-"
    }
   },
   "outputs": [],
   "source": [
    "class Student:\n",
    "    counter = 0 # licznik studentów\n",
    "    \n",
    "    def __init__(self, imie, nazwisko, indeks):\n",
    "        self.__class__.counter += 1\n",
    "        self.imie = imie\n",
    "        self.naziwsko = nazwisko\n",
    "        self.indeks = indeks"
   ]
  },
  {
   "cell_type": "markdown",
   "metadata": {
    "slideshow": {
     "slide_type": "subslide"
    }
   },
   "source": [
    "## Studenci\n",
    "\n",
    "---"
   ]
  },
  {
   "cell_type": "code",
   "execution_count": 41,
   "metadata": {
    "slideshow": {
     "slide_type": "-"
    }
   },
   "outputs": [
    {
     "name": "stdout",
     "output_type": "stream",
     "text": [
      "Jan Anna\n"
     ]
    }
   ],
   "source": [
    "student1 = Student(\"Jan\", \"Kowalski\", 1234)\n",
    "student2 = Student(\"Anna\", \"Nowak\", 1234)\n",
    "\n",
    "# każdy student ma swoje imię\n",
    "print(student1.imie, student2.imie)"
   ]
  },
  {
   "cell_type": "code",
   "execution_count": 42,
   "metadata": {
    "slideshow": {
     "slide_type": "-"
    }
   },
   "outputs": [
    {
     "name": "stdout",
     "output_type": "stream",
     "text": [
      "2 2\n"
     ]
    }
   ],
   "source": [
    "# ale licznik jest wspólny\n",
    "# dla wszystkich obiektów klasy Student\n",
    "print(student1.counter, student2.counter)"
   ]
  },
  {
   "cell_type": "markdown",
   "metadata": {
    "slideshow": {
     "slide_type": "slide"
    }
   },
   "source": [
    "## Ciąg arytmetyczny\n",
    "\n",
    "---\n",
    "\n",
    "* zadany przez pierwszy wyraz ciągu i różnicę\n",
    "* przechowuje *n* pierwszych wyrazów ciągu\n",
    "* *len(ciąg)* zwraca *n*\n",
    "* *sum(ciąg)* zwraca sumę *n* wyrazów"
   ]
  },
  {
   "cell_type": "markdown",
   "metadata": {
    "slideshow": {
     "slide_type": "subslide"
    }
   },
   "source": [
    "## Ciąg arytmetyczny: *init*\n",
    "\n",
    "---"
   ]
  },
  {
   "cell_type": "code",
   "execution_count": 43,
   "metadata": {
    "slideshow": {
     "slide_type": "-"
    }
   },
   "outputs": [
    {
     "name": "stdout",
     "output_type": "stream",
     "text": [
      "Overwriting arciag.py\n"
     ]
    }
   ],
   "source": [
    "%%writefile arciag.py\n",
    "\n",
    "class ArCiag:\n",
    "    \"\"\"Ciąg arytmetyczny\"\"\"\n",
    "    typ = 'arytmetyczny'\n",
    "    def __init__(self, a1, r, n=1):\n",
    "        \"\"\"Inicjuje ciąg arytmetyczny\n",
    "        \n",
    "        a1 -- pierwszy wyraz ciągu\n",
    "        r -- różnica\n",
    "        n -- początkowa liczba wyrazów\n",
    "        \"\"\"\n",
    "        \n",
    "        self._a1 = a1\n",
    "        self._r = r\n",
    "        self._wyrazy = [a1]\n",
    "        \n",
    "        if n > 1:\n",
    "            self.generate(n - 1)"
   ]
  },
  {
   "cell_type": "markdown",
   "metadata": {
    "slideshow": {
     "slide_type": "subslide"
    }
   },
   "source": [
    "## Ciąg arytmetyczny: *str*\n",
    "\n",
    "---"
   ]
  },
  {
   "cell_type": "code",
   "execution_count": 44,
   "metadata": {
    "slideshow": {
     "slide_type": "-"
    }
   },
   "outputs": [
    {
     "name": "stdout",
     "output_type": "stream",
     "text": [
      "Appending to arciag.py\n"
     ]
    }
   ],
   "source": [
    "%%writefile -a arciag.py\n",
    "\n",
    "    def __str__(self):\n",
    "        s = \"Ciąg {typ} ({a1}, {r}):\".format(typ=self.__class__.typ,a1=self._a1, r=self._r)\n",
    "        \n",
    "        for wyraz in self: # skąd wie, jak po sobie iterować?\n",
    "            s += \" \" + str(wyraz)\n",
    "            \n",
    "        return s"
   ]
  },
  {
   "cell_type": "markdown",
   "metadata": {
    "slideshow": {
     "slide_type": "subslide"
    }
   },
   "source": [
    "## Ciąg arytmetyczny: *iter*\n",
    "\n",
    "---"
   ]
  },
  {
   "cell_type": "code",
   "execution_count": 45,
   "metadata": {
    "slideshow": {
     "slide_type": "-"
    }
   },
   "outputs": [
    {
     "name": "stdout",
     "output_type": "stream",
     "text": [
      "Appending to arciag.py\n"
     ]
    }
   ],
   "source": [
    "%%writefile -a arciag.py\n",
    "\n",
    "    def __iter__(self): # iterator ciągu\n",
    "        \"\"\"Umożliwia iterację po ciągu\"\"\"\n",
    "        \n",
    "        for a in self._wyrazy:\n",
    "            yield a"
   ]
  },
  {
   "cell_type": "markdown",
   "metadata": {
    "slideshow": {
     "slide_type": "subslide"
    }
   },
   "source": [
    "## Ciąg arytmetyczny: *len*\n",
    "\n",
    "---"
   ]
  },
  {
   "cell_type": "code",
   "execution_count": 46,
   "metadata": {
    "slideshow": {
     "slide_type": "-"
    }
   },
   "outputs": [
    {
     "name": "stdout",
     "output_type": "stream",
     "text": [
      "Appending to arciag.py\n"
     ]
    }
   ],
   "source": [
    "%%writefile -a arciag.py\n",
    "\n",
    "    def __len__(self): # wywoływana przez len()\n",
    "        \"\"\"Zwraca ilość wyrazów ciągu\"\"\"\n",
    "        \n",
    "        return len(self._wyrazy)"
   ]
  },
  {
   "cell_type": "markdown",
   "metadata": {
    "slideshow": {
     "slide_type": "subslide"
    }
   },
   "source": [
    "## Ciąg arytmetyczny: *generate*\n",
    "\n",
    "---"
   ]
  },
  {
   "cell_type": "code",
   "execution_count": 47,
   "metadata": {
    "slideshow": {
     "slide_type": "-"
    }
   },
   "outputs": [
    {
     "name": "stdout",
     "output_type": "stream",
     "text": [
      "Appending to arciag.py\n"
     ]
    }
   ],
   "source": [
    "%%writefile -a arciag.py\n",
    "\n",
    "    def generate(self, n):\n",
    "        \"\"\"Generuje kolejne wyrazy ciągu\"\"\"\n",
    "        \n",
    "        for _ in range(n):\n",
    "            self._wyrazy.append(self._wyrazy[-1] + self._r)"
   ]
  },
  {
   "cell_type": "markdown",
   "metadata": {
    "slideshow": {
     "slide_type": "subslide"
    }
   },
   "source": [
    "## Ciąg arytmetyczny: *save*\n",
    "\n",
    "---"
   ]
  },
  {
   "cell_type": "code",
   "execution_count": 48,
   "metadata": {
    "slideshow": {
     "slide_type": "-"
    }
   },
   "outputs": [
    {
     "name": "stdout",
     "output_type": "stream",
     "text": [
      "Appending to arciag.py\n"
     ]
    }
   ],
   "source": [
    "%%writefile -a arciag.py\n",
    "\n",
    "    def save(self, filename):\n",
    "        \"\"\"Zapisuje ciąg do pliku\"\"\"\n",
    "        \n",
    "        with open(filename, 'w') as f:\n",
    "            f.write(self.__str__())"
   ]
  },
  {
   "cell_type": "markdown",
   "metadata": {
    "slideshow": {
     "slide_type": "subslide"
    }
   },
   "source": [
    "## Ciąg arytmeytczny: dokumentacja\n",
    "\n",
    "---"
   ]
  },
  {
   "cell_type": "code",
   "execution_count": 49,
   "metadata": {
    "slideshow": {
     "slide_type": "-"
    }
   },
   "outputs": [
    {
     "name": "stdout",
     "output_type": "stream",
     "text": [
      "Help on class ArCiag in module arciag:\n",
      "\n",
      "class ArCiag(builtins.object)\n",
      " |  ArCiag(a1, r, n=1)\n",
      " |  \n",
      " |  Ciąg arytmetyczny\n",
      " |  \n",
      " |  Methods defined here:\n",
      " |  \n",
      " |  __init__(self, a1, r, n=1)\n",
      " |      Inicjuje ciąg arytmetyczny\n",
      " |      \n",
      " |      a1 -- pierwszy wyraz ciągu\n",
      " |      r -- różnica\n",
      " |      n -- początkowa liczba wyrazów\n",
      " |  \n",
      " |  __iter__(self)\n",
      " |      Umożliwia iterację po ciągu\n",
      " |  \n",
      " |  __len__(self)\n",
      " |      Zwraca ilość wyrazów ciągu\n",
      " |  \n",
      " |  __str__(self)\n",
      " |      Return str(self).\n",
      " |  \n",
      " |  generate(self, n)\n",
      " |      Generuje kolejne wyrazy ciągu\n",
      " |  \n",
      " |  save(self, filename)\n",
      " |      Zapisuje ciąg do pliku\n",
      " |  \n",
      " |  ----------------------------------------------------------------------\n",
      " |  Data descriptors defined here:\n",
      " |  \n",
      " |  __dict__\n",
      " |      dictionary for instance variables (if defined)\n",
      " |  \n",
      " |  __weakref__\n",
      " |      list of weak references to the object (if defined)\n",
      " |  \n",
      " |  ----------------------------------------------------------------------\n",
      " |  Data and other attributes defined here:\n",
      " |  \n",
      " |  typ = 'arytmetyczny'\n",
      "\n"
     ]
    }
   ],
   "source": [
    "from arciag import ArCiag\n",
    "\n",
    "help(ArCiag)"
   ]
  },
  {
   "cell_type": "markdown",
   "metadata": {
    "slideshow": {
     "slide_type": "subslide"
    }
   },
   "source": [
    "## Ciąg arytmetyczny: test\n",
    "\n",
    "---"
   ]
  },
  {
   "cell_type": "code",
   "execution_count": 51,
   "metadata": {
    "slideshow": {
     "slide_type": "-"
    }
   },
   "outputs": [
    {
     "name": "stdout",
     "output_type": "stream",
     "text": [
      "Ciąg arytmetyczny (1, 2): 1\n",
      "Ciąg arytmetyczny (2, 3): 2 5 8 11 14 17 20 23 26 29\n"
     ]
    }
   ],
   "source": [
    "from arciag import ArCiag\n",
    "\n",
    "x = ArCiag(1, 2)     # domyślnie jeden wyraz\n",
    "y = ArCiag(2, 3, 10) # zacznij od 10 wyrazów\n",
    "\n",
    "print(x)\n",
    "print(y)"
   ]
  },
  {
   "cell_type": "markdown",
   "metadata": {
    "slideshow": {
     "slide_type": "subslide"
    }
   },
   "source": [
    "## Ciąg arytmetyczny: *len* i *sum*\n",
    "\n",
    "---"
   ]
  },
  {
   "cell_type": "code",
   "execution_count": 52,
   "metadata": {
    "slideshow": {
     "slide_type": "-"
    }
   },
   "outputs": [
    {
     "name": "stdout",
     "output_type": "stream",
     "text": [
      "Ciąg arytmetyczny (1, 2): 1\n",
      "Ciąg arytmetyczny (1, 2): 1 3 5 7 9 11 13 15 17 19 21\n",
      "Ciąg arytmetyczny (1, 2): 1 3 5 7 9 11 13 15 17 19 21 23 25 27 29 31\n"
     ]
    }
   ],
   "source": [
    "from arciag import ArCiag\n",
    "\n",
    "x = ArCiag(1, 2) # domyślnie 1 wyraz\n",
    "\n",
    "print(x)\n",
    "\n",
    "x.generate(10) # generuj kolejne 10\n",
    "\n",
    "print(x)\n",
    "\n",
    "x.generate(5)\n",
    "\n",
    "print(x)"
   ]
  },
  {
   "cell_type": "code",
   "execution_count": 53,
   "metadata": {
    "slideshow": {
     "slide_type": "-"
    }
   },
   "outputs": [
    {
     "data": {
      "text/plain": [
       "16"
      ]
     },
     "execution_count": 53,
     "metadata": {},
     "output_type": "execute_result"
    }
   ],
   "source": [
    "len(x) # ilość wyrazów (dzięki __len__)"
   ]
  },
  {
   "cell_type": "code",
   "execution_count": 54,
   "metadata": {
    "slideshow": {
     "slide_type": "-"
    }
   },
   "outputs": [
    {
     "data": {
      "text/plain": [
       "256"
      ]
     },
     "execution_count": 54,
     "metadata": {},
     "output_type": "execute_result"
    }
   ],
   "source": [
    "sum(x) # suma wyrazów (dzięki __iter__)"
   ]
  },
  {
   "cell_type": "markdown",
   "metadata": {
    "slideshow": {
     "slide_type": "subslide"
    }
   },
   "source": [
    "## Ciąg arytmetyczny: zapis"
   ]
  },
  {
   "cell_type": "code",
   "execution_count": 55,
   "metadata": {
    "slideshow": {
     "slide_type": "-"
    }
   },
   "outputs": [],
   "source": [
    "from arciag import ArCiag\n",
    "\n",
    "x = ArCiag(1, 2, 10) # generuj 10 wyrazów\n",
    "\n",
    "x.save('moj_ciag.txt') # i zapisz do pliku"
   ]
  },
  {
   "cell_type": "code",
   "execution_count": 56,
   "metadata": {
    "slideshow": {
     "slide_type": "-"
    }
   },
   "outputs": [
    {
     "name": "stdout",
     "output_type": "stream",
     "text": [
      "Microsoft Windows [Version 10.0.18363.959]\r\n",
      "(c) 2019 Microsoft Corporation. Wszelkie prawa zastrzeľone.\r\n",
      "\r\n",
      "Y:\\STUDIA\\Doktorat\\DYDAKTYKA\\ELEMENTY_PROGRAMOWANIA\\2020\\docs\\wyklady>\n",
      "Y:\\STUDIA\\Doktorat\\DYDAKTYKA\\ELEMENTY_PROGRAMOWANIA\\2020\\docs\\wyklady>type moj_ciag.txt\n",
      "Ciąg arytmetyczny (1, 2): 1 3 5 7 9 11 13 15 17 19\r\n",
      "Y:\\STUDIA\\Doktorat\\DYDAKTYKA\\ELEMENTY_PROGRAMOWANIA\\2020\\docs\\wyklady>"
     ]
    }
   ],
   "source": [
    "%%cmd\n",
    "\n",
    "type moj_ciag.txt"
   ]
  },
  {
   "cell_type": "markdown",
   "metadata": {
    "slideshow": {
     "slide_type": "slide"
    }
   },
   "source": [
    "## Ciąg geometryczny\n",
    "\n",
    "---\n",
    "\n",
    "* gdybyśmy chcieli stworzyć analogiczną klasę dla ciągu geometrycznego, to różnica pojawiłaby się tylko w funkcji `generate`\n",
    "* istnieje mechanizm, który umożliwia klasom posiadanie wspólnych metod\n",
    "* omówiony zostanie na kolejnym wykładzie"
   ]
  },
  {
   "cell_type": "markdown",
   "metadata": {
    "slideshow": {
     "slide_type": "slide"
    }
   },
   "source": [
    "## Dziedziczenie\n",
    "\n",
    "---\n",
    "\n",
    "* umożliwia ponowne wykorzystanie funkcjonalności *klas bazowych* w *klasach pochodnych*\n",
    "* przykład:\n",
    "    * klasa pojazd: jedz, hamuj...\n",
    "    * klasa samochód: to co pojazd + otwórz bagażnik...\n",
    "    * klasa motor: to co pojazd + jedz na jednym kole..."
   ]
  },
  {
   "cell_type": "code",
   "execution_count": 60,
   "metadata": {
    "slideshow": {
     "slide_type": "subslide"
    }
   },
   "outputs": [],
   "source": [
    "class GeomCiag(ArCiag):\n",
    "    \"\"\"Ciag geometryczny\"\"\"\n",
    "    typ='geometryczny'\n",
    "    \n",
    "    def __init__(self, a1, r, n=1):\n",
    "        \"\"\"Inicjuje ciag geometryczny\n",
    "        \n",
    "        a1 -- pierwszy wyraz ciągu\n",
    "        r -- mnożnik\n",
    "        n -- poczatkowa liczba wyrazów\n",
    "        \"\"\"\n",
    "        super().__init__(a1, r, n) # wywołaj konstruktor klasy nadrzędnej\n",
    "\n",
    "    def generate(self, n):\n",
    "        \"\"\"Generuje kolejne wyrazy ciągu\"\"\"\n",
    "        \n",
    "        for _ in range(n):\n",
    "            self._wyrazy.append(self._wyrazy[-1]*self._r)"
   ]
  },
  {
   "cell_type": "code",
   "execution_count": 61,
   "metadata": {},
   "outputs": [
    {
     "name": "stdout",
     "output_type": "stream",
     "text": [
      "Help on class GeomCiag in module __main__:\n",
      "\n",
      "class GeomCiag(arciag.ArCiag)\n",
      " |  GeomCiag(a1, r, n=1)\n",
      " |  \n",
      " |  Ciag geometryczny\n",
      " |  \n",
      " |  Method resolution order:\n",
      " |      GeomCiag\n",
      " |      arciag.ArCiag\n",
      " |      builtins.object\n",
      " |  \n",
      " |  Methods defined here:\n",
      " |  \n",
      " |  __init__(self, a1, r, n=1)\n",
      " |      Inicjuje ciag geometryczny\n",
      " |      \n",
      " |      a1 -- pierwszy wyraz ciągu\n",
      " |      r -- mnożnik\n",
      " |      n -- poczatkowa liczba wyrazów\n",
      " |  \n",
      " |  generate(self, n)\n",
      " |      Generuje kolejne wyrazy ciągu\n",
      " |  \n",
      " |  ----------------------------------------------------------------------\n",
      " |  Data and other attributes defined here:\n",
      " |  \n",
      " |  typ = 'geometryczny'\n",
      " |  \n",
      " |  ----------------------------------------------------------------------\n",
      " |  Methods inherited from arciag.ArCiag:\n",
      " |  \n",
      " |  __iter__(self)\n",
      " |      Umożliwia iterację po ciągu\n",
      " |  \n",
      " |  __len__(self)\n",
      " |      Zwraca ilość wyrazów ciągu\n",
      " |  \n",
      " |  __str__(self)\n",
      " |      Return str(self).\n",
      " |  \n",
      " |  save(self, filename)\n",
      " |      Zapisuje ciąg do pliku\n",
      " |  \n",
      " |  ----------------------------------------------------------------------\n",
      " |  Data descriptors inherited from arciag.ArCiag:\n",
      " |  \n",
      " |  __dict__\n",
      " |      dictionary for instance variables (if defined)\n",
      " |  \n",
      " |  __weakref__\n",
      " |      list of weak references to the object (if defined)\n",
      "\n"
     ]
    }
   ],
   "source": [
    "help(GeomCiag)"
   ]
  },
  {
   "cell_type": "code",
   "execution_count": 64,
   "metadata": {
    "scrolled": true
   },
   "outputs": [],
   "source": [
    "x = GeomCiag(1, 2, 10)     # domyślnie jeden wyraz"
   ]
  },
  {
   "cell_type": "code",
   "execution_count": 65,
   "metadata": {
    "scrolled": true
   },
   "outputs": [
    {
     "name": "stdout",
     "output_type": "stream",
     "text": [
      "Ciąg geometryczny (1, 2): 1 2 4 8 16 32 64 128 256 512\n"
     ]
    }
   ],
   "source": [
    "print(x)"
   ]
  },
  {
   "cell_type": "markdown",
   "metadata": {
    "slideshow": {
     "slide_type": "slide"
    }
   },
   "source": [
    "## Polimorfizm\n",
    "\n",
    "---\n",
    "\n",
    "* współdzielenie *interfejsu* przez różne typy"
   ]
  },
  {
   "cell_type": "code",
   "execution_count": 38,
   "metadata": {
    "slideshow": {
     "slide_type": "-"
    }
   },
   "outputs": [],
   "source": [
    "class Kot:\n",
    "    def glos(self):\n",
    "        print(\"Miau\")\n",
    "\n",
    "class Pies:\n",
    "    def glos(self):\n",
    "        print(\"Hau\")\n",
    "\n",
    "class Krowa:\n",
    "    def glos(self):\n",
    "        print(\"Muu\") "
   ]
  },
  {
   "cell_type": "code",
   "execution_count": 39,
   "metadata": {
    "slideshow": {
     "slide_type": "-"
    }
   },
   "outputs": [
    {
     "name": "stdout",
     "output_type": "stream",
     "text": [
      "Miau\n",
      "Hau\n",
      "Muu\n"
     ]
    }
   ],
   "source": [
    "for zwierze in [Kot(), Pies(), Krowa()]:\n",
    "    zwierze.glos() # za każdym razem inny typ"
   ]
  },
  {
   "cell_type": "markdown",
   "metadata": {
    "slideshow": {
     "slide_type": "subslide"
    }
   },
   "source": [
    "## Ryby głosu nie mają\n",
    "\n",
    "---"
   ]
  },
  {
   "cell_type": "code",
   "execution_count": 40,
   "metadata": {
    "slideshow": {
     "slide_type": "-"
    }
   },
   "outputs": [],
   "source": [
    "class Ryba:\n",
    "    pass # brak definicji glos"
   ]
  },
  {
   "cell_type": "code",
   "execution_count": 41,
   "metadata": {
    "scrolled": false,
    "slideshow": {
     "slide_type": "-"
    }
   },
   "outputs": [
    {
     "name": "stdout",
     "output_type": "stream",
     "text": [
      "Miau\n",
      "Hau\n",
      "Muu\n"
     ]
    },
    {
     "ename": "AttributeError",
     "evalue": "'Ryba' object has no attribute 'glos'",
     "output_type": "error",
     "traceback": [
      "\u001b[1;31m---------------------------------------------------------------------------\u001b[0m",
      "\u001b[1;31mAttributeError\u001b[0m                            Traceback (most recent call last)",
      "\u001b[1;32m<ipython-input-41-c7ac6e544c63>\u001b[0m in \u001b[0;36m<module>\u001b[1;34m\u001b[0m\n\u001b[0;32m      1\u001b[0m \u001b[1;32mfor\u001b[0m \u001b[0mzwierze\u001b[0m \u001b[1;32min\u001b[0m \u001b[1;33m[\u001b[0m\u001b[0mKot\u001b[0m\u001b[1;33m(\u001b[0m\u001b[1;33m)\u001b[0m\u001b[1;33m,\u001b[0m \u001b[0mPies\u001b[0m\u001b[1;33m(\u001b[0m\u001b[1;33m)\u001b[0m\u001b[1;33m,\u001b[0m \u001b[0mKrowa\u001b[0m\u001b[1;33m(\u001b[0m\u001b[1;33m)\u001b[0m\u001b[1;33m,\u001b[0m \u001b[0mRyba\u001b[0m\u001b[1;33m(\u001b[0m\u001b[1;33m)\u001b[0m\u001b[1;33m]\u001b[0m\u001b[1;33m:\u001b[0m\u001b[1;33m\u001b[0m\u001b[1;33m\u001b[0m\u001b[0m\n\u001b[1;32m----> 2\u001b[1;33m     \u001b[0mzwierze\u001b[0m\u001b[1;33m.\u001b[0m\u001b[0mglos\u001b[0m\u001b[1;33m(\u001b[0m\u001b[1;33m)\u001b[0m \u001b[1;31m# Ryba nie ma zdefiniowanej metody glos\u001b[0m\u001b[1;33m\u001b[0m\u001b[1;33m\u001b[0m\u001b[0m\n\u001b[0m",
      "\u001b[1;31mAttributeError\u001b[0m: 'Ryba' object has no attribute 'glos'"
     ]
    }
   ],
   "source": [
    "for zwierze in [Kot(), Pies(), Krowa(), Ryba()]:\n",
    "    zwierze.glos() # Ryba nie ma zdefiniowanej metody glos"
   ]
  },
  {
   "cell_type": "code",
   "execution_count": null,
   "metadata": {
    "slideshow": {
     "slide_type": "skip"
    }
   },
   "outputs": [],
   "source": [
    "s = \"\"\"\n",
    "<style>\n",
    "\n",
    "* {margin: 0; padding: 0;}\n",
    "\n",
    ".tree ul {\n",
    "\tpadding-top: 20px; position: relative;\n",
    "}\n",
    "\n",
    ".tree li {\n",
    "\tfloat: left; text-align: center;\n",
    "\tlist-style-type: none;\n",
    "\tposition: relative;\n",
    "\tpadding: 20px 5px 0 5px;\n",
    "}\n",
    "\n",
    ".tree li::before, .tree li::after{\n",
    "\tcontent: '';\n",
    "\tposition: absolute; top: 0; right: 50%;\n",
    "\tborder-top: 1px solid #ccc;\n",
    "\twidth: 50%; height: 20px;\n",
    "}\n",
    "\n",
    ".tree li::after{\n",
    "\tright: auto; left: 50%;\n",
    "\tborder-left: 1px solid #ccc;\n",
    "}\n",
    "\n",
    ".tree li:only-child::after, .tree li:only-child::before {\n",
    "\tdisplay: none;\n",
    "}\n",
    "\n",
    ".tree li:only-child{ padding-top: 0;}\n",
    "\n",
    ".tree li:first-child::before, .tree li:last-child::after{\n",
    "\tborder: 0 none;\n",
    "}\n",
    "\n",
    ".tree li:last-child::before{\n",
    "\tborder-right: 1px solid #ccc;\n",
    "\tborder-radius: 0 5px 0 0;\n",
    "\t-webkit-border-radius: 0 5px 0 0;\n",
    "\t-moz-border-radius: 0 5px 0 0;\n",
    "}\n",
    "\n",
    ".tree li:first-child::after{\n",
    "\tborder-radius: 5px 0 0 0;\n",
    "\t-webkit-border-radius: 5px 0 0 0;\n",
    "\t-moz-border-radius: 5px 0 0 0;\n",
    "}\n",
    "\n",
    ".tree ul ul::before{\n",
    "\tcontent: '';\n",
    "\tposition: absolute; top: 0; left: 50%;\n",
    "\tborder-left: 1px solid #ccc;\n",
    "\twidth: 0; height: 20px;\n",
    "}\n",
    "\n",
    ".tree li p {\n",
    "\tborder: 1px solid #ccc;\n",
    "\tpadding: 15px 15px;\n",
    "\ttext-decoration: none;\n",
    "\tcolor: #666;\n",
    "\tfont-family: arial, verdana, tahoma;\n",
    "\tfont-size: 40px;\n",
    "\tdisplay: inline-block;\n",
    "\t\n",
    "\tborder-radius: 5px;\n",
    "\t-webkit-border-radius: 5px;\n",
    "\t-moz-border-radius: 5px;\n",
    "}\n",
    "\n",
    "</style>\n",
    "\"\"\"\n",
    "\n",
    "from IPython.display import display, HTML\n",
    "\n",
    "display(HTML(s))"
   ]
  }
 ],
 "metadata": {
  "anaconda-cloud": {},
  "celltoolbar": "Slideshow",
  "kernelspec": {
   "display_name": "Python 3",
   "language": "python",
   "name": "python3"
  },
  "language_info": {
   "codemirror_mode": {
    "name": "ipython",
    "version": 3
   },
   "file_extension": ".py",
   "mimetype": "text/x-python",
   "name": "python",
   "nbconvert_exporter": "python",
   "pygments_lexer": "ipython3",
   "version": "3.7.4"
  }
 },
 "nbformat": 4,
 "nbformat_minor": 1
}
