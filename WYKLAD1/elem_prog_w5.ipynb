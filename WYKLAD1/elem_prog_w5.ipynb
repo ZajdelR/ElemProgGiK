{
 "cells": [
  {
   "cell_type": "markdown",
   "metadata": {
    "slideshow": {
     "slide_type": "slide"
    }
   },
   "source": [
    "# Języki skryptowe - Python\n",
    "## Wykład 5\n",
    "\n",
    "---\n",
    "\n",
    "* przestrzenie nazw\n",
    "* moduły\n",
    "* błędy\n",
    "* operacje na plikach"
   ]
  },
  {
   "cell_type": "markdown",
   "metadata": {
    "slideshow": {
     "slide_type": "slide"
    }
   },
   "source": [
    "## Nazwy zmiennych\n",
    "\n",
    "---"
   ]
  },
  {
   "cell_type": "code",
   "execution_count": 1,
   "metadata": {
    "slideshow": {
     "slide_type": "-"
    }
   },
   "outputs": [
    {
     "name": "stdout",
     "output_type": "stream",
     "text": [
      "10\n",
      "Hello World!\n",
      "Jestem funkcją. Hello\n",
      "Jestem funkcją. Hello\n"
     ]
    }
   ],
   "source": [
    "zmienna = 10 # zmienna wskazuje na int\n",
    "\n",
    "print(zmienna)\n",
    "\n",
    "zmienna = \"Hello World!\" # zmienna wskazuje na str\n",
    "\n",
    "print(zmienna)\n",
    "\n",
    "def funkcja(zmienna):\n",
    "    print(\"Jestem funkcją. {}\".format(zmienna))\n",
    "    \n",
    "zmienna = funkcja # zmienna wskazuje na funkcje\n",
    "\n",
    "zmienna(\"Hello\")\n",
    "funkcja(\"Hello\")"
   ]
  },
  {
   "cell_type": "markdown",
   "metadata": {
    "slideshow": {
     "slide_type": "subslide"
    }
   },
   "source": [
    "## Niebezpieczne nadpisania\n",
    "\n",
    "---"
   ]
  },
  {
   "cell_type": "code",
   "execution_count": 2,
   "metadata": {
    "slideshow": {
     "slide_type": "-"
    }
   },
   "outputs": [
    {
     "name": "stdout",
     "output_type": "stream",
     "text": [
      "Jestem nową funkcją.\n"
     ]
    }
   ],
   "source": [
    "def moja_nazwa(): # moja_nazwa wskazuje na funkcję\n",
    "    print(\"Jestem funkcją.\")\n",
    "    \n",
    "def moja_nazwa(): # moja_nazwa wskazuje inną funkcję\n",
    "    print(\"Jestem nową funkcją.\")\n",
    "    \n",
    "moja_nazwa()"
   ]
  },
  {
   "cell_type": "code",
   "execution_count": 3,
   "metadata": {
    "slideshow": {
     "slide_type": "-"
    }
   },
   "outputs": [
    {
     "ename": "TypeError",
     "evalue": "'int' object is not callable",
     "output_type": "error",
     "traceback": [
      "\u001b[1;31m---------------------------------------------------------------------------\u001b[0m",
      "\u001b[1;31mTypeError\u001b[0m                                 Traceback (most recent call last)",
      "\u001b[1;32m<ipython-input-3-9a4db52b11a7>\u001b[0m in \u001b[0;36m<module>\u001b[1;34m\u001b[0m\n\u001b[0;32m      1\u001b[0m \u001b[0mmoja_nazwa\u001b[0m \u001b[1;33m=\u001b[0m \u001b[1;36m10\u001b[0m \u001b[1;31m# moja_nazwa wskazuje na int\u001b[0m\u001b[1;33m\u001b[0m\u001b[1;33m\u001b[0m\u001b[0m\n\u001b[0;32m      2\u001b[0m \u001b[1;33m\u001b[0m\u001b[0m\n\u001b[1;32m----> 3\u001b[1;33m \u001b[0mmoja_nazwa\u001b[0m\u001b[1;33m(\u001b[0m\u001b[1;33m)\u001b[0m \u001b[1;31m# TypeError: 'int' object is not callable\u001b[0m\u001b[1;33m\u001b[0m\u001b[1;33m\u001b[0m\u001b[0m\n\u001b[0m",
      "\u001b[1;31mTypeError\u001b[0m: 'int' object is not callable"
     ]
    }
   ],
   "source": [
    "moja_nazwa = 10 # moja_nazwa wskazuje na int \n",
    "\n",
    "moja_nazwa() # TypeError: 'int' object is not callable"
   ]
  },
  {
   "cell_type": "markdown",
   "metadata": {
    "slideshow": {
     "slide_type": "subslide"
    }
   },
   "source": [
    "## Moduły - *import* ...\n",
    "\n",
    "---"
   ]
  },
  {
   "cell_type": "code",
   "execution_count": 4,
   "metadata": {
    "slideshow": {
     "slide_type": "-"
    }
   },
   "outputs": [],
   "source": [
    "import math\n",
    "\n",
    "def sin(x):\n",
    "    \"\"\"Zwraca x.\"\"\"\n",
    "    return x"
   ]
  },
  {
   "cell_type": "code",
   "execution_count": 5,
   "metadata": {
    "slideshow": {
     "slide_type": "-"
    }
   },
   "outputs": [
    {
     "data": {
      "text/plain": [
       "1.0"
      ]
     },
     "execution_count": 5,
     "metadata": {},
     "output_type": "execute_result"
    }
   ],
   "source": [
    "math.sin(math.pi / 2) # wywołanie [moduł].[funkcja]"
   ]
  },
  {
   "cell_type": "code",
   "execution_count": 6,
   "metadata": {
    "slideshow": {
     "slide_type": "-"
    }
   },
   "outputs": [
    {
     "data": {
      "text/plain": [
       "1.5707963267948966"
      ]
     },
     "execution_count": 6,
     "metadata": {},
     "output_type": "execute_result"
    }
   ],
   "source": [
    "sin(math.pi / 2) # wywołanie [funkcja]"
   ]
  },
  {
   "cell_type": "markdown",
   "metadata": {
    "slideshow": {
     "slide_type": "subslide"
    }
   },
   "source": [
    "## Moduły - *from ... import ...*\n",
    "\n",
    "---"
   ]
  },
  {
   "cell_type": "code",
   "execution_count": 9,
   "metadata": {
    "slideshow": {
     "slide_type": "-"
    }
   },
   "outputs": [
    {
     "name": "stdout",
     "output_type": "stream",
     "text": [
      "1.0\n",
      "1.5707963267948966\n"
     ]
    }
   ],
   "source": [
    "from math import sin\n",
    "\n",
    "print(sin(math.pi / 2)) # wywołanie funkcji sin z modułu math\n",
    "\n",
    "def sin(x): # nadpisuje sin z math\n",
    "    \"\"\"Zwraca x.\"\"\"\n",
    "    return x\n",
    "\n",
    "print(sin(math.pi / 2)) # wywołanie funkcji sin"
   ]
  },
  {
   "cell_type": "code",
   "execution_count": 10,
   "metadata": {
    "slideshow": {
     "slide_type": "-"
    }
   },
   "outputs": [
    {
     "data": {
      "text/plain": [
       "1.0"
      ]
     },
     "execution_count": 10,
     "metadata": {},
     "output_type": "execute_result"
    }
   ],
   "source": [
    "def sin(x):\n",
    "    \"\"\"Zwraca x.\"\"\"\n",
    "    return x\n",
    "\n",
    "from math import sin # nadpisuje sin\n",
    "\n",
    "sin(math.pi / 2) # wywołanie math.sin"
   ]
  },
  {
   "cell_type": "markdown",
   "metadata": {
    "slideshow": {
     "slide_type": "slide"
    }
   },
   "source": [
    "## Przestrzenie nazw\n",
    "\n",
    "---\n",
    "\n",
    "* abstrakcyjna przestrzeń przechowująca nazwy\n",
    "* np. przestrzeń nazw wbudowanych"
   ]
  },
  {
   "cell_type": "code",
   "execution_count": 11,
   "metadata": {
    "slideshow": {
     "slide_type": "-"
    }
   },
   "outputs": [
    {
     "name": "stdout",
     "output_type": "stream",
     "text": [
      "['all', 'any', 'ascii', 'bin', 'bool', 'breakpoint', 'bytearray', 'bytes', 'callable', 'chr', 'classmethod', 'compile', 'complex', 'copyright', 'credits', 'delattr', 'dict', 'dir', 'display', 'divmod', 'enumerate', 'eval', 'exec', 'filter', 'float', 'format', 'frozenset', 'get_ipython', 'getattr', 'globals', 'hasattr', 'hash', 'help', 'hex', 'id', 'input', 'int', 'isinstance', 'issubclass', 'iter', 'len', 'license', 'list', 'locals', 'map', 'max', 'memoryview', 'min', 'next', 'object', 'oct', 'open', 'ord', 'pow', 'print', 'property', 'range', 'repr', 'reversed', 'round', 'set', 'setattr', 'slice', 'sorted', 'staticmethod', 'str', 'sum', 'super', 'tuple', 'type', 'vars', 'zip']\n"
     ]
    }
   ],
   "source": [
    "print(dir(__builtin__)[-72:])"
   ]
  },
  {
   "cell_type": "markdown",
   "metadata": {
    "slideshow": {
     "slide_type": "subslide"
    }
   },
   "source": [
    "## Uwaga: nadpisać można wszystko\n",
    "\n",
    "---"
   ]
  },
  {
   "cell_type": "code",
   "execution_count": 12,
   "metadata": {
    "slideshow": {
     "slide_type": "-"
    }
   },
   "outputs": [
    {
     "name": "stdout",
     "output_type": "stream",
     "text": [
      "{'x': 1, 'y': 2}\n"
     ]
    }
   ],
   "source": [
    "slownik = dict(x=1, y=2)\n",
    "\n",
    "print(slownik)"
   ]
  },
  {
   "cell_type": "code",
   "execution_count": 13,
   "metadata": {
    "slideshow": {
     "slide_type": "-"
    }
   },
   "outputs": [
    {
     "name": "stdout",
     "output_type": "stream",
     "text": [
      "(1, 2)\n"
     ]
    }
   ],
   "source": [
    "def dict(x, y): # nazwy wbudowane też można nadpisać\n",
    "    return x, y\n",
    "\n",
    "slownik = dict(x=1, y=2)\n",
    "\n",
    "print(slownik)"
   ]
  },
  {
   "cell_type": "code",
   "execution_count": 14,
   "metadata": {
    "slideshow": {
     "slide_type": "skip"
    }
   },
   "outputs": [
    {
     "name": "stdout",
     "output_type": "stream",
     "text": [
      "Once deleted, variables cannot be recovered. Proceed (y/[n])? \n",
      "Nothing done.\n"
     ]
    }
   ],
   "source": [
    "# usuń zmienne sesji jupyter\n",
    "%reset"
   ]
  },
  {
   "cell_type": "markdown",
   "metadata": {
    "slideshow": {
     "slide_type": "subslide"
    }
   },
   "source": [
    "## Przestrzeń nazw lokalnych\n",
    "\n",
    "---\n",
    "\n",
    "* zmienne zdefiniowane wewnątrz funkcji (niedostępne poza nią)"
   ]
  },
  {
   "cell_type": "code",
   "execution_count": 15,
   "metadata": {
    "slideshow": {
     "slide_type": "-"
    }
   },
   "outputs": [
    {
     "ename": "NameError",
     "evalue": "name 'zmienna_lokalna' is not defined",
     "output_type": "error",
     "traceback": [
      "\u001b[1;31m---------------------------------------------------------------------------\u001b[0m",
      "\u001b[1;31mNameError\u001b[0m                                 Traceback (most recent call last)",
      "\u001b[1;32m<ipython-input-15-ab1eb802d080>\u001b[0m in \u001b[0;36m<module>\u001b[1;34m\u001b[0m\n\u001b[0;32m      3\u001b[0m     \u001b[1;32mreturn\u001b[0m \u001b[0mzmienna_lokalna\u001b[0m \u001b[1;31m# w której zostały zdefiniowane\u001b[0m\u001b[1;33m\u001b[0m\u001b[1;33m\u001b[0m\u001b[0m\n\u001b[0;32m      4\u001b[0m \u001b[1;33m\u001b[0m\u001b[0m\n\u001b[1;32m----> 5\u001b[1;33m \u001b[0mprint\u001b[0m\u001b[1;33m(\u001b[0m\u001b[1;34m\"zmienna_lokalna =\"\u001b[0m\u001b[1;33m,\u001b[0m \u001b[0mzmienna_lokalna\u001b[0m\u001b[1;33m)\u001b[0m\u001b[1;33m\u001b[0m\u001b[1;33m\u001b[0m\u001b[0m\n\u001b[0m",
      "\u001b[1;31mNameError\u001b[0m: name 'zmienna_lokalna' is not defined"
     ]
    }
   ],
   "source": [
    "def funkcja():             # zmienne lokalne dostępne\n",
    "    zmienna_lokalna = 1    # są tylko wewnątrz funkcji\n",
    "    return zmienna_lokalna # w której zostały zdefiniowane\n",
    "\n",
    "print(\"zmienna_lokalna =\", zmienna_lokalna)"
   ]
  },
  {
   "cell_type": "markdown",
   "metadata": {
    "slideshow": {
     "slide_type": "subslide"
    }
   },
   "source": [
    "## Przestrzeń nazw globalnych\n",
    "\n",
    "---\n",
    "\n",
    "* dostępne w całym module (pliku)"
   ]
  },
  {
   "cell_type": "code",
   "execution_count": 16,
   "metadata": {
    "slideshow": {
     "slide_type": "-"
    }
   },
   "outputs": [
    {
     "data": {
      "text/plain": [
       "'Python'"
      ]
     },
     "execution_count": 16,
     "metadata": {},
     "output_type": "execute_result"
    }
   ],
   "source": [
    "zmienna_globalna = \"Python\"\n",
    "\n",
    "def funkcja():\n",
    "    return zmienna_globalna\n",
    "\n",
    "# wewnątrz funkcji zmienne globalne są dostępne\n",
    "funkcja()"
   ]
  },
  {
   "cell_type": "markdown",
   "metadata": {
    "slideshow": {
     "slide_type": "subslide"
    }
   },
   "source": [
    "## Zmienne lokalne nadpisują globalne\n",
    "\n",
    "---"
   ]
  },
  {
   "cell_type": "code",
   "execution_count": 17,
   "metadata": {
    "slideshow": {
     "slide_type": "-"
    }
   },
   "outputs": [
    {
     "name": "stdout",
     "output_type": "stream",
     "text": [
      "in funkcja: Nowy Python\n",
      "outside funkcja: Python\n"
     ]
    }
   ],
   "source": [
    "zmienna_globalna = \"Python\"\n",
    "\n",
    "def funkcja():\n",
    "    zmienna_globalna = \"Nowy Python\" # lokalna zmienna_globalna\n",
    "    print(\"in funkcja:\", zmienna_globalna)\n",
    "\n",
    "funkcja()\n",
    "\n",
    "print(\"outside funkcja:\", zmienna_globalna) # globalna bez zmian"
   ]
  },
  {
   "cell_type": "markdown",
   "metadata": {
    "slideshow": {
     "slide_type": "subslide"
    }
   },
   "source": [
    "## Albo *global* albo *local*\n",
    "\n",
    "---"
   ]
  },
  {
   "cell_type": "code",
   "execution_count": 18,
   "metadata": {
    "slideshow": {
     "slide_type": "-"
    }
   },
   "outputs": [
    {
     "ename": "UnboundLocalError",
     "evalue": "local variable 'zmienna_globalna' referenced before assignment",
     "output_type": "error",
     "traceback": [
      "\u001b[1;31m---------------------------------------------------------------------------\u001b[0m",
      "\u001b[1;31mUnboundLocalError\u001b[0m                         Traceback (most recent call last)",
      "\u001b[1;32m<ipython-input-18-6b78f0d51547>\u001b[0m in \u001b[0;36m<module>\u001b[1;34m\u001b[0m\n\u001b[0;32m      6\u001b[0m     \u001b[0mprint\u001b[0m\u001b[1;33m(\u001b[0m\u001b[1;34m\"in funkcja:\"\u001b[0m\u001b[1;33m,\u001b[0m \u001b[0mzmienna_globalna\u001b[0m\u001b[1;33m)\u001b[0m \u001b[1;31m# lokalna?\u001b[0m\u001b[1;33m\u001b[0m\u001b[1;33m\u001b[0m\u001b[0m\n\u001b[0;32m      7\u001b[0m \u001b[1;33m\u001b[0m\u001b[0m\n\u001b[1;32m----> 8\u001b[1;33m \u001b[0mfunkcja\u001b[0m\u001b[1;33m(\u001b[0m\u001b[1;33m)\u001b[0m \u001b[1;31m# UnboundLocalError: local variable 'zmienna_globalna'\u001b[0m\u001b[1;33m\u001b[0m\u001b[1;33m\u001b[0m\u001b[0m\n\u001b[0m\u001b[0;32m      9\u001b[0m           \u001b[1;31m# referenced before assignment\u001b[0m\u001b[1;33m\u001b[0m\u001b[1;33m\u001b[0m\u001b[1;33m\u001b[0m\u001b[0m\n",
      "\u001b[1;32m<ipython-input-18-6b78f0d51547>\u001b[0m in \u001b[0;36mfunkcja\u001b[1;34m()\u001b[0m\n\u001b[0;32m      2\u001b[0m \u001b[1;33m\u001b[0m\u001b[0m\n\u001b[0;32m      3\u001b[0m \u001b[1;32mdef\u001b[0m \u001b[0mfunkcja\u001b[0m\u001b[1;33m(\u001b[0m\u001b[1;33m)\u001b[0m\u001b[1;33m:\u001b[0m\u001b[1;33m\u001b[0m\u001b[1;33m\u001b[0m\u001b[0m\n\u001b[1;32m----> 4\u001b[1;33m     \u001b[0mprint\u001b[0m\u001b[1;33m(\u001b[0m\u001b[1;34m\"in funkcja:\"\u001b[0m\u001b[1;33m,\u001b[0m \u001b[0mzmienna_globalna\u001b[0m\u001b[1;33m)\u001b[0m \u001b[1;31m# globalna?\u001b[0m\u001b[1;33m\u001b[0m\u001b[1;33m\u001b[0m\u001b[0m\n\u001b[0m\u001b[0;32m      5\u001b[0m     \u001b[0mzmienna_globalna\u001b[0m \u001b[1;33m=\u001b[0m \u001b[1;34m\"Nowy Python\"\u001b[0m\u001b[1;33m\u001b[0m\u001b[1;33m\u001b[0m\u001b[0m\n\u001b[0;32m      6\u001b[0m     \u001b[0mprint\u001b[0m\u001b[1;33m(\u001b[0m\u001b[1;34m\"in funkcja:\"\u001b[0m\u001b[1;33m,\u001b[0m \u001b[0mzmienna_globalna\u001b[0m\u001b[1;33m)\u001b[0m \u001b[1;31m# lokalna?\u001b[0m\u001b[1;33m\u001b[0m\u001b[1;33m\u001b[0m\u001b[0m\n",
      "\u001b[1;31mUnboundLocalError\u001b[0m: local variable 'zmienna_globalna' referenced before assignment"
     ]
    }
   ],
   "source": [
    "zmienna_globalna = \"Python\"\n",
    "\n",
    "def funkcja():\n",
    "    print(\"in funkcja:\", zmienna_globalna) # globalna?\n",
    "    zmienna_globalna = \"Nowy Python\"\n",
    "    print(\"in funkcja:\", zmienna_globalna) # lokalna?\n",
    "\n",
    "funkcja() # UnboundLocalError: local variable 'zmienna_globalna'\n",
    "          # referenced before assignment"
   ]
  },
  {
   "cell_type": "markdown",
   "metadata": {
    "slideshow": {
     "slide_type": "subslide"
    }
   },
   "source": [
    "## Kolejność przestrzeni\n",
    "\n",
    "---\n",
    "\n",
    "* nazwy lokalne, potem globalne, na końcu wbudowane"
   ]
  },
  {
   "cell_type": "code",
   "execution_count": 19,
   "metadata": {
    "slideshow": {
     "slide_type": "-"
    }
   },
   "outputs": [
    {
     "name": "stdout",
     "output_type": "stream",
     "text": [
      "type(list()) = <class 'tuple'>\n",
      "type(dict()) = <class 'float'>\n",
      "Wewnątrz funkcji:\n",
      "\ttype(dict()) = <class 'int'>\n",
      "\ttype(list()) = <class 'tuple'>\n",
      "\ttype(int()) = <class 'int'>\n",
      "type(dict()) = <class 'float'>\n"
     ]
    }
   ],
   "source": [
    "list = tuple # zmienna globalna nadpisuje wbudowane list\n",
    "dict = float # zmienna globalna nadpisuje wbudowane dict\n",
    "\n",
    "print(\"type(list()) =\", type(list()))\n",
    "print(\"type(dict()) =\", type(dict()))\n",
    "\n",
    "def funkcja():\n",
    "    dict = int # zmienna lokalna nadpisuje globalne dict\n",
    "    print(\"Wewnątrz funkcji:\")\n",
    "    print(\"\\ttype(dict()) =\", type(dict())) # lokalna\n",
    "    print(\"\\ttype(list()) =\", type(list())) # globalna\n",
    "    print(\"\\ttype(int()) =\", type(int()))   # wbudowana\n",
    "\n",
    "funkcja()\n",
    "\n",
    "print(\"type(dict()) =\", type(dict()))"
   ]
  },
  {
   "cell_type": "code",
   "execution_count": 20,
   "metadata": {
    "slideshow": {
     "slide_type": "skip"
    }
   },
   "outputs": [
    {
     "name": "stdout",
     "output_type": "stream",
     "text": [
      "Once deleted, variables cannot be recovered. Proceed (y/[n])? y\n"
     ]
    }
   ],
   "source": [
    "%reset"
   ]
  },
  {
   "cell_type": "markdown",
   "metadata": {
    "slideshow": {
     "slide_type": "subslide"
    }
   },
   "source": [
    "## Wymuszanie zmiennej globalnej\n",
    "\n",
    "---"
   ]
  },
  {
   "cell_type": "code",
   "execution_count": 21,
   "metadata": {
    "slideshow": {
     "slide_type": "-"
    }
   },
   "outputs": [
    {
     "name": "stdout",
     "output_type": "stream",
     "text": [
      "nowa globalna\n"
     ]
    }
   ],
   "source": [
    "zmienna = \"globalna\"\n",
    "\n",
    "def f():\n",
    "    global zmienna # przypisanie nie tworzy zmiennej lokalnej\n",
    "    zmienna = \"nowa globalna\" # ale modyfikuje globalną\n",
    "    \n",
    "f()\n",
    "\n",
    "print(zmienna)"
   ]
  },
  {
   "cell_type": "markdown",
   "metadata": {
    "slideshow": {
     "slide_type": "subslide"
    }
   },
   "source": [
    "## Wymuszanie zmiennej \"nielokalnej\"\n",
    "\n",
    "---"
   ]
  },
  {
   "cell_type": "code",
   "execution_count": 22,
   "metadata": {
    "slideshow": {
     "slide_type": "-"
    }
   },
   "outputs": [
    {
     "name": "stdout",
     "output_type": "stream",
     "text": [
      "in g(): local local a\n",
      "in f(): local a\n",
      "outside: global a\n"
     ]
    }
   ],
   "source": [
    "a = \"global a\" # globalna\n",
    "\n",
    "def f():\n",
    "    a = \"local a\" # lokalna w f\n",
    "    \n",
    "    def g():\n",
    "        a = \"local local a\" # lokalna w g\n",
    "        print(\"in g():\", a)\n",
    "        \n",
    "    g()\n",
    "        \n",
    "    print(\"in f():\", a)\n",
    "\n",
    "f()\n",
    "\n",
    "print(\"outside:\", a)"
   ]
  },
  {
   "cell_type": "markdown",
   "metadata": {
    "slideshow": {
     "slide_type": "subslide"
    }
   },
   "source": [
    "## Wymuszanie zmiennej \"nielokalnej\"\n",
    "\n",
    "---"
   ]
  },
  {
   "cell_type": "code",
   "execution_count": 23,
   "metadata": {
    "slideshow": {
     "slide_type": "-"
    }
   },
   "outputs": [
    {
     "name": "stdout",
     "output_type": "stream",
     "text": [
      "in g(): local local a\n",
      "in f(): local a\n",
      "outside: local local a\n"
     ]
    }
   ],
   "source": [
    "a = \"global a\" # globalna\n",
    "\n",
    "def f():\n",
    "    a = \"local a\" # lokalna w f\n",
    "    \n",
    "    def g():\n",
    "        global a # używaj globalnej\n",
    "        a = \"local local a\" # modyfikuje globalną\n",
    "        print(\"in g():\", a)\n",
    "        \n",
    "    g()\n",
    "        \n",
    "    print(\"in f():\", a)\n",
    "\n",
    "f()\n",
    "\n",
    "print(\"outside:\", a)"
   ]
  },
  {
   "cell_type": "code",
   "execution_count": 24,
   "metadata": {
    "slideshow": {
     "slide_type": "-"
    }
   },
   "outputs": [
    {
     "name": "stdout",
     "output_type": "stream",
     "text": [
      "in g(): local local a\n",
      "in f(): local local a\n",
      "outside: global a\n"
     ]
    }
   ],
   "source": [
    "a = \"global a\" # globalna\n",
    "\n",
    "def f():\n",
    "    a = \"local a\" # lokalna w f\n",
    "    \n",
    "    def g():\n",
    "        nonlocal a # użyj a z poprzedniego zagnieżdżenia\n",
    "        a = \"local local a\" # modyfikuje a z f\n",
    "        print(\"in g():\", a)\n",
    "        \n",
    "    g()\n",
    "        \n",
    "    print(\"in f():\", a)\n",
    "\n",
    "f()\n",
    "\n",
    "print(\"outside:\", a)"
   ]
  },
  {
   "cell_type": "markdown",
   "metadata": {
    "slideshow": {
     "slide_type": "subslide"
    }
   },
   "source": [
    "## Zasięg\n",
    "\n",
    "---\n",
    "\n",
    "* obszar dostępności danej przestrzeni nazw"
   ]
  },
  {
   "cell_type": "code",
   "execution_count": 25,
   "metadata": {
    "slideshow": {
     "slide_type": "-"
    }
   },
   "outputs": [],
   "source": [
    "import math\n",
    "from math import cos\n",
    "\n",
    "a = 1 # zasięg -> cały plik\n",
    "\n",
    "def f():\n",
    "    # uwaga: zaleca się wszystkie importy robić na początku\n",
    "    from math import log # zasięg log(...) -> funkcja\n",
    "    b = 2 # zasięg -> funkcja\n",
    "    c = log(3) \n",
    "    \n",
    "d = math.sin(4) # sin(...) poza zasięgiem [moduł].[funkcja]\n",
    "e = cos(5)      # zasięg cos(...) -> cały plik\n",
    "# f = log(6)    # NameError: name 'log' is not defined"
   ]
  },
  {
   "cell_type": "markdown",
   "metadata": {
    "slideshow": {
     "slide_type": "slide"
    }
   },
   "source": [
    "## Własny moduł\n",
    "\n",
    "---"
   ]
  },
  {
   "cell_type": "code",
   "execution_count": 26,
   "metadata": {
    "slideshow": {
     "slide_type": "-"
    }
   },
   "outputs": [
    {
     "name": "stdout",
     "output_type": "stream",
     "text": [
      "Overwriting my_module.py\n"
     ]
    }
   ],
   "source": [
    "%%writefile my_module.py\n",
    "\"\"\"To jest mój pierwszy moduł.\"\"\"\n",
    "\n",
    "zmienna_globalna = \"Unikaj zmiennych globalnych!\"\n",
    "\n",
    "def moja_funkcja():\n",
    "    \"\"\"Drukuje zmienną globalną.\"\"\"\n",
    "    print(zmienna_globalna)\n",
    "    \n",
    "def inna_funkcja(word=\"\", n=0):\n",
    "    \"\"\"Drukuje word n razy.\"\"\"\n",
    "    print(word * n)"
   ]
  },
  {
   "cell_type": "markdown",
   "metadata": {
    "slideshow": {
     "slide_type": "subslide"
    }
   },
   "source": [
    "## Importowanie własnego modułu\n",
    "\n",
    "---"
   ]
  },
  {
   "cell_type": "code",
   "execution_count": 27,
   "metadata": {
    "slideshow": {
     "slide_type": "-"
    }
   },
   "outputs": [
    {
     "data": {
      "text/plain": [
       "'Unikaj zmiennych globalnych!'"
      ]
     },
     "execution_count": 27,
     "metadata": {},
     "output_type": "execute_result"
    }
   ],
   "source": [
    "import my_module\n",
    "\n",
    "my_module.zmienna_globalna"
   ]
  },
  {
   "cell_type": "code",
   "execution_count": 28,
   "metadata": {
    "slideshow": {
     "slide_type": "-"
    }
   },
   "outputs": [
    {
     "name": "stdout",
     "output_type": "stream",
     "text": [
      "Unikaj zmiennych globalnych!\n"
     ]
    }
   ],
   "source": [
    "my_module.moja_funkcja()"
   ]
  },
  {
   "cell_type": "code",
   "execution_count": 29,
   "metadata": {
    "slideshow": {
     "slide_type": "-"
    }
   },
   "outputs": [
    {
     "name": "stdout",
     "output_type": "stream",
     "text": [
      "----------\n"
     ]
    }
   ],
   "source": [
    "my_module.inna_funkcja(\"-\", 10)"
   ]
  },
  {
   "cell_type": "markdown",
   "metadata": {
    "slideshow": {
     "slide_type": "subslide"
    }
   },
   "source": [
    "## Dokumentacja modułu\n",
    "\n",
    "---"
   ]
  },
  {
   "cell_type": "code",
   "execution_count": 30,
   "metadata": {
    "slideshow": {
     "slide_type": "-"
    }
   },
   "outputs": [
    {
     "name": "stdout",
     "output_type": "stream",
     "text": [
      "Help on module my_module:\n",
      "\n",
      "NAME\n",
      "    my_module - To jest mój pierwszy moduł.\n",
      "\n",
      "FUNCTIONS\n",
      "    inna_funkcja(word='', n=0)\n",
      "        Drukuje word n razy.\n",
      "    \n",
      "    moja_funkcja()\n",
      "        Drukuje zmienną globalną.\n",
      "\n",
      "DATA\n",
      "    zmienna_globalna = 'Unikaj zmiennych globalnych!'\n",
      "\n",
      "FILE\n",
      "    y:\\studia\\doktorat\\dydaktyka\\elementy_programowania\\2020\\docs\\wyklady\\my_module.py\n",
      "\n",
      "\n"
     ]
    }
   ],
   "source": [
    "import my_module\n",
    "\n",
    "help(my_module)"
   ]
  },
  {
   "cell_type": "markdown",
   "metadata": {
    "slideshow": {
     "slide_type": "subslide"
    }
   },
   "source": [
    "## Zawartość modułu\n",
    "\n",
    "---"
   ]
  },
  {
   "cell_type": "code",
   "execution_count": 31,
   "metadata": {
    "slideshow": {
     "slide_type": "-"
    }
   },
   "outputs": [
    {
     "data": {
      "text/plain": [
       "['__builtins__',\n",
       " '__cached__',\n",
       " '__doc__',\n",
       " '__file__',\n",
       " '__loader__',\n",
       " '__name__',\n",
       " '__package__',\n",
       " '__spec__',\n",
       " 'inna_funkcja',\n",
       " 'moja_funkcja',\n",
       " 'zmienna_globalna']"
      ]
     },
     "execution_count": 31,
     "metadata": {},
     "output_type": "execute_result"
    }
   ],
   "source": [
    "import my_module\n",
    "\n",
    "dir(my_module)"
   ]
  },
  {
   "cell_type": "markdown",
   "metadata": {
    "slideshow": {
     "slide_type": "subslide"
    }
   },
   "source": [
    "## *doc*, *file*, *name*, *package*\n",
    "\n",
    "---"
   ]
  },
  {
   "cell_type": "code",
   "execution_count": 32,
   "metadata": {
    "slideshow": {
     "slide_type": "-"
    }
   },
   "outputs": [
    {
     "name": "stdout",
     "output_type": "stream",
     "text": [
      "To jest mój pierwszy moduł.\n"
     ]
    }
   ],
   "source": [
    "print(my_module.__doc__) # dokumentacja modułu"
   ]
  },
  {
   "cell_type": "code",
   "execution_count": 33,
   "metadata": {
    "scrolled": true,
    "slideshow": {
     "slide_type": "-"
    }
   },
   "outputs": [
    {
     "name": "stdout",
     "output_type": "stream",
     "text": [
      "Y:\\STUDIA\\Doktorat\\DYDAKTYKA\\ELEMENTY_PROGRAMOWANIA\\2020\\docs\\wyklady\\my_module.py\n"
     ]
    }
   ],
   "source": [
    "print(my_module.__file__) # ścieżka do pliku źródłowego"
   ]
  },
  {
   "cell_type": "code",
   "execution_count": 34,
   "metadata": {
    "slideshow": {
     "slide_type": "-"
    }
   },
   "outputs": [
    {
     "name": "stdout",
     "output_type": "stream",
     "text": [
      "my_module\n"
     ]
    }
   ],
   "source": [
    "print(my_module.__name__)  # nazwa modułu"
   ]
  },
  {
   "cell_type": "code",
   "execution_count": 35,
   "metadata": {
    "slideshow": {
     "slide_type": "-"
    }
   },
   "outputs": [
    {
     "name": "stdout",
     "output_type": "stream",
     "text": [
      "\n"
     ]
    }
   ],
   "source": [
    "print(my_module.__package__) # paczka to zbiór modułów"
   ]
  },
  {
   "cell_type": "markdown",
   "metadata": {
    "slideshow": {
     "slide_type": "slide"
    }
   },
   "source": [
    "## Skrypt jako \"zbior definicji\"\n",
    "\n",
    "---"
   ]
  },
  {
   "cell_type": "code",
   "execution_count": 36,
   "metadata": {
    "slideshow": {
     "slide_type": "-"
    }
   },
   "outputs": [
    {
     "name": "stdout",
     "output_type": "stream",
     "text": [
      "Overwriting my_module.py\n"
     ]
    }
   ],
   "source": [
    "%%writefile my_module.py\n",
    "\"\"\"To jest mój pierwszy moduł.\"\"\"\n",
    "\n",
    "zmienna_globalna = \"Unikaj zmiennych globalnych!\"\n",
    "\n",
    "def moja_funkcja():\n",
    "    \"\"\"Drukuje zmienną globalną.\"\"\"\n",
    "    print(zmienna_globalna)\n",
    "    \n",
    "def inna_funkcja(word=\"\", n=0):\n",
    "    \"\"\"Drukuje word n razy.\"\"\"\n",
    "    print(word * n)"
   ]
  },
  {
   "cell_type": "code",
   "execution_count": 37,
   "metadata": {
    "slideshow": {
     "slide_type": "-"
    }
   },
   "outputs": [],
   "source": [
    "%run my_module.py"
   ]
  },
  {
   "cell_type": "markdown",
   "metadata": {
    "slideshow": {
     "slide_type": "subslide"
    }
   },
   "source": [
    "## Skrypt wykonujący operacje\n",
    "\n",
    "---"
   ]
  },
  {
   "cell_type": "code",
   "execution_count": 38,
   "metadata": {
    "slideshow": {
     "slide_type": "-"
    }
   },
   "outputs": [
    {
     "name": "stdout",
     "output_type": "stream",
     "text": [
      "Overwriting my_module.py\n"
     ]
    }
   ],
   "source": [
    "%%writefile my_module.py\n",
    "\"\"\"To jest mój pierwszy moduł.\"\"\"\n",
    "\n",
    "zmienna_globalna = \"Unikaj zmiennych globalnych!\"\n",
    "\n",
    "def moja_funkcja():\n",
    "    \"\"\"Drukuje zmienną globalną.\"\"\"\n",
    "    print(zmienna_globalna)\n",
    "    \n",
    "def inna_funkcja(word=\"\", n=0):\n",
    "    \"\"\"Drukuje word n razy.\"\"\"\n",
    "    print(word * n)\n",
    "    \n",
    "inna_funkcja('-', 10)\n",
    "moja_funkcja()\n",
    "inna_funkcja('-', 10)"
   ]
  },
  {
   "cell_type": "code",
   "execution_count": 39,
   "metadata": {
    "slideshow": {
     "slide_type": "-"
    }
   },
   "outputs": [
    {
     "name": "stdout",
     "output_type": "stream",
     "text": [
      "----------\n",
      "Unikaj zmiennych globalnych!\n",
      "----------\n"
     ]
    }
   ],
   "source": [
    "%run my_module.py"
   ]
  },
  {
   "cell_type": "markdown",
   "metadata": {
    "slideshow": {
     "slide_type": "subslide"
    }
   },
   "source": [
    "## Wykonywanie podczas importowania\n",
    "\n",
    "---\n",
    "\n",
    "```\n",
    "Python 3.5.2 |Anaconda 4.2.0 (64-bit)| (default, Jul  2 2016, 17:53:06) \n",
    "[GCC 4.4.7 20120313 (Red Hat 4.4.7-1)] on linux\n",
    "Type \"help\", \"copyright\", \"credits\" or \"license\" for more information.\n",
    ">>> import my_module\n",
    "----------\n",
    "Unikaj zmiennych globalnych!\n",
    "----------\n",
    ">>> \n",
    "```"
   ]
  },
  {
   "cell_type": "markdown",
   "metadata": {
    "slideshow": {
     "slide_type": "subslide"
    }
   },
   "source": [
    "## \"Funkcja *main*\"\n",
    "\n",
    "---"
   ]
  },
  {
   "cell_type": "code",
   "execution_count": 40,
   "metadata": {
    "slideshow": {
     "slide_type": "-"
    }
   },
   "outputs": [
    {
     "name": "stdout",
     "output_type": "stream",
     "text": [
      "Overwriting my_module.py\n"
     ]
    }
   ],
   "source": [
    "%%writefile my_module.py\n",
    "\"\"\"To jest mój pierwszy moduł.\"\"\"\n",
    "\n",
    "zmienna_globalna = \"Unikaj zmiennych globalnych!\"\n",
    "\n",
    "def moja_funkcja():\n",
    "    \"\"\"Drukuje zmienną globalną.\"\"\"\n",
    "    print(zmienna_globalna)\n",
    "    \n",
    "def inna_funkcja(word=\"\", n=0):\n",
    "    \"\"\"Drukuje word n razy.\"\"\"\n",
    "    print(word * n)\n",
    "\n",
    "if __name__ == \"__main__\":\n",
    "    inna_funkcja('-', 10)\n",
    "    moja_funkcja()\n",
    "    inna_funkcja('-', 10)"
   ]
  },
  {
   "cell_type": "code",
   "execution_count": 41,
   "metadata": {
    "slideshow": {
     "slide_type": "-"
    }
   },
   "outputs": [
    {
     "name": "stdout",
     "output_type": "stream",
     "text": [
      "----------\n",
      "Unikaj zmiennych globalnych!\n",
      "----------\n"
     ]
    }
   ],
   "source": [
    "%run my_module.py"
   ]
  },
  {
   "cell_type": "markdown",
   "metadata": {
    "slideshow": {
     "slide_type": "subslide"
    }
   },
   "source": [
    "## Importowanie a *main*\n",
    "\n",
    "---\n",
    "\n",
    "* instrukcje w *main* nie zostaną wykonane podczas importowania (bo `__name__` = nazwa modułu)\n",
    "\n",
    "```\n",
    "Python 3.5.2 |Anaconda 4.2.0 (64-bit)| (default, Jul  2 2016, 17:53:06) \n",
    "[GCC 4.4.7 20120313 (Red Hat 4.4.7-1)] on linux\n",
    "Type \"help\", \"copyright\", \"credits\" or \"license\" for more information.\n",
    ">>> import my_module\n",
    ">>> \n",
    "```"
   ]
  },
  {
   "cell_type": "markdown",
   "metadata": {
    "slideshow": {
     "slide_type": "slide"
    }
   },
   "source": [
    "## Gdzie interpreter szuka modułów?\n",
    "\n",
    "---\n",
    "\n",
    "1. bieżący katalog\n",
    "2. w katalogach określonych w zmiennej środowiskowej `PYTHONPATH`\n",
    "3. w katalogach określonych w trakcie instalacji (np. `/usr/lib/python`)\n",
    "4. w katalogach określonych w zmiennej `sys.path`"
   ]
  },
  {
   "cell_type": "markdown",
   "metadata": {
    "slideshow": {
     "slide_type": "subslide"
    }
   },
   "source": [
    "## *sys.path*\n",
    "\n",
    "---"
   ]
  },
  {
   "cell_type": "code",
   "execution_count": 42,
   "metadata": {
    "slideshow": {
     "slide_type": "-"
    }
   },
   "outputs": [
    {
     "data": {
      "text/plain": [
       "['Y:\\\\STUDIA\\\\Doktorat\\\\DYDAKTYKA\\\\ELEMENTY_PROGRAMOWANIA\\\\2020\\\\docs\\\\wyklady',\n",
       " 'C:\\\\ProgramData\\\\Anaconda3\\\\python37.zip',\n",
       " 'C:\\\\ProgramData\\\\Anaconda3\\\\DLLs',\n",
       " 'C:\\\\ProgramData\\\\Anaconda3\\\\lib',\n",
       " 'C:\\\\ProgramData\\\\Anaconda3',\n",
       " '',\n",
       " 'C:\\\\Users\\\\Radosław.Zajdel\\\\AppData\\\\Roaming\\\\Python\\\\Python37\\\\site-packages',\n",
       " 'C:\\\\ProgramData\\\\Anaconda3\\\\lib\\\\site-packages',\n",
       " 'C:\\\\ProgramData\\\\Anaconda3\\\\lib\\\\site-packages\\\\win32',\n",
       " 'C:\\\\ProgramData\\\\Anaconda3\\\\lib\\\\site-packages\\\\win32\\\\lib',\n",
       " 'C:\\\\ProgramData\\\\Anaconda3\\\\lib\\\\site-packages\\\\Pythonwin',\n",
       " 'C:\\\\ProgramData\\\\Anaconda3\\\\lib\\\\site-packages\\\\IPython\\\\extensions',\n",
       " 'C:\\\\Users\\\\Radosław.Zajdel\\\\.ipython']"
      ]
     },
     "execution_count": 42,
     "metadata": {},
     "output_type": "execute_result"
    }
   ],
   "source": [
    "import sys\n",
    "\n",
    "sys.path"
   ]
  },
  {
   "cell_type": "markdown",
   "metadata": {
    "slideshow": {
     "slide_type": "subslide"
    }
   },
   "source": [
    "## *sys.path*\n",
    "\n",
    "---"
   ]
  },
  {
   "cell_type": "code",
   "execution_count": 43,
   "metadata": {
    "slideshow": {
     "slide_type": "-"
    }
   },
   "outputs": [
    {
     "data": {
      "text/plain": [
       "['Y:\\\\STUDIA\\\\Doktorat\\\\DYDAKTYKA\\\\ELEMENTY_PROGRAMOWANIA\\\\2020\\\\docs\\\\wyklady',\n",
       " 'C:\\\\ProgramData\\\\Anaconda3\\\\python37.zip',\n",
       " 'C:\\\\ProgramData\\\\Anaconda3\\\\DLLs',\n",
       " 'C:\\\\ProgramData\\\\Anaconda3\\\\lib',\n",
       " 'C:\\\\ProgramData\\\\Anaconda3',\n",
       " '',\n",
       " 'C:\\\\Users\\\\Radosław.Zajdel\\\\AppData\\\\Roaming\\\\Python\\\\Python37\\\\site-packages',\n",
       " 'C:\\\\ProgramData\\\\Anaconda3\\\\lib\\\\site-packages',\n",
       " 'C:\\\\ProgramData\\\\Anaconda3\\\\lib\\\\site-packages\\\\win32',\n",
       " 'C:\\\\ProgramData\\\\Anaconda3\\\\lib\\\\site-packages\\\\win32\\\\lib',\n",
       " 'C:\\\\ProgramData\\\\Anaconda3\\\\lib\\\\site-packages\\\\Pythonwin',\n",
       " 'C:\\\\ProgramData\\\\Anaconda3\\\\lib\\\\site-packages\\\\IPython\\\\extensions',\n",
       " 'C:\\\\Users\\\\Radosław.Zajdel\\\\.ipython',\n",
       " '/moja/sciezka/do/modulow']"
      ]
     },
     "execution_count": 43,
     "metadata": {},
     "output_type": "execute_result"
    }
   ],
   "source": [
    "sys.path.append(\"/moja/sciezka/do/modulow\")\n",
    "\n",
    "sys.path"
   ]
  },
  {
   "cell_type": "markdown",
   "metadata": {
    "slideshow": {
     "slide_type": "subslide"
    }
   },
   "source": [
    "## Moduł poza katalogiem roboczym\n",
    "\n",
    "---"
   ]
  },
  {
   "cell_type": "code",
   "execution_count": 44,
   "metadata": {
    "slideshow": {
     "slide_type": "-"
    }
   },
   "outputs": [
    {
     "name": "stdout",
     "output_type": "stream",
     "text": [
      "Overwriting ./src/trojmian.py\n"
     ]
    }
   ],
   "source": [
    "%%writefile ./src/trojmian.py\n",
    "\"\"\"Moduł do obsługi trómianu kwadratowego.\"\"\"\n",
    "\n",
    "from math import sqrt\n",
    "\n",
    "def _delta(a, b, c):\n",
    "    \"\"\"Liczy wyróżnik trójmianu.\"\"\"\n",
    "    return b**2 - 4*a*c\n",
    "\n",
    "def _solve(a, b, d):\n",
    "    \"\"\"Liczy miejsca zerowe.\"\"\"\n",
    "    d = sqrt(d)\n",
    "    return (-b + d) / 2 / a, (-b - d) / 2 / a\n",
    "\n",
    "def solution(a, b, c):\n",
    "    \"\"\"Zwraca miejsca zerowe.\"\"\"\n",
    "    d = _delta(a, b, c)\n",
    "    \n",
    "    if d < 0:return None\n",
    "    elif d == 0: return -b / 2 / a\n",
    "    else: return _solve(a, b, d) "
   ]
  },
  {
   "cell_type": "markdown",
   "metadata": {
    "slideshow": {
     "slide_type": "subslide"
    }
   },
   "source": [
    "## Moduł poza katalogiem roboczym\n",
    "\n",
    "---"
   ]
  },
  {
   "cell_type": "code",
   "execution_count": 45,
   "metadata": {
    "slideshow": {
     "slide_type": "-"
    }
   },
   "outputs": [
    {
     "ename": "ModuleNotFoundError",
     "evalue": "No module named 'trojmian'",
     "output_type": "error",
     "traceback": [
      "\u001b[1;31m---------------------------------------------------------------------------\u001b[0m",
      "\u001b[1;31mModuleNotFoundError\u001b[0m                       Traceback (most recent call last)",
      "\u001b[1;32m<ipython-input-45-ce42dd0124ea>\u001b[0m in \u001b[0;36m<module>\u001b[1;34m\u001b[0m\n\u001b[0;32m      1\u001b[0m \u001b[1;31m# nie ma w katalogu roboczym ani w PYTHONPATH itd\u001b[0m\u001b[1;33m\u001b[0m\u001b[1;33m\u001b[0m\u001b[1;33m\u001b[0m\u001b[0m\n\u001b[1;32m----> 2\u001b[1;33m \u001b[1;32mimport\u001b[0m \u001b[0mtrojmian\u001b[0m\u001b[1;33m\u001b[0m\u001b[1;33m\u001b[0m\u001b[0m\n\u001b[0m",
      "\u001b[1;31mModuleNotFoundError\u001b[0m: No module named 'trojmian'"
     ]
    }
   ],
   "source": [
    "# nie ma w katalogu roboczym ani w PYTHONPATH itd\n",
    "import trojmian"
   ]
  },
  {
   "cell_type": "code",
   "execution_count": 46,
   "metadata": {
    "slideshow": {
     "slide_type": "-"
    }
   },
   "outputs": [],
   "source": [
    "import sys\n",
    "sys.path.append(\"./src/\") # dodajemy ścieżkę do sys.path\n",
    "import trojmian # teraz działa"
   ]
  },
  {
   "cell_type": "markdown",
   "metadata": {
    "slideshow": {
     "slide_type": "subslide"
    }
   },
   "source": [
    "## Trójmian w akcji\n",
    "\n",
    "---"
   ]
  },
  {
   "cell_type": "code",
   "execution_count": 47,
   "metadata": {
    "slideshow": {
     "slide_type": "-"
    }
   },
   "outputs": [
    {
     "name": "stdout",
     "output_type": "stream",
     "text": [
      "Help on module trojmian:\n",
      "\n",
      "NAME\n",
      "    trojmian - Moduł do obsługi trómianu kwadratowego.\n",
      "\n",
      "FUNCTIONS\n",
      "    solution(a, b, c)\n",
      "        Zwraca miejsca zerowe.\n",
      "    \n",
      "    sqrt(x, /)\n",
      "        Return the square root of x.\n",
      "\n",
      "FILE\n",
      "    y:\\studia\\doktorat\\dydaktyka\\elementy_programowania\\2020\\docs\\wyklady\\src\\trojmian.py\n",
      "\n",
      "\n"
     ]
    }
   ],
   "source": [
    "help(trojmian) # nie ma _delta, ale jest sqrt!"
   ]
  },
  {
   "cell_type": "markdown",
   "metadata": {
    "slideshow": {
     "slide_type": "subslide"
    }
   },
   "source": [
    "## Trójmian w akcji\n",
    "\n",
    "---"
   ]
  },
  {
   "cell_type": "code",
   "execution_count": 48,
   "metadata": {
    "slideshow": {
     "slide_type": "-"
    }
   },
   "outputs": [],
   "source": [
    "from trojmian import * # importuj wszystko"
   ]
  },
  {
   "cell_type": "code",
   "execution_count": 49,
   "metadata": {
    "slideshow": {
     "slide_type": "-"
    }
   },
   "outputs": [
    {
     "data": {
      "text/plain": [
       "-1.0"
      ]
     },
     "execution_count": 49,
     "metadata": {},
     "output_type": "execute_result"
    }
   ],
   "source": [
    "solution(1, 2, 1) # dostęp do solution"
   ]
  },
  {
   "cell_type": "code",
   "execution_count": 50,
   "metadata": {
    "slideshow": {
     "slide_type": "-"
    }
   },
   "outputs": [
    {
     "data": {
      "text/plain": [
       "2.0"
      ]
     },
     "execution_count": 50,
     "metadata": {},
     "output_type": "execute_result"
    }
   ],
   "source": [
    "sqrt(4) # dostęp do sqrt z math!"
   ]
  },
  {
   "cell_type": "code",
   "execution_count": 51,
   "metadata": {
    "scrolled": true,
    "slideshow": {
     "slide_type": "-"
    }
   },
   "outputs": [
    {
     "ename": "NameError",
     "evalue": "name '_delta' is not defined",
     "output_type": "error",
     "traceback": [
      "\u001b[1;31m---------------------------------------------------------------------------\u001b[0m",
      "\u001b[1;31mNameError\u001b[0m                                 Traceback (most recent call last)",
      "\u001b[1;32m<ipython-input-51-480c558e6773>\u001b[0m in \u001b[0;36m<module>\u001b[1;34m\u001b[0m\n\u001b[1;32m----> 1\u001b[1;33m \u001b[0m_delta\u001b[0m\u001b[1;33m(\u001b[0m\u001b[1;36m1\u001b[0m\u001b[1;33m,\u001b[0m \u001b[1;36m2\u001b[0m\u001b[1;33m,\u001b[0m \u001b[1;36m1\u001b[0m\u001b[1;33m)\u001b[0m \u001b[1;31m# ale _delta nie została zaimportowana\u001b[0m\u001b[1;33m\u001b[0m\u001b[1;33m\u001b[0m\u001b[0m\n\u001b[0m",
      "\u001b[1;31mNameError\u001b[0m: name '_delta' is not defined"
     ]
    }
   ],
   "source": [
    "_delta(1, 2, 1) # ale _delta nie została zaimportowana"
   ]
  },
  {
   "cell_type": "markdown",
   "metadata": {
    "slideshow": {
     "slide_type": "slide"
    }
   },
   "source": [
    "## Błędy (*bug*)\n",
    "\n",
    "---\n",
    "\n",
    "> Without requirements or design, programming is the art of adding bugs to an empty text file.\n",
    "\n",
    "> *Louis Srygley*\n",
    "\n",
    "* błędy leksykalne i składniowe\n",
    "* błędy typowania\n",
    "* błędy semantyczne i logiczne\n",
    "* błędy działania\n",
    "* nieskończone obliczenia"
   ]
  },
  {
   "cell_type": "markdown",
   "metadata": {
    "slideshow": {
     "slide_type": "subslide"
    }
   },
   "source": [
    "## Błędy leksykalne\n",
    "\n",
    "---\n",
    "\n",
    "* pojedyncza jednostka leksykalna, której nie przewiduje definicja języka"
   ]
  },
  {
   "cell_type": "code",
   "execution_count": 52,
   "metadata": {
    "slideshow": {
     "slide_type": "-"
    }
   },
   "outputs": [
    {
     "ename": "SyntaxError",
     "evalue": "invalid syntax (<ipython-input-52-9d74a3fa6408>, line 2)",
     "output_type": "error",
     "traceback": [
      "\u001b[1;36m  File \u001b[1;32m\"<ipython-input-52-9d74a3fa6408>\"\u001b[1;36m, line \u001b[1;32m2\u001b[0m\n\u001b[1;33m    x++ # operator ++ nie istnieje\u001b[0m\n\u001b[1;37m                                  ^\u001b[0m\n\u001b[1;31mSyntaxError\u001b[0m\u001b[1;31m:\u001b[0m invalid syntax\n"
     ]
    }
   ],
   "source": [
    "x = 1\n",
    "x++ # operator ++ nie istnieje"
   ]
  },
  {
   "cell_type": "markdown",
   "metadata": {
    "slideshow": {
     "slide_type": "subslide"
    }
   },
   "source": [
    "## Błędy składniowe (*syntax error*)\n",
    "\n",
    "---\n",
    "\n",
    "* niepoprawnie zestawione poprawne jednostki leksykalne "
   ]
  },
  {
   "cell_type": "code",
   "execution_count": 53,
   "metadata": {
    "slideshow": {
     "slide_type": "-"
    }
   },
   "outputs": [
    {
     "ename": "SyntaxError",
     "evalue": "invalid syntax (<ipython-input-53-b7b1498375dd>, line 1)",
     "output_type": "error",
     "traceback": [
      "\u001b[1;36m  File \u001b[1;32m\"<ipython-input-53-b7b1498375dd>\"\u001b[1;36m, line \u001b[1;32m1\u001b[0m\n\u001b[1;33m    if True                   # brakuje :\u001b[0m\n\u001b[1;37m                                         ^\u001b[0m\n\u001b[1;31mSyntaxError\u001b[0m\u001b[1;31m:\u001b[0m invalid syntax\n"
     ]
    }
   ],
   "source": [
    "if True                   # brakuje :\n",
    "    print(\"Hello World\")) # dodatkowy )"
   ]
  },
  {
   "cell_type": "markdown",
   "metadata": {
    "slideshow": {
     "slide_type": "subslide"
    }
   },
   "source": [
    "## Błędy typowania\n",
    "\n",
    "---\n",
    "\n",
    "* wyrażenie nieadekwatne do typu"
   ]
  },
  {
   "cell_type": "code",
   "execution_count": 54,
   "metadata": {},
   "outputs": [
    {
     "ename": "TypeError",
     "evalue": "'int' object does not support item assignment",
     "output_type": "error",
     "traceback": [
      "\u001b[1;31m---------------------------------------------------------------------------\u001b[0m",
      "\u001b[1;31mTypeError\u001b[0m                                 Traceback (most recent call last)",
      "\u001b[1;32m<ipython-input-54-d6d6ef60bfc9>\u001b[0m in \u001b[0;36m<module>\u001b[1;34m\u001b[0m\n\u001b[0;32m      1\u001b[0m \u001b[0mx\u001b[0m \u001b[1;33m=\u001b[0m \u001b[1;36m1\u001b[0m\u001b[1;33m\u001b[0m\u001b[1;33m\u001b[0m\u001b[0m\n\u001b[0;32m      2\u001b[0m \u001b[1;33m\u001b[0m\u001b[0m\n\u001b[1;32m----> 3\u001b[1;33m \u001b[0mx\u001b[0m\u001b[1;33m[\u001b[0m\u001b[1;36m0\u001b[0m\u001b[1;33m]\u001b[0m \u001b[1;33m=\u001b[0m \u001b[1;36m2\u001b[0m \u001b[1;31m# x nie jest sekwencyjnym typem danych\u001b[0m\u001b[1;33m\u001b[0m\u001b[1;33m\u001b[0m\u001b[0m\n\u001b[0m",
      "\u001b[1;31mTypeError\u001b[0m: 'int' object does not support item assignment"
     ]
    }
   ],
   "source": [
    "x = 1\n",
    "\n",
    "x[0] = 2 # x nie jest sekwencyjnym typem danych"
   ]
  },
  {
   "cell_type": "markdown",
   "metadata": {
    "slideshow": {
     "slide_type": "subslide"
    }
   },
   "source": [
    "## Błędy działania (*runtime error*)\n",
    "\n",
    "---\n",
    "\n",
    "* pojawiają się w trakcie działania programu (np. odczyt z pliku, który nie istnieje)"
   ]
  },
  {
   "cell_type": "code",
   "execution_count": 55,
   "metadata": {
    "slideshow": {
     "slide_type": "-"
    }
   },
   "outputs": [
    {
     "ename": "ZeroDivisionError",
     "evalue": "division by zero",
     "output_type": "error",
     "traceback": [
      "\u001b[1;31m---------------------------------------------------------------------------\u001b[0m",
      "\u001b[1;31mZeroDivisionError\u001b[0m                         Traceback (most recent call last)",
      "\u001b[1;32m<ipython-input-55-b121eafc0f11>\u001b[0m in \u001b[0;36m<module>\u001b[1;34m\u001b[0m\n\u001b[0;32m      3\u001b[0m     \u001b[1;32mreturn\u001b[0m \u001b[0ma\u001b[0m \u001b[1;33m/\u001b[0m \u001b[0mb\u001b[0m\u001b[1;33m\u001b[0m\u001b[1;33m\u001b[0m\u001b[0m\n\u001b[0;32m      4\u001b[0m \u001b[1;33m\u001b[0m\u001b[0m\n\u001b[1;32m----> 5\u001b[1;33m \u001b[0miloraz\u001b[0m\u001b[1;33m(\u001b[0m\u001b[1;36m10\u001b[0m\u001b[1;33m,\u001b[0m \u001b[1;36m0\u001b[0m\u001b[1;33m)\u001b[0m \u001b[1;31m# dzielenie przez 0\u001b[0m\u001b[1;33m\u001b[0m\u001b[1;33m\u001b[0m\u001b[0m\n\u001b[0m",
      "\u001b[1;32m<ipython-input-55-b121eafc0f11>\u001b[0m in \u001b[0;36miloraz\u001b[1;34m(a, b)\u001b[0m\n\u001b[0;32m      1\u001b[0m \u001b[1;32mdef\u001b[0m \u001b[0miloraz\u001b[0m\u001b[1;33m(\u001b[0m\u001b[0ma\u001b[0m\u001b[1;33m,\u001b[0m \u001b[0mb\u001b[0m\u001b[1;33m)\u001b[0m\u001b[1;33m:\u001b[0m\u001b[1;33m\u001b[0m\u001b[1;33m\u001b[0m\u001b[0m\n\u001b[0;32m      2\u001b[0m     \u001b[1;34m\"\"\"Zwraca a / b\"\"\"\u001b[0m\u001b[1;33m\u001b[0m\u001b[1;33m\u001b[0m\u001b[0m\n\u001b[1;32m----> 3\u001b[1;33m     \u001b[1;32mreturn\u001b[0m \u001b[0ma\u001b[0m \u001b[1;33m/\u001b[0m \u001b[0mb\u001b[0m\u001b[1;33m\u001b[0m\u001b[1;33m\u001b[0m\u001b[0m\n\u001b[0m\u001b[0;32m      4\u001b[0m \u001b[1;33m\u001b[0m\u001b[0m\n\u001b[0;32m      5\u001b[0m \u001b[0miloraz\u001b[0m\u001b[1;33m(\u001b[0m\u001b[1;36m10\u001b[0m\u001b[1;33m,\u001b[0m \u001b[1;36m0\u001b[0m\u001b[1;33m)\u001b[0m \u001b[1;31m# dzielenie przez 0\u001b[0m\u001b[1;33m\u001b[0m\u001b[1;33m\u001b[0m\u001b[0m\n",
      "\u001b[1;31mZeroDivisionError\u001b[0m: division by zero"
     ]
    }
   ],
   "source": [
    "def iloraz(a, b):\n",
    "    \"\"\"Zwraca a / b\"\"\"\n",
    "    return a / b\n",
    "\n",
    "iloraz(10, 0) # dzielenie przez 0"
   ]
  },
  {
   "cell_type": "markdown",
   "metadata": {
    "slideshow": {
     "slide_type": "subslide"
    }
   },
   "source": [
    "## Błędy semantyczne (*semantic error*)\n",
    "\n",
    "---\n",
    "\n",
    "* niezgodność oczekiwań ze stanem faktycznym"
   ]
  },
  {
   "cell_type": "code",
   "execution_count": 56,
   "metadata": {
    "slideshow": {
     "slide_type": "-"
    }
   },
   "outputs": [],
   "source": [
    "def dzialanie(a, b, c):\n",
    "    \"\"\"Zwraca iloraz a przez sumę b i c.\"\"\"\n",
    "    return a / b + c # zamiast a / (b + c)"
   ]
  },
  {
   "cell_type": "markdown",
   "metadata": {
    "slideshow": {
     "slide_type": "subslide"
    }
   },
   "source": [
    "## Błędy logiczne\n",
    "\n",
    "---\n",
    "\n",
    "* program liczy nie to co trzeba (w tym też błędy semantyczne)\n",
    "* najtrudniejsze do znalezienia"
   ]
  },
  {
   "cell_type": "code",
   "execution_count": 57,
   "metadata": {
    "slideshow": {
     "slide_type": "-"
    }
   },
   "outputs": [],
   "source": [
    "def delta(a, b, c):\n",
    "    \"\"\"Liczy wyróżnik trójmianu kwadratowego.\"\"\"\n",
    "    return b - 4*a*c # zamiast b*b - 4*a*c"
   ]
  },
  {
   "cell_type": "markdown",
   "metadata": {
    "slideshow": {
     "slide_type": "subslide"
    }
   },
   "source": [
    "## Nieskończone pętle\n",
    "\n",
    "---"
   ]
  },
  {
   "cell_type": "code",
   "execution_count": null,
   "metadata": {
    "slideshow": {
     "slide_type": "-"
    }
   },
   "outputs": [],
   "source": [
    "def loop(i = 0):\n",
    "    while i < 10:\n",
    "        i -= 1 # i zawsze będzie mniejsze od 10"
   ]
  },
  {
   "cell_type": "markdown",
   "metadata": {
    "slideshow": {
     "slide_type": "slide"
    }
   },
   "source": [
    "## Najdroższy myślnik w historii\n",
    "\n",
    "---\n",
    "\n",
    "* NASA (1962); Mariner 1:  Floryda -> Wenus\n",
    "\n",
    "> Review Board determined that the omission of a hyphen in coded computer instructions in the data-editing program allowed transmission of incorrect guidance signals to the spacecraft.\n",
    "\n",
    "[źródło](http://nssdc.gsfc.nasa.gov/nmc/spacecraftDisplay.do?id=MARIN1)"
   ]
  },
  {
   "cell_type": "markdown",
   "metadata": {
    "slideshow": {
     "slide_type": "subslide"
    }
   },
   "source": [
    "## Therac-25\n",
    "\n",
    "---\n",
    "\n",
    "* maszyna do radioterapii nowotworów\n",
    "* na skutek błędów programistycznych kilka osób zmarło na skutek napromieniowania\n",
    "* błąd typu *race condition* - przy zbyt szybkim wprowadzaniu danych (przez operatora) parametry zabiegu nie były prawidłowo inicjowane"
   ]
  },
  {
   "cell_type": "markdown",
   "metadata": {
    "slideshow": {
     "slide_type": "slide"
    }
   },
   "source": [
    "## Zapobieganie błędom\n",
    "\n",
    "---\n",
    "\n",
    "* pisanie czytelnego kodu\n",
    "* *code review*\n",
    "* debugowanie"
   ]
  },
  {
   "cell_type": "markdown",
   "metadata": {
    "slideshow": {
     "slide_type": "subslide"
    }
   },
   "source": [
    "## Czytelność kodu\n",
    "\n",
    "---\n",
    "\n",
    "* zrozumiałe nazwy zmiennych (nawet kosztem długości)\n",
    "* komentowanie kodu źródłowego, który nie jest zrozumiały od razu\n",
    "* tworzenie dokumentacji w trakcie pisania programu\n",
    "* opisywanie przyjętych założeń (w komentarzach i/lub dokumentacji)"
   ]
  },
  {
   "cell_type": "markdown",
   "metadata": {
    "slideshow": {
     "slide_type": "subslide"
    }
   },
   "source": [
    "## *Code review*\n",
    "\n",
    "---\n",
    "\n",
    "* sprawdzenie kodu przez inną osobę\n",
    "\n",
    "![](src/code_review.jpg)"
   ]
  },
  {
   "cell_type": "markdown",
   "metadata": {
    "slideshow": {
     "slide_type": "subslide"
    }
   },
   "source": [
    "## Debugowanie\n",
    "\n",
    "---\n",
    "\n",
    "> If debugging is the process of removing software bugs, then programming must be the process of putting them in. \n",
    "\n",
    "> *Edsger Dijkstra*\n",
    "\n",
    "* systematyczne redukowanie błędów w kodzie\n",
    "* kontrolowane wykonanie programu\n",
    "* debugger"
   ]
  },
  {
   "cell_type": "markdown",
   "metadata": {
    "slideshow": {
     "slide_type": "subslide"
    }
   },
   "source": [
    "## \\_\\_debug\\_\\_\n",
    "\n",
    "---"
   ]
  },
  {
   "cell_type": "code",
   "execution_count": 58,
   "metadata": {
    "slideshow": {
     "slide_type": "-"
    }
   },
   "outputs": [
    {
     "name": "stdout",
     "output_type": "stream",
     "text": [
      "Overwriting debug.py\n"
     ]
    }
   ],
   "source": [
    "%%writefile debug.py\n",
    "\n",
    "# __debug__ - wbudowana stała\n",
    "# równa True - jeśli uruchomione bez -O (optimize)\n",
    "\n",
    "if __debug__:\n",
    "    print(\"Jestem w trybie debugowania.\")\n",
    "else:\n",
    "    print(\"Jestem w trybie normalnym.\")"
   ]
  },
  {
   "cell_type": "code",
   "execution_count": 60,
   "metadata": {
    "slideshow": {
     "slide_type": "-"
    }
   },
   "outputs": [
    {
     "name": "stdout",
     "output_type": "stream",
     "text": [
      "Microsoft Windows [Version 10.0.18363.959]\r\n",
      "(c) 2019 Microsoft Corporation. Wszelkie prawa zastrzeľone.\r\n",
      "\r\n",
      "Y:\\STUDIA\\Doktorat\\DYDAKTYKA\\ELEMENTY_PROGRAMOWANIA\\2020\\docs\\wyklady>python debug.py\n",
      "Jestem w trybie debugowania.\r\n",
      "\r\n",
      "Y:\\STUDIA\\Doktorat\\DYDAKTYKA\\ELEMENTY_PROGRAMOWANIA\\2020\\docs\\wyklady>"
     ]
    }
   ],
   "source": [
    "%%cmd\n",
    "python debug.py"
   ]
  },
  {
   "cell_type": "code",
   "execution_count": 61,
   "metadata": {
    "slideshow": {
     "slide_type": "-"
    }
   },
   "outputs": [
    {
     "name": "stdout",
     "output_type": "stream",
     "text": [
      "Microsoft Windows [Version 10.0.18363.959]\r\n",
      "(c) 2019 Microsoft Corporation. Wszelkie prawa zastrzeľone.\r\n",
      "\r\n",
      "Y:\\STUDIA\\Doktorat\\DYDAKTYKA\\ELEMENTY_PROGRAMOWANIA\\2020\\docs\\wyklady>python -O debug.py\n",
      "Jestem w trybie normalnym.\r\n",
      "\r\n",
      "Y:\\STUDIA\\Doktorat\\DYDAKTYKA\\ELEMENTY_PROGRAMOWANIA\\2020\\docs\\wyklady>"
     ]
    }
   ],
   "source": [
    "%%cmd\n",
    "python -O debug.py"
   ]
  },
  {
   "cell_type": "markdown",
   "metadata": {
    "slideshow": {
     "slide_type": "subslide"
    }
   },
   "source": [
    "## Przykład\n",
    "\n",
    "---"
   ]
  },
  {
   "cell_type": "code",
   "execution_count": 62,
   "metadata": {
    "slideshow": {
     "slide_type": "-"
    }
   },
   "outputs": [
    {
     "name": "stdout",
     "output_type": "stream",
     "text": [
      "Overwriting fib.py\n"
     ]
    }
   ],
   "source": [
    "%%writefile fib.py\n",
    "\"\"\"Wyznacza pierwsze wyrazy ciągu Fibonacciego.\"\"\"\n",
    "\n",
    "fib = [0, 1]\n",
    "\n",
    "for i in range(2,10):\n",
    "    if not __debug__:\n",
    "        print(\"i =\", i)\n",
    "        print(\"fib =\", fib)\n",
    "        print(\"fib[i-2] =\", fib[i-2])\n",
    "        print(\"fib[i-1] =\", fib[i-1])\n",
    "        print()\n",
    "    \n",
    "    fib.append(fib[i-2] + fib[i-1])\n",
    "\n",
    "print(fib) # [0, 1, 1, 2, 3, 5, 8, 13, ...]"
   ]
  },
  {
   "cell_type": "code",
   "execution_count": 63,
   "metadata": {
    "slideshow": {
     "slide_type": "-"
    }
   },
   "outputs": [
    {
     "name": "stdout",
     "output_type": "stream",
     "text": [
      "Microsoft Windows [Version 10.0.18363.959]\r\n",
      "(c) 2019 Microsoft Corporation. Wszelkie prawa zastrzeľone.\r\n",
      "\r\n",
      "Y:\\STUDIA\\Doktorat\\DYDAKTYKA\\ELEMENTY_PROGRAMOWANIA\\2020\\docs\\wyklady>python fib.py\n",
      "[0, 1, 1, 2, 3, 5, 8, 13, 21, 34]\r\n",
      "\r\n",
      "Y:\\STUDIA\\Doktorat\\DYDAKTYKA\\ELEMENTY_PROGRAMOWANIA\\2020\\docs\\wyklady>"
     ]
    }
   ],
   "source": [
    "%%cmd\n",
    "python fib.py"
   ]
  },
  {
   "cell_type": "markdown",
   "metadata": {
    "slideshow": {
     "slide_type": "subslide"
    }
   },
   "source": [
    "## Przykład - *debug mode*\n",
    "\n",
    "---"
   ]
  },
  {
   "cell_type": "code",
   "execution_count": 64,
   "metadata": {
    "slideshow": {
     "slide_type": "-"
    }
   },
   "outputs": [
    {
     "name": "stdout",
     "output_type": "stream",
     "text": [
      "Microsoft Windows [Version 10.0.18363.959]\r\n",
      "(c) 2019 Microsoft Corporation. Wszelkie prawa zastrzeľone.\r\n",
      "\r\n",
      "Y:\\STUDIA\\Doktorat\\DYDAKTYKA\\ELEMENTY_PROGRAMOWANIA\\2020\\docs\\wyklady>python -O fib.py\n",
      "i = 2\r\n",
      "fib = [0, 1]\r\n",
      "fib[i-2] = 0\r\n",
      "fib[i-1] = 1\r\n",
      "\r\n",
      "i = 3\r\n",
      "fib = [0, 1, 1]\r\n",
      "fib[i-2] = 1\r\n",
      "fib[i-1] = 1\r\n",
      "\r\n",
      "i = 4\r\n",
      "fib = [0, 1, 1, 2]\r\n",
      "fib[i-2] = 1\r\n",
      "fib[i-1] = 2\r\n",
      "\r\n",
      "i = 5\r\n",
      "fib = [0, 1, 1, 2, 3]\r\n",
      "fib[i-2] = 2\r\n",
      "fib[i-1] = 3\r\n",
      "\r\n",
      "i = 6\r\n",
      "fib = [0, 1, 1, 2, 3, 5]\r\n",
      "fib[i-2] = 3\r\n",
      "fib[i-1] = 5\r\n",
      "\r\n",
      "i = 7\r\n",
      "fib = [0, 1, 1, 2, 3, 5, 8]\r\n",
      "fib[i-2] = 5\r\n",
      "fib[i-1] = 8\r\n",
      "\r\n",
      "i = 8\r\n",
      "fib = [0, 1, 1, 2, 3, 5, 8, 13]\r\n",
      "fib[i-2] = 8\r\n",
      "fib[i-1] = 13\r\n",
      "\r\n",
      "i = 9\r\n",
      "fib = [0, 1, 1, 2, 3, 5, 8, 13, 21]\r\n",
      "fib[i-2] = 13\r\n",
      "fib[i-1] = 21\r\n",
      "\r\n",
      "[0, 1, 1, 2, 3, 5, 8, 13, 21, 34]\r\n",
      "\r\n",
      "Y:\\STUDIA\\Doktorat\\DYDAKTYKA\\ELEMENTY_PROGRAMOWANIA\\2020\\docs\\wyklady>"
     ]
    }
   ],
   "source": [
    "%%cmd\n",
    "python -O fib.py"
   ]
  },
  {
   "cell_type": "markdown",
   "metadata": {
    "slideshow": {
     "slide_type": "slide"
    }
   },
   "source": [
    "## Wyjątki (*exceptions*)\n",
    "\n",
    "---\n",
    "\n",
    "* błędy działania (*runtime error*)\n",
    "* wykryte podczas wykonywania są nazywane wyjątkami\n",
    "* programista może decydować co robić z wyjątkami"
   ]
  },
  {
   "cell_type": "markdown",
   "metadata": {
    "slideshow": {
     "slide_type": "subslide"
    }
   },
   "source": [
    "## Przykład - iloraz\n",
    "\n",
    "---"
   ]
  },
  {
   "cell_type": "code",
   "execution_count": 65,
   "metadata": {
    "slideshow": {
     "slide_type": "-"
    }
   },
   "outputs": [],
   "source": [
    "def iloraz(a, b):\n",
    "    \"\"\"Zwraca a / b\"\"\"\n",
    "    return a / b"
   ]
  },
  {
   "cell_type": "code",
   "execution_count": 66,
   "metadata": {
    "slideshow": {
     "slide_type": "-"
    }
   },
   "outputs": [
    {
     "data": {
      "text/plain": [
       "5.0"
      ]
     },
     "execution_count": 66,
     "metadata": {},
     "output_type": "execute_result"
    }
   ],
   "source": [
    "iloraz(10, 2)"
   ]
  },
  {
   "cell_type": "code",
   "execution_count": 67,
   "metadata": {
    "slideshow": {
     "slide_type": "-"
    }
   },
   "outputs": [
    {
     "ename": "ZeroDivisionError",
     "evalue": "division by zero",
     "output_type": "error",
     "traceback": [
      "\u001b[1;31m---------------------------------------------------------------------------\u001b[0m",
      "\u001b[1;31mZeroDivisionError\u001b[0m                         Traceback (most recent call last)",
      "\u001b[1;32m<ipython-input-67-3bcf795e7a4e>\u001b[0m in \u001b[0;36m<module>\u001b[1;34m\u001b[0m\n\u001b[1;32m----> 1\u001b[1;33m \u001b[0miloraz\u001b[0m\u001b[1;33m(\u001b[0m\u001b[1;36m10\u001b[0m\u001b[1;33m,\u001b[0m \u001b[1;36m0\u001b[0m\u001b[1;33m)\u001b[0m\u001b[1;33m\u001b[0m\u001b[1;33m\u001b[0m\u001b[0m\n\u001b[0m",
      "\u001b[1;32m<ipython-input-65-415ec9ffa32b>\u001b[0m in \u001b[0;36miloraz\u001b[1;34m(a, b)\u001b[0m\n\u001b[0;32m      1\u001b[0m \u001b[1;32mdef\u001b[0m \u001b[0miloraz\u001b[0m\u001b[1;33m(\u001b[0m\u001b[0ma\u001b[0m\u001b[1;33m,\u001b[0m \u001b[0mb\u001b[0m\u001b[1;33m)\u001b[0m\u001b[1;33m:\u001b[0m\u001b[1;33m\u001b[0m\u001b[1;33m\u001b[0m\u001b[0m\n\u001b[0;32m      2\u001b[0m     \u001b[1;34m\"\"\"Zwraca a / b\"\"\"\u001b[0m\u001b[1;33m\u001b[0m\u001b[1;33m\u001b[0m\u001b[0m\n\u001b[1;32m----> 3\u001b[1;33m     \u001b[1;32mreturn\u001b[0m \u001b[0ma\u001b[0m \u001b[1;33m/\u001b[0m \u001b[0mb\u001b[0m\u001b[1;33m\u001b[0m\u001b[1;33m\u001b[0m\u001b[0m\n\u001b[0m",
      "\u001b[1;31mZeroDivisionError\u001b[0m: division by zero"
     ]
    }
   ],
   "source": [
    "iloraz(10, 0)"
   ]
  },
  {
   "cell_type": "markdown",
   "metadata": {
    "slideshow": {
     "slide_type": "subslide"
    }
   },
   "source": [
    "## Iloraz - zabezpiecznie *if*\n",
    "\n",
    "---"
   ]
  },
  {
   "cell_type": "code",
   "execution_count": 68,
   "metadata": {
    "slideshow": {
     "slide_type": "-"
    }
   },
   "outputs": [],
   "source": [
    "def iloraz(a, b):\n",
    "    \"\"\"Zwraca a / b lub zero, jeśli b = 0.\"\"\"\n",
    "    if b == 0: # można tak, ale lepiej korzystać z wyjątków\n",
    "        return 0\n",
    "    return a / b"
   ]
  },
  {
   "cell_type": "code",
   "execution_count": 69,
   "metadata": {
    "slideshow": {
     "slide_type": "-"
    }
   },
   "outputs": [
    {
     "data": {
      "text/plain": [
       "5.0"
      ]
     },
     "execution_count": 69,
     "metadata": {},
     "output_type": "execute_result"
    }
   ],
   "source": [
    "iloraz(10, 2)"
   ]
  },
  {
   "cell_type": "code",
   "execution_count": 70,
   "metadata": {
    "slideshow": {
     "slide_type": "-"
    }
   },
   "outputs": [
    {
     "data": {
      "text/plain": [
       "0"
      ]
     },
     "execution_count": 70,
     "metadata": {},
     "output_type": "execute_result"
    }
   ],
   "source": [
    "iloraz(10, 0)"
   ]
  },
  {
   "cell_type": "markdown",
   "metadata": {
    "slideshow": {
     "slide_type": "subslide"
    }
   },
   "source": [
    "## Iloraz - *wyjątek*\n",
    "\n",
    "---"
   ]
  },
  {
   "cell_type": "code",
   "execution_count": 71,
   "metadata": {
    "slideshow": {
     "slide_type": "-"
    }
   },
   "outputs": [],
   "source": [
    "def iloraz(a, b):\n",
    "    \"\"\"Zwraca a / b lub zero, jeśli b = 0.\"\"\"\n",
    "    try:    # spróbuj\n",
    "        return a / b\n",
    "    except: # jeśli error to\n",
    "        return 0"
   ]
  },
  {
   "cell_type": "code",
   "execution_count": 72,
   "metadata": {
    "slideshow": {
     "slide_type": "-"
    }
   },
   "outputs": [
    {
     "data": {
      "text/plain": [
       "5.0"
      ]
     },
     "execution_count": 72,
     "metadata": {},
     "output_type": "execute_result"
    }
   ],
   "source": [
    "iloraz(10, 2)"
   ]
  },
  {
   "cell_type": "code",
   "execution_count": 73,
   "metadata": {
    "slideshow": {
     "slide_type": "-"
    }
   },
   "outputs": [
    {
     "data": {
      "text/plain": [
       "0"
      ]
     },
     "execution_count": 73,
     "metadata": {},
     "output_type": "execute_result"
    }
   ],
   "source": [
    "iloraz(10, 0)"
   ]
  },
  {
   "cell_type": "markdown",
   "metadata": {
    "slideshow": {
     "slide_type": "subslide"
    }
   },
   "source": [
    "## Przykład - pobierz liczbę całkowitą\n",
    "\n",
    "---"
   ]
  },
  {
   "cell_type": "code",
   "execution_count": 76,
   "metadata": {
    "slideshow": {
     "slide_type": "-"
    }
   },
   "outputs": [
    {
     "name": "stdout",
     "output_type": "stream",
     "text": [
      "Podaj liczbę: 5\n"
     ]
    }
   ],
   "source": [
    "while True:\n",
    "    try:    # spróbuj rzutować na int\n",
    "        x = int(input(\"Podaj liczbę: \"))\n",
    "        break\n",
    "    except: # jeśli się nie uda to\n",
    "        print(\"Spróbuj jeszcze raz.\")"
   ]
  },
  {
   "cell_type": "markdown",
   "metadata": {
    "slideshow": {
     "slide_type": "subslide"
    }
   },
   "source": [
    "## Typy wyjątków\n",
    "\n",
    "---\n",
    "\n",
    "* pełna lista wbudowanych wyjątków [link](https://docs.python.org/3/library/exceptions.html#bltin-exceptions)"
   ]
  },
  {
   "cell_type": "code",
   "execution_count": 78,
   "metadata": {
    "slideshow": {
     "slide_type": "-"
    }
   },
   "outputs": [
    {
     "name": "stdout",
     "output_type": "stream",
     "text": [
      "Podaj liczbę: \n",
      "Spróbuj jeszcze raz\n",
      "Podaj liczbę: 3\n"
     ]
    }
   ],
   "source": [
    "while True:\n",
    "    try:\n",
    "        x = int(input(\"Podaj liczbę: \"))\n",
    "        break\n",
    "    except ValueError: # jeśli błąd wartości\n",
    "        print(\"Spróbuj jeszcze raz\")"
   ]
  },
  {
   "cell_type": "markdown",
   "metadata": {
    "slideshow": {
     "slide_type": "subslide"
    }
   },
   "source": [
    "## Komunikat wyjątku\n",
    "\n",
    "---"
   ]
  },
  {
   "cell_type": "code",
   "execution_count": 79,
   "metadata": {
    "slideshow": {
     "slide_type": "-"
    }
   },
   "outputs": [
    {
     "name": "stdout",
     "output_type": "stream",
     "text": [
      "Podaj liczbę: r\n",
      "Spróbuj jeszcze raz, bo invalid literal for int() with base 10: 'r'\n",
      "Podaj liczbę: y\n",
      "Spróbuj jeszcze raz, bo invalid literal for int() with base 10: 'y'\n",
      "Podaj liczbę: 6\n"
     ]
    }
   ],
   "source": [
    "while True:\n",
    "    try:\n",
    "        x = int(input(\"Podaj liczbę: \"))\n",
    "        break\n",
    "    except ValueError as err: # err = komunikat błędu\n",
    "        print(\"Spróbuj jeszcze raz, bo\", err)"
   ]
  },
  {
   "cell_type": "markdown",
   "metadata": {
    "slideshow": {
     "slide_type": "subslide"
    }
   },
   "source": [
    "## *try...finally*\n",
    "\n",
    "---"
   ]
  },
  {
   "cell_type": "code",
   "execution_count": 80,
   "metadata": {
    "slideshow": {
     "slide_type": "-"
    }
   },
   "outputs": [],
   "source": [
    "def iloraz(a, b):\n",
    "    \"\"\"Zwraca a / b.\"\"\"\n",
    "    try:\n",
    "        return a / b\n",
    "    finally: # wykonaj mimo zgłoszonego wyjątku\n",
    "        print(\"Posprzątam bez względu na wyjątki.\")"
   ]
  },
  {
   "cell_type": "code",
   "execution_count": 81,
   "metadata": {
    "slideshow": {
     "slide_type": "-"
    }
   },
   "outputs": [
    {
     "name": "stdout",
     "output_type": "stream",
     "text": [
      "Posprzątam bez względu na wyjątki.\n"
     ]
    },
    {
     "data": {
      "text/plain": [
       "2.0"
      ]
     },
     "execution_count": 81,
     "metadata": {},
     "output_type": "execute_result"
    }
   ],
   "source": [
    "iloraz(10, 5)"
   ]
  },
  {
   "cell_type": "code",
   "execution_count": 82,
   "metadata": {
    "slideshow": {
     "slide_type": "-"
    }
   },
   "outputs": [
    {
     "name": "stdout",
     "output_type": "stream",
     "text": [
      "Posprzątam bez względu na wyjątki.\n"
     ]
    },
    {
     "ename": "ZeroDivisionError",
     "evalue": "division by zero",
     "output_type": "error",
     "traceback": [
      "\u001b[1;31m---------------------------------------------------------------------------\u001b[0m",
      "\u001b[1;31mZeroDivisionError\u001b[0m                         Traceback (most recent call last)",
      "\u001b[1;32m<ipython-input-82-3bcf795e7a4e>\u001b[0m in \u001b[0;36m<module>\u001b[1;34m\u001b[0m\n\u001b[1;32m----> 1\u001b[1;33m \u001b[0miloraz\u001b[0m\u001b[1;33m(\u001b[0m\u001b[1;36m10\u001b[0m\u001b[1;33m,\u001b[0m \u001b[1;36m0\u001b[0m\u001b[1;33m)\u001b[0m\u001b[1;33m\u001b[0m\u001b[1;33m\u001b[0m\u001b[0m\n\u001b[0m",
      "\u001b[1;32m<ipython-input-80-ad34483614f1>\u001b[0m in \u001b[0;36miloraz\u001b[1;34m(a, b)\u001b[0m\n\u001b[0;32m      2\u001b[0m     \u001b[1;34m\"\"\"Zwraca a / b.\"\"\"\u001b[0m\u001b[1;33m\u001b[0m\u001b[1;33m\u001b[0m\u001b[0m\n\u001b[0;32m      3\u001b[0m     \u001b[1;32mtry\u001b[0m\u001b[1;33m:\u001b[0m\u001b[1;33m\u001b[0m\u001b[1;33m\u001b[0m\u001b[0m\n\u001b[1;32m----> 4\u001b[1;33m         \u001b[1;32mreturn\u001b[0m \u001b[0ma\u001b[0m \u001b[1;33m/\u001b[0m \u001b[0mb\u001b[0m\u001b[1;33m\u001b[0m\u001b[1;33m\u001b[0m\u001b[0m\n\u001b[0m\u001b[0;32m      5\u001b[0m     \u001b[1;32mfinally\u001b[0m\u001b[1;33m:\u001b[0m \u001b[1;31m# wykonaj mimo zgłoszonego wyjątku\u001b[0m\u001b[1;33m\u001b[0m\u001b[1;33m\u001b[0m\u001b[0m\n\u001b[0;32m      6\u001b[0m         \u001b[0mprint\u001b[0m\u001b[1;33m(\u001b[0m\u001b[1;34m\"Posprzątam bez względu na wyjątki.\"\u001b[0m\u001b[1;33m)\u001b[0m\u001b[1;33m\u001b[0m\u001b[1;33m\u001b[0m\u001b[0m\n",
      "\u001b[1;31mZeroDivisionError\u001b[0m: division by zero"
     ]
    }
   ],
   "source": [
    "iloraz(10, 0)"
   ]
  },
  {
   "cell_type": "markdown",
   "metadata": {
    "slideshow": {
     "slide_type": "subslide"
    }
   },
   "source": [
    "## *try...except...finally*\n",
    "\n",
    "---"
   ]
  },
  {
   "cell_type": "code",
   "execution_count": 83,
   "metadata": {
    "slideshow": {
     "slide_type": "-"
    }
   },
   "outputs": [],
   "source": [
    "def iloraz(a, b):\n",
    "    \"\"\"Zwraca a / b lub zero, jeśli b = 0.\"\"\"\n",
    "    try:\n",
    "        return a / b\n",
    "    except:\n",
    "        print(\"Użytkownik nie zna matematyki.\")\n",
    "    finally: # wykona zawsze bez względu na wyni try\n",
    "        print(\"Posprzątam bez względu na wyjątki.\")"
   ]
  },
  {
   "cell_type": "code",
   "execution_count": 84,
   "metadata": {
    "slideshow": {
     "slide_type": "-"
    }
   },
   "outputs": [
    {
     "name": "stdout",
     "output_type": "stream",
     "text": [
      "Posprzątam bez względu na wyjątki.\n"
     ]
    },
    {
     "data": {
      "text/plain": [
       "2.0"
      ]
     },
     "execution_count": 84,
     "metadata": {},
     "output_type": "execute_result"
    }
   ],
   "source": [
    "iloraz(10, 5)"
   ]
  },
  {
   "cell_type": "code",
   "execution_count": 85,
   "metadata": {
    "slideshow": {
     "slide_type": "-"
    }
   },
   "outputs": [
    {
     "name": "stdout",
     "output_type": "stream",
     "text": [
      "Użytkownik nie zna matematyki.\n",
      "Posprzątam bez względu na wyjątki.\n"
     ]
    }
   ],
   "source": [
    "iloraz(10, 0)"
   ]
  },
  {
   "cell_type": "markdown",
   "metadata": {
    "slideshow": {
     "slide_type": "subslide"
    }
   },
   "source": [
    "## Zgłaszanie wyjątków\n",
    "\n",
    "---"
   ]
  },
  {
   "cell_type": "code",
   "execution_count": 86,
   "metadata": {
    "slideshow": {
     "slide_type": "-"
    }
   },
   "outputs": [],
   "source": [
    "def iloraz(a, b):\n",
    "    \"\"\"Zwraca a / b.\"\"\"\n",
    "    if b == 0:\n",
    "        raise NameError(\"Dzielenie przez zero.\")\n",
    "    return a / b"
   ]
  },
  {
   "cell_type": "code",
   "execution_count": 87,
   "metadata": {
    "slideshow": {
     "slide_type": "-"
    }
   },
   "outputs": [
    {
     "data": {
      "text/plain": [
       "2.0"
      ]
     },
     "execution_count": 87,
     "metadata": {},
     "output_type": "execute_result"
    }
   ],
   "source": [
    "iloraz(10, 5)"
   ]
  },
  {
   "cell_type": "code",
   "execution_count": 88,
   "metadata": {
    "slideshow": {
     "slide_type": "-"
    }
   },
   "outputs": [
    {
     "ename": "NameError",
     "evalue": "Dzielenie przez zero.",
     "output_type": "error",
     "traceback": [
      "\u001b[1;31m---------------------------------------------------------------------------\u001b[0m",
      "\u001b[1;31mNameError\u001b[0m                                 Traceback (most recent call last)",
      "\u001b[1;32m<ipython-input-88-3bcf795e7a4e>\u001b[0m in \u001b[0;36m<module>\u001b[1;34m\u001b[0m\n\u001b[1;32m----> 1\u001b[1;33m \u001b[0miloraz\u001b[0m\u001b[1;33m(\u001b[0m\u001b[1;36m10\u001b[0m\u001b[1;33m,\u001b[0m \u001b[1;36m0\u001b[0m\u001b[1;33m)\u001b[0m\u001b[1;33m\u001b[0m\u001b[1;33m\u001b[0m\u001b[0m\n\u001b[0m",
      "\u001b[1;32m<ipython-input-86-4004d834b471>\u001b[0m in \u001b[0;36miloraz\u001b[1;34m(a, b)\u001b[0m\n\u001b[0;32m      2\u001b[0m     \u001b[1;34m\"\"\"Zwraca a / b.\"\"\"\u001b[0m\u001b[1;33m\u001b[0m\u001b[1;33m\u001b[0m\u001b[0m\n\u001b[0;32m      3\u001b[0m     \u001b[1;32mif\u001b[0m \u001b[0mb\u001b[0m \u001b[1;33m==\u001b[0m \u001b[1;36m0\u001b[0m\u001b[1;33m:\u001b[0m\u001b[1;33m\u001b[0m\u001b[1;33m\u001b[0m\u001b[0m\n\u001b[1;32m----> 4\u001b[1;33m         \u001b[1;32mraise\u001b[0m \u001b[0mNameError\u001b[0m\u001b[1;33m(\u001b[0m\u001b[1;34m\"Dzielenie przez zero.\"\u001b[0m\u001b[1;33m)\u001b[0m\u001b[1;33m\u001b[0m\u001b[1;33m\u001b[0m\u001b[0m\n\u001b[0m\u001b[0;32m      5\u001b[0m     \u001b[1;32mreturn\u001b[0m \u001b[0ma\u001b[0m \u001b[1;33m/\u001b[0m \u001b[0mb\u001b[0m\u001b[1;33m\u001b[0m\u001b[1;33m\u001b[0m\u001b[0m\n",
      "\u001b[1;31mNameError\u001b[0m: Dzielenie przez zero."
     ]
    }
   ],
   "source": [
    "iloraz(10, 0)"
   ]
  },
  {
   "cell_type": "markdown",
   "metadata": {
    "slideshow": {
     "slide_type": "subslide"
    }
   },
   "source": [
    "## Zgłaszanie wyjątków test\n",
    "\n",
    "---"
   ]
  },
  {
   "cell_type": "code",
   "execution_count": 89,
   "metadata": {
    "slideshow": {
     "slide_type": "-"
    }
   },
   "outputs": [
    {
     "name": "stdout",
     "output_type": "stream",
     "text": [
      "Błąd: Dzielenie przez zero.\n",
      "Błąd: Dzielenie przez zero.\n"
     ]
    }
   ],
   "source": [
    "try:\n",
    "    iloraz(10, 0)\n",
    "except Exception as err: # Jeśli nie potrafimy nazwac tego błedu to nazywamy go jako Exception\n",
    "    print(\"Błąd:\", err)\n",
    "    \n",
    "try:\n",
    "    iloraz(10, 0)\n",
    "except NameError as err: # Jeśli wiemy jakiego typu wyjątek chcemy obsłużyć to go nazywamy\n",
    "    print(\"Błąd:\", err)"
   ]
  },
  {
   "cell_type": "markdown",
   "metadata": {
    "slideshow": {
     "slide_type": "slide"
    }
   },
   "source": [
    "## Operacje na plikach\n",
    "\n",
    "---\n",
    "\n",
    "* do otwierania plików służy funkcja wbudowana *open*\n",
    "* przyjmuje wiele argumentów, przy czym dwa najważniejsze to: *file* i *mode*\n",
    "\n",
    "```py\n",
    "open(file, mode)\n",
    "```\n",
    "\n",
    "* *file* - nazwa pliku (lub pełna ścieżka, jeśli nie w katalogu roboczym)\n",
    "* *mode* - tryb"
   ]
  },
  {
   "cell_type": "markdown",
   "metadata": {
    "slideshow": {
     "slide_type": "subslide"
    }
   },
   "source": [
    "## Tryby pracy nad plikiem\n",
    "\n",
    "---\n",
    "\n",
    "| Tryb | Opis                                                 |\n",
    "|:----:|:----------------------------------------------------:|\n",
    "| r    | tylko do oczytu (domyślnie)                          |\n",
    "| w    | tylko do zapisu (istniejący plik zostanie nadpisany) |\n",
    "| x    | tylko do zapisu (plik nie może istnieć)              |\n",
    "| a    | tylko do zapisu (od końca pliku)                     |\n",
    "| +    | aktualizowanie pliku (odczyt i zapis)                |\n",
    "| t    | tryb tekstowy (domyślnie)                            |\n",
    "| b    | tryb binarny                                         |\n",
    "\n",
    "* np. `open(file, r+b)` otwiera plik do odczytu, z możliwością zapisu, w trybie binarnym"
   ]
  },
  {
   "cell_type": "markdown",
   "metadata": {
    "slideshow": {
     "slide_type": "subslide"
    }
   },
   "source": [
    "## Zapis do pliku\n",
    "\n",
    "---"
   ]
  },
  {
   "cell_type": "code",
   "execution_count": 90,
   "metadata": {
    "slideshow": {
     "slide_type": "-"
    }
   },
   "outputs": [],
   "source": [
    "# otwórz plik do zapisu\n",
    "# usuń zawartość jeśli plik istnieje\n",
    "file = open(\"test\", 'w')\n",
    "\n",
    "file.write(\"0123456789\") # zapisz do pliku\n",
    "\n",
    "file.close() # zamknij plik"
   ]
  },
  {
   "cell_type": "code",
   "execution_count": 91,
   "metadata": {},
   "outputs": [
    {
     "name": "stdout",
     "output_type": "stream",
     "text": [
      "Microsoft Windows [Version 10.0.18363.959]\r\n",
      "(c) 2019 Microsoft Corporation. Wszelkie prawa zastrzeľone.\r\n",
      "\r\n",
      "Y:\\STUDIA\\Doktorat\\DYDAKTYKA\\ELEMENTY_PROGRAMOWANIA\\2020\\docs\\wyklady>type test\n",
      "0123456789\r\n",
      "Y:\\STUDIA\\Doktorat\\DYDAKTYKA\\ELEMENTY_PROGRAMOWANIA\\2020\\docs\\wyklady>"
     ]
    }
   ],
   "source": [
    "%%cmd\n",
    "type test"
   ]
  },
  {
   "cell_type": "code",
   "execution_count": 92,
   "metadata": {
    "slideshow": {
     "slide_type": "-"
    }
   },
   "outputs": [
    {
     "ename": "ValueError",
     "evalue": "I/O operation on closed file.",
     "output_type": "error",
     "traceback": [
      "\u001b[1;31m---------------------------------------------------------------------------\u001b[0m",
      "\u001b[1;31mValueError\u001b[0m                                Traceback (most recent call last)",
      "\u001b[1;32m<ipython-input-92-e1cafafb3c26>\u001b[0m in \u001b[0;36m<module>\u001b[1;34m\u001b[0m\n\u001b[1;32m----> 1\u001b[1;33m \u001b[0mfile\u001b[0m\u001b[1;33m.\u001b[0m\u001b[0mwrite\u001b[0m\u001b[1;33m(\u001b[0m\u001b[1;34m\"jeszcze coś\"\u001b[0m\u001b[1;33m)\u001b[0m \u001b[1;31m# plik już jest zamknięty\u001b[0m\u001b[1;33m\u001b[0m\u001b[1;33m\u001b[0m\u001b[0m\n\u001b[0m",
      "\u001b[1;31mValueError\u001b[0m: I/O operation on closed file."
     ]
    }
   ],
   "source": [
    "file.write(\"jeszcze coś\") # plik już jest zamknięty"
   ]
  },
  {
   "cell_type": "markdown",
   "metadata": {
    "slideshow": {
     "slide_type": "subslide"
    }
   },
   "source": [
    "## Dopisywanie do pliku\n",
    "\n",
    "---"
   ]
  },
  {
   "cell_type": "code",
   "execution_count": 93,
   "metadata": {
    "slideshow": {
     "slide_type": "-"
    }
   },
   "outputs": [],
   "source": [
    "# otwórz plik do zapisu\n",
    "# ustaw się na końcu pliku\n",
    "file = open(\"test\", 'a')\n",
    "\n",
    "file.write(\"abcdefghij\") # zapisz do pliku\n",
    "\n",
    "file.close() # zamknij plik"
   ]
  },
  {
   "cell_type": "markdown",
   "metadata": {
    "slideshow": {
     "slide_type": "subslide"
    }
   },
   "source": [
    "## Odczyt pliku\n",
    "\n",
    "---"
   ]
  },
  {
   "cell_type": "code",
   "execution_count": 94,
   "metadata": {
    "slideshow": {
     "slide_type": "-"
    }
   },
   "outputs": [
    {
     "name": "stdout",
     "output_type": "stream",
     "text": [
      "0123456789abcdefghij\n"
     ]
    }
   ],
   "source": [
    "file = open(\"test\", \"r\") # otwórz tylko do odczytu\n",
    "\n",
    "zawartosc = file.read() # wczytaj całą zawartość pliku\n",
    "\n",
    "file.close()\n",
    "\n",
    "print(zawartosc)"
   ]
  },
  {
   "cell_type": "markdown",
   "metadata": {
    "slideshow": {
     "slide_type": "subslide"
    }
   },
   "source": [
    "## *r+* vs *a*\n",
    "\n",
    "---"
   ]
  },
  {
   "cell_type": "code",
   "execution_count": 95,
   "metadata": {
    "slideshow": {
     "slide_type": "-"
    }
   },
   "outputs": [],
   "source": [
    "# a (append) - zaczyna dopisywać na koniec pliku\n",
    "# r+ - zaczyna zapisywać od początku (nadpisując dane)\n",
    "\n",
    "file = open(\"test\", \"r+\") # odczyt z możliwością zapisu\n",
    "\n",
    "file.write(\".\" * 5) # zapisz 5 kropek\n",
    "\n",
    "file.close()"
   ]
  },
  {
   "cell_type": "code",
   "execution_count": 96,
   "metadata": {
    "slideshow": {
     "slide_type": "-"
    }
   },
   "outputs": [
    {
     "name": "stdout",
     "output_type": "stream",
     "text": [
      "Microsoft Windows [Version 10.0.18363.959]\r\n",
      "(c) 2019 Microsoft Corporation. Wszelkie prawa zastrzeľone.\r\n",
      "\r\n",
      "Y:\\STUDIA\\Doktorat\\DYDAKTYKA\\ELEMENTY_PROGRAMOWANIA\\2020\\docs\\wyklady>type test\n",
      ".....56789abcdefghij\r\n",
      "Y:\\STUDIA\\Doktorat\\DYDAKTYKA\\ELEMENTY_PROGRAMOWANIA\\2020\\docs\\wyklady>"
     ]
    }
   ],
   "source": [
    "%%cmd\n",
    "type test"
   ]
  },
  {
   "cell_type": "markdown",
   "metadata": {
    "slideshow": {
     "slide_type": "subslide"
    }
   },
   "source": [
    "## *w+* vs *r+*\n",
    "\n",
    "---"
   ]
  },
  {
   "cell_type": "code",
   "execution_count": 97,
   "metadata": {
    "slideshow": {
     "slide_type": "-"
    }
   },
   "outputs": [],
   "source": [
    "# r+ - zaczyna zapisywać od początku (nadpisując dane)\n",
    "# w+ - najpierw czyści plik (jeśli istnieje)\n",
    "\n",
    "file = open(\"test\", \"w+\") # zapis z możliwością odczytu\n",
    "\n",
    "file.write(\".\" * 5) # zapisz 5 kropek\n",
    "\n",
    "file.close()"
   ]
  },
  {
   "cell_type": "code",
   "execution_count": 98,
   "metadata": {
    "slideshow": {
     "slide_type": "-"
    }
   },
   "outputs": [
    {
     "name": "stdout",
     "output_type": "stream",
     "text": [
      "Microsoft Windows [Version 10.0.18363.959]\r\n",
      "(c) 2019 Microsoft Corporation. Wszelkie prawa zastrzeľone.\r\n",
      "\r\n",
      "Y:\\STUDIA\\Doktorat\\DYDAKTYKA\\ELEMENTY_PROGRAMOWANIA\\2020\\docs\\wyklady>type test\n",
      ".....\r\n",
      "Y:\\STUDIA\\Doktorat\\DYDAKTYKA\\ELEMENTY_PROGRAMOWANIA\\2020\\docs\\wyklady>"
     ]
    }
   ],
   "source": [
    "%%cmd \n",
    "type test"
   ]
  },
  {
   "cell_type": "markdown",
   "metadata": {
    "slideshow": {
     "slide_type": "subslide"
    }
   },
   "source": [
    "## *w* vs *w+*\n",
    "\n",
    "---"
   ]
  },
  {
   "cell_type": "code",
   "execution_count": 99,
   "metadata": {
    "slideshow": {
     "slide_type": "-"
    }
   },
   "outputs": [
    {
     "name": "stdout",
     "output_type": "stream",
     "text": [
      "not readable\n",
      "0123456789abcdefghij\n"
     ]
    }
   ],
   "source": [
    "file = open(\"test\", \"w\") # tylko zapis\n",
    "\n",
    "file.write(\".\" * 5) # zapisz 5 kropek\n",
    "\n",
    "try:\n",
    "    zawartosc = file.read()\n",
    "except Exception as e:\n",
    "    print(e)\n",
    "\n",
    "file.close()\n",
    "\n",
    "print(zawartosc)"
   ]
  },
  {
   "cell_type": "markdown",
   "metadata": {
    "slideshow": {
     "slide_type": "subslide"
    }
   },
   "source": [
    "## *w* vs *w+*\n",
    "\n",
    "---"
   ]
  },
  {
   "cell_type": "code",
   "execution_count": 100,
   "metadata": {
    "slideshow": {
     "slide_type": "-"
    }
   },
   "outputs": [
    {
     "name": "stdout",
     "output_type": "stream",
     "text": [
      "\n"
     ]
    }
   ],
   "source": [
    "file = open(\"test\", \"w+\") # zapis z możliwościa odczytu\n",
    "\n",
    "file.write(\".\" * 5) # zapisz 5 kropek\n",
    "\n",
    "zawartosc = file.read()\n",
    "\n",
    "file.close()\n",
    "\n",
    "print(zawartosc) # nie wydrukuje bo jesteśmy na końcu pliku"
   ]
  },
  {
   "cell_type": "markdown",
   "metadata": {
    "slideshow": {
     "slide_type": "subslide"
    }
   },
   "source": [
    "## *seek*\n",
    "\n",
    "---"
   ]
  },
  {
   "cell_type": "code",
   "execution_count": 111,
   "metadata": {
    "slideshow": {
     "slide_type": "-"
    }
   },
   "outputs": [
    {
     "name": "stdout",
     "output_type": "stream",
     "text": [
      "....\n"
     ]
    }
   ],
   "source": [
    "file = open(\"test\", \"w+\") # zapis z możliwościa odczytu\n",
    "\n",
    "file.write(\".\" * 5) # zapisz 5 kropek\n",
    "\n",
    "file.seek(1) # ustaw położenie\n",
    "\n",
    "zawartosc = file.read()\n",
    "\n",
    "file.close()\n",
    "\n",
    "print(zawartosc) # nie wydrukuje bo jesteśmy na końcu pliku"
   ]
  },
  {
   "cell_type": "markdown",
   "metadata": {
    "slideshow": {
     "slide_type": "subslide"
    }
   },
   "source": [
    "## *tell*\n",
    "\n",
    "---"
   ]
  },
  {
   "cell_type": "code",
   "execution_count": 112,
   "metadata": {},
   "outputs": [
    {
     "name": "stdout",
     "output_type": "stream",
     "text": [
      "Microsoft Windows [Version 10.0.18363.959]\r\n",
      "(c) 2019 Microsoft Corporation. Wszelkie prawa zastrzeľone.\r\n",
      "\r\n",
      "Y:\\STUDIA\\Doktorat\\DYDAKTYKA\\ELEMENTY_PROGRAMOWANIA\\2020\\docs\\wyklady>type test\n",
      ".....\r\n",
      "Y:\\STUDIA\\Doktorat\\DYDAKTYKA\\ELEMENTY_PROGRAMOWANIA\\2020\\docs\\wyklady>"
     ]
    }
   ],
   "source": [
    "%%cmd\n",
    "type test"
   ]
  },
  {
   "cell_type": "code",
   "execution_count": 113,
   "metadata": {
    "slideshow": {
     "slide_type": "-"
    }
   },
   "outputs": [
    {
     "data": {
      "text/plain": [
       "5"
      ]
     },
     "execution_count": 113,
     "metadata": {},
     "output_type": "execute_result"
    }
   ],
   "source": [
    "file = open(\"test\", \"a+\") # dodawanie z możliwością odczytu\n",
    "\n",
    "file.tell() # pozycja w pliku"
   ]
  },
  {
   "cell_type": "code",
   "execution_count": 114,
   "metadata": {
    "slideshow": {
     "slide_type": "-"
    }
   },
   "outputs": [
    {
     "data": {
      "text/plain": [
       "10"
      ]
     },
     "execution_count": 114,
     "metadata": {},
     "output_type": "execute_result"
    }
   ],
   "source": [
    "file.write(\"12345\") # dopisz 12345\n",
    "\n",
    "file.tell()"
   ]
  },
  {
   "cell_type": "code",
   "execution_count": 115,
   "metadata": {
    "slideshow": {
     "slide_type": "-"
    }
   },
   "outputs": [
    {
     "name": "stdout",
     "output_type": "stream",
     "text": [
      "Microsoft Windows [Version 10.0.18363.959]\r\n",
      "(c) 2019 Microsoft Corporation. Wszelkie prawa zastrzeľone.\r\n",
      "\r\n",
      "Y:\\STUDIA\\Doktorat\\DYDAKTYKA\\ELEMENTY_PROGRAMOWANIA\\2020\\docs\\wyklady>type test\n",
      ".....12345\r\n",
      "Y:\\STUDIA\\Doktorat\\DYDAKTYKA\\ELEMENTY_PROGRAMOWANIA\\2020\\docs\\wyklady>"
     ]
    }
   ],
   "source": [
    "%%cmd\n",
    "type test"
   ]
  },
  {
   "cell_type": "markdown",
   "metadata": {
    "slideshow": {
     "slide_type": "subslide"
    }
   },
   "source": [
    "## *seek* and *read*\n",
    "\n",
    "---"
   ]
  },
  {
   "cell_type": "code",
   "execution_count": 116,
   "metadata": {
    "slideshow": {
     "slide_type": "-"
    }
   },
   "outputs": [
    {
     "name": "stdout",
     "output_type": "stream",
     "text": [
      "Microsoft Windows [Version 10.0.18363.959]\r\n",
      "(c) 2019 Microsoft Corporation. Wszelkie prawa zastrzeľone.\r\n",
      "\r\n",
      "Y:\\STUDIA\\Doktorat\\DYDAKTYKA\\ELEMENTY_PROGRAMOWANIA\\2020\\docs\\wyklady>type test\n",
      ".....12345\r\n",
      "Y:\\STUDIA\\Doktorat\\DYDAKTYKA\\ELEMENTY_PROGRAMOWANIA\\2020\\docs\\wyklady>"
     ]
    }
   ],
   "source": [
    "%%cmd\n",
    "type test"
   ]
  },
  {
   "cell_type": "code",
   "execution_count": 117,
   "metadata": {
    "slideshow": {
     "slide_type": "-"
    }
   },
   "outputs": [
    {
     "data": {
      "text/plain": [
       "'2'"
      ]
     },
     "execution_count": 117,
     "metadata": {},
     "output_type": "execute_result"
    }
   ],
   "source": [
    "# seek(offset, punkt_odniesienia)\n",
    "# po = 0, 1, 2 (początek pliku, bieżąca pozycja, koniec pliku)\n",
    "# w trybie tekstowym tylko 0 jest dozwolone\n",
    "\n",
    "file.seek(6, 0) # o 6 znaków od początku \n",
    "\n",
    "file.read(1)"
   ]
  },
  {
   "cell_type": "code",
   "execution_count": 118,
   "metadata": {
    "slideshow": {
     "slide_type": "-"
    }
   },
   "outputs": [
    {
     "data": {
      "text/plain": [
       "7"
      ]
     },
     "execution_count": 118,
     "metadata": {},
     "output_type": "execute_result"
    }
   ],
   "source": [
    "file.tell() # read(n) przesuwa o n"
   ]
  },
  {
   "cell_type": "markdown",
   "metadata": {
    "slideshow": {
     "slide_type": "subslide"
    }
   },
   "source": [
    "## Uwaga\n",
    "\n",
    "---\n",
    "\n",
    "* wygodnie jest wczytać cały plik do pamięci\n",
    "    * *read()* - zawartość jako pojedynczy string\n",
    "    * *readlines()* - zawartość jako lista (linia -> element)\n",
    "* jednak w przypadku dużych plików może to byś katastrofalne, wtedy lepiej\n",
    "    * *read(n)* - wczytaj *n* bajtów\n",
    "    * *readline()* - wczytaj linię"
   ]
  },
  {
   "cell_type": "markdown",
   "metadata": {
    "slideshow": {
     "slide_type": "subslide"
    }
   },
   "source": [
    "## Otwieranie plików a wyjątki\n",
    "\n",
    "---\n",
    "\n",
    "```py\n",
    "try:\n",
    "    file = open(\"złe_dane\")\n",
    "    data = file.read() # zgłasza wyjątek\n",
    "finally: # porządek nawet w przypadku wyjątku\n",
    "    print(\"Czyszczę śmieci.\")\n",
    "    file.close()\n",
    "```"
   ]
  },
  {
   "cell_type": "markdown",
   "metadata": {
    "slideshow": {
     "slide_type": "subslide"
    }
   },
   "source": [
    "## *with* statement\n",
    "\n",
    "---\n",
    "\n",
    "* gwarantuje, że jeśli wywołane zostało `__enter__()` (np. otwarcie pliku)\n",
    "* to zostanie wywołane `__exit()__` (np. zamknięcie pliku)\n",
    "* nawet jeśli po drodze wystąpi wyjątek "
   ]
  },
  {
   "cell_type": "markdown",
   "metadata": {
    "slideshow": {
     "slide_type": "subslide"
    }
   },
   "source": [
    "## *with open*\n",
    "\n",
    "---\n",
    "\n",
    "```py\n",
    "with open(\"plik_z_danymi\") as file:\n",
    "    data = file.read()\n",
    "```\n",
    "\n",
    "* gwarantuje, że plik zostanie zawsze poprawnie zamknięty\n",
    "* wygodniejsze niż *try...finally...*"
   ]
  },
  {
   "cell_type": "markdown",
   "metadata": {
    "slideshow": {
     "slide_type": "slide"
    }
   },
   "source": [
    "## Comma-separated values (CSV)\n",
    "\n",
    "---\n",
    "\n",
    "* forma przechowywania danych w plikach tesktowych\n",
    "* każde pole oddzielone jest przecinkiem\n",
    "* plik csv\n",
    "\n",
    "```\n",
    "imię, nazwisko, ocena\n",
    "Kasia, Kowalska, 4\n",
    "Jan, Nowak, 4\n",
    "```\n",
    "\n",
    "* tabela\n",
    "\n",
    "| imię  | nazwisko | ocena |\n",
    "|:-----:|:--------:|:-----:|\n",
    "| Kasia | Kowalska | 4     |\n",
    "| Jan   | Nowak    | 4     |"
   ]
  },
  {
   "cell_type": "markdown",
   "metadata": {},
   "source": [
    "DANE: https://ireport.algorand.org/pl/data"
   ]
  },
  {
   "cell_type": "code",
   "execution_count": 123,
   "metadata": {
    "slideshow": {
     "slide_type": "-"
    }
   },
   "outputs": [
    {
     "name": "stdout",
     "output_type": "stream",
     "text": [
      "Microsoft Windows [Version 10.0.18363.959]\r\n",
      "(c) 2019 Microsoft Corporation. Wszelkie prawa zastrzeľone.\r\n",
      "\r\n",
      "Y:\\STUDIA\\Doktorat\\DYDAKTYKA\\ELEMENTY_PROGRAMOWANIA\\2020\\docs\\wyklady>type ankieta.csv | ssed -n 1p\n",
      "serial,block number,time,type,version,country,region,zip,age,gender,symptomatic,fever,cough,breathing,fatigue,throat,start symp,end symp,still sympt,tested,tried test,test date,test result,location,med care,dr office,walk-in,virtual care,hospital,other med,hospitalized,date admit,date discharged,still in hospital,quarantined?,for symptoms,voluntary,required,general,date start,day end,still quarantined,left temp,consent\r\n",
      "\r\n",
      "Y:\\STUDIA\\Doktorat\\DYDAKTYKA\\ELEMENTY_PROGRAMOWANIA\\2020\\docs\\wyklady>"
     ]
    }
   ],
   "source": [
    "%%cmd\n",
    "type ankieta.csv | ssed -n 1p"
   ]
  },
  {
   "cell_type": "code",
   "execution_count": 126,
   "metadata": {
    "slideshow": {
     "slide_type": "-"
    }
   },
   "outputs": [
    {
     "name": "stdout",
     "output_type": "stream",
     "text": [
      "Microsoft Windows [Version 10.0.18363.959]\r\n",
      "(c) 2019 Microsoft Corporation. Wszelkie prawa zastrzeľone.\r\n",
      "\r\n",
      "Y:\\STUDIA\\Doktorat\\DYDAKTYKA\\ELEMENTY_PROGRAMOWANIA\\2020\\docs\\wyklady>type ankieta.csv | ssed -n 2p\n",
      "DsoQMFcEwWItoTsE+E1Tmr2b+l8StVUidkWpIXzKKK8=,5650155,'2020-03-24T20:11:50+00:00',report,1,US,NY,100,55,f,-1,,,,,,,,,-1,-1,,,,-1,,,,,,,,,,1,,true,,,2020-03-10,,true,1,true\r\n",
      "\r\n",
      "Y:\\STUDIA\\Doktorat\\DYDAKTYKA\\ELEMENTY_PROGRAMOWANIA\\2020\\docs\\wyklady>"
     ]
    }
   ],
   "source": [
    "%%cmd\n",
    "type ankieta.csv | ssed -n 2p"
   ]
  },
  {
   "cell_type": "markdown",
   "metadata": {
    "slideshow": {
     "slide_type": "subslide"
    }
   },
   "source": [
    "## Ankieta - wczytywanie danych\n",
    "\n",
    "---"
   ]
  },
  {
   "cell_type": "code",
   "execution_count": 127,
   "metadata": {
    "slideshow": {
     "slide_type": "-"
    }
   },
   "outputs": [],
   "source": [
    "import csv\n",
    "\n",
    "# wczytaj wyniki ankiety do zmiennej wyniki\n",
    "with open('ankieta.csv', 'r') as csvfile:\n",
    "    reader = csv.reader(csvfile)\n",
    "    wyniki = list(reader) # zapisz wyniki"
   ]
  },
  {
   "cell_type": "code",
   "execution_count": 129,
   "metadata": {},
   "outputs": [
    {
     "data": {
      "text/plain": [
       "1106"
      ]
     },
     "execution_count": 129,
     "metadata": {},
     "output_type": "execute_result"
    }
   ],
   "source": [
    "len(wyniki)"
   ]
  },
  {
   "cell_type": "code",
   "execution_count": 130,
   "metadata": {
    "scrolled": true
   },
   "outputs": [
    {
     "data": {
      "text/plain": [
       "['serial',\n",
       " 'block number',\n",
       " 'time',\n",
       " 'type',\n",
       " 'version',\n",
       " 'country',\n",
       " 'region',\n",
       " 'zip',\n",
       " 'age',\n",
       " 'gender',\n",
       " 'symptomatic',\n",
       " 'fever',\n",
       " 'cough',\n",
       " 'breathing',\n",
       " 'fatigue',\n",
       " 'throat',\n",
       " 'start symp',\n",
       " 'end symp',\n",
       " 'still sympt',\n",
       " 'tested',\n",
       " 'tried test',\n",
       " 'test date',\n",
       " 'test result',\n",
       " 'location',\n",
       " 'med care',\n",
       " 'dr office',\n",
       " 'walk-in',\n",
       " 'virtual care',\n",
       " 'hospital',\n",
       " 'other med',\n",
       " 'hospitalized',\n",
       " 'date admit',\n",
       " 'date discharged',\n",
       " 'still in hospital',\n",
       " 'quarantined?',\n",
       " 'for symptoms',\n",
       " 'voluntary',\n",
       " 'required',\n",
       " 'general',\n",
       " 'date start',\n",
       " 'day end',\n",
       " 'still quarantined',\n",
       " 'left temp',\n",
       " 'consent']"
      ]
     },
     "execution_count": 130,
     "metadata": {},
     "output_type": "execute_result"
    }
   ],
   "source": [
    "wyniki[0]"
   ]
  },
  {
   "cell_type": "code",
   "execution_count": 131,
   "metadata": {},
   "outputs": [
    {
     "data": {
      "text/plain": [
       "['DsoQMFcEwWItoTsE+E1Tmr2b+l8StVUidkWpIXzKKK8=',\n",
       " '5650155',\n",
       " \"'2020-03-24T20:11:50+00:00'\",\n",
       " 'report',\n",
       " '1',\n",
       " 'US',\n",
       " 'NY',\n",
       " '100',\n",
       " '55',\n",
       " 'f',\n",
       " '-1',\n",
       " '',\n",
       " '',\n",
       " '',\n",
       " '',\n",
       " '',\n",
       " '',\n",
       " '',\n",
       " '',\n",
       " '-1',\n",
       " '-1',\n",
       " '',\n",
       " '',\n",
       " '',\n",
       " '-1',\n",
       " '',\n",
       " '',\n",
       " '',\n",
       " '',\n",
       " '',\n",
       " '',\n",
       " '',\n",
       " '',\n",
       " '',\n",
       " '1',\n",
       " '',\n",
       " 'true',\n",
       " '',\n",
       " '',\n",
       " '2020-03-10',\n",
       " '',\n",
       " 'true',\n",
       " '1',\n",
       " 'true']"
      ]
     },
     "execution_count": 131,
     "metadata": {},
     "output_type": "execute_result"
    }
   ],
   "source": [
    "wyniki[1]"
   ]
  },
  {
   "cell_type": "code",
   "execution_count": 132,
   "metadata": {
    "slideshow": {
     "slide_type": "-"
    }
   },
   "outputs": [
    {
     "name": "stdout",
     "output_type": "stream",
     "text": [
      "['serial', 'block number', 'time', 'type', 'version', 'country', 'region', 'zip', 'age', 'gender', 'symptomatic', 'fever', 'cough', 'breathing', 'fatigue', 'throat', 'start symp', 'end symp', 'still sympt', 'tested', 'tried test', 'test date', 'test result', 'location', 'med care', 'dr office', 'walk-in', 'virtual care', 'hospital', 'other med', 'hospitalized', 'date admit', 'date discharged', 'still in hospital', 'quarantined?', 'for symptoms', 'voluntary', 'required', 'general', 'date start', 'day end', 'still quarantined', 'left temp', 'consent']\n"
     ]
    }
   ],
   "source": [
    "headers = wyniki.pop(0) # pierwszy wiersz to pytania\n",
    "\n",
    "print(headers)"
   ]
  },
  {
   "cell_type": "code",
   "execution_count": 133,
   "metadata": {
    "slideshow": {
     "slide_type": "-"
    }
   },
   "outputs": [
    {
     "name": "stdout",
     "output_type": "stream",
     "text": [
      "['DsoQMFcEwWItoTsE+E1Tmr2b+l8StVUidkWpIXzKKK8=', '5650155', \"'2020-03-24T20:11:50+00:00'\", 'report', '1', 'US', 'NY', '100', '55', 'f', '-1', '', '', '', '', '', '', '', '', '-1', '-1', '', '', '', '-1', '', '', '', '', '', '', '', '', '', '1', '', 'true', '', '', '2020-03-10', '', 'true', '1', 'true']\n"
     ]
    }
   ],
   "source": [
    "print(wyniki[0]) # odpowiedzi pierwszej osoby"
   ]
  },
  {
   "cell_type": "markdown",
   "metadata": {
    "slideshow": {
     "slide_type": "subslide"
    }
   },
   "source": [
    "## Ilość odpowiedzi \n",
    "\n",
    "---"
   ]
  },
  {
   "cell_type": "code",
   "execution_count": 138,
   "metadata": {
    "slideshow": {
     "slide_type": "-"
    }
   },
   "outputs": [
    {
     "name": "stdout",
     "output_type": "stream",
     "text": [
      "W ankiecie uwzględniono 1105 rekordów.\n"
     ]
    }
   ],
   "source": [
    "n_votes = len(wyniki)\n",
    "\n",
    "print(\"W ankiecie uwzględniono {} rekordów.\".format(n_votes))"
   ]
  },
  {
   "cell_type": "markdown",
   "metadata": {
    "slideshow": {
     "slide_type": "subslide"
    }
   },
   "source": [
    "## Sygnatura czasowa\n",
    "\n",
    "---"
   ]
  },
  {
   "cell_type": "code",
   "execution_count": 139,
   "metadata": {
    "slideshow": {
     "slide_type": "-"
    }
   },
   "outputs": [],
   "source": [
    "from datetime import datetime\n",
    "\n",
    "def str2date(date):\n",
    "    \"\"\"Konwertuje string do datetime wg formatu z ankiety.\"\"\"\n",
    "    return datetime.strptime(date, \"'%Y-%m-%dT%H:%M:%S+00:00'\")\n",
    "\n",
    "sygnatury = []\n",
    "\n",
    "for glos in wyniki:\n",
    "    sygnatury.append(str2date(glos[2]))"
   ]
  },
  {
   "cell_type": "code",
   "execution_count": 140,
   "metadata": {},
   "outputs": [
    {
     "name": "stdout",
     "output_type": "stream",
     "text": [
      "[datetime.datetime(2020, 3, 24, 20, 11, 50), datetime.datetime(2020, 3, 24, 22, 30, 3), datetime.datetime(2020, 3, 24, 22, 9, 14), datetime.datetime(2020, 3, 24, 22, 1, 33), datetime.datetime(2020, 3, 24, 22, 25, 1), datetime.datetime(2020, 3, 24, 21, 26, 42), datetime.datetime(2020, 3, 24, 22, 27, 12), datetime.datetime(2020, 3, 24, 22, 33, 47), datetime.datetime(2020, 3, 24, 22, 5, 4), datetime.datetime(2020, 3, 24, 22, 7, 7), datetime.datetime(2020, 3, 24, 22, 12, 18), datetime.datetime(2020, 3, 24, 22, 18, 26), datetime.datetime(2020, 3, 24, 22, 7, 59), datetime.datetime(2020, 3, 24, 21, 27, 26), datetime.datetime(2020, 3, 24, 22, 6, 45), datetime.datetime(2020, 3, 24, 21, 50, 49), datetime.datetime(2020, 3, 24, 21, 7, 47), datetime.datetime(2020, 3, 24, 21, 52, 38), datetime.datetime(2020, 3, 24, 21, 39, 21), datetime.datetime(2020, 3, 24, 22, 7, 24), datetime.datetime(2020, 3, 24, 22, 24, 52), datetime.datetime(2020, 3, 24, 22, 29, 59), datetime.datetime(2020, 3, 24, 22, 13, 2), datetime.datetime(2020, 3, 24, 22, 6, 40), datetime.datetime(2020, 3, 24, 22, 11, 56), datetime.datetime(2020, 3, 24, 21, 27), datetime.datetime(2020, 3, 24, 22, 4, 33), datetime.datetime(2020, 3, 24, 22, 34, 22), datetime.datetime(2020, 3, 24, 22, 6, 54), datetime.datetime(2020, 3, 24, 22, 12, 53), datetime.datetime(2020, 3, 24, 21, 57, 23), datetime.datetime(2020, 3, 24, 22, 33, 7), datetime.datetime(2020, 3, 25, 0, 13, 23), datetime.datetime(2020, 3, 24, 22, 38, 19), datetime.datetime(2020, 3, 25, 0, 50, 57), datetime.datetime(2020, 3, 24, 23, 14, 50), datetime.datetime(2020, 3, 25, 0, 10, 15), datetime.datetime(2020, 3, 24, 22, 28, 40), datetime.datetime(2020, 3, 24, 21, 26, 12), datetime.datetime(2020, 3, 24, 23, 40, 43), datetime.datetime(2020, 3, 25, 1, 16, 13), datetime.datetime(2020, 3, 24, 23, 52, 51), datetime.datetime(2020, 3, 24, 21, 41, 1), datetime.datetime(2020, 3, 24, 21, 58, 47), datetime.datetime(2020, 3, 24, 22, 49, 7), datetime.datetime(2020, 3, 24, 22, 46, 51), datetime.datetime(2020, 3, 24, 23, 47, 53), datetime.datetime(2020, 3, 24, 23, 13, 14), datetime.datetime(2020, 3, 24, 22, 4, 3), datetime.datetime(2020, 3, 24, 22, 7, 33), datetime.datetime(2020, 3, 25, 0, 41, 57), datetime.datetime(2020, 3, 24, 22, 56, 39), datetime.datetime(2020, 3, 25, 0, 13, 58), datetime.datetime(2020, 3, 24, 23, 18, 38), datetime.datetime(2020, 3, 25, 1, 33, 45), datetime.datetime(2020, 3, 24, 22, 32, 46), datetime.datetime(2020, 3, 24, 22, 5, 35), datetime.datetime(2020, 3, 24, 23, 34, 48), datetime.datetime(2020, 3, 24, 23, 41, 45), datetime.datetime(2020, 3, 24, 21, 27, 48), datetime.datetime(2020, 3, 24, 22, 55, 7), datetime.datetime(2020, 3, 24, 21, 28, 41), datetime.datetime(2020, 3, 24, 23, 34, 30), datetime.datetime(2020, 3, 25, 0, 52, 7), datetime.datetime(2020, 3, 24, 23, 9, 13), datetime.datetime(2020, 3, 25, 0, 29, 50), datetime.datetime(2020, 3, 25, 1, 21, 55), datetime.datetime(2020, 3, 24, 22, 6, 45), datetime.datetime(2020, 3, 24, 23, 0, 27), datetime.datetime(2020, 3, 24, 23, 28), datetime.datetime(2020, 3, 25, 0, 36, 11), datetime.datetime(2020, 3, 25, 0, 0, 36), datetime.datetime(2020, 3, 25, 0, 6, 53), datetime.datetime(2020, 3, 24, 23, 42, 11), datetime.datetime(2020, 3, 24, 22, 1, 11), datetime.datetime(2020, 3, 24, 23, 54, 23), datetime.datetime(2020, 3, 24, 23, 0, 40), datetime.datetime(2020, 3, 25, 0, 47, 13), datetime.datetime(2020, 3, 24, 23, 4, 36), datetime.datetime(2020, 3, 24, 23, 1, 28), datetime.datetime(2020, 3, 24, 23, 49, 51), datetime.datetime(2020, 3, 24, 22, 41, 10), datetime.datetime(2020, 3, 24, 22, 37, 43), datetime.datetime(2020, 3, 24, 22, 10, 24), datetime.datetime(2020, 3, 24, 23, 48, 59), datetime.datetime(2020, 3, 24, 23, 52, 20), datetime.datetime(2020, 3, 25, 3, 11, 44), datetime.datetime(2020, 3, 24, 23, 45, 28), datetime.datetime(2020, 3, 25, 3, 1, 22), datetime.datetime(2020, 3, 25, 3, 15, 6), datetime.datetime(2020, 3, 25, 3, 22, 29), datetime.datetime(2020, 3, 25, 1, 41, 52), datetime.datetime(2020, 3, 25, 1, 52, 23), datetime.datetime(2020, 3, 25, 4, 25, 40), datetime.datetime(2020, 3, 25, 2, 40, 19), datetime.datetime(2020, 3, 24, 23, 54, 54), datetime.datetime(2020, 3, 24, 22, 53, 39), datetime.datetime(2020, 3, 25, 2, 2, 23), datetime.datetime(2020, 3, 24, 23, 3, 39), datetime.datetime(2020, 3, 24, 22, 53, 39), datetime.datetime(2020, 3, 25, 1, 41, 56), datetime.datetime(2020, 3, 25, 2, 46, 58), datetime.datetime(2020, 3, 25, 6, 7, 41), datetime.datetime(2020, 3, 25, 2, 19, 7), datetime.datetime(2020, 3, 25, 2, 59, 32), datetime.datetime(2020, 3, 25, 4, 47, 13), datetime.datetime(2020, 3, 25, 2, 56, 2), datetime.datetime(2020, 3, 25, 3, 53, 36), datetime.datetime(2020, 3, 25, 2, 33, 9), datetime.datetime(2020, 3, 25, 2, 48, 39), datetime.datetime(2020, 3, 25, 5, 54, 46), datetime.datetime(2020, 3, 25, 2, 7, 43), datetime.datetime(2020, 3, 25, 3, 38, 16), datetime.datetime(2020, 3, 25, 4, 1, 43), datetime.datetime(2020, 3, 25, 1, 44, 34), datetime.datetime(2020, 3, 25, 2, 14, 57), datetime.datetime(2020, 3, 25, 2, 2, 37), datetime.datetime(2020, 3, 25, 3, 48, 38), datetime.datetime(2020, 3, 25, 2, 57, 47), datetime.datetime(2020, 3, 25, 2, 41, 33), datetime.datetime(2020, 3, 25, 2, 11, 5), datetime.datetime(2020, 3, 25, 2, 28, 28), datetime.datetime(2020, 3, 25, 4, 37, 52), datetime.datetime(2020, 3, 25, 1, 38, 48), datetime.datetime(2020, 3, 25, 3, 39, 52), datetime.datetime(2020, 3, 25, 2, 17, 18), datetime.datetime(2020, 3, 25, 4, 3, 19), datetime.datetime(2020, 3, 25, 1, 58, 40), datetime.datetime(2020, 3, 25, 4, 1, 21), datetime.datetime(2020, 3, 25, 4, 16, 2), datetime.datetime(2020, 3, 25, 2, 19, 16), datetime.datetime(2020, 3, 25, 2, 40, 19), datetime.datetime(2020, 3, 25, 3, 49, 39), datetime.datetime(2020, 3, 25, 7, 41, 20), datetime.datetime(2020, 3, 25, 6, 7, 24), datetime.datetime(2020, 3, 25, 4, 53, 34), datetime.datetime(2020, 3, 25, 5, 7, 27), datetime.datetime(2020, 3, 25, 5, 58, 51), datetime.datetime(2020, 3, 25, 5, 44, 55), datetime.datetime(2020, 3, 25, 4, 48, 41), datetime.datetime(2020, 3, 25, 6, 12, 17), datetime.datetime(2020, 3, 25, 5, 22, 17), datetime.datetime(2020, 3, 25, 7, 10, 55), datetime.datetime(2020, 3, 25, 5, 10, 27), datetime.datetime(2020, 3, 25, 10, 29, 42), datetime.datetime(2020, 3, 25, 9, 10, 59), datetime.datetime(2020, 3, 25, 8, 35, 22), datetime.datetime(2020, 3, 25, 9, 22, 9), datetime.datetime(2020, 3, 25, 9, 27, 2), datetime.datetime(2020, 3, 25, 8, 27, 7), datetime.datetime(2020, 3, 25, 8, 36, 14), datetime.datetime(2020, 3, 25, 8, 13, 14), datetime.datetime(2020, 3, 25, 9, 14, 46), datetime.datetime(2020, 3, 25, 8, 6, 31), datetime.datetime(2020, 3, 25, 12, 35, 1), datetime.datetime(2020, 3, 25, 7, 56, 39), datetime.datetime(2020, 3, 25, 8, 5, 51), datetime.datetime(2020, 3, 25, 13, 23, 25), datetime.datetime(2020, 3, 25, 11, 41, 59), datetime.datetime(2020, 3, 25, 12, 15, 33), datetime.datetime(2020, 3, 25, 11, 46, 31), datetime.datetime(2020, 3, 25, 12, 12, 7), datetime.datetime(2020, 3, 25, 13, 32, 12), datetime.datetime(2020, 3, 25, 12, 48, 11), datetime.datetime(2020, 3, 25, 13, 26, 47), datetime.datetime(2020, 3, 25, 12, 28, 17), datetime.datetime(2020, 3, 25, 12, 27, 29), datetime.datetime(2020, 3, 25, 10, 51, 46), datetime.datetime(2020, 3, 25, 13, 12, 58), datetime.datetime(2020, 3, 25, 11, 6, 1), datetime.datetime(2020, 3, 25, 16, 47, 43), datetime.datetime(2020, 3, 25, 12, 51, 41), datetime.datetime(2020, 3, 25, 12, 50, 5), datetime.datetime(2020, 3, 25, 12, 24, 11), datetime.datetime(2020, 3, 25, 16, 51, 50), datetime.datetime(2020, 3, 25, 16, 43, 46), datetime.datetime(2020, 3, 25, 14, 52, 17), datetime.datetime(2020, 3, 25, 16, 5, 35), datetime.datetime(2020, 3, 25, 14, 8, 41), datetime.datetime(2020, 3, 25, 14, 29, 14), datetime.datetime(2020, 3, 25, 13, 49, 23), datetime.datetime(2020, 3, 25, 14, 11, 23), datetime.datetime(2020, 3, 25, 12, 38, 14), datetime.datetime(2020, 3, 25, 12, 42, 2), datetime.datetime(2020, 3, 25, 14, 17, 1), datetime.datetime(2020, 3, 25, 15, 43, 41), datetime.datetime(2020, 3, 25, 16, 34, 10), datetime.datetime(2020, 3, 25, 14, 49, 34), datetime.datetime(2020, 3, 25, 15, 7, 34), datetime.datetime(2020, 3, 25, 13, 22, 33), datetime.datetime(2020, 3, 25, 16, 37, 6), datetime.datetime(2020, 3, 25, 14, 29, 58), datetime.datetime(2020, 3, 25, 16, 11, 23), datetime.datetime(2020, 3, 25, 12, 39, 24), datetime.datetime(2020, 3, 25, 13, 19, 55), datetime.datetime(2020, 3, 25, 14, 43, 30), datetime.datetime(2020, 3, 25, 16, 30, 43), datetime.datetime(2020, 3, 25, 12, 36, 59), datetime.datetime(2020, 3, 25, 10, 58, 3), datetime.datetime(2020, 3, 25, 12, 33, 37), datetime.datetime(2020, 3, 25, 14, 45, 33), datetime.datetime(2020, 3, 25, 16, 34, 32), datetime.datetime(2020, 3, 25, 17, 36, 31), datetime.datetime(2020, 3, 25, 14, 28, 39), datetime.datetime(2020, 3, 25, 16, 33, 26), datetime.datetime(2020, 3, 25, 18, 33, 51), datetime.datetime(2020, 3, 25, 16, 47, 13), datetime.datetime(2020, 3, 25, 14, 6, 30), datetime.datetime(2020, 3, 25, 17, 37, 28), datetime.datetime(2020, 3, 25, 17, 42, 53), datetime.datetime(2020, 3, 25, 17, 21, 30), datetime.datetime(2020, 3, 25, 19, 4, 29), datetime.datetime(2020, 3, 25, 16, 46, 24), datetime.datetime(2020, 3, 25, 17, 30, 39), datetime.datetime(2020, 3, 25, 17, 59, 19), datetime.datetime(2020, 3, 25, 14, 22, 48), datetime.datetime(2020, 3, 25, 16, 38, 42), datetime.datetime(2020, 3, 25, 14, 52, 56), datetime.datetime(2020, 3, 25, 15, 56), datetime.datetime(2020, 3, 25, 16, 39, 26), datetime.datetime(2020, 3, 25, 14, 29, 23), datetime.datetime(2020, 3, 25, 17, 26, 33), datetime.datetime(2020, 3, 25, 17, 26, 55), datetime.datetime(2020, 3, 25, 19, 19, 40), datetime.datetime(2020, 3, 25, 17, 54, 19), datetime.datetime(2020, 3, 25, 16, 23, 10), datetime.datetime(2020, 3, 25, 15, 57, 58), datetime.datetime(2020, 3, 25, 17, 22, 45), datetime.datetime(2020, 3, 25, 17, 23, 24), datetime.datetime(2020, 3, 25, 16, 32, 29), datetime.datetime(2020, 3, 25, 14, 36, 2), datetime.datetime(2020, 3, 25, 16, 55, 29), datetime.datetime(2020, 3, 25, 17, 50, 26), datetime.datetime(2020, 3, 25, 17, 28, 45), datetime.datetime(2020, 3, 25, 14, 28, 48), datetime.datetime(2020, 3, 25, 16, 30, 52), datetime.datetime(2020, 3, 25, 17, 39, 36), datetime.datetime(2020, 3, 25, 14, 12, 12), datetime.datetime(2020, 3, 25, 17, 50, 13), datetime.datetime(2020, 3, 25, 18, 16, 28), datetime.datetime(2020, 3, 25, 18, 28, 21), datetime.datetime(2020, 3, 25, 15, 2, 27), datetime.datetime(2020, 3, 25, 17, 34, 24), datetime.datetime(2020, 3, 25, 17, 38, 25), datetime.datetime(2020, 3, 25, 17, 53, 13), datetime.datetime(2020, 3, 25, 14, 16, 39), datetime.datetime(2020, 3, 25, 15, 1, 51), datetime.datetime(2020, 3, 25, 16, 34, 1), datetime.datetime(2020, 3, 25, 14, 26, 14), datetime.datetime(2020, 3, 25, 17, 19, 14), datetime.datetime(2020, 3, 25, 15, 39, 57), datetime.datetime(2020, 3, 25, 16, 49, 33), datetime.datetime(2020, 3, 25, 14, 18, 42), datetime.datetime(2020, 3, 25, 15, 40, 50), datetime.datetime(2020, 3, 25, 17, 38, 12), datetime.datetime(2020, 3, 25, 18, 26, 13), datetime.datetime(2020, 3, 25, 15, 17, 19), datetime.datetime(2020, 3, 25, 14, 25, 57), datetime.datetime(2020, 3, 25, 17, 27, 17), datetime.datetime(2020, 3, 25, 14, 0, 30), datetime.datetime(2020, 3, 25, 15, 31, 19), datetime.datetime(2020, 3, 25, 17, 25, 45), datetime.datetime(2020, 3, 25, 16, 46, 24), datetime.datetime(2020, 3, 25, 15, 16, 13), datetime.datetime(2020, 3, 25, 17, 28, 6), datetime.datetime(2020, 3, 25, 18, 47, 2), datetime.datetime(2020, 3, 25, 17, 25, 27), datetime.datetime(2020, 3, 25, 17, 30, 48), datetime.datetime(2020, 3, 25, 19, 43, 8), datetime.datetime(2020, 3, 25, 16, 55, 29), datetime.datetime(2020, 3, 25, 17, 9, 20), datetime.datetime(2020, 3, 25, 17, 3, 6), datetime.datetime(2020, 3, 25, 18, 53, 43), datetime.datetime(2020, 3, 25, 17, 35, 7), datetime.datetime(2020, 3, 25, 17, 27, 35), datetime.datetime(2020, 3, 25, 18, 30, 15), datetime.datetime(2020, 3, 25, 17, 27, 57), datetime.datetime(2020, 3, 25, 19, 1, 51), datetime.datetime(2020, 3, 25, 17, 23, 51), datetime.datetime(2020, 3, 25, 17, 0, 59), datetime.datetime(2020, 3, 25, 17, 48, 36), datetime.datetime(2020, 3, 25, 18, 25, 56), datetime.datetime(2020, 3, 25, 19, 13, 57), datetime.datetime(2020, 3, 25, 19, 37, 51), datetime.datetime(2020, 3, 25, 19, 48, 11), datetime.datetime(2020, 3, 25, 17, 33, 26), datetime.datetime(2020, 3, 25, 18, 20, 21), datetime.datetime(2020, 3, 25, 17, 26, 11), datetime.datetime(2020, 3, 25, 19, 49, 39), datetime.datetime(2020, 3, 25, 17, 27, 8), datetime.datetime(2020, 3, 25, 17, 37, 24), datetime.datetime(2020, 3, 25, 16, 58, 12), datetime.datetime(2020, 3, 25, 16, 55, 38), datetime.datetime(2020, 3, 25, 16, 55, 7), datetime.datetime(2020, 3, 25, 18, 43, 27), datetime.datetime(2020, 3, 25, 17, 52, 51), datetime.datetime(2020, 3, 25, 18, 20, 8), datetime.datetime(2020, 3, 25, 17, 27, 30), datetime.datetime(2020, 3, 25, 18, 0, 29), datetime.datetime(2020, 3, 25, 19, 7, 52), datetime.datetime(2020, 3, 25, 17, 55, 26), datetime.datetime(2020, 3, 25, 16, 55, 16), datetime.datetime(2020, 3, 25, 17, 6, 33), datetime.datetime(2020, 3, 25, 17, 25, 45), datetime.datetime(2020, 3, 25, 17, 23, 37), datetime.datetime(2020, 3, 25, 18, 36, 33), datetime.datetime(2020, 3, 25, 18, 52, 28), datetime.datetime(2020, 3, 25, 17, 23, 33), datetime.datetime(2020, 3, 25, 17, 37, 59), datetime.datetime(2020, 3, 25, 17, 22, 49), datetime.datetime(2020, 3, 25, 18, 26, 35), datetime.datetime(2020, 3, 25, 17, 28, 14), datetime.datetime(2020, 3, 25, 17, 34, 59), datetime.datetime(2020, 3, 25, 17, 25, 10), datetime.datetime(2020, 3, 25, 17, 29, 20), datetime.datetime(2020, 3, 25, 16, 55, 20), datetime.datetime(2020, 3, 25, 17, 22, 36), datetime.datetime(2020, 3, 25, 17, 33, 44), datetime.datetime(2020, 3, 25, 17, 17, 55), datetime.datetime(2020, 3, 25, 18, 21, 14), datetime.datetime(2020, 3, 25, 19, 31, 33), datetime.datetime(2020, 3, 25, 17, 34, 32), datetime.datetime(2020, 3, 25, 19, 36, 41), datetime.datetime(2020, 3, 25, 19, 18, 43), datetime.datetime(2020, 3, 25, 19, 8, 58), datetime.datetime(2020, 3, 25, 19, 12, 42), datetime.datetime(2020, 3, 25, 17, 22, 27), datetime.datetime(2020, 3, 25, 18, 35, 58), datetime.datetime(2020, 3, 25, 16, 53, 35), datetime.datetime(2020, 3, 25, 19, 36, 49), datetime.datetime(2020, 3, 25, 18, 48, 8), datetime.datetime(2020, 3, 25, 18, 15, 48), datetime.datetime(2020, 3, 25, 18, 57, 36), datetime.datetime(2020, 3, 25, 19, 26, 38), datetime.datetime(2020, 3, 25, 16, 56, 31), datetime.datetime(2020, 3, 25, 18, 59, 57), datetime.datetime(2020, 3, 25, 17, 39, 5), datetime.datetime(2020, 3, 25, 18, 9, 4), datetime.datetime(2020, 3, 25, 17, 34, 24), datetime.datetime(2020, 3, 25, 17, 51, 15), datetime.datetime(2020, 3, 25, 18, 11, 2), datetime.datetime(2020, 3, 25, 17, 11, 54), datetime.datetime(2020, 3, 25, 18, 2, 15), datetime.datetime(2020, 3, 25, 18, 25, 25), datetime.datetime(2020, 3, 25, 19, 32, 26), datetime.datetime(2020, 3, 25, 18, 7, 31), datetime.datetime(2020, 3, 25, 17, 24, 52), datetime.datetime(2020, 3, 25, 19, 14, 19), datetime.datetime(2020, 3, 25, 18, 21, 1), datetime.datetime(2020, 3, 25, 19, 46, 52), datetime.datetime(2020, 3, 25, 20, 54, 57), datetime.datetime(2020, 3, 25, 20, 20, 4), datetime.datetime(2020, 3, 25, 20, 44, 51), datetime.datetime(2020, 3, 25, 20, 23), datetime.datetime(2020, 3, 25, 21, 7, 34), datetime.datetime(2020, 3, 25, 21, 19, 39), datetime.datetime(2020, 3, 25, 20, 12, 57), datetime.datetime(2020, 3, 25, 20, 5, 46), datetime.datetime(2020, 3, 25, 17, 32, 20), datetime.datetime(2020, 3, 25, 20, 47, 55), datetime.datetime(2020, 3, 25, 20, 1, 31), datetime.datetime(2020, 3, 25, 20, 15, 1), datetime.datetime(2020, 3, 25, 17, 49, 56), datetime.datetime(2020, 3, 25, 17, 23, 7), datetime.datetime(2020, 3, 25, 20, 0, 38), datetime.datetime(2020, 3, 25, 19, 30, 58), datetime.datetime(2020, 3, 25, 17, 27, 13), datetime.datetime(2020, 3, 25, 18, 47, 51), datetime.datetime(2020, 3, 25, 21, 37, 36), datetime.datetime(2020, 3, 25, 22, 18, 7), datetime.datetime(2020, 3, 25, 17, 49, 47), datetime.datetime(2020, 3, 25, 18, 20, 8), datetime.datetime(2020, 3, 25, 19, 26, 42), datetime.datetime(2020, 3, 25, 17, 27, 4), datetime.datetime(2020, 3, 25, 17, 23, 11), datetime.datetime(2020, 3, 25, 17, 32, 25), datetime.datetime(2020, 3, 25, 19, 39, 6), datetime.datetime(2020, 3, 25, 19, 28, 59), datetime.datetime(2020, 3, 25, 19, 50, 5), datetime.datetime(2020, 3, 25, 20, 56, 25), datetime.datetime(2020, 3, 25, 22, 27, 51), datetime.datetime(2020, 3, 25, 17, 1, 12), datetime.datetime(2020, 3, 25, 17, 34, 15), datetime.datetime(2020, 3, 25, 19, 47, 40), datetime.datetime(2020, 3, 25, 18, 8, 7), datetime.datetime(2020, 3, 25, 19, 21, 52), datetime.datetime(2020, 3, 25, 19, 47, 10), datetime.datetime(2020, 3, 25, 19, 47, 23), datetime.datetime(2020, 3, 25, 21, 1, 2), datetime.datetime(2020, 3, 25, 20, 59, 48), datetime.datetime(2020, 3, 25, 19, 55, 44), datetime.datetime(2020, 3, 25, 20, 7, 32), datetime.datetime(2020, 3, 25, 21, 32, 2), datetime.datetime(2020, 3, 25, 20, 19, 16), datetime.datetime(2020, 3, 25, 21, 39, 9), datetime.datetime(2020, 3, 25, 18, 34, 26), datetime.datetime(2020, 3, 25, 18, 17, 43), datetime.datetime(2020, 3, 25, 22, 53, 4), datetime.datetime(2020, 3, 25, 20, 15, 18), datetime.datetime(2020, 3, 25, 21, 49, 46), datetime.datetime(2020, 3, 25, 19, 55, 35), datetime.datetime(2020, 3, 25, 19, 44, 9), datetime.datetime(2020, 3, 25, 20, 24, 24), datetime.datetime(2020, 3, 25, 22, 49, 15), datetime.datetime(2020, 3, 25, 20, 9, 4), datetime.datetime(2020, 3, 25, 20, 23, 22), datetime.datetime(2020, 3, 25, 21, 30, 39), datetime.datetime(2020, 3, 25, 20, 9, 13), datetime.datetime(2020, 3, 25, 21, 18, 42), datetime.datetime(2020, 3, 25, 19, 58, 31), datetime.datetime(2020, 3, 25, 20, 4, 32), datetime.datetime(2020, 3, 25, 20, 41, 6), datetime.datetime(2020, 3, 25, 20, 45, 52), datetime.datetime(2020, 3, 25, 22, 53, 12), datetime.datetime(2020, 3, 25, 20, 26, 36), datetime.datetime(2020, 3, 25, 22, 8), datetime.datetime(2020, 3, 25, 22, 47, 56), datetime.datetime(2020, 3, 26, 1, 14, 18), datetime.datetime(2020, 3, 26, 1, 53, 20), datetime.datetime(2020, 3, 26, 2, 4, 20), datetime.datetime(2020, 3, 26, 3, 20, 41), datetime.datetime(2020, 3, 25, 20, 15, 49), datetime.datetime(2020, 3, 25, 20, 4, 23), datetime.datetime(2020, 3, 25, 22, 0, 1), datetime.datetime(2020, 3, 26, 0, 22, 27), datetime.datetime(2020, 3, 26, 3, 22, 18), datetime.datetime(2020, 3, 25, 20, 22, 25), datetime.datetime(2020, 3, 25, 20, 24, 10), datetime.datetime(2020, 3, 25, 20, 23, 13), datetime.datetime(2020, 3, 26, 1, 25, 8), datetime.datetime(2020, 3, 26, 0, 31, 10), datetime.datetime(2020, 3, 25, 23, 28, 6), datetime.datetime(2020, 3, 26, 1, 12, 28), datetime.datetime(2020, 3, 26, 1, 38, 37), datetime.datetime(2020, 3, 26, 0, 3, 20), datetime.datetime(2020, 3, 26, 0, 17, 6), datetime.datetime(2020, 3, 25, 23, 0, 36), datetime.datetime(2020, 3, 26, 1, 29, 45), datetime.datetime(2020, 3, 26, 1, 30, 7), datetime.datetime(2020, 3, 25, 23, 46, 47), datetime.datetime(2020, 3, 26, 2, 18, 11), datetime.datetime(2020, 3, 26, 3, 46, 56), datetime.datetime(2020, 3, 25, 20, 11, 21), datetime.datetime(2020, 3, 25, 23, 39, 5), datetime.datetime(2020, 3, 26, 0, 4, 52), datetime.datetime(2020, 3, 26, 3, 33, 26), datetime.datetime(2020, 3, 25, 20, 41, 2), datetime.datetime(2020, 3, 25, 20, 9, 57), datetime.datetime(2020, 3, 26, 0, 8, 45), datetime.datetime(2020, 3, 25, 23, 9, 51), datetime.datetime(2020, 3, 26, 1, 21, 55), datetime.datetime(2020, 3, 26, 4, 52), datetime.datetime(2020, 3, 26, 4, 37, 51), datetime.datetime(2020, 3, 25, 23, 1, 47), datetime.datetime(2020, 3, 26, 1, 23, 14), datetime.datetime(2020, 3, 26, 1, 7, 42), datetime.datetime(2020, 3, 26, 1, 14, 13), datetime.datetime(2020, 3, 25, 20, 36, 7), datetime.datetime(2020, 3, 25, 23, 9, 11), datetime.datetime(2020, 3, 25, 23, 42, 32), datetime.datetime(2020, 3, 25, 23, 2, 57), datetime.datetime(2020, 3, 26, 1, 31, 48), datetime.datetime(2020, 3, 26, 1, 8, 35), datetime.datetime(2020, 3, 26, 2, 54, 45), datetime.datetime(2020, 3, 25, 20, 24, 37), datetime.datetime(2020, 3, 26, 0, 40, 27), datetime.datetime(2020, 3, 26, 2, 26, 41), datetime.datetime(2020, 3, 25, 20, 39, 52), datetime.datetime(2020, 3, 25, 23, 28, 50), datetime.datetime(2020, 3, 26, 4, 18, 22), datetime.datetime(2020, 3, 26, 4, 41, 53), datetime.datetime(2020, 3, 26, 2, 2, 30), datetime.datetime(2020, 3, 26, 4, 8, 59), datetime.datetime(2020, 3, 26, 5, 4, 31), datetime.datetime(2020, 3, 26, 3, 19, 35), datetime.datetime(2020, 3, 26, 2, 8, 13), datetime.datetime(2020, 3, 26, 3, 24, 43), datetime.datetime(2020, 3, 26, 4, 12, 12), datetime.datetime(2020, 3, 26, 4, 41, 18), datetime.datetime(2020, 3, 26, 3, 6, 6), datetime.datetime(2020, 3, 26, 4, 29, 39), datetime.datetime(2020, 3, 26, 3, 4, 16), datetime.datetime(2020, 3, 26, 4, 14, 38), datetime.datetime(2020, 3, 26, 3, 42, 58), datetime.datetime(2020, 3, 26, 4, 30, 14), datetime.datetime(2020, 3, 26, 2, 46, 1), datetime.datetime(2020, 3, 26, 5, 43, 35), datetime.datetime(2020, 3, 26, 2, 12, 28), datetime.datetime(2020, 3, 26, 5, 44, 18), datetime.datetime(2020, 3, 26, 7, 44, 52), datetime.datetime(2020, 3, 26, 6, 16, 24), datetime.datetime(2020, 3, 26, 7, 17, 41), datetime.datetime(2020, 3, 26, 5, 50, 10), datetime.datetime(2020, 3, 26, 7, 17, 58), datetime.datetime(2020, 3, 26, 9, 43, 58), datetime.datetime(2020, 3, 26, 6, 27, 1), datetime.datetime(2020, 3, 26, 6, 5, 33), datetime.datetime(2020, 3, 26, 6, 30, 41), datetime.datetime(2020, 3, 26, 5, 32, 53), datetime.datetime(2020, 3, 26, 7, 12, 46), datetime.datetime(2020, 3, 26, 6, 53, 21), datetime.datetime(2020, 3, 26, 6, 24, 14), datetime.datetime(2020, 3, 26, 6, 9, 9), datetime.datetime(2020, 3, 26, 5, 20, 12), datetime.datetime(2020, 3, 26, 8, 48, 22), datetime.datetime(2020, 3, 26, 6, 27, 45), datetime.datetime(2020, 3, 26, 5, 33, 6), datetime.datetime(2020, 3, 26, 7, 26, 50), datetime.datetime(2020, 3, 26, 7, 26, 46), datetime.datetime(2020, 3, 26, 3, 9, 11), datetime.datetime(2020, 3, 26, 5, 56, 45), datetime.datetime(2020, 3, 26, 6, 20, 34), datetime.datetime(2020, 3, 26, 5, 36, 46), datetime.datetime(2020, 3, 26, 5, 18, 40), datetime.datetime(2020, 3, 26, 5, 47, 10), datetime.datetime(2020, 3, 26, 6, 28, 3), datetime.datetime(2020, 3, 26, 6, 13, 15), datetime.datetime(2020, 3, 26, 2, 3, 53), datetime.datetime(2020, 3, 26, 6, 30, 6), datetime.datetime(2020, 3, 26, 7, 10, 3), datetime.datetime(2020, 3, 26, 5, 47, 58), datetime.datetime(2020, 3, 26, 7, 34, 58), datetime.datetime(2020, 3, 26, 6, 30, 19), datetime.datetime(2020, 3, 26, 10, 42, 47), datetime.datetime(2020, 3, 26, 9, 42, 30), datetime.datetime(2020, 3, 26, 8, 12, 2), datetime.datetime(2020, 3, 26, 10, 7, 2), datetime.datetime(2020, 3, 26, 10, 47, 41), datetime.datetime(2020, 3, 26, 8, 39, 30), datetime.datetime(2020, 3, 26, 10, 51, 8), datetime.datetime(2020, 3, 26, 9, 46, 19), datetime.datetime(2020, 3, 26, 10, 46, 40), datetime.datetime(2020, 3, 26, 8, 14, 36), datetime.datetime(2020, 3, 26, 10, 18, 58), datetime.datetime(2020, 3, 26, 8, 18, 46), datetime.datetime(2020, 3, 26, 8, 26, 10), datetime.datetime(2020, 3, 26, 8, 8, 31), datetime.datetime(2020, 3, 26, 8, 27, 16), datetime.datetime(2020, 3, 26, 10, 43, 57), datetime.datetime(2020, 3, 26, 9, 55, 58), datetime.datetime(2020, 3, 26, 10, 4, 32), datetime.datetime(2020, 3, 26, 8, 13, 48), datetime.datetime(2020, 3, 26, 11, 43, 36), datetime.datetime(2020, 3, 26, 16, 21, 18), datetime.datetime(2020, 3, 26, 13, 36, 45), datetime.datetime(2020, 3, 26, 14, 6, 2), datetime.datetime(2020, 3, 26, 13, 26, 44), datetime.datetime(2020, 3, 26, 12, 57, 19), datetime.datetime(2020, 3, 26, 14, 8, 9), datetime.datetime(2020, 3, 26, 15, 37, 54), datetime.datetime(2020, 3, 26, 14, 13, 51), datetime.datetime(2020, 3, 26, 15, 41, 11), datetime.datetime(2020, 3, 26, 14, 3, 15), datetime.datetime(2020, 3, 26, 14, 13, 3), datetime.datetime(2020, 3, 26, 12, 36, 38), datetime.datetime(2020, 3, 26, 15, 47, 24), datetime.datetime(2020, 3, 26, 13, 14, 10), datetime.datetime(2020, 3, 26, 12, 34, 53), datetime.datetime(2020, 3, 26, 16, 26, 20), datetime.datetime(2020, 3, 26, 16, 36, 47), datetime.datetime(2020, 3, 26, 12, 42, 55), datetime.datetime(2020, 3, 26, 13, 39, 9), datetime.datetime(2020, 3, 26, 13, 19, 13), datetime.datetime(2020, 3, 26, 15, 12, 51), datetime.datetime(2020, 3, 26, 16, 0, 7), datetime.datetime(2020, 3, 26, 14, 22, 28), datetime.datetime(2020, 3, 26, 13, 58, 22), datetime.datetime(2020, 3, 26, 16, 14, 22), datetime.datetime(2020, 3, 26, 13, 55, 57), datetime.datetime(2020, 3, 26, 14, 58, 28), datetime.datetime(2020, 3, 26, 15, 28, 42), datetime.datetime(2020, 3, 26, 13, 21, 59), datetime.datetime(2020, 3, 26, 12, 31, 23), datetime.datetime(2020, 3, 26, 13, 51, 47), datetime.datetime(2020, 3, 26, 12, 55, 38), datetime.datetime(2020, 3, 26, 14, 8, 4), datetime.datetime(2020, 3, 26, 11, 50, 33), datetime.datetime(2020, 3, 26, 12, 28, 19), datetime.datetime(2020, 3, 26, 11, 20, 44), datetime.datetime(2020, 3, 26, 12, 56, 26), datetime.datetime(2020, 3, 26, 14, 30, 38), datetime.datetime(2020, 3, 26, 13, 24, 6), datetime.datetime(2020, 3, 26, 13, 49, 9), datetime.datetime(2020, 3, 26, 11, 23, 14), datetime.datetime(2020, 3, 26, 14, 5, 31), datetime.datetime(2020, 3, 26, 12, 23, 43), datetime.datetime(2020, 3, 26, 12, 34, 44), datetime.datetime(2020, 3, 26, 13, 35, 52), datetime.datetime(2020, 3, 26, 11, 33, 51), datetime.datetime(2020, 3, 26, 13, 34, 55), datetime.datetime(2020, 3, 26, 13, 43, 15), datetime.datetime(2020, 3, 26, 16, 30), datetime.datetime(2020, 3, 26, 16, 0, 15), datetime.datetime(2020, 3, 26, 15, 25, 3), datetime.datetime(2020, 3, 26, 16, 46, 12), datetime.datetime(2020, 3, 26, 17, 8, 19), datetime.datetime(2020, 3, 26, 15, 41, 16), datetime.datetime(2020, 3, 26, 15, 36, 5), datetime.datetime(2020, 3, 26, 16, 44, 40), datetime.datetime(2020, 3, 26, 15, 30, 36), datetime.datetime(2020, 3, 26, 16, 55, 33), datetime.datetime(2020, 3, 26, 15, 51, 7), datetime.datetime(2020, 3, 26, 14, 22, 45), datetime.datetime(2020, 3, 26, 14, 55, 15), datetime.datetime(2020, 3, 26, 16, 13, 38), datetime.datetime(2020, 3, 26, 14, 20, 12), datetime.datetime(2020, 3, 26, 14, 47, 35), datetime.datetime(2020, 3, 26, 14, 26, 59), datetime.datetime(2020, 3, 26, 16, 47, 14), datetime.datetime(2020, 3, 26, 16, 5, 36), datetime.datetime(2020, 3, 26, 14, 15, 58), datetime.datetime(2020, 3, 26, 15, 57, 11), datetime.datetime(2020, 3, 26, 15, 18, 33), datetime.datetime(2020, 3, 26, 16, 58, 41), datetime.datetime(2020, 3, 26, 16, 26, 29), datetime.datetime(2020, 3, 26, 14, 24, 39), datetime.datetime(2020, 3, 26, 16, 26, 12), datetime.datetime(2020, 3, 26, 14, 54, 31), datetime.datetime(2020, 3, 26, 17, 22, 2), datetime.datetime(2020, 3, 26, 14, 18, 36), datetime.datetime(2020, 3, 26, 15, 46, 18), datetime.datetime(2020, 3, 26, 16, 57, 49), datetime.datetime(2020, 3, 26, 17, 34, 38), datetime.datetime(2020, 3, 26, 14, 47, 39), datetime.datetime(2020, 3, 26, 14, 15, 10), datetime.datetime(2020, 3, 26, 17, 40, 48), datetime.datetime(2020, 3, 26, 16, 22, 28), datetime.datetime(2020, 3, 26, 14, 51, 36), datetime.datetime(2020, 3, 26, 17, 5, 54), datetime.datetime(2020, 3, 26, 17, 53, 53), datetime.datetime(2020, 3, 26, 17, 50, 38), datetime.datetime(2020, 3, 26, 18, 1, 55), datetime.datetime(2020, 3, 26, 20, 7, 13), datetime.datetime(2020, 3, 26, 20, 5, 50), datetime.datetime(2020, 3, 26, 17, 37, 58), datetime.datetime(2020, 3, 26, 20, 9, 41), datetime.datetime(2020, 3, 26, 18, 53, 32), datetime.datetime(2020, 3, 26, 19, 35, 20), datetime.datetime(2020, 3, 26, 19, 14, 50), datetime.datetime(2020, 3, 26, 20, 7, 9), datetime.datetime(2020, 3, 26, 17, 26, 46), datetime.datetime(2020, 3, 26, 19, 45, 51), datetime.datetime(2020, 3, 26, 18, 52, 48), datetime.datetime(2020, 3, 26, 20, 33, 4), datetime.datetime(2020, 3, 26, 20, 22, 34), datetime.datetime(2020, 3, 26, 21, 24, 42), datetime.datetime(2020, 3, 26, 21, 18, 45), datetime.datetime(2020, 3, 26, 21, 17, 1), datetime.datetime(2020, 3, 26, 21, 28, 23), datetime.datetime(2020, 3, 26, 21, 22, 44), datetime.datetime(2020, 3, 26, 22, 56, 10), datetime.datetime(2020, 3, 26, 23, 54, 21), datetime.datetime(2020, 3, 27, 0, 1, 47), datetime.datetime(2020, 3, 26, 22, 35, 33), datetime.datetime(2020, 3, 27, 0, 22, 35), datetime.datetime(2020, 3, 27, 1, 31, 38), datetime.datetime(2020, 3, 27, 0, 32, 24), datetime.datetime(2020, 3, 26, 21, 26, 35), datetime.datetime(2020, 3, 27, 0, 14, 12), datetime.datetime(2020, 3, 27, 0, 45, 41), datetime.datetime(2020, 3, 26, 23, 57, 23), datetime.datetime(2020, 3, 26, 23, 1, 52), datetime.datetime(2020, 3, 27, 2, 29, 40), datetime.datetime(2020, 3, 26, 23, 53, 51), datetime.datetime(2020, 3, 27, 1, 23, 12), datetime.datetime(2020, 3, 26, 21, 14, 25), datetime.datetime(2020, 3, 26, 21, 39, 41), datetime.datetime(2020, 3, 26, 20, 46, 32), datetime.datetime(2020, 3, 26, 20, 48, 25), datetime.datetime(2020, 3, 26, 21, 2, 11), datetime.datetime(2020, 3, 27, 2, 25, 11), datetime.datetime(2020, 3, 27, 2, 1, 9), datetime.datetime(2020, 3, 26, 23, 43, 27), datetime.datetime(2020, 3, 27, 2, 1, 30), datetime.datetime(2020, 3, 27, 1, 17, 4), datetime.datetime(2020, 3, 27, 1, 1, 24), datetime.datetime(2020, 3, 27, 1, 24, 8), datetime.datetime(2020, 3, 27, 1, 17, 13), datetime.datetime(2020, 3, 27, 2, 30, 40), datetime.datetime(2020, 3, 27, 1, 36, 16), datetime.datetime(2020, 3, 26, 23, 54, 25), datetime.datetime(2020, 3, 27, 2, 16, 44), datetime.datetime(2020, 3, 27, 3, 40, 14), datetime.datetime(2020, 3, 27, 0, 8), datetime.datetime(2020, 3, 27, 7, 11, 23), datetime.datetime(2020, 3, 27, 3, 5, 25), datetime.datetime(2020, 3, 27, 3, 58, 56), datetime.datetime(2020, 3, 27, 5, 57, 52), datetime.datetime(2020, 3, 27, 0, 6, 46), datetime.datetime(2020, 3, 27, 6, 13, 59), datetime.datetime(2020, 3, 27, 3, 46, 13), datetime.datetime(2020, 3, 27, 3, 1, 1), datetime.datetime(2020, 3, 27, 4, 16, 33), datetime.datetime(2020, 3, 27, 5, 56, 43), datetime.datetime(2020, 3, 27, 8, 35, 43), datetime.datetime(2020, 3, 27, 6, 23, 1), datetime.datetime(2020, 3, 27, 6, 41, 8), datetime.datetime(2020, 3, 27, 7, 38, 6), datetime.datetime(2020, 3, 27, 11, 42, 36), datetime.datetime(2020, 3, 27, 10, 40, 36), datetime.datetime(2020, 3, 27, 9, 1, 47), datetime.datetime(2020, 3, 27, 9, 44, 49), datetime.datetime(2020, 3, 27, 6, 39, 37), datetime.datetime(2020, 3, 27, 7, 4, 18), datetime.datetime(2020, 3, 27, 10, 9, 14), datetime.datetime(2020, 3, 27, 13, 47, 20), datetime.datetime(2020, 3, 27, 12, 22, 32), datetime.datetime(2020, 3, 27, 13, 1, 49), datetime.datetime(2020, 3, 27, 12, 32, 48), datetime.datetime(2020, 3, 27, 13, 59, 54), datetime.datetime(2020, 3, 27, 13, 40, 50), datetime.datetime(2020, 3, 27, 13, 34, 33), datetime.datetime(2020, 3, 27, 16, 24, 52), datetime.datetime(2020, 3, 27, 16, 28, 37), datetime.datetime(2020, 3, 27, 16, 37, 8), datetime.datetime(2020, 3, 27, 15, 1, 1), datetime.datetime(2020, 3, 27, 11, 46, 56), datetime.datetime(2020, 3, 27, 11, 49, 28), datetime.datetime(2020, 3, 27, 16, 44, 43), datetime.datetime(2020, 3, 27, 12, 0, 30), datetime.datetime(2020, 3, 27, 16, 16, 7), datetime.datetime(2020, 3, 27, 15, 26, 14), datetime.datetime(2020, 3, 27, 17, 33, 55), datetime.datetime(2020, 3, 27, 15, 24, 30), datetime.datetime(2020, 3, 27, 17, 2, 38), datetime.datetime(2020, 3, 27, 16, 20, 40), datetime.datetime(2020, 3, 27, 15, 41, 43), datetime.datetime(2020, 3, 27, 15, 43, 57), datetime.datetime(2020, 3, 27, 16, 20, 14), datetime.datetime(2020, 3, 27, 17, 27, 3), datetime.datetime(2020, 3, 27, 17, 21, 21), datetime.datetime(2020, 3, 27, 15, 43, 22), datetime.datetime(2020, 3, 27, 15, 42, 13), datetime.datetime(2020, 3, 27, 18, 56, 54), datetime.datetime(2020, 3, 27, 18, 30, 24), datetime.datetime(2020, 3, 27, 17, 49, 27), datetime.datetime(2020, 3, 27, 19, 16, 50), datetime.datetime(2020, 3, 27, 18, 39, 25), datetime.datetime(2020, 3, 27, 18, 45, 55), datetime.datetime(2020, 3, 27, 18, 12, 29), datetime.datetime(2020, 3, 27, 20, 8, 1), datetime.datetime(2020, 3, 27, 18, 12, 42), datetime.datetime(2020, 3, 27, 18, 49, 6), datetime.datetime(2020, 3, 27, 17, 52, 46), datetime.datetime(2020, 3, 27, 20, 2, 6), datetime.datetime(2020, 3, 27, 20, 35, 47), datetime.datetime(2020, 3, 27, 22, 5, 12), datetime.datetime(2020, 3, 27, 18, 43, 58), datetime.datetime(2020, 3, 27, 19, 14, 27), datetime.datetime(2020, 3, 27, 18, 22, 49), datetime.datetime(2020, 3, 27, 19, 17, 59), datetime.datetime(2020, 3, 27, 18, 15, 35), datetime.datetime(2020, 3, 27, 18, 44, 24), datetime.datetime(2020, 3, 27, 18, 57, 42), datetime.datetime(2020, 3, 27, 18, 16, 14), datetime.datetime(2020, 3, 27, 18, 48, 36), datetime.datetime(2020, 3, 27, 18, 42, 36), datetime.datetime(2020, 3, 27, 17, 48), datetime.datetime(2020, 3, 27, 19, 23, 16), datetime.datetime(2020, 3, 27, 21, 57, 45), datetime.datetime(2020, 3, 27, 21, 48, 43), datetime.datetime(2020, 3, 27, 22, 44, 26), datetime.datetime(2020, 3, 27, 23, 44, 38), datetime.datetime(2020, 3, 27, 22, 39, 18), datetime.datetime(2020, 3, 27, 21, 28, 55), datetime.datetime(2020, 3, 28, 1, 52, 14), datetime.datetime(2020, 3, 28, 1, 16, 16), datetime.datetime(2020, 3, 28, 2, 26, 36), datetime.datetime(2020, 3, 28, 1, 51), datetime.datetime(2020, 3, 28, 2, 23, 47), datetime.datetime(2020, 3, 28, 1, 54, 24), datetime.datetime(2020, 3, 28, 2, 28, 16), datetime.datetime(2020, 3, 28, 3, 38, 32), datetime.datetime(2020, 3, 28, 3, 48, 22), datetime.datetime(2020, 3, 28, 2, 28, 42), datetime.datetime(2020, 3, 28, 0, 47, 32), datetime.datetime(2020, 3, 28, 1, 49, 20), datetime.datetime(2020, 3, 28, 1, 41, 11), datetime.datetime(2020, 3, 28, 2, 16, 34), datetime.datetime(2020, 3, 28, 2, 45, 14), datetime.datetime(2020, 3, 28, 1, 25, 31), datetime.datetime(2020, 3, 28, 2, 21, 33), datetime.datetime(2020, 3, 28, 2, 23, 52), datetime.datetime(2020, 3, 28, 2, 22, 51), datetime.datetime(2020, 3, 28, 1, 43, 21), datetime.datetime(2020, 3, 28, 1, 29, 7), datetime.datetime(2020, 3, 28, 3, 21, 17), datetime.datetime(2020, 3, 28, 1, 3, 47), datetime.datetime(2020, 3, 28, 2, 15, 7), datetime.datetime(2020, 3, 28, 5, 16, 45), datetime.datetime(2020, 3, 28, 1, 31, 22), datetime.datetime(2020, 3, 28, 1, 3, 8), datetime.datetime(2020, 3, 28, 0, 57, 34), datetime.datetime(2020, 3, 28, 2, 15, 20), datetime.datetime(2020, 3, 28, 2, 7, 41), datetime.datetime(2020, 3, 28, 1, 49, 12), datetime.datetime(2020, 3, 28, 2, 4, 9), datetime.datetime(2020, 3, 28, 2, 34, 42), datetime.datetime(2020, 3, 28, 2, 39, 23), datetime.datetime(2020, 3, 28, 2, 38, 40), datetime.datetime(2020, 3, 28, 4, 15, 18), datetime.datetime(2020, 3, 28, 2, 57, 53), datetime.datetime(2020, 3, 28, 3, 43, 40), datetime.datetime(2020, 3, 28, 3, 6, 11), datetime.datetime(2020, 3, 28, 2, 51, 10), datetime.datetime(2020, 3, 28, 3, 47, 29), datetime.datetime(2020, 3, 28, 3, 35), datetime.datetime(2020, 3, 28, 4, 20, 4), datetime.datetime(2020, 3, 28, 4, 37, 15), datetime.datetime(2020, 3, 28, 2, 49, 4), datetime.datetime(2020, 3, 28, 3, 9, 52), datetime.datetime(2020, 3, 28, 8, 35, 19), datetime.datetime(2020, 3, 28, 7, 13, 41), datetime.datetime(2020, 3, 28, 6, 48, 8), datetime.datetime(2020, 3, 28, 7, 41, 55), datetime.datetime(2020, 3, 28, 8, 0, 36), datetime.datetime(2020, 3, 28, 3, 36, 22), datetime.datetime(2020, 3, 28, 8, 43, 20), datetime.datetime(2020, 3, 28, 11, 31, 5), datetime.datetime(2020, 3, 28, 11, 9, 3), datetime.datetime(2020, 3, 28, 11, 45, 14), datetime.datetime(2020, 3, 28, 12, 6, 11), datetime.datetime(2020, 3, 28, 14, 41, 46), datetime.datetime(2020, 3, 28, 13, 1, 35), datetime.datetime(2020, 3, 28, 13, 53, 45), datetime.datetime(2020, 3, 28, 10, 57, 56), datetime.datetime(2020, 3, 28, 9, 24, 55), datetime.datetime(2020, 3, 28, 11, 19, 40), datetime.datetime(2020, 3, 28, 12, 50, 40), datetime.datetime(2020, 3, 28, 14, 32, 40), datetime.datetime(2020, 3, 28, 11, 21, 16), datetime.datetime(2020, 3, 28, 14, 8, 42), datetime.datetime(2020, 3, 28, 14, 27, 59), datetime.datetime(2020, 3, 28, 14, 40, 41), datetime.datetime(2020, 3, 28, 14, 43, 21), datetime.datetime(2020, 3, 28, 14, 50, 30), datetime.datetime(2020, 3, 28, 13, 35, 50), datetime.datetime(2020, 3, 28, 14, 3, 39), datetime.datetime(2020, 3, 28, 13, 30, 51), datetime.datetime(2020, 3, 28, 13, 33, 36), datetime.datetime(2020, 3, 28, 14, 21, 25), datetime.datetime(2020, 3, 28, 14, 36, 26), datetime.datetime(2020, 3, 28, 15, 1, 11), datetime.datetime(2020, 3, 28, 14, 53, 36), datetime.datetime(2020, 3, 28, 15, 41, 15), datetime.datetime(2020, 3, 28, 15, 27, 7), datetime.datetime(2020, 3, 28, 15, 23, 17), datetime.datetime(2020, 3, 28, 15, 12, 36), datetime.datetime(2020, 3, 28, 15, 14, 20), datetime.datetime(2020, 3, 28, 14, 49, 12), datetime.datetime(2020, 3, 28, 15, 22, 38), datetime.datetime(2020, 3, 28, 14, 54, 20), datetime.datetime(2020, 3, 28, 16, 49, 8), datetime.datetime(2020, 3, 28, 16, 39, 23), datetime.datetime(2020, 3, 28, 17, 39, 51), datetime.datetime(2020, 3, 28, 17, 55, 5), datetime.datetime(2020, 3, 28, 16, 13, 6), datetime.datetime(2020, 3, 28, 20, 1, 9), datetime.datetime(2020, 3, 28, 19, 5, 34), datetime.datetime(2020, 3, 28, 18, 58, 7), datetime.datetime(2020, 3, 28, 17, 55, 48), datetime.datetime(2020, 3, 28, 18, 35, 1), datetime.datetime(2020, 3, 28, 16, 44, 31), datetime.datetime(2020, 3, 28, 17, 45, 42), datetime.datetime(2020, 3, 28, 16, 38, 1), datetime.datetime(2020, 3, 28, 18, 22, 18), datetime.datetime(2020, 3, 28, 18, 25, 33), datetime.datetime(2020, 3, 28, 16, 8, 42), datetime.datetime(2020, 3, 28, 16, 27, 24), datetime.datetime(2020, 3, 28, 16, 5, 31), datetime.datetime(2020, 3, 28, 18, 40, 43), datetime.datetime(2020, 3, 28, 20, 54, 45), datetime.datetime(2020, 3, 28, 21, 51, 22), datetime.datetime(2020, 3, 28, 23, 9, 5), datetime.datetime(2020, 3, 28, 21, 58, 49), datetime.datetime(2020, 3, 28, 22, 48, 56), datetime.datetime(2020, 3, 28, 22, 26, 46), datetime.datetime(2020, 3, 28, 23, 11, 33), datetime.datetime(2020, 3, 28, 22, 43, 49), datetime.datetime(2020, 3, 28, 22, 20, 11), datetime.datetime(2020, 3, 28, 22, 23, 14), datetime.datetime(2020, 3, 28, 23, 54, 57), datetime.datetime(2020, 3, 28, 21, 29, 8), datetime.datetime(2020, 3, 29, 0, 45, 35), datetime.datetime(2020, 3, 28, 23, 57, 59), datetime.datetime(2020, 3, 29, 4, 31, 25), datetime.datetime(2020, 3, 29, 4, 25, 4), datetime.datetime(2020, 3, 29, 6, 17, 35), datetime.datetime(2020, 3, 29, 6, 31, 2), datetime.datetime(2020, 3, 29, 9, 36, 37), datetime.datetime(2020, 3, 29, 7, 7, 45), datetime.datetime(2020, 3, 29, 9, 20, 47), datetime.datetime(2020, 3, 29, 7, 40, 34), datetime.datetime(2020, 3, 29, 11, 30, 16), datetime.datetime(2020, 3, 29, 11, 10, 59), datetime.datetime(2020, 3, 29, 11, 54, 29), datetime.datetime(2020, 3, 29, 10, 52, 33), datetime.datetime(2020, 3, 29, 11, 1, 14), datetime.datetime(2020, 3, 29, 12, 23, 14), datetime.datetime(2020, 3, 29, 11, 51, 31), datetime.datetime(2020, 3, 29, 11, 13, 30), datetime.datetime(2020, 3, 29, 13, 22, 16), datetime.datetime(2020, 3, 29, 9, 20, 56), datetime.datetime(2020, 3, 29, 10, 51, 54), datetime.datetime(2020, 3, 29, 10, 56, 10), datetime.datetime(2020, 3, 29, 11, 36, 34), datetime.datetime(2020, 3, 29, 13, 27, 28), datetime.datetime(2020, 3, 29, 13, 9, 29), datetime.datetime(2020, 3, 29, 11, 46, 53), datetime.datetime(2020, 3, 29, 14, 29, 24), datetime.datetime(2020, 3, 29, 11, 42, 20), datetime.datetime(2020, 3, 29, 12, 11, 40), datetime.datetime(2020, 3, 29, 12, 59, 52), datetime.datetime(2020, 3, 29, 12, 9, 34), datetime.datetime(2020, 3, 29, 12, 19, 50), datetime.datetime(2020, 3, 29, 12, 59, 48), datetime.datetime(2020, 3, 29, 12, 45, 21), datetime.datetime(2020, 3, 29, 12, 14, 47), datetime.datetime(2020, 3, 29, 16, 7, 55), datetime.datetime(2020, 3, 29, 16, 17, 19), datetime.datetime(2020, 3, 29, 16, 53, 38), datetime.datetime(2020, 3, 29, 17, 0, 26), datetime.datetime(2020, 3, 29, 17, 27, 55), datetime.datetime(2020, 3, 29, 16, 58, 11), datetime.datetime(2020, 3, 29, 20, 29, 28), datetime.datetime(2020, 3, 29, 20, 54, 26), datetime.datetime(2020, 3, 29, 16, 52, 2), datetime.datetime(2020, 3, 29, 19, 3, 28), datetime.datetime(2020, 3, 29, 17, 21, 55), datetime.datetime(2020, 3, 29, 15, 49, 45), datetime.datetime(2020, 3, 29, 17, 45, 4), datetime.datetime(2020, 3, 29, 15, 3, 15), datetime.datetime(2020, 3, 29, 17, 46, 48), datetime.datetime(2020, 3, 29, 18, 23, 24), datetime.datetime(2020, 3, 29, 15, 28, 38), datetime.datetime(2020, 3, 29, 19, 45, 56), datetime.datetime(2020, 3, 29, 15, 51, 47), datetime.datetime(2020, 3, 29, 18, 20, 14), datetime.datetime(2020, 3, 29, 18, 48, 56), datetime.datetime(2020, 3, 29, 20, 45, 2), datetime.datetime(2020, 3, 29, 17, 17, 4), datetime.datetime(2020, 3, 29, 15, 27, 29), datetime.datetime(2020, 3, 29, 21, 22, 30), datetime.datetime(2020, 3, 29, 19, 27, 38), datetime.datetime(2020, 3, 29, 22, 42, 33), datetime.datetime(2020, 3, 29, 18, 0, 33), datetime.datetime(2020, 3, 29, 23, 27, 2), datetime.datetime(2020, 3, 29, 19, 11, 17), datetime.datetime(2020, 3, 29, 18, 7, 56), datetime.datetime(2020, 3, 29, 22, 45, 39), datetime.datetime(2020, 3, 29, 22, 49, 29), datetime.datetime(2020, 3, 29, 22, 18, 39), datetime.datetime(2020, 3, 29, 23, 18, 1), datetime.datetime(2020, 3, 29, 21, 26, 37), datetime.datetime(2020, 3, 29, 22, 44, 4), datetime.datetime(2020, 3, 30, 0, 11, 40), datetime.datetime(2020, 3, 30, 1, 24, 28), datetime.datetime(2020, 3, 29, 21, 50, 55), datetime.datetime(2020, 3, 29, 23, 21, 20), datetime.datetime(2020, 3, 29, 21, 41, 53), datetime.datetime(2020, 3, 29, 20, 56, 58), datetime.datetime(2020, 3, 29, 20, 56, 45), datetime.datetime(2020, 3, 29, 20, 55, 31), datetime.datetime(2020, 3, 30, 2, 31, 56), datetime.datetime(2020, 3, 29, 22, 53, 19), datetime.datetime(2020, 3, 29, 22, 25, 13), datetime.datetime(2020, 3, 30, 0, 55, 56), datetime.datetime(2020, 3, 29, 23, 48, 46), datetime.datetime(2020, 3, 29, 21, 42, 19), datetime.datetime(2020, 3, 29, 22, 56, 38), datetime.datetime(2020, 3, 30, 2, 25, 26), datetime.datetime(2020, 3, 30, 5, 47, 58), datetime.datetime(2020, 3, 30, 1, 9, 1), datetime.datetime(2020, 3, 30, 3, 24, 48), datetime.datetime(2020, 3, 30, 3, 14, 42), datetime.datetime(2020, 3, 30, 3, 6, 10), datetime.datetime(2020, 3, 30, 3, 43, 40), datetime.datetime(2020, 3, 30, 3, 40, 29), datetime.datetime(2020, 3, 30, 3, 51, 19), datetime.datetime(2020, 3, 30, 7, 36, 42), datetime.datetime(2020, 3, 30, 7, 44, 4), datetime.datetime(2020, 3, 30, 8, 37, 34), datetime.datetime(2020, 3, 30, 3, 56, 49), datetime.datetime(2020, 3, 30, 5, 33, 44), datetime.datetime(2020, 3, 30, 7, 5, 50), datetime.datetime(2020, 3, 30, 8, 7, 51), datetime.datetime(2020, 3, 30, 6, 29, 19), datetime.datetime(2020, 3, 30, 9, 14, 26), datetime.datetime(2020, 3, 30, 11, 49, 47), datetime.datetime(2020, 3, 30, 13, 16, 56), datetime.datetime(2020, 3, 30, 12, 50, 23), datetime.datetime(2020, 3, 30, 12, 47, 47), datetime.datetime(2020, 3, 30, 12, 54, 22), datetime.datetime(2020, 3, 30, 12, 52, 47), datetime.datetime(2020, 3, 30, 11, 58, 49), datetime.datetime(2020, 3, 30, 13, 27, 11), datetime.datetime(2020, 3, 30, 16, 44, 51), datetime.datetime(2020, 3, 30, 13, 55, 57), datetime.datetime(2020, 3, 30, 14, 25, 49), datetime.datetime(2020, 3, 30, 14, 19, 1), datetime.datetime(2020, 3, 30, 13, 55, 57), datetime.datetime(2020, 3, 30, 14, 34, 34), datetime.datetime(2020, 3, 30, 16, 44, 3), datetime.datetime(2020, 3, 30, 15, 23, 59), datetime.datetime(2020, 3, 30, 14, 42, 44), datetime.datetime(2020, 3, 30, 19, 12, 4), datetime.datetime(2020, 3, 30, 19, 35, 54), datetime.datetime(2020, 3, 30, 19, 2, 35), datetime.datetime(2020, 3, 30, 15, 5, 27), datetime.datetime(2020, 3, 30, 15, 25, 34), datetime.datetime(2020, 3, 30, 16, 56, 48), datetime.datetime(2020, 3, 30, 16, 50, 30), datetime.datetime(2020, 3, 30, 15, 33, 15), datetime.datetime(2020, 3, 30, 18, 9, 1), datetime.datetime(2020, 3, 30, 19, 47, 24), datetime.datetime(2020, 3, 30, 18, 31, 32), datetime.datetime(2020, 3, 30, 16, 50, 25), datetime.datetime(2020, 3, 30, 21, 44, 40), datetime.datetime(2020, 3, 31, 0, 12, 28), datetime.datetime(2020, 3, 30, 21, 1, 6), datetime.datetime(2020, 3, 30, 21, 23, 50), datetime.datetime(2020, 3, 30, 20, 53, 17), datetime.datetime(2020, 3, 30, 21, 15, 52), datetime.datetime(2020, 3, 31, 1, 42, 59), datetime.datetime(2020, 3, 30, 23, 15, 31), datetime.datetime(2020, 3, 30, 20, 28, 44), datetime.datetime(2020, 3, 31, 3, 12, 28), datetime.datetime(2020, 3, 31, 5, 31, 16), datetime.datetime(2020, 3, 31, 2, 24, 40), datetime.datetime(2020, 3, 31, 4, 9, 54), datetime.datetime(2020, 3, 31, 6, 14, 15), datetime.datetime(2020, 3, 31, 9, 44, 29), datetime.datetime(2020, 3, 31, 2, 8, 36), datetime.datetime(2020, 3, 31, 13, 12, 44), datetime.datetime(2020, 3, 31, 13, 7, 6), datetime.datetime(2020, 3, 31, 13, 24, 1), datetime.datetime(2020, 3, 31, 16, 38, 32), datetime.datetime(2020, 3, 31, 14, 59, 11), datetime.datetime(2020, 3, 31, 15, 6, 8), datetime.datetime(2020, 3, 31, 15, 14, 9), datetime.datetime(2020, 3, 31, 14, 52, 2), datetime.datetime(2020, 3, 31, 14, 56, 48), datetime.datetime(2020, 3, 31, 13, 12, 13), datetime.datetime(2020, 3, 31, 16, 24, 5), datetime.datetime(2020, 3, 31, 14, 50, 44), datetime.datetime(2020, 3, 31, 16, 2, 12), datetime.datetime(2020, 3, 31, 15, 2, 13), datetime.datetime(2020, 3, 31, 14, 17, 54), datetime.datetime(2020, 3, 31, 15, 31, 26), datetime.datetime(2020, 3, 31, 16, 48, 4), datetime.datetime(2020, 3, 31, 15, 3, 23), datetime.datetime(2020, 3, 31, 15, 42, 55), datetime.datetime(2020, 3, 31, 15, 36, 34), datetime.datetime(2020, 3, 31, 14, 23, 15), datetime.datetime(2020, 3, 31, 18, 49, 58), datetime.datetime(2020, 3, 31, 18, 27, 31), datetime.datetime(2020, 3, 31, 18, 42, 23), datetime.datetime(2020, 3, 31, 17, 37, 45), datetime.datetime(2020, 3, 31, 17, 12, 2), datetime.datetime(2020, 3, 31, 17, 35, 35), datetime.datetime(2020, 3, 31, 18, 32, 21), datetime.datetime(2020, 3, 31, 17, 18, 2), datetime.datetime(2020, 3, 31, 19, 13, 41), datetime.datetime(2020, 3, 31, 17, 33, 51), datetime.datetime(2020, 3, 31, 19, 44, 37), datetime.datetime(2020, 3, 31, 18, 22, 2), datetime.datetime(2020, 3, 31, 19, 54, 30), datetime.datetime(2020, 3, 31, 22, 18, 32), datetime.datetime(2020, 3, 31, 20, 56, 59), datetime.datetime(2020, 3, 31, 22, 56, 41), datetime.datetime(2020, 4, 1, 0, 18, 24), datetime.datetime(2020, 4, 1, 0, 18, 42), datetime.datetime(2020, 4, 1, 1, 57, 51), datetime.datetime(2020, 4, 1, 3, 51, 17), datetime.datetime(2020, 4, 1, 3, 21, 43), datetime.datetime(2020, 4, 1, 3, 56, 33), datetime.datetime(2020, 4, 1, 10, 33, 33), datetime.datetime(2020, 4, 1, 14, 30, 50), datetime.datetime(2020, 4, 1, 15, 55, 41), datetime.datetime(2020, 4, 1, 12, 58, 45), datetime.datetime(2020, 4, 1, 11, 31, 41), datetime.datetime(2020, 4, 1, 12, 42, 39), datetime.datetime(2020, 4, 1, 14, 0, 25), datetime.datetime(2020, 4, 1, 11, 30, 40), datetime.datetime(2020, 4, 1, 13, 32, 20), datetime.datetime(2020, 4, 1, 15, 7, 1), datetime.datetime(2020, 4, 1, 15, 33, 35), datetime.datetime(2020, 4, 1, 14, 15, 10), datetime.datetime(2020, 4, 1, 19, 19, 58), datetime.datetime(2020, 4, 1, 17, 55, 7), datetime.datetime(2020, 4, 1, 17, 44, 52), datetime.datetime(2020, 4, 1, 19, 44, 47), datetime.datetime(2020, 4, 1, 17, 54, 7), datetime.datetime(2020, 4, 1, 19, 0, 46), datetime.datetime(2020, 4, 1, 19, 43, 59), datetime.datetime(2020, 4, 1, 20, 18, 5), datetime.datetime(2020, 4, 1, 22, 20, 43), datetime.datetime(2020, 4, 1, 22, 33, 45), datetime.datetime(2020, 4, 1, 20, 3, 5), datetime.datetime(2020, 4, 2, 1, 44, 39), datetime.datetime(2020, 4, 1, 23, 14, 36), datetime.datetime(2020, 4, 2, 1, 28, 52), datetime.datetime(2020, 4, 2, 0, 3, 1), datetime.datetime(2020, 4, 2, 4, 40, 2), datetime.datetime(2020, 4, 2, 6, 48, 46)]\n"
     ]
    }
   ],
   "source": [
    "print(sygnatury)"
   ]
  },
  {
   "cell_type": "code",
   "execution_count": 141,
   "metadata": {
    "slideshow": {
     "slide_type": "-"
    }
   },
   "outputs": [
    {
     "name": "stdout",
     "output_type": "stream",
     "text": [
      "Między pierwszym a ostatnim głosem minęło: 8 days, 10:36:56\n"
     ]
    }
   ],
   "source": [
    "print(\"Między pierwszym a ostatnim głosem minęło:\",\n",
    "      sygnatury[-1] - sygnatury[0])"
   ]
  },
  {
   "cell_type": "markdown",
   "metadata": {
    "slideshow": {
     "slide_type": "subslide"
    }
   },
   "source": [
    "## Liczba głosów w czasie\n",
    "\n",
    "---"
   ]
  },
  {
   "cell_type": "code",
   "execution_count": 149,
   "metadata": {
    "scrolled": false,
    "slideshow": {
     "slide_type": "-"
    }
   },
   "outputs": [
    {
     "data": {
      "image/png": "[encoded data removed]",
      "text/plain": [
       "<Figure size 432x288 with 1 Axes>"
      ]
     },
     "metadata": {
      "needs_background": "light"
     },
     "output_type": "display_data"
    }
   ],
   "source": [
    "%matplotlib inline\n",
    "import matplotlib\n",
    "import matplotlib.pyplot as plt\n",
    "from matplotlib.dates import DateFormatter\n",
    "\n",
    "n_votes = len(wyniki)\n",
    "\n",
    "fig, ax = plt.subplots()\n",
    "ax.plot(sygnatury,range(n_votes))\n",
    "\n",
    "ax.xaxis.set_major_formatter(DateFormatter('%m-%d'))"
   ]
  },
  {
   "cell_type": "code",
   "execution_count": 150,
   "metadata": {},
   "outputs": [
    {
     "data": {
      "text/plain": [
       "range(0, 1105)"
      ]
     },
     "execution_count": 150,
     "metadata": {},
     "output_type": "execute_result"
    }
   ],
   "source": [
    "range(n_votes)"
   ]
  },
  {
   "cell_type": "markdown",
   "metadata": {
    "slideshow": {
     "slide_type": "subslide"
    }
   },
   "source": [
    "## Analiza pytania\n",
    "\n",
    "---"
   ]
  },
  {
   "cell_type": "code",
   "execution_count": 151,
   "metadata": {},
   "outputs": [],
   "source": [
    "def count_votes(odpowiedzi):\n",
    "    \"\"\"Liczy ilość głosów per odpowiedź.\"\"\"\n",
    "    results = {} # odpowiedź: liczba głosów\n",
    "    \n",
    "    while len(odpowiedzi): # dopóki pozostały odpowiedzi\n",
    "        odpowiedz = odpowiedzi[0] # weź pierwszą z brzegu\n",
    "        n_votes = odpowiedzi.count(odpowiedz) # liczba wystąpień\n",
    "        results[odpowiedz] = n_votes # zapisz\n",
    "        # usuń wszystkie wystąpienia odpowiedz\n",
    "        odpowiedzi = [o for o in odpowiedzi if o != odpowiedz]\n",
    "    \n",
    "    return results"
   ]
  },
  {
   "cell_type": "markdown",
   "metadata": {
    "slideshow": {
     "slide_type": "subslide"
    }
   },
   "source": [
    "## Pytanie 1\n",
    "\n",
    "---\n",
    "\n",
    "Podaj najczęstsze odpowiedzi na pytania"
   ]
  },
  {
   "cell_type": "code",
   "execution_count": 162,
   "metadata": {
    "slideshow": {
     "slide_type": "-"
    }
   },
   "outputs": [],
   "source": [
    "def analizuj(n, m=2):\n",
    "    \"\"\"Drukuje m najczęstszych odpowiedzi na n-te pytanie.\"\"\"\n",
    "    pytanie = headers[n] # nagłówek kolumny\n",
    "    odpowiedzi = [odp[n] for odp in wyniki] # n-ta kolumna\n",
    "    votes = count_votes(odpowiedzi) # {odp: liczba głosów}\n",
    "    # posortuj głosy -> odpowiedzi od najczęstszych\n",
    "    best = sorted(votes, key=votes.get, reverse=True)\n",
    "    \n",
    "    # wyrdukuj pytanie\n",
    "    print(\"-\"*len(pytanie))\n",
    "    print(pytanie)\n",
    "    print(\"-\"*len(pytanie), end=\"\\n\\n\")\n",
    "    \n",
    "    # wydrukuj m najczęstszych odpowiedzi\n",
    "    for i in range(m):\n",
    "        odp = best[i] # i-ta odpowiedz\n",
    "        procent = votes[odp] / n_votes * 100 # procent głosów\n",
    "        print(\"{:.2f}% -> {}\".format(procent, odp))"
   ]
  },
  {
   "cell_type": "code",
   "execution_count": 163,
   "metadata": {
    "slideshow": {
     "slide_type": "-"
    }
   },
   "outputs": [
    {
     "name": "stdout",
     "output_type": "stream",
     "text": [
      "-------\n",
      "country\n",
      "-------\n",
      "\n",
      "52.04% -> US\n",
      "14.84% -> IL\n"
     ]
    }
   ],
   "source": [
    "analizuj(5)"
   ]
  },
  {
   "cell_type": "code",
   "execution_count": 61,
   "metadata": {
    "slideshow": {
     "slide_type": "skip"
    }
   },
   "outputs": [
    {
     "data": {
      "text/html": [
       "\n",
       "\n",
       "<style>\n",
       "\n",
       ".rendered_html code {\n",
       "  font-size: 75%;\n",
       "}\n",
       "\n",
       "</style>\n",
       "\n"
      ],
      "text/plain": [
       "<IPython.core.display.HTML object>"
      ]
     },
     "metadata": {},
     "output_type": "display_data"
    }
   ],
   "source": [
    "# css prezentacji\n",
    "\n",
    "\n",
    "from IPython.display import display, HTML\n",
    "\n",
    "s = \"\"\"\n",
    "\n",
    "<style>\n",
    "\n",
    ".rendered_html code {\n",
    "  font-size: 75%;\n",
    "}\n",
    "\n",
    "</style>\n",
    "\n",
    "\"\"\"\n",
    "\n",
    "display(HTML(s))"
   ]
  }
 ],
 "metadata": {
  "anaconda-cloud": {},
  "celltoolbar": "Slideshow",
  "kernelspec": {
   "display_name": "Python 3",
   "language": "python",
   "name": "python3"
  },
  "language_info": {
   "codemirror_mode": {
    "name": "ipython",
    "version": 3
   },
   "file_extension": ".py",
   "mimetype": "text/x-python",
   "name": "python",
   "nbconvert_exporter": "python",
   "pygments_lexer": "ipython3",
   "version": "3.7.4"
  }
 },
 "nbformat": 4,
 "nbformat_minor": 1
}
